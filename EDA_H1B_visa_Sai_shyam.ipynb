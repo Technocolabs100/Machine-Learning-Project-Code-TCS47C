{
 "cells": [
  {
   "cell_type": "markdown",
   "id": "8e713db3",
   "metadata": {},
   "source": [
    "# Import libraries"
   ]
  },
  {
   "cell_type": "code",
   "execution_count": 1,
   "id": "a172ece6",
   "metadata": {},
   "outputs": [],
   "source": [
    "import os\n",
    "import pandas as pd\n",
    "import numpy as np\n",
    "\n",
    "import matplotlib.pyplot as plt\n",
    "import seaborn as sns\n",
    "\n",
    "from sklearn.preprocessing import OneHotEncoder\n",
    "from sklearn.preprocessing import LabelEncoder\n",
    "from sklearn.preprocessing import StandardScaler\n"
   ]
  },
  {
   "cell_type": "markdown",
   "id": "e7e3c220",
   "metadata": {},
   "source": [
    "Read .csv file using python library"
   ]
  },
  {
   "cell_type": "code",
   "execution_count": 2,
   "id": "1d7b39c8",
   "metadata": {},
   "outputs": [],
   "source": [
    "H1B_visa = pd.read_csv('C:\\my files\\Machine_learning_internship\\Main_project\\H-1B_Disclosure_Data_FY2019.csv',low_memory=False)"
   ]
  },
  {
   "cell_type": "markdown",
   "id": "75e34bca",
   "metadata": {},
   "source": [
    "Check the no.of rows and columns in the csv file"
   ]
  },
  {
   "cell_type": "code",
   "execution_count": 3,
   "id": "f2d17759",
   "metadata": {},
   "outputs": [
    {
     "data": {
      "text/plain": [
       "(664616, 260)"
      ]
     },
     "execution_count": 3,
     "metadata": {},
     "output_type": "execute_result"
    }
   ],
   "source": [
    "H1B_visa.shape"
   ]
  },
  {
   "cell_type": "markdown",
   "id": "47ec1cb0",
   "metadata": {},
   "source": [
    "Print the data using display option Onother hand, use .head for first five set or .tail for last five set of matrix data"
   ]
  },
  {
   "cell_type": "code",
   "execution_count": 4,
   "id": "d44eeea0",
   "metadata": {},
   "outputs": [
    {
     "data": {
      "text/html": [
       "<div>\n",
       "<style scoped>\n",
       "    .dataframe tbody tr th:only-of-type {\n",
       "        vertical-align: middle;\n",
       "    }\n",
       "\n",
       "    .dataframe tbody tr th {\n",
       "        vertical-align: top;\n",
       "    }\n",
       "\n",
       "    .dataframe thead th {\n",
       "        text-align: right;\n",
       "    }\n",
       "</style>\n",
       "<table border=\"1\" class=\"dataframe\">\n",
       "  <thead>\n",
       "    <tr style=\"text-align: right;\">\n",
       "      <th></th>\n",
       "      <th>CASE_NUMBER</th>\n",
       "      <th>CASE_STATUS</th>\n",
       "      <th>CASE_SUBMITTED</th>\n",
       "      <th>DECISION_DATE</th>\n",
       "      <th>ORIGINAL_CERT_DATE</th>\n",
       "      <th>VISA_CLASS</th>\n",
       "      <th>JOB_TITLE</th>\n",
       "      <th>SOC_CODE</th>\n",
       "      <th>SOC_TITLE</th>\n",
       "      <th>FULL_TIME_POSITION</th>\n",
       "      <th>...</th>\n",
       "      <th>PW_OTHER_SOURCE_10</th>\n",
       "      <th>PW_NON-OES_YEAR_10</th>\n",
       "      <th>PW_SURVEY_PUBLISHER_10</th>\n",
       "      <th>PW_SURVEY_NAME_10</th>\n",
       "      <th>H-1B_DEPENDENT</th>\n",
       "      <th>WILLFUL_VIOLATOR</th>\n",
       "      <th>SUPPORT_H1B</th>\n",
       "      <th>STATUTORY_BASIS</th>\n",
       "      <th>MASTERS_EXEMPTION</th>\n",
       "      <th>PUBLIC_DISCLOSURE</th>\n",
       "    </tr>\n",
       "  </thead>\n",
       "  <tbody>\n",
       "    <tr>\n",
       "      <th>0</th>\n",
       "      <td>I-200-16092-327771</td>\n",
       "      <td>WITHDRAWN</td>\n",
       "      <td>04/08/2016</td>\n",
       "      <td>04/30/2019</td>\n",
       "      <td>NaN</td>\n",
       "      <td>H-1B</td>\n",
       "      <td>ASSOCIATE CREATIVE DIRECTOR</td>\n",
       "      <td>11-2011</td>\n",
       "      <td>ADVERTISING AND PROMOTIONS MANAGERS</td>\n",
       "      <td>Y</td>\n",
       "      <td>...</td>\n",
       "      <td>NaN</td>\n",
       "      <td>NaN</td>\n",
       "      <td>NaN</td>\n",
       "      <td>NaN</td>\n",
       "      <td>N</td>\n",
       "      <td>N</td>\n",
       "      <td>NaN</td>\n",
       "      <td>NaN</td>\n",
       "      <td>NaN</td>\n",
       "      <td>NaN</td>\n",
       "    </tr>\n",
       "    <tr>\n",
       "      <th>1</th>\n",
       "      <td>I-203-17188-450729</td>\n",
       "      <td>WITHDRAWN</td>\n",
       "      <td>07/14/2017</td>\n",
       "      <td>05/13/2019</td>\n",
       "      <td>NaN</td>\n",
       "      <td>E-3 Australian</td>\n",
       "      <td>ACCOUNT SUPERVISOR (MOTHER)</td>\n",
       "      <td>11-2011</td>\n",
       "      <td>ADVERTISING AND PROMOTIONS MANAGERS</td>\n",
       "      <td>Y</td>\n",
       "      <td>...</td>\n",
       "      <td>NaN</td>\n",
       "      <td>NaN</td>\n",
       "      <td>NaN</td>\n",
       "      <td>NaN</td>\n",
       "      <td>NaN</td>\n",
       "      <td>NaN</td>\n",
       "      <td>NaN</td>\n",
       "      <td>NaN</td>\n",
       "      <td>NaN</td>\n",
       "      <td>NaN</td>\n",
       "    </tr>\n",
       "    <tr>\n",
       "      <th>2</th>\n",
       "      <td>I-203-17229-572307</td>\n",
       "      <td>WITHDRAWN</td>\n",
       "      <td>08/23/2017</td>\n",
       "      <td>04/30/2019</td>\n",
       "      <td>NaN</td>\n",
       "      <td>E-3 Australian</td>\n",
       "      <td>EXECUTIVE CREATIVE DIRECTOR</td>\n",
       "      <td>11-2011</td>\n",
       "      <td>ADVERTISING AND PROMOTIONS MANAGERS</td>\n",
       "      <td>Y</td>\n",
       "      <td>...</td>\n",
       "      <td>NaN</td>\n",
       "      <td>NaN</td>\n",
       "      <td>NaN</td>\n",
       "      <td>NaN</td>\n",
       "      <td>NaN</td>\n",
       "      <td>NaN</td>\n",
       "      <td>NaN</td>\n",
       "      <td>NaN</td>\n",
       "      <td>NaN</td>\n",
       "      <td>NaN</td>\n",
       "    </tr>\n",
       "    <tr>\n",
       "      <th>3</th>\n",
       "      <td>I-203-17356-299648</td>\n",
       "      <td>WITHDRAWN</td>\n",
       "      <td>12/22/2017</td>\n",
       "      <td>08/20/2019</td>\n",
       "      <td>NaN</td>\n",
       "      <td>E-3 Australian</td>\n",
       "      <td>PROJECT MANAGEMENT LEAD</td>\n",
       "      <td>11-2011</td>\n",
       "      <td>ADVERTISING AND PROMOTIONS MANAGERS</td>\n",
       "      <td>Y</td>\n",
       "      <td>...</td>\n",
       "      <td>NaN</td>\n",
       "      <td>NaN</td>\n",
       "      <td>NaN</td>\n",
       "      <td>NaN</td>\n",
       "      <td>NaN</td>\n",
       "      <td>NaN</td>\n",
       "      <td>NaN</td>\n",
       "      <td>NaN</td>\n",
       "      <td>NaN</td>\n",
       "      <td>NaN</td>\n",
       "    </tr>\n",
       "    <tr>\n",
       "      <th>4</th>\n",
       "      <td>I-203-18008-577576</td>\n",
       "      <td>WITHDRAWN</td>\n",
       "      <td>01/10/2018</td>\n",
       "      <td>04/15/2019</td>\n",
       "      <td>NaN</td>\n",
       "      <td>E-3 Australian</td>\n",
       "      <td>CREATIVE DIRECTOR, UX</td>\n",
       "      <td>11-2011</td>\n",
       "      <td>ADVERTISING AND PROMOTIONS MANAGERS</td>\n",
       "      <td>Y</td>\n",
       "      <td>...</td>\n",
       "      <td>NaN</td>\n",
       "      <td>NaN</td>\n",
       "      <td>NaN</td>\n",
       "      <td>NaN</td>\n",
       "      <td>NaN</td>\n",
       "      <td>NaN</td>\n",
       "      <td>NaN</td>\n",
       "      <td>NaN</td>\n",
       "      <td>NaN</td>\n",
       "      <td>NaN</td>\n",
       "    </tr>\n",
       "  </tbody>\n",
       "</table>\n",
       "<p>5 rows × 260 columns</p>\n",
       "</div>"
      ],
      "text/plain": [
       "          CASE_NUMBER CASE_STATUS CASE_SUBMITTED DECISION_DATE  \\\n",
       "0  I-200-16092-327771   WITHDRAWN     04/08/2016    04/30/2019   \n",
       "1  I-203-17188-450729   WITHDRAWN     07/14/2017    05/13/2019   \n",
       "2  I-203-17229-572307   WITHDRAWN     08/23/2017    04/30/2019   \n",
       "3  I-203-17356-299648   WITHDRAWN     12/22/2017    08/20/2019   \n",
       "4  I-203-18008-577576   WITHDRAWN     01/10/2018    04/15/2019   \n",
       "\n",
       "  ORIGINAL_CERT_DATE      VISA_CLASS                    JOB_TITLE SOC_CODE  \\\n",
       "0                NaN            H-1B  ASSOCIATE CREATIVE DIRECTOR  11-2011   \n",
       "1                NaN  E-3 Australian  ACCOUNT SUPERVISOR (MOTHER)  11-2011   \n",
       "2                NaN  E-3 Australian  EXECUTIVE CREATIVE DIRECTOR  11-2011   \n",
       "3                NaN  E-3 Australian      PROJECT MANAGEMENT LEAD  11-2011   \n",
       "4                NaN  E-3 Australian        CREATIVE DIRECTOR, UX  11-2011   \n",
       "\n",
       "                             SOC_TITLE FULL_TIME_POSITION  ...  \\\n",
       "0  ADVERTISING AND PROMOTIONS MANAGERS                  Y  ...   \n",
       "1  ADVERTISING AND PROMOTIONS MANAGERS                  Y  ...   \n",
       "2  ADVERTISING AND PROMOTIONS MANAGERS                  Y  ...   \n",
       "3  ADVERTISING AND PROMOTIONS MANAGERS                  Y  ...   \n",
       "4  ADVERTISING AND PROMOTIONS MANAGERS                  Y  ...   \n",
       "\n",
       "  PW_OTHER_SOURCE_10 PW_NON-OES_YEAR_10  PW_SURVEY_PUBLISHER_10  \\\n",
       "0                NaN                NaN                     NaN   \n",
       "1                NaN                NaN                     NaN   \n",
       "2                NaN                NaN                     NaN   \n",
       "3                NaN                NaN                     NaN   \n",
       "4                NaN                NaN                     NaN   \n",
       "\n",
       "  PW_SURVEY_NAME_10 H-1B_DEPENDENT  WILLFUL_VIOLATOR  SUPPORT_H1B  \\\n",
       "0               NaN              N                 N          NaN   \n",
       "1               NaN            NaN               NaN          NaN   \n",
       "2               NaN            NaN               NaN          NaN   \n",
       "3               NaN            NaN               NaN          NaN   \n",
       "4               NaN            NaN               NaN          NaN   \n",
       "\n",
       "   STATUTORY_BASIS  MASTERS_EXEMPTION PUBLIC_DISCLOSURE  \n",
       "0              NaN                NaN               NaN  \n",
       "1              NaN                NaN               NaN  \n",
       "2              NaN                NaN               NaN  \n",
       "3              NaN                NaN               NaN  \n",
       "4              NaN                NaN               NaN  \n",
       "\n",
       "[5 rows x 260 columns]"
      ]
     },
     "execution_count": 4,
     "metadata": {},
     "output_type": "execute_result"
    }
   ],
   "source": [
    "H1B_visa.head()"
   ]
  },
  {
   "cell_type": "markdown",
   "id": "8ea1bd5d",
   "metadata": {},
   "source": [
    "# Exploratory Data Analysis "
   ]
  },
  {
   "cell_type": "markdown",
   "id": "d4646c93",
   "metadata": {},
   "source": [
    "In VISA_CLASS, First condition has focusing H1B Visa for united states of America.\n",
    "So, here drop the rows which is not belongs to H1B visa.\n",
    "The following command excute  and keep necessary rows."
   ]
  },
  {
   "cell_type": "code",
   "execution_count": 5,
   "id": "88d161ee",
   "metadata": {},
   "outputs": [],
   "source": [
    "H1B_visa = H1B_visa[H1B_visa.VISA_CLASS == 'H-1B']\n",
    "H1B_visa = H1B_visa[H1B_visa.EMPLOYER_COUNTRY == 'UNITED STATES OF AMERICA']\n",
    "H1B_visa = H1B_visa[H1B_visa.CASE_STATUS != 'WITHDRAWN']\n",
    "H1B_visa = H1B_visa[H1B_visa.CASE_STATUS != 'CERTIFIED-WITHDRAWN']\n"
   ]
  },
  {
   "cell_type": "code",
   "execution_count": 6,
   "id": "57f1fb67",
   "metadata": {},
   "outputs": [
    {
     "data": {
      "text/plain": [
       "(583774, 260)"
      ]
     },
     "execution_count": 6,
     "metadata": {},
     "output_type": "execute_result"
    }
   ],
   "source": [
    "H1B_visa.shape"
   ]
  },
  {
   "cell_type": "markdown",
   "id": "2c7b01d3",
   "metadata": {},
   "source": [
    "Now considering recommended features for the further EDA assessment arranging useful columns from the above conditioned data."
   ]
  },
  {
   "cell_type": "code",
   "execution_count": 7,
   "id": "fa95e500",
   "metadata": {},
   "outputs": [],
   "source": [
    "select_columns = ['CASE_STATUS','VISA_CLASS','EMPLOYER_NAME','AGENT_REPRESENTING_EMPLOYER','SECONDARY_ENTITY_1','JOB_TITLE','SOC_TITLE','SOC_CODE', 'NAICS_CODE','CONTINUED_EMPLOYMENT', 'CHANGE_PREVIOUS_EMPLOYMENT','NEW_CONCURRENT_EMPLOYMENT', 'CHANGE_EMPLOYER','AMENDED_PETITION', 'H-1B_DEPENDENT', 'SUPPORT_H1B','WILLFUL_VIOLATOR','WAGE_RATE_OF_PAY_FROM_1', 'WAGE_UNIT_OF_PAY_1','TOTAL_WORKER_POSITIONS','PREVAILING_WAGE_1']\n",
    "H1B_visa = H1B_visa[select_columns]"
   ]
  },
  {
   "cell_type": "code",
   "execution_count": 8,
   "id": "46366c0c",
   "metadata": {},
   "outputs": [
    {
     "data": {
      "text/plain": [
       "(583774, 21)"
      ]
     },
     "execution_count": 8,
     "metadata": {},
     "output_type": "execute_result"
    }
   ],
   "source": [
    "H1B_visa.shape"
   ]
  },
  {
   "cell_type": "code",
   "execution_count": 9,
   "id": "bca5287a",
   "metadata": {},
   "outputs": [
    {
     "data": {
      "text/html": [
       "<div>\n",
       "<style scoped>\n",
       "    .dataframe tbody tr th:only-of-type {\n",
       "        vertical-align: middle;\n",
       "    }\n",
       "\n",
       "    .dataframe tbody tr th {\n",
       "        vertical-align: top;\n",
       "    }\n",
       "\n",
       "    .dataframe thead th {\n",
       "        text-align: right;\n",
       "    }\n",
       "</style>\n",
       "<table border=\"1\" class=\"dataframe\">\n",
       "  <thead>\n",
       "    <tr style=\"text-align: right;\">\n",
       "      <th></th>\n",
       "      <th>CASE_STATUS</th>\n",
       "      <th>VISA_CLASS</th>\n",
       "      <th>EMPLOYER_NAME</th>\n",
       "      <th>AGENT_REPRESENTING_EMPLOYER</th>\n",
       "      <th>SECONDARY_ENTITY_1</th>\n",
       "      <th>JOB_TITLE</th>\n",
       "      <th>SOC_TITLE</th>\n",
       "      <th>SOC_CODE</th>\n",
       "      <th>NAICS_CODE</th>\n",
       "      <th>CONTINUED_EMPLOYMENT</th>\n",
       "      <th>...</th>\n",
       "      <th>NEW_CONCURRENT_EMPLOYMENT</th>\n",
       "      <th>CHANGE_EMPLOYER</th>\n",
       "      <th>AMENDED_PETITION</th>\n",
       "      <th>H-1B_DEPENDENT</th>\n",
       "      <th>SUPPORT_H1B</th>\n",
       "      <th>WILLFUL_VIOLATOR</th>\n",
       "      <th>WAGE_RATE_OF_PAY_FROM_1</th>\n",
       "      <th>WAGE_UNIT_OF_PAY_1</th>\n",
       "      <th>TOTAL_WORKER_POSITIONS</th>\n",
       "      <th>PREVAILING_WAGE_1</th>\n",
       "    </tr>\n",
       "  </thead>\n",
       "  <tbody>\n",
       "    <tr>\n",
       "      <th>24</th>\n",
       "      <td>CERTIFIED</td>\n",
       "      <td>H-1B</td>\n",
       "      <td>FANTUAN GROUP INC</td>\n",
       "      <td>Y</td>\n",
       "      <td>NaN</td>\n",
       "      <td>ADVERSTING AND PROMOTIONS MANAGER</td>\n",
       "      <td>ADVERTISING AND PROMOTIONS MANAGERS</td>\n",
       "      <td>11-2011</td>\n",
       "      <td>511210.0</td>\n",
       "      <td>0</td>\n",
       "      <td>...</td>\n",
       "      <td>0.0</td>\n",
       "      <td>0</td>\n",
       "      <td>0</td>\n",
       "      <td>N</td>\n",
       "      <td>NaN</td>\n",
       "      <td>N</td>\n",
       "      <td>33.0</td>\n",
       "      <td>Hour</td>\n",
       "      <td>1.0</td>\n",
       "      <td>NaN</td>\n",
       "    </tr>\n",
       "    <tr>\n",
       "      <th>26</th>\n",
       "      <td>CERTIFIED</td>\n",
       "      <td>H-1B</td>\n",
       "      <td>TPUSA-FHCS</td>\n",
       "      <td>Y</td>\n",
       "      <td>NaN</td>\n",
       "      <td>ADVERTISING AND PROMOTIONS DIRECTOR</td>\n",
       "      <td>ADVERTISING AND PROMOTIONS MANAGERS</td>\n",
       "      <td>11-2011</td>\n",
       "      <td>56142.0</td>\n",
       "      <td>0</td>\n",
       "      <td>...</td>\n",
       "      <td>0.0</td>\n",
       "      <td>1</td>\n",
       "      <td>0</td>\n",
       "      <td>N</td>\n",
       "      <td>NaN</td>\n",
       "      <td>N</td>\n",
       "      <td>99000.0</td>\n",
       "      <td>Year</td>\n",
       "      <td>1.0</td>\n",
       "      <td>NaN</td>\n",
       "    </tr>\n",
       "    <tr>\n",
       "      <th>47</th>\n",
       "      <td>CERTIFIED</td>\n",
       "      <td>H-1B</td>\n",
       "      <td>UNIVERSITY OF TEXAS AT DALLAS</td>\n",
       "      <td>N</td>\n",
       "      <td>NaN</td>\n",
       "      <td>PROGRAM MANAGER I</td>\n",
       "      <td>ADVERTISING AND PROMOTIONS MANAGERS</td>\n",
       "      <td>11-2011</td>\n",
       "      <td>611310.0</td>\n",
       "      <td>0</td>\n",
       "      <td>...</td>\n",
       "      <td>0.0</td>\n",
       "      <td>0</td>\n",
       "      <td>0</td>\n",
       "      <td>N</td>\n",
       "      <td>NaN</td>\n",
       "      <td>N</td>\n",
       "      <td>67500.0</td>\n",
       "      <td>Year</td>\n",
       "      <td>1.0</td>\n",
       "      <td>55370.0</td>\n",
       "    </tr>\n",
       "    <tr>\n",
       "      <th>52</th>\n",
       "      <td>CERTIFIED</td>\n",
       "      <td>H-1B</td>\n",
       "      <td>ZENITH MEDIA SERVICES, INC.</td>\n",
       "      <td>Y</td>\n",
       "      <td>NaN</td>\n",
       "      <td>ASSOCIATE STRATEGY DIRECTOR</td>\n",
       "      <td>ADVERTISING AND PROMOTIONS MANAGERS</td>\n",
       "      <td>11-2011</td>\n",
       "      <td>541830.0</td>\n",
       "      <td>1</td>\n",
       "      <td>...</td>\n",
       "      <td>0.0</td>\n",
       "      <td>0</td>\n",
       "      <td>0</td>\n",
       "      <td>N</td>\n",
       "      <td>NaN</td>\n",
       "      <td>N</td>\n",
       "      <td>102000.0</td>\n",
       "      <td>Year</td>\n",
       "      <td>1.0</td>\n",
       "      <td>94806.0</td>\n",
       "    </tr>\n",
       "    <tr>\n",
       "      <th>54</th>\n",
       "      <td>CERTIFIED</td>\n",
       "      <td>H-1B</td>\n",
       "      <td>APPLE INC.</td>\n",
       "      <td>Y</td>\n",
       "      <td>NaN</td>\n",
       "      <td>ADVERTISING AND PROMOTIONS MANAGER</td>\n",
       "      <td>ADVERTISING AND PROMOTIONS MANAGERS</td>\n",
       "      <td>11-2011</td>\n",
       "      <td>334111.0</td>\n",
       "      <td>0</td>\n",
       "      <td>...</td>\n",
       "      <td>0.0</td>\n",
       "      <td>0</td>\n",
       "      <td>0</td>\n",
       "      <td>N</td>\n",
       "      <td>NaN</td>\n",
       "      <td>N</td>\n",
       "      <td>97781.0</td>\n",
       "      <td>Year</td>\n",
       "      <td>50.0</td>\n",
       "      <td>97781.0</td>\n",
       "    </tr>\n",
       "  </tbody>\n",
       "</table>\n",
       "<p>5 rows × 21 columns</p>\n",
       "</div>"
      ],
      "text/plain": [
       "   CASE_STATUS VISA_CLASS                  EMPLOYER_NAME  \\\n",
       "24   CERTIFIED       H-1B              FANTUAN GROUP INC   \n",
       "26   CERTIFIED       H-1B                     TPUSA-FHCS   \n",
       "47   CERTIFIED       H-1B  UNIVERSITY OF TEXAS AT DALLAS   \n",
       "52   CERTIFIED       H-1B    ZENITH MEDIA SERVICES, INC.   \n",
       "54   CERTIFIED       H-1B                     APPLE INC.   \n",
       "\n",
       "   AGENT_REPRESENTING_EMPLOYER SECONDARY_ENTITY_1  \\\n",
       "24                           Y                NaN   \n",
       "26                           Y                NaN   \n",
       "47                           N                NaN   \n",
       "52                           Y                NaN   \n",
       "54                           Y                NaN   \n",
       "\n",
       "                              JOB_TITLE                            SOC_TITLE  \\\n",
       "24    ADVERSTING AND PROMOTIONS MANAGER  ADVERTISING AND PROMOTIONS MANAGERS   \n",
       "26  ADVERTISING AND PROMOTIONS DIRECTOR  ADVERTISING AND PROMOTIONS MANAGERS   \n",
       "47                    PROGRAM MANAGER I  ADVERTISING AND PROMOTIONS MANAGERS   \n",
       "52          ASSOCIATE STRATEGY DIRECTOR  ADVERTISING AND PROMOTIONS MANAGERS   \n",
       "54   ADVERTISING AND PROMOTIONS MANAGER  ADVERTISING AND PROMOTIONS MANAGERS   \n",
       "\n",
       "   SOC_CODE  NAICS_CODE CONTINUED_EMPLOYMENT  ...  NEW_CONCURRENT_EMPLOYMENT  \\\n",
       "24  11-2011    511210.0                    0  ...                        0.0   \n",
       "26  11-2011     56142.0                    0  ...                        0.0   \n",
       "47  11-2011    611310.0                    0  ...                        0.0   \n",
       "52  11-2011    541830.0                    1  ...                        0.0   \n",
       "54  11-2011    334111.0                    0  ...                        0.0   \n",
       "\n",
       "    CHANGE_EMPLOYER  AMENDED_PETITION  H-1B_DEPENDENT SUPPORT_H1B  \\\n",
       "24                0                 0               N         NaN   \n",
       "26                1                 0               N         NaN   \n",
       "47                0                 0               N         NaN   \n",
       "52                0                 0               N         NaN   \n",
       "54                0                 0               N         NaN   \n",
       "\n",
       "   WILLFUL_VIOLATOR WAGE_RATE_OF_PAY_FROM_1  WAGE_UNIT_OF_PAY_1  \\\n",
       "24                N                    33.0                Hour   \n",
       "26                N                 99000.0                Year   \n",
       "47                N                 67500.0                Year   \n",
       "52                N                102000.0                Year   \n",
       "54                N                 97781.0                Year   \n",
       "\n",
       "   TOTAL_WORKER_POSITIONS  PREVAILING_WAGE_1  \n",
       "24                    1.0                NaN  \n",
       "26                    1.0                NaN  \n",
       "47                    1.0            55370.0  \n",
       "52                    1.0            94806.0  \n",
       "54                   50.0            97781.0  \n",
       "\n",
       "[5 rows x 21 columns]"
      ]
     },
     "execution_count": 9,
     "metadata": {},
     "output_type": "execute_result"
    }
   ],
   "source": [
    "H1B_visa.head()"
   ]
  },
  {
   "cell_type": "code",
   "execution_count": 10,
   "id": "80299d84",
   "metadata": {},
   "outputs": [
    {
     "name": "stdout",
     "output_type": "stream",
     "text": [
      "<class 'pandas.core.frame.DataFrame'>\n",
      "Int64Index: 583774 entries, 24 to 664615\n",
      "Data columns (total 21 columns):\n",
      " #   Column                       Non-Null Count   Dtype  \n",
      "---  ------                       --------------   -----  \n",
      " 0   CASE_STATUS                  583774 non-null  object \n",
      " 1   VISA_CLASS                   583774 non-null  object \n",
      " 2   EMPLOYER_NAME                583770 non-null  object \n",
      " 3   AGENT_REPRESENTING_EMPLOYER  583769 non-null  object \n",
      " 4   SECONDARY_ENTITY_1           534017 non-null  object \n",
      " 5   JOB_TITLE                    583774 non-null  object \n",
      " 6   SOC_TITLE                    583770 non-null  object \n",
      " 7   SOC_CODE                     583770 non-null  object \n",
      " 8   NAICS_CODE                   583773 non-null  float64\n",
      " 9   CONTINUED_EMPLOYMENT         583774 non-null  object \n",
      " 10  CHANGE_PREVIOUS_EMPLOYMENT   583774 non-null  int64  \n",
      " 11  NEW_CONCURRENT_EMPLOYMENT    583773 non-null  float64\n",
      " 12  CHANGE_EMPLOYER              583774 non-null  int64  \n",
      " 13  AMENDED_PETITION             583774 non-null  int64  \n",
      " 14  H-1B_DEPENDENT               583754 non-null  object \n",
      " 15  SUPPORT_H1B                  218525 non-null  object \n",
      " 16  WILLFUL_VIOLATOR             583754 non-null  object \n",
      " 17  WAGE_RATE_OF_PAY_FROM_1      583770 non-null  float64\n",
      " 18  WAGE_UNIT_OF_PAY_1           583770 non-null  object \n",
      " 19  TOTAL_WORKER_POSITIONS       583773 non-null  float64\n",
      " 20  PREVAILING_WAGE_1            579096 non-null  float64\n",
      "dtypes: float64(5), int64(3), object(13)\n",
      "memory usage: 98.0+ MB\n"
     ]
    }
   ],
   "source": [
    "H1B_visa.info()"
   ]
  },
  {
   "cell_type": "markdown",
   "id": "468761b0",
   "metadata": {},
   "source": [
    "# Data visualisation"
   ]
  },
  {
   "cell_type": "code",
   "execution_count": 11,
   "id": "4d47861a",
   "metadata": {},
   "outputs": [
    {
     "data": {
      "text/plain": [
       "([0, 1], [Text(0, 0, ''), Text(0, 0, '')])"
      ]
     },
     "execution_count": 11,
     "metadata": {},
     "output_type": "execute_result"
    },
    {
     "data": {
      "image/png": "[encoded data removed]",
      "text/plain": [
       "<Figure size 432x288 with 1 Axes>"
      ]
     },
     "metadata": {
      "needs_background": "light"
     },
     "output_type": "display_data"
    }
   ],
   "source": [
    "H1B_visa.CASE_STATUS.value_counts()\n",
    "plt.bar(H1B_visa['CASE_STATUS'].value_counts().index, H1B_visa['CASE_STATUS'].value_counts(), width= 0.5, bottom=None , align='center', data=H1B_visa)\n",
    "plt.title('Case Status')\n",
    "plt.xlabel('Case status')\n",
    "plt.ylabel('frequency')\n",
    "plt.xticks(rotation='vertical')"
   ]
  },
  {
   "cell_type": "code",
   "execution_count": 12,
   "id": "aeff95a5",
   "metadata": {},
   "outputs": [
    {
     "data": {
      "text/plain": [
       "<AxesSubplot:xlabel='JOB_TITLE'>"
      ]
     },
     "execution_count": 12,
     "metadata": {},
     "output_type": "execute_result"
    },
    {
     "data": {
      "image/png": "[encoded data removed]",
      "text/plain": [
       "<Figure size 432x288 with 1 Axes>"
      ]
     },
     "metadata": {
      "needs_background": "light"
     },
     "output_type": "display_data"
    }
   ],
   "source": [
    "H1B_visa['JOB_TITLE'].value_counts()[:20]\n",
    "sns.barplot(x = H1B_visa['JOB_TITLE'].value_counts()[:20], y = H1B_visa['JOB_TITLE'].value_counts().index[:20])"
   ]
  },
  {
   "cell_type": "code",
   "execution_count": 13,
   "id": "80595d04",
   "metadata": {},
   "outputs": [
    {
     "data": {
      "text/plain": [
       "(array([0, 1]), [Text(0, 0, 'Y'), Text(1, 0, 'N')])"
      ]
     },
     "execution_count": 13,
     "metadata": {},
     "output_type": "execute_result"
    },
    {
     "data": {
      "image/png": "[encoded data removed]",
      "text/plain": [
       "<Figure size 432x288 with 1 Axes>"
      ]
     },
     "metadata": {
      "needs_background": "light"
     },
     "output_type": "display_data"
    }
   ],
   "source": [
    "H1B_visa['AGENT_REPRESENTING_EMPLOYER'].value_counts()[:20]\n",
    "sns.barplot(x = H1B_visa['AGENT_REPRESENTING_EMPLOYER'].value_counts().index[:20], y = H1B_visa['AGENT_REPRESENTING_EMPLOYER'].value_counts()[:20])\n",
    "plt.title('AGENT_REPRESENTING_EMPLOYER')\n",
    "plt.xlabel('AGENT_REPRESENTING_EMPLOYER')\n",
    "plt.ylabel('frequency')\n",
    "plt.xticks(rotation='vertical')"
   ]
  },
  {
   "cell_type": "code",
   "execution_count": 14,
   "id": "85559549",
   "metadata": {},
   "outputs": [
    {
     "data": {
      "text/plain": [
       "<AxesSubplot:xlabel='EMPLOYER_NAME'>"
      ]
     },
     "execution_count": 14,
     "metadata": {},
     "output_type": "execute_result"
    },
    {
     "data": {
      "image/png": "[encoded data removed]",
      "text/plain": [
       "<Figure size 432x288 with 1 Axes>"
      ]
     },
     "metadata": {
      "needs_background": "light"
     },
     "output_type": "display_data"
    }
   ],
   "source": [
    "H1B_visa['EMPLOYER_NAME'].value_counts()\n",
    "sns.barplot(x = H1B_visa['EMPLOYER_NAME'].value_counts()[:20], y = H1B_visa['EMPLOYER_NAME'].value_counts().index[:20])"
   ]
  },
  {
   "cell_type": "code",
   "execution_count": 15,
   "id": "8bc94227",
   "metadata": {},
   "outputs": [
    {
     "data": {
      "text/plain": [
       "CASE_STATUS                         0\n",
       "VISA_CLASS                          0\n",
       "EMPLOYER_NAME                       4\n",
       "AGENT_REPRESENTING_EMPLOYER         5\n",
       "SECONDARY_ENTITY_1              49757\n",
       "JOB_TITLE                           0\n",
       "SOC_TITLE                           4\n",
       "SOC_CODE                            4\n",
       "NAICS_CODE                          1\n",
       "CONTINUED_EMPLOYMENT                0\n",
       "CHANGE_PREVIOUS_EMPLOYMENT          0\n",
       "NEW_CONCURRENT_EMPLOYMENT           1\n",
       "CHANGE_EMPLOYER                     0\n",
       "AMENDED_PETITION                    0\n",
       "H-1B_DEPENDENT                     20\n",
       "SUPPORT_H1B                    365249\n",
       "WILLFUL_VIOLATOR                   20\n",
       "WAGE_RATE_OF_PAY_FROM_1             4\n",
       "WAGE_UNIT_OF_PAY_1                  4\n",
       "TOTAL_WORKER_POSITIONS              1\n",
       "PREVAILING_WAGE_1                4678\n",
       "dtype: int64"
      ]
     },
     "execution_count": 15,
     "metadata": {},
     "output_type": "execute_result"
    }
   ],
   "source": [
    "H1B_visa.isnull().sum()"
   ]
  },
  {
   "cell_type": "code",
   "execution_count": 16,
   "id": "c107ea9d",
   "metadata": {},
   "outputs": [],
   "source": [
    "#H1B_visa['EMPLOYER_NAME'] = H1B_visa['EMPLOYER_NAME'].fillna(H1B_visa['EMPLOYER_NAME'].mode()[0])\n",
    "#H1B_visa['AGENT_REPRESENTING_EMPLOYER'] = H1B_visa['AGENT_REPRESENTING_EMPLOYER'].fillna(H1B_visa['AGENT_REPRESENTING_EMPLOYER'].mode()[0])\n",
    "#H1B_visa['SECONDARY_ENTITY_1'] = H1B_visa['SECONDARY_ENTITY_1'].fillna(H1B_visa['SECONDARY_ENTITY_1'].mode()[0])\n",
    "#H1B_visa['SOC_CODE'] = H1B_visa['SOC_CODE'].fillna(H1B_visa['SOC_CODE'].mode()[0])\n",
    "#H1B_visa['NAICS_CODE'] = H1B_visa['NAICS_CODE'].fillna(H1B_visa['NAICS_CODE'].mode()[0])\n",
    "#H1B_visa['SOC_TITLE'] = H1B_visa['SOC_TITLE'].fillna(H1B_visa['SOC_TITLE'].mode()[0])\n",
    "#H1B_visa['H-1B_DEPENDENT'] = H1B_visa['H-1B_DEPENDENT'].fillna(H1B_visa['H-1B_DEPENDENT'].mode()[0])\n",
    "#H1B_visa['WILLFUL_VIOLATOR'] = H1B_visa['WILLFUL_VIOLATOR'].fillna(H1B_visa['WILLFUL_VIOLATOR'].mode()[0])\n",
    "#H1B_visa['NEW_CONCURRENT_EMPLOYMENT'] = H1B_visa['NEW_CONCURRENT_EMPLOYMENT'].fillna(H1B_visa['NEW_CONCURRENT_EMPLOYMENT'].mode()[0])\n",
    "#H1B_visa['WAGE_RATE_OF_PAY_FROM_1'] = H1B_visa['WAGE_RATE_OF_PAY_FROM_1'].fillna(H1B_visa['WAGE_RATE_OF_PAY_FROM_1'].mode()[0])\n",
    "#H1B_visa['WAGE_UNIT_OF_PAY_1'] = H1B_visa['WAGE_UNIT_OF_PAY_1'].fillna(H1B_visa['WAGE_UNIT_OF_PAY_1'].mode()[0])\n",
    "#H1B_visa['TOTAL_WORKER_POSITIONS'] = H1B_visa['TOTAL_WORKER_POSITIONS'].fillna(H1B_visa['TOTAL_WORKER_POSITIONS'].mode()[0])"
   ]
  },
  {
   "cell_type": "code",
   "execution_count": 17,
   "id": "80b34940",
   "metadata": {},
   "outputs": [],
   "source": [
    "H1B_visa =H1B_visa.dropna(subset = ['EMPLOYER_NAME','AGENT_REPRESENTING_EMPLOYER','SECONDARY_ENTITY_1','SOC_TITLE','SOC_CODE', 'NAICS_CODE','CONTINUED_EMPLOYMENT', 'NEW_CONCURRENT_EMPLOYMENT', 'WILLFUL_VIOLATOR','WAGE_RATE_OF_PAY_FROM_1', 'WAGE_UNIT_OF_PAY_1','TOTAL_WORKER_POSITIONS'])\n"
   ]
  },
  {
   "cell_type": "code",
   "execution_count": 18,
   "id": "9656ea38",
   "metadata": {},
   "outputs": [
    {
     "data": {
      "text/html": [
       "<div>\n",
       "<style scoped>\n",
       "    .dataframe tbody tr th:only-of-type {\n",
       "        vertical-align: middle;\n",
       "    }\n",
       "\n",
       "    .dataframe tbody tr th {\n",
       "        vertical-align: top;\n",
       "    }\n",
       "\n",
       "    .dataframe thead th {\n",
       "        text-align: right;\n",
       "    }\n",
       "</style>\n",
       "<table border=\"1\" class=\"dataframe\">\n",
       "  <thead>\n",
       "    <tr style=\"text-align: right;\">\n",
       "      <th></th>\n",
       "      <th>NAICS_CODE</th>\n",
       "      <th>CHANGE_PREVIOUS_EMPLOYMENT</th>\n",
       "      <th>NEW_CONCURRENT_EMPLOYMENT</th>\n",
       "      <th>CHANGE_EMPLOYER</th>\n",
       "      <th>AMENDED_PETITION</th>\n",
       "      <th>WAGE_RATE_OF_PAY_FROM_1</th>\n",
       "      <th>TOTAL_WORKER_POSITIONS</th>\n",
       "      <th>PREVAILING_WAGE_1</th>\n",
       "    </tr>\n",
       "  </thead>\n",
       "  <tbody>\n",
       "    <tr>\n",
       "      <th>count</th>\n",
       "      <td>533985.000000</td>\n",
       "      <td>533985.000000</td>\n",
       "      <td>533985.000000</td>\n",
       "      <td>533985.000000</td>\n",
       "      <td>533985.000000</td>\n",
       "      <td>5.339850e+05</td>\n",
       "      <td>533985.000000</td>\n",
       "      <td>533985.000000</td>\n",
       "    </tr>\n",
       "    <tr>\n",
       "      <th>mean</th>\n",
       "      <td>451557.398698</td>\n",
       "      <td>0.115132</td>\n",
       "      <td>0.011442</td>\n",
       "      <td>0.259292</td>\n",
       "      <td>0.211300</td>\n",
       "      <td>9.335849e+04</td>\n",
       "      <td>1.602075</td>\n",
       "      <td>84020.644733</td>\n",
       "    </tr>\n",
       "    <tr>\n",
       "      <th>std</th>\n",
       "      <td>188768.588059</td>\n",
       "      <td>0.923191</td>\n",
       "      <td>0.172732</td>\n",
       "      <td>1.137294</td>\n",
       "      <td>0.817758</td>\n",
       "      <td>4.577030e+04</td>\n",
       "      <td>4.099092</td>\n",
       "      <td>35358.795125</td>\n",
       "    </tr>\n",
       "    <tr>\n",
       "      <th>min</th>\n",
       "      <td>31.000000</td>\n",
       "      <td>0.000000</td>\n",
       "      <td>0.000000</td>\n",
       "      <td>0.000000</td>\n",
       "      <td>0.000000</td>\n",
       "      <td>7.500000e+00</td>\n",
       "      <td>1.000000</td>\n",
       "      <td>7.250000</td>\n",
       "    </tr>\n",
       "    <tr>\n",
       "      <th>25%</th>\n",
       "      <td>454111.000000</td>\n",
       "      <td>0.000000</td>\n",
       "      <td>0.000000</td>\n",
       "      <td>0.000000</td>\n",
       "      <td>0.000000</td>\n",
       "      <td>7.342400e+04</td>\n",
       "      <td>1.000000</td>\n",
       "      <td>68786.000000</td>\n",
       "    </tr>\n",
       "    <tr>\n",
       "      <th>50%</th>\n",
       "      <td>541511.000000</td>\n",
       "      <td>0.000000</td>\n",
       "      <td>0.000000</td>\n",
       "      <td>0.000000</td>\n",
       "      <td>0.000000</td>\n",
       "      <td>9.000000e+04</td>\n",
       "      <td>1.000000</td>\n",
       "      <td>83928.000000</td>\n",
       "    </tr>\n",
       "    <tr>\n",
       "      <th>75%</th>\n",
       "      <td>541512.000000</td>\n",
       "      <td>0.000000</td>\n",
       "      <td>0.000000</td>\n",
       "      <td>0.000000</td>\n",
       "      <td>0.000000</td>\n",
       "      <td>1.130000e+05</td>\n",
       "      <td>1.000000</td>\n",
       "      <td>101837.000000</td>\n",
       "    </tr>\n",
       "    <tr>\n",
       "      <th>max</th>\n",
       "      <td>928120.000000</td>\n",
       "      <td>338.000000</td>\n",
       "      <td>10.000000</td>\n",
       "      <td>54.000000</td>\n",
       "      <td>35.000000</td>\n",
       "      <td>1.870000e+06</td>\n",
       "      <td>500.000000</td>\n",
       "      <td>506424.000000</td>\n",
       "    </tr>\n",
       "  </tbody>\n",
       "</table>\n",
       "</div>"
      ],
      "text/plain": [
       "          NAICS_CODE  CHANGE_PREVIOUS_EMPLOYMENT  NEW_CONCURRENT_EMPLOYMENT  \\\n",
       "count  533985.000000               533985.000000              533985.000000   \n",
       "mean   451557.398698                    0.115132                   0.011442   \n",
       "std    188768.588059                    0.923191                   0.172732   \n",
       "min        31.000000                    0.000000                   0.000000   \n",
       "25%    454111.000000                    0.000000                   0.000000   \n",
       "50%    541511.000000                    0.000000                   0.000000   \n",
       "75%    541512.000000                    0.000000                   0.000000   \n",
       "max    928120.000000                  338.000000                  10.000000   \n",
       "\n",
       "       CHANGE_EMPLOYER  AMENDED_PETITION  WAGE_RATE_OF_PAY_FROM_1  \\\n",
       "count    533985.000000     533985.000000             5.339850e+05   \n",
       "mean          0.259292          0.211300             9.335849e+04   \n",
       "std           1.137294          0.817758             4.577030e+04   \n",
       "min           0.000000          0.000000             7.500000e+00   \n",
       "25%           0.000000          0.000000             7.342400e+04   \n",
       "50%           0.000000          0.000000             9.000000e+04   \n",
       "75%           0.000000          0.000000             1.130000e+05   \n",
       "max          54.000000         35.000000             1.870000e+06   \n",
       "\n",
       "       TOTAL_WORKER_POSITIONS  PREVAILING_WAGE_1  \n",
       "count           533985.000000      533985.000000  \n",
       "mean                 1.602075       84020.644733  \n",
       "std                  4.099092       35358.795125  \n",
       "min                  1.000000           7.250000  \n",
       "25%                  1.000000       68786.000000  \n",
       "50%                  1.000000       83928.000000  \n",
       "75%                  1.000000      101837.000000  \n",
       "max                500.000000      506424.000000  "
      ]
     },
     "execution_count": 18,
     "metadata": {},
     "output_type": "execute_result"
    }
   ],
   "source": [
    "H1B_visa.describe()"
   ]
  },
  {
   "cell_type": "code",
   "execution_count": 19,
   "id": "22a9d455",
   "metadata": {},
   "outputs": [
    {
     "data": {
      "text/plain": [
       "<AxesSubplot:>"
      ]
     },
     "execution_count": 19,
     "metadata": {},
     "output_type": "execute_result"
    },
    {
     "data": {
      "image/png": "[encoded data removed]",
      "text/plain": [
       "<Figure size 1152x720 with 2 Axes>"
      ]
     },
     "metadata": {
      "needs_background": "light"
     },
     "output_type": "display_data"
    }
   ],
   "source": [
    "ax=plt.subplots(figsize=(16,10))\n",
    "sns.heatmap(H1B_visa.corr(),vmax=1,square=True ,annot = True)"
   ]
  },
  {
   "cell_type": "code",
   "execution_count": 20,
   "id": "e3bb500c",
   "metadata": {},
   "outputs": [
    {
     "data": {
      "text/plain": [
       "CASE_STATUS                         0\n",
       "VISA_CLASS                          0\n",
       "EMPLOYER_NAME                       0\n",
       "AGENT_REPRESENTING_EMPLOYER         0\n",
       "SECONDARY_ENTITY_1                  0\n",
       "JOB_TITLE                           0\n",
       "SOC_TITLE                           0\n",
       "SOC_CODE                            0\n",
       "NAICS_CODE                          0\n",
       "CONTINUED_EMPLOYMENT                0\n",
       "CHANGE_PREVIOUS_EMPLOYMENT          0\n",
       "NEW_CONCURRENT_EMPLOYMENT           0\n",
       "CHANGE_EMPLOYER                     0\n",
       "AMENDED_PETITION                    0\n",
       "H-1B_DEPENDENT                      0\n",
       "SUPPORT_H1B                    335440\n",
       "WILLFUL_VIOLATOR                    0\n",
       "WAGE_RATE_OF_PAY_FROM_1             0\n",
       "WAGE_UNIT_OF_PAY_1                  0\n",
       "TOTAL_WORKER_POSITIONS              0\n",
       "PREVAILING_WAGE_1                   0\n",
       "dtype: int64"
      ]
     },
     "execution_count": 20,
     "metadata": {},
     "output_type": "execute_result"
    }
   ],
   "source": [
    "H1B_visa.isnull().sum()"
   ]
  },
  {
   "cell_type": "code",
   "execution_count": 21,
   "id": "0efe6c48",
   "metadata": {},
   "outputs": [
    {
     "name": "stdout",
     "output_type": "stream",
     "text": [
      "<class 'pandas.core.frame.DataFrame'>\n",
      "Int64Index: 533985 entries, 72 to 664610\n",
      "Data columns (total 21 columns):\n",
      " #   Column                       Non-Null Count   Dtype  \n",
      "---  ------                       --------------   -----  \n",
      " 0   CASE_STATUS                  533985 non-null  object \n",
      " 1   VISA_CLASS                   533985 non-null  object \n",
      " 2   EMPLOYER_NAME                533985 non-null  object \n",
      " 3   AGENT_REPRESENTING_EMPLOYER  533985 non-null  object \n",
      " 4   SECONDARY_ENTITY_1           533985 non-null  object \n",
      " 5   JOB_TITLE                    533985 non-null  object \n",
      " 6   SOC_TITLE                    533985 non-null  object \n",
      " 7   SOC_CODE                     533985 non-null  object \n",
      " 8   NAICS_CODE                   533985 non-null  float64\n",
      " 9   CONTINUED_EMPLOYMENT         533985 non-null  object \n",
      " 10  CHANGE_PREVIOUS_EMPLOYMENT   533985 non-null  int64  \n",
      " 11  NEW_CONCURRENT_EMPLOYMENT    533985 non-null  float64\n",
      " 12  CHANGE_EMPLOYER              533985 non-null  int64  \n",
      " 13  AMENDED_PETITION             533985 non-null  int64  \n",
      " 14  H-1B_DEPENDENT               533985 non-null  object \n",
      " 15  SUPPORT_H1B                  198545 non-null  object \n",
      " 16  WILLFUL_VIOLATOR             533985 non-null  object \n",
      " 17  WAGE_RATE_OF_PAY_FROM_1      533985 non-null  float64\n",
      " 18  WAGE_UNIT_OF_PAY_1           533985 non-null  object \n",
      " 19  TOTAL_WORKER_POSITIONS       533985 non-null  float64\n",
      " 20  PREVAILING_WAGE_1            533985 non-null  float64\n",
      "dtypes: float64(5), int64(3), object(13)\n",
      "memory usage: 89.6+ MB\n"
     ]
    }
   ],
   "source": [
    "H1B_visa.info()"
   ]
  },
  {
   "cell_type": "code",
   "execution_count": 22,
   "id": "81917276",
   "metadata": {},
   "outputs": [
    {
     "data": {
      "text/plain": [
       "NaN    335440\n",
       "Y      197127\n",
       "N        1418\n",
       "Name: SUPPORT_H1B, dtype: int64"
      ]
     },
     "execution_count": 22,
     "metadata": {},
     "output_type": "execute_result"
    }
   ],
   "source": [
    "H1B_visa.SUPPORT_H1B.value_counts(dropna = False)"
   ]
  },
  {
   "cell_type": "code",
   "execution_count": 23,
   "id": "f64247ad",
   "metadata": {},
   "outputs": [
    {
     "data": {
      "text/plain": [
       "N    321369\n",
       "Y    212616\n",
       "Name: SECONDARY_ENTITY_1, dtype: int64"
      ]
     },
     "execution_count": 23,
     "metadata": {},
     "output_type": "execute_result"
    }
   ],
   "source": [
    "H1B_visa.SECONDARY_ENTITY_1.value_counts(dropna = False)\n"
   ]
  },
  {
   "cell_type": "code",
   "execution_count": 24,
   "id": "e899d761",
   "metadata": {},
   "outputs": [
    {
     "data": {
      "text/plain": [
       "109242.00    7296\n",
       "96366.00     6604\n",
       "93538.00     4639\n",
       "113318.00    4046\n",
       "84240.00     3388\n",
       "             ... \n",
       "37101.00        1\n",
       "60681.00        1\n",
       "83693.00        1\n",
       "22.12           1\n",
       "54837.00        1\n",
       "Name: PREVAILING_WAGE_1, Length: 23517, dtype: int64"
      ]
     },
     "execution_count": 24,
     "metadata": {},
     "output_type": "execute_result"
    }
   ],
   "source": [
    "H1B_visa.PREVAILING_WAGE_1.value_counts(dropna = False)"
   ]
  },
  {
   "cell_type": "code",
   "execution_count": 25,
   "id": "80945c11",
   "metadata": {},
   "outputs": [],
   "source": [
    "mode1 = H1B_visa['SUPPORT_H1B'].mode().values[0]\n",
    "mode2 = H1B_visa['SECONDARY_ENTITY_1'].mode().values[0]\n",
    "\n",
    "H1B_visa['SUPPORT_H1B'] = H1B_visa['SUPPORT_H1B'].replace(np.nan,mode1)\n",
    "H1B_visa['SECONDARY_ENTITY_1'] = H1B_visa['SECONDARY_ENTITY_1'].replace(np.nan,mode2)"
   ]
  },
  {
   "cell_type": "code",
   "execution_count": 26,
   "id": "0b04226e",
   "metadata": {},
   "outputs": [
    {
     "data": {
      "text/plain": [
       "<AxesSubplot:>"
      ]
     },
     "execution_count": 26,
     "metadata": {},
     "output_type": "execute_result"
    },
    {
     "data": {
      "image/png": "[encoded data removed]",
      "text/plain": [
       "<Figure size 432x288 with 1 Axes>"
      ]
     },
     "metadata": {
      "needs_background": "light"
     },
     "output_type": "display_data"
    }
   ],
   "source": [
    "H1B_visa.boxplot(column='PREVAILING_WAGE_1')"
   ]
  },
  {
   "cell_type": "code",
   "execution_count": 27,
   "id": "6a9d7472",
   "metadata": {},
   "outputs": [
    {
     "data": {
      "text/plain": [
       "<seaborn.axisgrid.FacetGrid at 0x28eb73813d0>"
      ]
     },
     "execution_count": 27,
     "metadata": {},
     "output_type": "execute_result"
    },
    {
     "data": {
      "text/plain": [
       "<Figure size 1440x1440 with 0 Axes>"
      ]
     },
     "metadata": {},
     "output_type": "display_data"
    },
    {
     "data": {
      "image/png": "[encoded data removed]",
      "text/plain": [
       "<Figure size 360x360 with 1 Axes>"
      ]
     },
     "metadata": {
      "needs_background": "light"
     },
     "output_type": "display_data"
    }
   ],
   "source": [
    "plt.figure(figsize=(20,20))\n",
    "sns.displot(H1B_visa['PREVAILING_WAGE_1'], bins = 50)\n"
   ]
  },
  {
   "cell_type": "code",
   "execution_count": 28,
   "id": "9a73f5e0",
   "metadata": {},
   "outputs": [],
   "source": [
    "q1 = H1B_visa[\"PREVAILING_WAGE_1\"].quantile(0.1)\n",
    "q3 = H1B_visa[\"PREVAILING_WAGE_1\"].quantile(0.8)\n",
    "IQR = q3 - q1\n",
    "mean = H1B_visa['PREVAILING_WAGE_1'].mean()"
   ]
  },
  {
   "cell_type": "code",
   "execution_count": 29,
   "id": "5e23283c",
   "metadata": {},
   "outputs": [],
   "source": [
    "H1B_visa['PREVAILING_WAGE_1'] = H1B_visa['PREVAILING_WAGE_1'].apply(lambda x: x if x != None and (x <= q1 + 1.5*IQR and x >= q1 - 1.5*IQR) else mean)"
   ]
  },
  {
   "cell_type": "code",
   "execution_count": 30,
   "id": "7251fb4b",
   "metadata": {},
   "outputs": [
    {
     "data": {
      "text/plain": [
       "<seaborn.axisgrid.FacetGrid at 0x28eb6301430>"
      ]
     },
     "execution_count": 30,
     "metadata": {},
     "output_type": "execute_result"
    },
    {
     "data": {
      "text/plain": [
       "<Figure size 1440x1440 with 0 Axes>"
      ]
     },
     "metadata": {},
     "output_type": "display_data"
    },
    {
     "data": {
      "image/png": "[encoded data removed]",
      "text/plain": [
       "<Figure size 360x360 with 1 Axes>"
      ]
     },
     "metadata": {
      "needs_background": "light"
     },
     "output_type": "display_data"
    }
   ],
   "source": [
    "plt.figure(figsize=(20,20))\n",
    "sns.displot(H1B_visa['PREVAILING_WAGE_1'], bins = 50)\n"
   ]
  },
  {
   "cell_type": "code",
   "execution_count": 31,
   "id": "c19bb99f",
   "metadata": {},
   "outputs": [
    {
     "data": {
      "text/plain": [
       "<AxesSubplot:>"
      ]
     },
     "execution_count": 31,
     "metadata": {},
     "output_type": "execute_result"
    },
    {
     "data": {
      "image/png": "[encoded data removed]",
      "text/plain": [
       "<Figure size 432x288 with 1 Axes>"
      ]
     },
     "metadata": {
      "needs_background": "light"
     },
     "output_type": "display_data"
    }
   ],
   "source": [
    "#H1B_visa['PREVAILING_WAGE_1']\n",
    "H1B_visa.boxplot(column='PREVAILING_WAGE_1')"
   ]
  },
  {
   "cell_type": "code",
   "execution_count": 32,
   "id": "bdc394c8",
   "metadata": {},
   "outputs": [],
   "source": [
    "#H1B_visa = H1B_visa.drop(H1B_visa.loc[H1B_visa['PREVAILING_WAGE_1'].isnull()].index)"
   ]
  },
  {
   "cell_type": "code",
   "execution_count": 33,
   "id": "20b1da42",
   "metadata": {},
   "outputs": [
    {
     "data": {
      "text/plain": [
       "CASE_STATUS                    0\n",
       "VISA_CLASS                     0\n",
       "EMPLOYER_NAME                  0\n",
       "AGENT_REPRESENTING_EMPLOYER    0\n",
       "SECONDARY_ENTITY_1             0\n",
       "JOB_TITLE                      0\n",
       "SOC_TITLE                      0\n",
       "SOC_CODE                       0\n",
       "NAICS_CODE                     0\n",
       "CONTINUED_EMPLOYMENT           0\n",
       "CHANGE_PREVIOUS_EMPLOYMENT     0\n",
       "NEW_CONCURRENT_EMPLOYMENT      0\n",
       "CHANGE_EMPLOYER                0\n",
       "AMENDED_PETITION               0\n",
       "H-1B_DEPENDENT                 0\n",
       "SUPPORT_H1B                    0\n",
       "WILLFUL_VIOLATOR               0\n",
       "WAGE_RATE_OF_PAY_FROM_1        0\n",
       "WAGE_UNIT_OF_PAY_1             0\n",
       "TOTAL_WORKER_POSITIONS         0\n",
       "PREVAILING_WAGE_1              0\n",
       "dtype: int64"
      ]
     },
     "execution_count": 33,
     "metadata": {},
     "output_type": "execute_result"
    }
   ],
   "source": [
    "H1B_visa.isnull().sum()"
   ]
  },
  {
   "cell_type": "code",
   "execution_count": 34,
   "id": "a96aaed0",
   "metadata": {},
   "outputs": [
    {
     "name": "stdout",
     "output_type": "stream",
     "text": [
      "<class 'pandas.core.frame.DataFrame'>\n",
      "Int64Index: 533985 entries, 72 to 664610\n",
      "Data columns (total 21 columns):\n",
      " #   Column                       Non-Null Count   Dtype  \n",
      "---  ------                       --------------   -----  \n",
      " 0   CASE_STATUS                  533985 non-null  object \n",
      " 1   VISA_CLASS                   533985 non-null  object \n",
      " 2   EMPLOYER_NAME                533985 non-null  object \n",
      " 3   AGENT_REPRESENTING_EMPLOYER  533985 non-null  object \n",
      " 4   SECONDARY_ENTITY_1           533985 non-null  object \n",
      " 5   JOB_TITLE                    533985 non-null  object \n",
      " 6   SOC_TITLE                    533985 non-null  object \n",
      " 7   SOC_CODE                     533985 non-null  object \n",
      " 8   NAICS_CODE                   533985 non-null  float64\n",
      " 9   CONTINUED_EMPLOYMENT         533985 non-null  object \n",
      " 10  CHANGE_PREVIOUS_EMPLOYMENT   533985 non-null  int64  \n",
      " 11  NEW_CONCURRENT_EMPLOYMENT    533985 non-null  float64\n",
      " 12  CHANGE_EMPLOYER              533985 non-null  int64  \n",
      " 13  AMENDED_PETITION             533985 non-null  int64  \n",
      " 14  H-1B_DEPENDENT               533985 non-null  object \n",
      " 15  SUPPORT_H1B                  533985 non-null  object \n",
      " 16  WILLFUL_VIOLATOR             533985 non-null  object \n",
      " 17  WAGE_RATE_OF_PAY_FROM_1      533985 non-null  float64\n",
      " 18  WAGE_UNIT_OF_PAY_1           533985 non-null  object \n",
      " 19  TOTAL_WORKER_POSITIONS       533985 non-null  float64\n",
      " 20  PREVAILING_WAGE_1            533985 non-null  float64\n",
      "dtypes: float64(5), int64(3), object(13)\n",
      "memory usage: 89.6+ MB\n"
     ]
    }
   ],
   "source": [
    "H1B_visa.info()"
   ]
  },
  {
   "cell_type": "code",
   "execution_count": 35,
   "id": "997b3052",
   "metadata": {},
   "outputs": [
    {
     "name": "stdout",
     "output_type": "stream",
     "text": [
      "120632\n"
     ]
    },
    {
     "data": {
      "text/html": [
       "<div>\n",
       "<style scoped>\n",
       "    .dataframe tbody tr th:only-of-type {\n",
       "        vertical-align: middle;\n",
       "    }\n",
       "\n",
       "    .dataframe tbody tr th {\n",
       "        vertical-align: top;\n",
       "    }\n",
       "\n",
       "    .dataframe thead th {\n",
       "        text-align: right;\n",
       "    }\n",
       "</style>\n",
       "<table border=\"1\" class=\"dataframe\">\n",
       "  <thead>\n",
       "    <tr style=\"text-align: right;\">\n",
       "      <th></th>\n",
       "      <th>CASE_STATUS</th>\n",
       "      <th>VISA_CLASS</th>\n",
       "      <th>EMPLOYER_NAME</th>\n",
       "      <th>AGENT_REPRESENTING_EMPLOYER</th>\n",
       "      <th>SECONDARY_ENTITY_1</th>\n",
       "      <th>JOB_TITLE</th>\n",
       "      <th>SOC_TITLE</th>\n",
       "      <th>SOC_CODE</th>\n",
       "      <th>NAICS_CODE</th>\n",
       "      <th>CONTINUED_EMPLOYMENT</th>\n",
       "      <th>...</th>\n",
       "      <th>NEW_CONCURRENT_EMPLOYMENT</th>\n",
       "      <th>CHANGE_EMPLOYER</th>\n",
       "      <th>AMENDED_PETITION</th>\n",
       "      <th>H-1B_DEPENDENT</th>\n",
       "      <th>SUPPORT_H1B</th>\n",
       "      <th>WILLFUL_VIOLATOR</th>\n",
       "      <th>WAGE_RATE_OF_PAY_FROM_1</th>\n",
       "      <th>WAGE_UNIT_OF_PAY_1</th>\n",
       "      <th>TOTAL_WORKER_POSITIONS</th>\n",
       "      <th>PREVAILING_WAGE_1</th>\n",
       "    </tr>\n",
       "  </thead>\n",
       "  <tbody>\n",
       "    <tr>\n",
       "      <th>139</th>\n",
       "      <td>CERTIFIED</td>\n",
       "      <td>H-1B</td>\n",
       "      <td>INDUSTRY CREATIVE LLC</td>\n",
       "      <td>Y</td>\n",
       "      <td>N</td>\n",
       "      <td>ACCOUNT DIRECTOR</td>\n",
       "      <td>ADVERTISING AND PROMOTIONS MANAGERS</td>\n",
       "      <td>11-2011</td>\n",
       "      <td>541490.0</td>\n",
       "      <td>0</td>\n",
       "      <td>...</td>\n",
       "      <td>0.0</td>\n",
       "      <td>0</td>\n",
       "      <td>0</td>\n",
       "      <td>N</td>\n",
       "      <td>Y</td>\n",
       "      <td>N</td>\n",
       "      <td>90000.00</td>\n",
       "      <td>Year</td>\n",
       "      <td>1.0</td>\n",
       "      <td>75046.000000</td>\n",
       "    </tr>\n",
       "    <tr>\n",
       "      <th>173</th>\n",
       "      <td>CERTIFIED</td>\n",
       "      <td>H-1B</td>\n",
       "      <td>SUNGWON ANNANDALE LLC</td>\n",
       "      <td>Y</td>\n",
       "      <td>N</td>\n",
       "      <td>MARKETING AND PROMOTIONS MANAGER</td>\n",
       "      <td>ADVERTISING AND PROMOTIONS MANAGERS</td>\n",
       "      <td>11-2011</td>\n",
       "      <td>445110.0</td>\n",
       "      <td>0</td>\n",
       "      <td>...</td>\n",
       "      <td>0.0</td>\n",
       "      <td>0</td>\n",
       "      <td>0</td>\n",
       "      <td>N</td>\n",
       "      <td>Y</td>\n",
       "      <td>N</td>\n",
       "      <td>46.00</td>\n",
       "      <td>Hour</td>\n",
       "      <td>1.0</td>\n",
       "      <td>45.240000</td>\n",
       "    </tr>\n",
       "    <tr>\n",
       "      <th>196</th>\n",
       "      <td>CERTIFIED</td>\n",
       "      <td>H-1B</td>\n",
       "      <td>FACEBOOK INC.</td>\n",
       "      <td>Y</td>\n",
       "      <td>N</td>\n",
       "      <td>CREATIVE DIRECTOR, INSTAGRAM</td>\n",
       "      <td>ADVERTISING AND PROMOTIONS MANAGERS</td>\n",
       "      <td>11-2011</td>\n",
       "      <td>518112.0</td>\n",
       "      <td>0</td>\n",
       "      <td>...</td>\n",
       "      <td>0.0</td>\n",
       "      <td>0</td>\n",
       "      <td>0</td>\n",
       "      <td>Y</td>\n",
       "      <td>Y</td>\n",
       "      <td>N</td>\n",
       "      <td>178746.72</td>\n",
       "      <td>Year</td>\n",
       "      <td>1.0</td>\n",
       "      <td>84020.644733</td>\n",
       "    </tr>\n",
       "    <tr>\n",
       "      <th>207</th>\n",
       "      <td>CERTIFIED</td>\n",
       "      <td>H-1B</td>\n",
       "      <td>ENERGY BBDO INC.</td>\n",
       "      <td>Y</td>\n",
       "      <td>N</td>\n",
       "      <td>ACCOUNT EXECUTIVE</td>\n",
       "      <td>ADVERTISING AND PROMOTIONS MANAGERS</td>\n",
       "      <td>11-2011</td>\n",
       "      <td>541810.0</td>\n",
       "      <td>0</td>\n",
       "      <td>...</td>\n",
       "      <td>0.0</td>\n",
       "      <td>0</td>\n",
       "      <td>0</td>\n",
       "      <td>N</td>\n",
       "      <td>Y</td>\n",
       "      <td>N</td>\n",
       "      <td>48000.00</td>\n",
       "      <td>Year</td>\n",
       "      <td>1.0</td>\n",
       "      <td>47549.000000</td>\n",
       "    </tr>\n",
       "    <tr>\n",
       "      <th>265</th>\n",
       "      <td>CERTIFIED</td>\n",
       "      <td>H-1B</td>\n",
       "      <td>LAFAYETTE 148, INC.</td>\n",
       "      <td>Y</td>\n",
       "      <td>N</td>\n",
       "      <td>MERCHANDISING MANAGER</td>\n",
       "      <td>ADVERTISING AND PROMOTIONS MANAGERS</td>\n",
       "      <td>11-2011</td>\n",
       "      <td>541490.0</td>\n",
       "      <td>1</td>\n",
       "      <td>...</td>\n",
       "      <td>0.0</td>\n",
       "      <td>0</td>\n",
       "      <td>0</td>\n",
       "      <td>N</td>\n",
       "      <td>Y</td>\n",
       "      <td>N</td>\n",
       "      <td>136500.00</td>\n",
       "      <td>Year</td>\n",
       "      <td>1.0</td>\n",
       "      <td>136178.000000</td>\n",
       "    </tr>\n",
       "    <tr>\n",
       "      <th>...</th>\n",
       "      <td>...</td>\n",
       "      <td>...</td>\n",
       "      <td>...</td>\n",
       "      <td>...</td>\n",
       "      <td>...</td>\n",
       "      <td>...</td>\n",
       "      <td>...</td>\n",
       "      <td>...</td>\n",
       "      <td>...</td>\n",
       "      <td>...</td>\n",
       "      <td>...</td>\n",
       "      <td>...</td>\n",
       "      <td>...</td>\n",
       "      <td>...</td>\n",
       "      <td>...</td>\n",
       "      <td>...</td>\n",
       "      <td>...</td>\n",
       "      <td>...</td>\n",
       "      <td>...</td>\n",
       "      <td>...</td>\n",
       "      <td>...</td>\n",
       "    </tr>\n",
       "    <tr>\n",
       "      <th>664363</th>\n",
       "      <td>CERTIFIED</td>\n",
       "      <td>H-1B</td>\n",
       "      <td>NUTRA-MED PACKAGING INC</td>\n",
       "      <td>Y</td>\n",
       "      <td>N</td>\n",
       "      <td>QUALITY ASSURANCE SUPERVISOR</td>\n",
       "      <td>FIRST-LINE SUPERVISORS OF PRODUCTION AND OPERA...</td>\n",
       "      <td>51-1011</td>\n",
       "      <td>561910.0</td>\n",
       "      <td>1</td>\n",
       "      <td>...</td>\n",
       "      <td>0.0</td>\n",
       "      <td>0</td>\n",
       "      <td>0</td>\n",
       "      <td>N</td>\n",
       "      <td>Y</td>\n",
       "      <td>N</td>\n",
       "      <td>73000.00</td>\n",
       "      <td>Year</td>\n",
       "      <td>1.0</td>\n",
       "      <td>72134.000000</td>\n",
       "    </tr>\n",
       "    <tr>\n",
       "      <th>664584</th>\n",
       "      <td>CERTIFIED</td>\n",
       "      <td>H-1B</td>\n",
       "      <td>MARLIN ENGINEERING, INC.</td>\n",
       "      <td>Y</td>\n",
       "      <td>N</td>\n",
       "      <td>TRAFFIC ENGINEER</td>\n",
       "      <td>TRAFFIC TECHNICIANS</td>\n",
       "      <td>53-6041</td>\n",
       "      <td>541330.0</td>\n",
       "      <td>0</td>\n",
       "      <td>...</td>\n",
       "      <td>0.0</td>\n",
       "      <td>0</td>\n",
       "      <td>0</td>\n",
       "      <td>N</td>\n",
       "      <td>Y</td>\n",
       "      <td>N</td>\n",
       "      <td>63000.00</td>\n",
       "      <td>Year</td>\n",
       "      <td>1.0</td>\n",
       "      <td>42515.000000</td>\n",
       "    </tr>\n",
       "    <tr>\n",
       "      <th>664599</th>\n",
       "      <td>CERTIFIED</td>\n",
       "      <td>H-1B</td>\n",
       "      <td>EVEREST CONSULTANTS, INC.</td>\n",
       "      <td>Y</td>\n",
       "      <td>N</td>\n",
       "      <td>MARINE CONSULTANT SURVEYOR</td>\n",
       "      <td>TRANSPORTATION INSPECTORS</td>\n",
       "      <td>53-6051</td>\n",
       "      <td>541690.0</td>\n",
       "      <td>0</td>\n",
       "      <td>...</td>\n",
       "      <td>0.0</td>\n",
       "      <td>0</td>\n",
       "      <td>0</td>\n",
       "      <td>N</td>\n",
       "      <td>Y</td>\n",
       "      <td>N</td>\n",
       "      <td>31866.00</td>\n",
       "      <td>Year</td>\n",
       "      <td>1.0</td>\n",
       "      <td>31866.000000</td>\n",
       "    </tr>\n",
       "    <tr>\n",
       "      <th>664603</th>\n",
       "      <td>CERTIFIED</td>\n",
       "      <td>H-1B</td>\n",
       "      <td>AMSPEC LLC</td>\n",
       "      <td>Y</td>\n",
       "      <td>N</td>\n",
       "      <td>PETROLEUM INSPECTOR</td>\n",
       "      <td>TRANSPORTATION INSPECTORS</td>\n",
       "      <td>53-6051</td>\n",
       "      <td>541380.0</td>\n",
       "      <td>1</td>\n",
       "      <td>...</td>\n",
       "      <td>0.0</td>\n",
       "      <td>0</td>\n",
       "      <td>0</td>\n",
       "      <td>N</td>\n",
       "      <td>Y</td>\n",
       "      <td>N</td>\n",
       "      <td>75000.00</td>\n",
       "      <td>Year</td>\n",
       "      <td>1.0</td>\n",
       "      <td>58011.000000</td>\n",
       "    </tr>\n",
       "    <tr>\n",
       "      <th>664604</th>\n",
       "      <td>CERTIFIED</td>\n",
       "      <td>H-1B</td>\n",
       "      <td>AMSPEC LLC</td>\n",
       "      <td>Y</td>\n",
       "      <td>N</td>\n",
       "      <td>PETROLEUM INSPECTOR</td>\n",
       "      <td>TRANSPORTATION INSPECTORS</td>\n",
       "      <td>53-6051</td>\n",
       "      <td>541380.0</td>\n",
       "      <td>1</td>\n",
       "      <td>...</td>\n",
       "      <td>0.0</td>\n",
       "      <td>0</td>\n",
       "      <td>0</td>\n",
       "      <td>N</td>\n",
       "      <td>Y</td>\n",
       "      <td>N</td>\n",
       "      <td>75000.00</td>\n",
       "      <td>Year</td>\n",
       "      <td>1.0</td>\n",
       "      <td>58011.000000</td>\n",
       "    </tr>\n",
       "  </tbody>\n",
       "</table>\n",
       "<p>120632 rows × 21 columns</p>\n",
       "</div>"
      ],
      "text/plain": [
       "       CASE_STATUS VISA_CLASS              EMPLOYER_NAME  \\\n",
       "139      CERTIFIED       H-1B      INDUSTRY CREATIVE LLC   \n",
       "173      CERTIFIED       H-1B      SUNGWON ANNANDALE LLC   \n",
       "196      CERTIFIED       H-1B              FACEBOOK INC.   \n",
       "207      CERTIFIED       H-1B           ENERGY BBDO INC.   \n",
       "265      CERTIFIED       H-1B        LAFAYETTE 148, INC.   \n",
       "...            ...        ...                        ...   \n",
       "664363   CERTIFIED       H-1B    NUTRA-MED PACKAGING INC   \n",
       "664584   CERTIFIED       H-1B   MARLIN ENGINEERING, INC.   \n",
       "664599   CERTIFIED       H-1B  EVEREST CONSULTANTS, INC.   \n",
       "664603   CERTIFIED       H-1B                 AMSPEC LLC   \n",
       "664604   CERTIFIED       H-1B                 AMSPEC LLC   \n",
       "\n",
       "       AGENT_REPRESENTING_EMPLOYER SECONDARY_ENTITY_1  \\\n",
       "139                              Y                  N   \n",
       "173                              Y                  N   \n",
       "196                              Y                  N   \n",
       "207                              Y                  N   \n",
       "265                              Y                  N   \n",
       "...                            ...                ...   \n",
       "664363                           Y                  N   \n",
       "664584                           Y                  N   \n",
       "664599                           Y                  N   \n",
       "664603                           Y                  N   \n",
       "664604                           Y                  N   \n",
       "\n",
       "                               JOB_TITLE  \\\n",
       "139                     ACCOUNT DIRECTOR   \n",
       "173     MARKETING AND PROMOTIONS MANAGER   \n",
       "196         CREATIVE DIRECTOR, INSTAGRAM   \n",
       "207                    ACCOUNT EXECUTIVE   \n",
       "265                MERCHANDISING MANAGER   \n",
       "...                                  ...   \n",
       "664363      QUALITY ASSURANCE SUPERVISOR   \n",
       "664584                  TRAFFIC ENGINEER   \n",
       "664599        MARINE CONSULTANT SURVEYOR   \n",
       "664603               PETROLEUM INSPECTOR   \n",
       "664604               PETROLEUM INSPECTOR   \n",
       "\n",
       "                                                SOC_TITLE SOC_CODE  \\\n",
       "139                   ADVERTISING AND PROMOTIONS MANAGERS  11-2011   \n",
       "173                   ADVERTISING AND PROMOTIONS MANAGERS  11-2011   \n",
       "196                   ADVERTISING AND PROMOTIONS MANAGERS  11-2011   \n",
       "207                   ADVERTISING AND PROMOTIONS MANAGERS  11-2011   \n",
       "265                   ADVERTISING AND PROMOTIONS MANAGERS  11-2011   \n",
       "...                                                   ...      ...   \n",
       "664363  FIRST-LINE SUPERVISORS OF PRODUCTION AND OPERA...  51-1011   \n",
       "664584                                TRAFFIC TECHNICIANS  53-6041   \n",
       "664599                          TRANSPORTATION INSPECTORS  53-6051   \n",
       "664603                          TRANSPORTATION INSPECTORS  53-6051   \n",
       "664604                          TRANSPORTATION INSPECTORS  53-6051   \n",
       "\n",
       "        NAICS_CODE CONTINUED_EMPLOYMENT  ...  NEW_CONCURRENT_EMPLOYMENT  \\\n",
       "139       541490.0                    0  ...                        0.0   \n",
       "173       445110.0                    0  ...                        0.0   \n",
       "196       518112.0                    0  ...                        0.0   \n",
       "207       541810.0                    0  ...                        0.0   \n",
       "265       541490.0                    1  ...                        0.0   \n",
       "...            ...                  ...  ...                        ...   \n",
       "664363    561910.0                    1  ...                        0.0   \n",
       "664584    541330.0                    0  ...                        0.0   \n",
       "664599    541690.0                    0  ...                        0.0   \n",
       "664603    541380.0                    1  ...                        0.0   \n",
       "664604    541380.0                    1  ...                        0.0   \n",
       "\n",
       "        CHANGE_EMPLOYER  AMENDED_PETITION  H-1B_DEPENDENT SUPPORT_H1B  \\\n",
       "139                   0                 0               N           Y   \n",
       "173                   0                 0               N           Y   \n",
       "196                   0                 0               Y           Y   \n",
       "207                   0                 0               N           Y   \n",
       "265                   0                 0               N           Y   \n",
       "...                 ...               ...             ...         ...   \n",
       "664363                0                 0               N           Y   \n",
       "664584                0                 0               N           Y   \n",
       "664599                0                 0               N           Y   \n",
       "664603                0                 0               N           Y   \n",
       "664604                0                 0               N           Y   \n",
       "\n",
       "       WILLFUL_VIOLATOR WAGE_RATE_OF_PAY_FROM_1  WAGE_UNIT_OF_PAY_1  \\\n",
       "139                   N                90000.00                Year   \n",
       "173                   N                   46.00                Hour   \n",
       "196                   N               178746.72                Year   \n",
       "207                   N                48000.00                Year   \n",
       "265                   N               136500.00                Year   \n",
       "...                 ...                     ...                 ...   \n",
       "664363                N                73000.00                Year   \n",
       "664584                N                63000.00                Year   \n",
       "664599                N                31866.00                Year   \n",
       "664603                N                75000.00                Year   \n",
       "664604                N                75000.00                Year   \n",
       "\n",
       "       TOTAL_WORKER_POSITIONS  PREVAILING_WAGE_1  \n",
       "139                       1.0       75046.000000  \n",
       "173                       1.0          45.240000  \n",
       "196                       1.0       84020.644733  \n",
       "207                       1.0       47549.000000  \n",
       "265                       1.0      136178.000000  \n",
       "...                       ...                ...  \n",
       "664363                    1.0       72134.000000  \n",
       "664584                    1.0       42515.000000  \n",
       "664599                    1.0       31866.000000  \n",
       "664603                    1.0       58011.000000  \n",
       "664604                    1.0       58011.000000  \n",
       "\n",
       "[120632 rows x 21 columns]"
      ]
     },
     "execution_count": 35,
     "metadata": {},
     "output_type": "execute_result"
    }
   ],
   "source": [
    "duplicate =H1B_visa.duplicated()\n",
    "print(duplicate.sum())\n",
    "H1B_visa[duplicate]"
   ]
  },
  {
   "cell_type": "code",
   "execution_count": 36,
   "id": "3e9ec3aa",
   "metadata": {},
   "outputs": [],
   "source": [
    "H1B_visa.drop_duplicates(inplace=True)"
   ]
  },
  {
   "cell_type": "code",
   "execution_count": 37,
   "id": "5fb0bed4",
   "metadata": {},
   "outputs": [
    {
     "data": {
      "text/plain": [
       "0"
      ]
     },
     "execution_count": 37,
     "metadata": {},
     "output_type": "execute_result"
    }
   ],
   "source": [
    "dpl = H1B_visa.duplicated()\n",
    "dpl.sum()"
   ]
  },
  {
   "cell_type": "code",
   "execution_count": 38,
   "id": "a86f62c0",
   "metadata": {},
   "outputs": [
    {
     "data": {
      "text/plain": [
       "<AxesSubplot:>"
      ]
     },
     "execution_count": 38,
     "metadata": {},
     "output_type": "execute_result"
    },
    {
     "data": {
      "image/png": "[encoded data removed]",
      "text/plain": [
       "<Figure size 1152x720 with 2 Axes>"
      ]
     },
     "metadata": {
      "needs_background": "light"
     },
     "output_type": "display_data"
    }
   ],
   "source": [
    "ax=plt.subplots(figsize=(16,10))\n",
    "sns.heatmap(H1B_visa.corr(),vmax=0.8,square=True)"
   ]
  },
  {
   "cell_type": "code",
   "execution_count": 39,
   "id": "83a96c93",
   "metadata": {
    "scrolled": true
   },
   "outputs": [
    {
     "name": "stdout",
     "output_type": "stream",
     "text": [
      "EMPLOYER_NAME:\n",
      " GOOGLE LLC                                8280\n",
      "INFOSYS LIMITED                           7982\n",
      "ERNST & YOUNG U.S. LLP                    5568\n",
      "COGNIZANT TECHNOLOGY SOLUTIONS US CORP    4241\n",
      "TATA CONSULTANCY SERVICES LIMITED         4142\n",
      "                                          ... \n",
      "JUST ONE DIME LLC                            1\n",
      "ALASKA NATIONAL INSURANCE COMPANY            1\n",
      "MVP TECHNOLOGIES LLC                         1\n",
      "SKIN OPERATING, LLC                          1\n",
      "WHERESCAPE USA, INC.                         1\n",
      "Name: EMPLOYER_NAME, Length: 60149, dtype: int64\n"
     ]
    }
   ],
   "source": [
    "H1B_visa.EMPLOYER_NAME.value_counts()\n",
    "print('EMPLOYER_NAME:\\n',H1B_visa.EMPLOYER_NAME.value_counts())"
   ]
  },
  {
   "cell_type": "code",
   "execution_count": 40,
   "id": "1ec1f808",
   "metadata": {},
   "outputs": [
    {
     "name": "stderr",
     "output_type": "stream",
     "text": [
      "C:\\Users\\User\\AppData\\Local\\Temp\\ipykernel_23760\\1785688180.py:3: SettingWithCopyWarning: \n",
      "A value is trying to be set on a copy of a slice from a DataFrame\n",
      "\n",
      "See the caveats in the documentation: https://pandas.pydata.org/pandas-docs/stable/user_guide/indexing.html#returning-a-view-versus-a-copy\n",
      "  H1B_visa['EMPLOYER_BRANCH'][H1B_visa['EMPLOYER_NAME'].str.contains('APPLE|GOOGLE|FACEBOOK|CAPGEMINI|WIPRO|TWITTER|INFOSYS|MICROSOFT|AIRLINES|IBM|ERNST|JPMORGAN|MINDTREE|AMAZON|TATA')] = 'TOP TECH'\n",
      "C:\\Users\\User\\AppData\\Local\\Temp\\ipykernel_23760\\1785688180.py:4: SettingWithCopyWarning: \n",
      "A value is trying to be set on a copy of a slice from a DataFrame\n",
      "\n",
      "See the caveats in the documentation: https://pandas.pydata.org/pandas-docs/stable/user_guide/indexing.html#returning-a-view-versus-a-copy\n",
      "  H1B_visa['EMPLOYER_BRANCH'][H1B_visa['EMPLOYER_NAME'].str.contains('ELECTRONIC|MARIX|MICRO|ELECTRO|CHIP|DEVICE|INSTRUMENTS|INTEGRATORS|DELL|HEW|SEMICONDUCTORS|ENTERTAINMENT|LOGIC')] = 'ELECTRONIC & LOGISTICS SERVICES'\n",
      "C:\\Users\\User\\AppData\\Local\\Temp\\ipykernel_23760\\1785688180.py:5: SettingWithCopyWarning: \n",
      "A value is trying to be set on a copy of a slice from a DataFrame\n",
      "\n",
      "See the caveats in the documentation: https://pandas.pydata.org/pandas-docs/stable/user_guide/indexing.html#returning-a-view-versus-a-copy\n",
      "  H1B_visa['EMPLOYER_BRANCH'][H1B_visa['EMPLOYER_NAME'].str.contains('UNIVERSITY|UNIVERSITIES|ACADEMIC|INSTITUTIONS|SCIENCE|NATIONAL|SCHOOL')] = 'UNIVERSITY'\n",
      "C:\\Users\\User\\AppData\\Local\\Temp\\ipykernel_23760\\1785688180.py:6: SettingWithCopyWarning: \n",
      "A value is trying to be set on a copy of a slice from a DataFrame\n",
      "\n",
      "See the caveats in the documentation: https://pandas.pydata.org/pandas-docs/stable/user_guide/indexing.html#returning-a-view-versus-a-copy\n",
      "  H1B_visa['EMPLOYER_BRANCH'][H1B_visa['EMPLOYER_NAME'].str.contains('MASTER|BANK|CARD|VISA')] = 'BANKING COMPANIES'\n",
      "C:\\Users\\User\\AppData\\Local\\Temp\\ipykernel_23760\\1785688180.py:7: SettingWithCopyWarning: \n",
      "A value is trying to be set on a copy of a slice from a DataFrame\n",
      "\n",
      "See the caveats in the documentation: https://pandas.pydata.org/pandas-docs/stable/user_guide/indexing.html#returning-a-view-versus-a-copy\n",
      "  H1B_visa['EMPLOYER_BRANCH'][H1B_visa['EMPLOYER_NAME'].str.contains('HEALTH|FIN|ECLINICALWORKS|MEDTRONIC|FINANCIAL|MEDICAL|MED|CENTER')] = 'FINANCE AND MEDICAL SOLUTIONS'\n",
      "C:\\Users\\User\\AppData\\Local\\Temp\\ipykernel_23760\\1785688180.py:8: SettingWithCopyWarning: \n",
      "A value is trying to be set on a copy of a slice from a DataFrame\n",
      "\n",
      "See the caveats in the documentation: https://pandas.pydata.org/pandas-docs/stable/user_guide/indexing.html#returning-a-view-versus-a-copy\n",
      "  H1B_visa['EMPLOYER_BRANCH'][H1B_visa['EMPLOYER_NAME'].str.contains('BUSINESS|MANAGEMENT')] = 'BUSINESS SOLUTIONS'\n",
      "C:\\Users\\User\\AppData\\Local\\Temp\\ipykernel_23760\\1785688180.py:9: SettingWithCopyWarning: \n",
      "A value is trying to be set on a copy of a slice from a DataFrame\n",
      "\n",
      "See the caveats in the documentation: https://pandas.pydata.org/pandas-docs/stable/user_guide/indexing.html#returning-a-view-versus-a-copy\n",
      "  H1B_visa['EMPLOYER_BRANCH'][H1B_visa['EMPLOYER_NAME'].str.contains('LABS|COMMUNICATION|NETWORK|DIGITAL|NETWORKS')] = 'RESEARCH LABS & NETWORK'\n",
      "C:\\Users\\User\\AppData\\Local\\Temp\\ipykernel_23760\\1785688180.py:10: SettingWithCopyWarning: \n",
      "A value is trying to be set on a copy of a slice from a DataFrame\n",
      "\n",
      "See the caveats in the documentation: https://pandas.pydata.org/pandas-docs/stable/user_guide/indexing.html#returning-a-view-versus-a-copy\n",
      "  H1B_visa['EMPLOYER_BRANCH'][H1B_visa['EMPLOYER_NAME'].str.contains('AUTOBILE|AUTOMOTIVE|MOTOR|AUTO|FORD|PUMP|ELECTRIC|TESLA|BOSCH')] = 'AUTOMOTIVE & ELECTRICAL'\n",
      "C:\\Users\\User\\AppData\\Local\\Temp\\ipykernel_23760\\1785688180.py:11: SettingWithCopyWarning: \n",
      "A value is trying to be set on a copy of a slice from a DataFrame\n",
      "\n",
      "See the caveats in the documentation: https://pandas.pydata.org/pandas-docs/stable/user_guide/indexing.html#returning-a-view-versus-a-copy\n",
      "  H1B_visa['EMPLOYER_BRANCH'][H1B_visa['EMPLOYER_NAME'].str.contains('DEVELOPMENT|IT|COMPUTER|CYBER|TECHNOLOGY|TECH|SOLUTIONS|WEB|INFOTECH|CLOUD|VISION|GLOBAL|SYSTEMS|TECHNOSOFT|TECHNO|SERVICES|SECURITIES|SECURITY|TECHNOLOGIES|DATA')] = 'TECH SOLUTIONS'\n",
      "C:\\Users\\User\\AppData\\Local\\Temp\\ipykernel_23760\\1785688180.py:12: SettingWithCopyWarning: \n",
      "A value is trying to be set on a copy of a slice from a DataFrame\n",
      "\n",
      "See the caveats in the documentation: https://pandas.pydata.org/pandas-docs/stable/user_guide/indexing.html#returning-a-view-versus-a-copy\n",
      "  H1B_visa['EMPLOYER_BRANCH'][H1B_visa['EMPLOYER_NAME'].str.contains('INTERNATIONAL|CONSULTING|CONSULTANT|RESOURCES|GROUP|ASSOCIATES|ANALYSTS')] = 'CONSULTING COMPANIES'\n",
      "C:\\Users\\User\\AppData\\Local\\Temp\\ipykernel_23760\\1785688180.py:13: SettingWithCopyWarning: \n",
      "A value is trying to be set on a copy of a slice from a DataFrame\n",
      "\n",
      "See the caveats in the documentation: https://pandas.pydata.org/pandas-docs/stable/user_guide/indexing.html#returning-a-view-versus-a-copy\n",
      "  H1B_visa['EMPLOYER_BRANCH'][H1B_visa['EMPLOYER_NAME'].str.contains('PRODUCT|PRODUCTS|ENTERPRISE|ENTERPRISES')] = 'PRODUCT &ENTERPRISE COMPANIES'\n"
     ]
    }
   ],
   "source": [
    "import sys\n",
    "H1B_visa['EMPLOYER_BRANCH'] = 'others'\n",
    "H1B_visa['EMPLOYER_BRANCH'][H1B_visa['EMPLOYER_NAME'].str.contains('APPLE|GOOGLE|FACEBOOK|CAPGEMINI|WIPRO|TWITTER|INFOSYS|MICROSOFT|AIRLINES|IBM|ERNST|JPMORGAN|MINDTREE|AMAZON|TATA')] = 'TOP TECH'\n",
    "H1B_visa['EMPLOYER_BRANCH'][H1B_visa['EMPLOYER_NAME'].str.contains('ELECTRONIC|MARIX|MICRO|ELECTRO|CHIP|DEVICE|INSTRUMENTS|INTEGRATORS|DELL|HEW|SEMICONDUCTORS|ENTERTAINMENT|LOGIC')] = 'ELECTRONIC & LOGISTICS SERVICES'\n",
    "H1B_visa['EMPLOYER_BRANCH'][H1B_visa['EMPLOYER_NAME'].str.contains('UNIVERSITY|UNIVERSITIES|ACADEMIC|INSTITUTIONS|SCIENCE|NATIONAL|SCHOOL')] = 'UNIVERSITY'\n",
    "H1B_visa['EMPLOYER_BRANCH'][H1B_visa['EMPLOYER_NAME'].str.contains('MASTER|BANK|CARD|VISA')] = 'BANKING COMPANIES'\n",
    "H1B_visa['EMPLOYER_BRANCH'][H1B_visa['EMPLOYER_NAME'].str.contains('HEALTH|FIN|ECLINICALWORKS|MEDTRONIC|FINANCIAL|MEDICAL|MED|CENTER')] = 'FINANCE AND MEDICAL SOLUTIONS'\n",
    "H1B_visa['EMPLOYER_BRANCH'][H1B_visa['EMPLOYER_NAME'].str.contains('BUSINESS|MANAGEMENT')] = 'BUSINESS SOLUTIONS'\n",
    "H1B_visa['EMPLOYER_BRANCH'][H1B_visa['EMPLOYER_NAME'].str.contains('LABS|COMMUNICATION|NETWORK|DIGITAL|NETWORKS')] = 'RESEARCH LABS & NETWORK'\n",
    "H1B_visa['EMPLOYER_BRANCH'][H1B_visa['EMPLOYER_NAME'].str.contains('AUTOBILE|AUTOMOTIVE|MOTOR|AUTO|FORD|PUMP|ELECTRIC|TESLA|BOSCH')] = 'AUTOMOTIVE & ELECTRICAL'\n",
    "H1B_visa['EMPLOYER_BRANCH'][H1B_visa['EMPLOYER_NAME'].str.contains('DEVELOPMENT|IT|COMPUTER|CYBER|TECHNOLOGY|TECH|SOLUTIONS|WEB|INFOTECH|CLOUD|VISION|GLOBAL|SYSTEMS|TECHNOSOFT|TECHNO|SERVICES|SECURITIES|SECURITY|TECHNOLOGIES|DATA')] = 'TECH SOLUTIONS'\n",
    "H1B_visa['EMPLOYER_BRANCH'][H1B_visa['EMPLOYER_NAME'].str.contains('INTERNATIONAL|CONSULTING|CONSULTANT|RESOURCES|GROUP|ASSOCIATES|ANALYSTS')] = 'CONSULTING COMPANIES'\n",
    "H1B_visa['EMPLOYER_BRANCH'][H1B_visa['EMPLOYER_NAME'].str.contains('PRODUCT|PRODUCTS|ENTERPRISE|ENTERPRISES')] = 'PRODUCT &ENTERPRISE COMPANIES'\n",
    "#H1B_visa['EMPLOYER_BRANCH'][H1B_visa['EMPLOYER_NAME'].str.contains('')] = 'PRODUCT &ENTERPRISE COMPANIES'"
   ]
  },
  {
   "cell_type": "code",
   "execution_count": 41,
   "id": "71ed188b",
   "metadata": {},
   "outputs": [
    {
     "data": {
      "text/plain": [
       "TECH SOLUTIONS                     165456\n",
       "others                             147574\n",
       "CONSULTING COMPANIES                36804\n",
       "TOP TECH                            24701\n",
       "FINANCE AND MEDICAL SOLUTIONS       10054\n",
       "ELECTRONIC & LOGISTICS SERVICES      7325\n",
       "RESEARCH LABS & NETWORK              4776\n",
       "AUTOMOTIVE & ELECTRICAL              4089\n",
       "BANKING COMPANIES                    3542\n",
       "PRODUCT &ENTERPRISE COMPANIES        3273\n",
       "UNIVERSITY                           2967\n",
       "BUSINESS SOLUTIONS                   2792\n",
       "Name: EMPLOYER_BRANCH, dtype: int64"
      ]
     },
     "execution_count": 41,
     "metadata": {},
     "output_type": "execute_result"
    }
   ],
   "source": [
    "H1B_visa['EMPLOYER_BRANCH'].value_counts()"
   ]
  },
  {
   "cell_type": "code",
   "execution_count": 42,
   "id": "3ae13a6c",
   "metadata": {},
   "outputs": [
    {
     "name": "stdout",
     "output_type": "stream",
     "text": [
      "SOC_TITLE:\n",
      " SOFTWARE DEVELOPERS, APPLICATIONS        136978\n",
      "COMPUTER OCCUPATIONS, ALL OTHER           37094\n",
      "SOFTWARE DEVELOPERS, SYSTEMS SOFTWARE     22132\n",
      "COMPUTER SYSTEMS ANALYSTS                 19368\n",
      "MECHANICAL ENGINEERS                       8771\n",
      "                                          ...  \n",
      "BIOLOGICAL SCIENCES, ALL OTHER                1\n",
      "COMPENSATION AND BENEFITS MANAGER             1\n",
      "SOLUTION CONSULTANT                           1\n",
      "MOLECULAR & CELLULAR BIOLOGISTS               1\n",
      "BIOCHEMICAL ENGINEERS                         1\n",
      "Name: SOC_TITLE, Length: 762, dtype: int64\n"
     ]
    }
   ],
   "source": [
    "H1B_visa.SOC_TITLE.value_counts()\n",
    "print('SOC_TITLE:\\n',H1B_visa.SOC_TITLE.value_counts())"
   ]
  },
  {
   "cell_type": "code",
   "execution_count": 43,
   "id": "383b5f43",
   "metadata": {},
   "outputs": [
    {
     "name": "stderr",
     "output_type": "stream",
     "text": [
      "C:\\Users\\User\\AppData\\Local\\Temp\\ipykernel_23760\\2747297888.py:3: SettingWithCopyWarning: \n",
      "A value is trying to be set on a copy of a slice from a DataFrame\n",
      "\n",
      "See the caveats in the documentation: https://pandas.pydata.org/pandas-docs/stable/user_guide/indexing.html#returning-a-view-versus-a-copy\n",
      "  H1B_visa['SOC_TITLE_NEW'][H1B_visa['SOC_TITLE'].str.contains('WEB|SOFTWARE|COMPUTER|INFORMATION|SECURITY')] = 'IT ENGINEERS'\n",
      "C:\\Users\\User\\AppData\\Local\\Temp\\ipykernel_23760\\2747297888.py:4: SettingWithCopyWarning: \n",
      "A value is trying to be set on a copy of a slice from a DataFrame\n",
      "\n",
      "See the caveats in the documentation: https://pandas.pydata.org/pandas-docs/stable/user_guide/indexing.html#returning-a-view-versus-a-copy\n",
      "  H1B_visa['SOC_TITLE_NEW'][H1B_visa['SOC_TITLE'].str.contains('MECHANICAL|DESIGN')] = 'MECHANICAL'\n",
      "C:\\Users\\User\\AppData\\Local\\Temp\\ipykernel_23760\\2747297888.py:5: SettingWithCopyWarning: \n",
      "A value is trying to be set on a copy of a slice from a DataFrame\n",
      "\n",
      "See the caveats in the documentation: https://pandas.pydata.org/pandas-docs/stable/user_guide/indexing.html#returning-a-view-versus-a-copy\n",
      "  H1B_visa['SOC_TITLE_NEW'][H1B_visa['SOC_TITLE'].str.contains('CHIEF|EXECUTIVES')] = 'Executives'\n",
      "C:\\Users\\User\\AppData\\Local\\Temp\\ipykernel_23760\\2747297888.py:6: SettingWithCopyWarning: \n",
      "A value is trying to be set on a copy of a slice from a DataFrame\n",
      "\n",
      "See the caveats in the documentation: https://pandas.pydata.org/pandas-docs/stable/user_guide/indexing.html#returning-a-view-versus-a-copy\n",
      "  H1B_visa['SOC_TITLE_NEW'][H1B_visa['SOC_TITLE'].str.contains('Chief|MANAGEMENT|MANAGERS')] = 'Manager'\n",
      "C:\\Users\\User\\AppData\\Local\\Temp\\ipykernel_23760\\2747297888.py:7: SettingWithCopyWarning: \n",
      "A value is trying to be set on a copy of a slice from a DataFrame\n",
      "\n",
      "See the caveats in the documentation: https://pandas.pydata.org/pandas-docs/stable/user_guide/indexing.html#returning-a-view-versus-a-copy\n",
      "  H1B_visa['SOC_TITLE_NEW'][H1B_visa['SOC_TITLE'].str.contains('CHEMICAL|MARINE|INDUSTRIAL|MATERIALS')] = 'MULTIDISCPLINARY ENGINEERS'\n",
      "C:\\Users\\User\\AppData\\Local\\Temp\\ipykernel_23760\\2747297888.py:8: SettingWithCopyWarning: \n",
      "A value is trying to be set on a copy of a slice from a DataFrame\n",
      "\n",
      "See the caveats in the documentation: https://pandas.pydata.org/pandas-docs/stable/user_guide/indexing.html#returning-a-view-versus-a-copy\n",
      "  H1B_visa['SOC_TITLE_NEW'][H1B_visa['SOC_TITLE'].str.contains('DATA|Database|STATISTICIANS')] = 'Database & Scientists'\n",
      "C:\\Users\\User\\AppData\\Local\\Temp\\ipykernel_23760\\2747297888.py:9: SettingWithCopyWarning: \n",
      "A value is trying to be set on a copy of a slice from a DataFrame\n",
      "\n",
      "See the caveats in the documentation: https://pandas.pydata.org/pandas-docs/stable/user_guide/indexing.html#returning-a-view-versus-a-copy\n",
      "  H1B_visa['SOC_TITLE_NEW'][H1B_visa['SOC_TITLE'].str.contains('Sales|Market')] = 'Sales & Market'\n",
      "C:\\Users\\User\\AppData\\Local\\Temp\\ipykernel_23760\\2747297888.py:10: SettingWithCopyWarning: \n",
      "A value is trying to be set on a copy of a slice from a DataFrame\n",
      "\n",
      "See the caveats in the documentation: https://pandas.pydata.org/pandas-docs/stable/user_guide/indexing.html#returning-a-view-versus-a-copy\n",
      "  H1B_visa['SOC_TITLE_NEW'][H1B_visa['SOC_TITLE'].str.contains('FINANCIAL|ECONOMISTS')] = 'Finance'\n",
      "C:\\Users\\User\\AppData\\Local\\Temp\\ipykernel_23760\\2747297888.py:11: SettingWithCopyWarning: \n",
      "A value is trying to be set on a copy of a slice from a DataFrame\n",
      "\n",
      "See the caveats in the documentation: https://pandas.pydata.org/pandas-docs/stable/user_guide/indexing.html#returning-a-view-versus-a-copy\n",
      "  H1B_visa['SOC_TITLE_NEW'][H1B_visa['SOC_TITLE'].str.contains('COMPLIANCE|PUBLIC RELATIONS|Fundraising')] = 'P.R'\n",
      "C:\\Users\\User\\AppData\\Local\\Temp\\ipykernel_23760\\2747297888.py:12: SettingWithCopyWarning: \n",
      "A value is trying to be set on a copy of a slice from a DataFrame\n",
      "\n",
      "See the caveats in the documentation: https://pandas.pydata.org/pandas-docs/stable/user_guide/indexing.html#returning-a-view-versus-a-copy\n",
      "  H1B_visa['SOC_TITLE_NEW'][H1B_visa['SOC_TITLE'].str.contains('education|law')] = 'Administrative'\n",
      "C:\\Users\\User\\AppData\\Local\\Temp\\ipykernel_23760\\2747297888.py:13: SettingWithCopyWarning: \n",
      "A value is trying to be set on a copy of a slice from a DataFrame\n",
      "\n",
      "See the caveats in the documentation: https://pandas.pydata.org/pandas-docs/stable/user_guide/indexing.html#returning-a-view-versus-a-copy\n",
      "  H1B_visa['SOC_TITLE_NEW'][H1B_visa['SOC_TITLE'].str.contains('ACCOUNTANTS|Auditors|Compliance')] = 'Audit'\n",
      "C:\\Users\\User\\AppData\\Local\\Temp\\ipykernel_23760\\2747297888.py:15: SettingWithCopyWarning: \n",
      "A value is trying to be set on a copy of a slice from a DataFrame\n",
      "\n",
      "See the caveats in the documentation: https://pandas.pydata.org/pandas-docs/stable/user_guide/indexing.html#returning-a-view-versus-a-copy\n",
      "  H1B_visa['SOC_TITLE_NEW'][H1B_visa['SOC_TITLE'].str.contains('Agricultural|Farm')] = 'Agriculture'\n",
      "C:\\Users\\User\\AppData\\Local\\Temp\\ipykernel_23760\\2747297888.py:16: SettingWithCopyWarning: \n",
      "A value is trying to be set on a copy of a slice from a DataFrame\n",
      "\n",
      "See the caveats in the documentation: https://pandas.pydata.org/pandas-docs/stable/user_guide/indexing.html#returning-a-view-versus-a-copy\n",
      "  H1B_visa['SOC_TITLE_NEW'][H1B_visa['SOC_TITLE'].str.contains('Construction|Architectural')] = 'Estate'\n",
      "C:\\Users\\User\\AppData\\Local\\Temp\\ipykernel_23760\\2747297888.py:17: SettingWithCopyWarning: \n",
      "A value is trying to be set on a copy of a slice from a DataFrame\n",
      "\n",
      "See the caveats in the documentation: https://pandas.pydata.org/pandas-docs/stable/user_guide/indexing.html#returning-a-view-versus-a-copy\n",
      "  H1B_visa['SOC_TITLE_NEW'][H1B_visa['SOC_TITLE'].str.contains('INTERNISTS|DENTISTS|THERAPISTS|SURGEONS|BIOMEDICAL')] = 'Medical'\n",
      "C:\\Users\\User\\AppData\\Local\\Temp\\ipykernel_23760\\2747297888.py:18: SettingWithCopyWarning: \n",
      "A value is trying to be set on a copy of a slice from a DataFrame\n",
      "\n",
      "See the caveats in the documentation: https://pandas.pydata.org/pandas-docs/stable/user_guide/indexing.html#returning-a-view-versus-a-copy\n",
      "  H1B_visa['SOC_TITLE_NEW'][H1B_visa['SOC_TITLE'].str.contains('WRITERS|TEACHERS|POSTSECONDARY|KINDERGARTEN AND ELEMENTARY SCHOOL')] = 'Education'\n",
      "C:\\Users\\User\\AppData\\Local\\Temp\\ipykernel_23760\\2747297888.py:19: SettingWithCopyWarning: \n",
      "A value is trying to be set on a copy of a slice from a DataFrame\n",
      "\n",
      "See the caveats in the documentation: https://pandas.pydata.org/pandas-docs/stable/user_guide/indexing.html#returning-a-view-versus-a-copy\n",
      "  H1B_visa['SOC_TITLE_NEW'][H1B_visa['SOC_TITLE'].str.contains('TECHNICIANS|WORKERS|CHEMISTS|BIOCHEMISTS')] = 'TECHNICIANS'\n"
     ]
    }
   ],
   "source": [
    "import sys\n",
    "H1B_visa['SOC_TITLE_NEW'] = 'others'\n",
    "H1B_visa['SOC_TITLE_NEW'][H1B_visa['SOC_TITLE'].str.contains('WEB|SOFTWARE|COMPUTER|INFORMATION|SECURITY')] = 'IT ENGINEERS'\n",
    "H1B_visa['SOC_TITLE_NEW'][H1B_visa['SOC_TITLE'].str.contains('MECHANICAL|DESIGN')] = 'MECHANICAL'\n",
    "H1B_visa['SOC_TITLE_NEW'][H1B_visa['SOC_TITLE'].str.contains('CHIEF|EXECUTIVES')] = 'Executives'\n",
    "H1B_visa['SOC_TITLE_NEW'][H1B_visa['SOC_TITLE'].str.contains('Chief|MANAGEMENT|MANAGERS')] = 'Manager'\n",
    "H1B_visa['SOC_TITLE_NEW'][H1B_visa['SOC_TITLE'].str.contains('CHEMICAL|MARINE|INDUSTRIAL|MATERIALS')] = 'MULTIDISCPLINARY ENGINEERS'\n",
    "H1B_visa['SOC_TITLE_NEW'][H1B_visa['SOC_TITLE'].str.contains('DATA|Database|STATISTICIANS')] = 'Database & Scientists'\n",
    "H1B_visa['SOC_TITLE_NEW'][H1B_visa['SOC_TITLE'].str.contains('Sales|Market')] = 'Sales & Market'\n",
    "H1B_visa['SOC_TITLE_NEW'][H1B_visa['SOC_TITLE'].str.contains('FINANCIAL|ECONOMISTS')] = 'Finance'\n",
    "H1B_visa['SOC_TITLE_NEW'][H1B_visa['SOC_TITLE'].str.contains('COMPLIANCE|PUBLIC RELATIONS|Fundraising')] = 'P.R'\n",
    "H1B_visa['SOC_TITLE_NEW'][H1B_visa['SOC_TITLE'].str.contains('education|law')] = 'Administrative'\n",
    "H1B_visa['SOC_TITLE_NEW'][H1B_visa['SOC_TITLE'].str.contains('ACCOUNTANTS|Auditors|Compliance')] = 'Audit'\n",
    "#H1B_visa['SOC_TITLE_NEW'][H1B_visa['SOC_TITLE'].str.contains('Recruiters|HUMAN RESOURCES|')] = 'H.R'\n",
    "H1B_visa['SOC_TITLE_NEW'][H1B_visa['SOC_TITLE'].str.contains('Agricultural|Farm')] = 'Agriculture'\n",
    "H1B_visa['SOC_TITLE_NEW'][H1B_visa['SOC_TITLE'].str.contains('Construction|Architectural')] = 'Estate'\n",
    "H1B_visa['SOC_TITLE_NEW'][H1B_visa['SOC_TITLE'].str.contains('INTERNISTS|DENTISTS|THERAPISTS|SURGEONS|BIOMEDICAL')] = 'Medical'\n",
    "H1B_visa['SOC_TITLE_NEW'][H1B_visa['SOC_TITLE'].str.contains('WRITERS|TEACHERS|POSTSECONDARY|KINDERGARTEN AND ELEMENTARY SCHOOL')] = 'Education'\n",
    "H1B_visa['SOC_TITLE_NEW'][H1B_visa['SOC_TITLE'].str.contains('TECHNICIANS|WORKERS|CHEMISTS|BIOCHEMISTS')] = 'TECHNICIANS'\n"
   ]
  },
  {
   "cell_type": "code",
   "execution_count": 44,
   "id": "c3caf6ea",
   "metadata": {},
   "outputs": [
    {
     "data": {
      "text/plain": [
       "IT ENGINEERS                  255501\n",
       "others                         56269\n",
       "Manager                        22915\n",
       "Database & Scientists          13335\n",
       "Finance                        11534\n",
       "MECHANICAL                     11191\n",
       "Education                      10864\n",
       "Medical                         8388\n",
       "MULTIDISCPLINARY ENGINEERS      8069\n",
       "Audit                           7555\n",
       "TECHNICIANS                     5803\n",
       "P.R                             1709\n",
       "Executives                       220\n",
       "Name: SOC_TITLE_NEW, dtype: int64"
      ]
     },
     "execution_count": 44,
     "metadata": {},
     "output_type": "execute_result"
    }
   ],
   "source": [
    "H1B_visa['SOC_TITLE_NEW'].value_counts()"
   ]
  },
  {
   "cell_type": "code",
   "execution_count": 45,
   "id": "17f60010",
   "metadata": {},
   "outputs": [
    {
     "data": {
      "text/plain": [
       "SOFTWARE ENGINEER                            19562\n",
       "SOFTWARE DEVELOPER                           19190\n",
       "SENIOR SOFTWARE ENGINEER                      5076\n",
       "ASSISTANT PROFESSOR                           3693\n",
       "JAVA DEVELOPER                                2706\n",
       "                                             ...  \n",
       "SOFTWARE ENGINEER-SYSTEMS INTEGRATION/JDE        1\n",
       "SOFTWARE ENGINEER 1615.50175                     1\n",
       "IT ANALYST & SOLUTION ARCHITECT                  1\n",
       "SR. APPLICATION PERFORMANCE ENGINEER             1\n",
       "ACD WRITING                                      1\n",
       "Name: JOB_TITLE, Length: 94630, dtype: int64"
      ]
     },
     "execution_count": 45,
     "metadata": {},
     "output_type": "execute_result"
    }
   ],
   "source": [
    "H1B_visa['JOB_TITLE'].value_counts()"
   ]
  },
  {
   "cell_type": "code",
   "execution_count": 46,
   "id": "5b48a0e8",
   "metadata": {},
   "outputs": [
    {
     "name": "stderr",
     "output_type": "stream",
     "text": [
      "C:\\Users\\User\\AppData\\Local\\Temp\\ipykernel_23760\\2314059442.py:3: SettingWithCopyWarning: \n",
      "A value is trying to be set on a copy of a slice from a DataFrame\n",
      "\n",
      "See the caveats in the documentation: https://pandas.pydata.org/pandas-docs/stable/user_guide/indexing.html#returning-a-view-versus-a-copy\n",
      "  H1B_visa['JOB_TITLE_NEW'][H1B_visa['JOB_TITLE'].str.contains('IOS|DEVOPS|CLOUD|FRONT END|INTERIOR|.NET|DEVOPS|SOFTWARE|COMPUTER|INFORMATION|SECURITY|SYSTEMS|AUTOMATION|SYSTEMS|FULL STACK|LEAD|JAVA|IT|TEST|GRAPHIC|SUPPORT')] = 'IT & SOFTWARE ENGINEERS'\n",
      "C:\\Users\\User\\AppData\\Local\\Temp\\ipykernel_23760\\2314059442.py:4: SettingWithCopyWarning: \n",
      "A value is trying to be set on a copy of a slice from a DataFrame\n",
      "\n",
      "See the caveats in the documentation: https://pandas.pydata.org/pandas-docs/stable/user_guide/indexing.html#returning-a-view-versus-a-copy\n",
      "  H1B_visa['JOB_TITLE_NEW'][H1B_visa['JOB_TITLE'].str.contains('QA|ENGAGEMENT|OPERATIONS|DELIVERY|INFRASTRUCTURE|FIRMWARE|ANDRIOD|UX|RF|PYTHON|TABLEAU|HADOOP|INFORMATICA|SQL|BI|SCRUM|VALIDATION|APPLICATIONS|UI|PROGRAMMER|DEVELOPER|SOLUTION|RPA')] = 'IT & SOFTWARE ENGINEERS'\n",
      "C:\\Users\\User\\AppData\\Local\\Temp\\ipykernel_23760\\2314059442.py:5: SettingWithCopyWarning: \n",
      "A value is trying to be set on a copy of a slice from a DataFrame\n",
      "\n",
      "See the caveats in the documentation: https://pandas.pydata.org/pandas-docs/stable/user_guide/indexing.html#returning-a-view-versus-a-copy\n",
      "  H1B_visa['JOB_TITLE_NEW'][H1B_visa['JOB_TITLE'].str.contains('LANDSCAPE|CAD|SITE|FIELD|QUALITY|MECHANICAL DESIGN|STRUCTURAL|DESIGNER|SIMULATION|ENGINEERING|MARINE|INDUSTRIAL|MATERIALS|MECHANICAL|MANUFACTURING|CIVIL')] = 'MECHANICAL & CIVIL ENGINEER '\n",
      "C:\\Users\\User\\AppData\\Local\\Temp\\ipykernel_23760\\2314059442.py:6: SettingWithCopyWarning: \n",
      "A value is trying to be set on a copy of a slice from a DataFrame\n",
      "\n",
      "See the caveats in the documentation: https://pandas.pydata.org/pandas-docs/stable/user_guide/indexing.html#returning-a-view-versus-a-copy\n",
      "  H1B_visa['JOB_TITLE_NEW'][H1B_visa['JOB_TITLE'].str.contains('ACCOUNTANT|FINANCIAL|QUANTITATIVE|RISK|BUDGET|TAX')] = 'FINANCE TEAM'\n",
      "C:\\Users\\User\\AppData\\Local\\Temp\\ipykernel_23760\\2314059442.py:7: SettingWithCopyWarning: \n",
      "A value is trying to be set on a copy of a slice from a DataFrame\n",
      "\n",
      "See the caveats in the documentation: https://pandas.pydata.org/pandas-docs/stable/user_guide/indexing.html#returning-a-view-versus-a-copy\n",
      "  H1B_visa['JOB_TITLE_NEW'][H1B_visa['JOB_TITLE'].str.contains('PRESIDENT|DIRECTOR|MANAGER')] = 'Manager & DIRECTORS'\n",
      "C:\\Users\\User\\AppData\\Local\\Temp\\ipykernel_23760\\2314059442.py:9: SettingWithCopyWarning: \n",
      "A value is trying to be set on a copy of a slice from a DataFrame\n",
      "\n",
      "See the caveats in the documentation: https://pandas.pydata.org/pandas-docs/stable/user_guide/indexing.html#returning-a-view-versus-a-copy\n",
      "  H1B_visa['JOB_TITLE_NEW'][H1B_visa['JOB_TITLE'].str.contains('SERVICE|AEM|EMBEDDED|DIGITAL|NETWORK|CONTROLS|HARDWARE|FUNCTIONAL|ELECTRICAL|CHEMICAL')] = 'ELECTRONICS & ELECTRICAL ENGINEERS TEAM'\n",
      "C:\\Users\\User\\AppData\\Local\\Temp\\ipykernel_23760\\2314059442.py:10: SettingWithCopyWarning: \n",
      "A value is trying to be set on a copy of a slice from a DataFrame\n",
      "\n",
      "See the caveats in the documentation: https://pandas.pydata.org/pandas-docs/stable/user_guide/indexing.html#returning-a-view-versus-a-copy\n",
      "  H1B_visa['JOB_TITLE_NEW'][H1B_visa['JOB_TITLE'].str.contains('PUBLIC|LAWYERS|ATTORNEY|LAW')] = 'LAW TEAM'\n",
      "C:\\Users\\User\\AppData\\Local\\Temp\\ipykernel_23760\\2314059442.py:11: SettingWithCopyWarning: \n",
      "A value is trying to be set on a copy of a slice from a DataFrame\n",
      "\n",
      "See the caveats in the documentation: https://pandas.pydata.org/pandas-docs/stable/user_guide/indexing.html#returning-a-view-versus-a-copy\n",
      "  H1B_visa['JOB_TITLE_NEW'][H1B_visa['JOB_TITLE'].str.contains('SALESFORCE|MARKET|MARKETING|SUPPLY')] = 'MARKETING TEAM'\n",
      "C:\\Users\\User\\AppData\\Local\\Temp\\ipykernel_23760\\2314059442.py:12: SettingWithCopyWarning: \n",
      "A value is trying to be set on a copy of a slice from a DataFrame\n",
      "\n",
      "See the caveats in the documentation: https://pandas.pydata.org/pandas-docs/stable/user_guide/indexing.html#returning-a-view-versus-a-copy\n",
      "  H1B_visa['JOB_TITLE_NEW'][H1B_visa['JOB_TITLE'].str.contains('SPEECH|BIG|ORACLE|MACHINE|DATABASE|DATA|SCIENTIST|ASSOCIATES')] = 'DATABASE & SCIENTISTS'\n",
      "C:\\Users\\User\\AppData\\Local\\Temp\\ipykernel_23760\\2314059442.py:13: SettingWithCopyWarning: \n",
      "A value is trying to be set on a copy of a slice from a DataFrame\n",
      "\n",
      "See the caveats in the documentation: https://pandas.pydata.org/pandas-docs/stable/user_guide/indexing.html#returning-a-view-versus-a-copy\n",
      "  H1B_visa['JOB_TITLE_NEW'][H1B_visa['JOB_TITLE'].str.contains('ARCHITECT|ARCHITECTURAL')] = 'ARCHITECT'\n",
      "C:\\Users\\User\\AppData\\Local\\Temp\\ipykernel_23760\\2314059442.py:14: SettingWithCopyWarning: \n",
      "A value is trying to be set on a copy of a slice from a DataFrame\n",
      "\n",
      "See the caveats in the documentation: https://pandas.pydata.org/pandas-docs/stable/user_guide/indexing.html#returning-a-view-versus-a-copy\n",
      "  H1B_visa['JOB_TITLE_NEW'][H1B_visa['JOB_TITLE'].str.contains('TEACHER|PROFESSOR|POSTDOCTORAL|FELLOW|SCHOLAR|LECTURER|LABORATORY')] = 'EDUCATIONAL ORGANISATION'\n",
      "C:\\Users\\User\\AppData\\Local\\Temp\\ipykernel_23760\\2314059442.py:15: SettingWithCopyWarning: \n",
      "A value is trying to be set on a copy of a slice from a DataFrame\n",
      "\n",
      "See the caveats in the documentation: https://pandas.pydata.org/pandas-docs/stable/user_guide/indexing.html#returning-a-view-versus-a-copy\n",
      "  H1B_visa['JOB_TITLE_NEW'][H1B_visa['JOB_TITLE'].str.contains('BUSINESS|ADMINISTRATOR|INVESTMENT|ACCOUNT')] = 'BUSINESS TEAM'\n",
      "C:\\Users\\User\\AppData\\Local\\Temp\\ipykernel_23760\\2314059442.py:16: SettingWithCopyWarning: \n",
      "A value is trying to be set on a copy of a slice from a DataFrame\n",
      "\n",
      "See the caveats in the documentation: https://pandas.pydata.org/pandas-docs/stable/user_guide/indexing.html#returning-a-view-versus-a-copy\n",
      "  H1B_visa['JOB_TITLE_NEW'][H1B_visa['JOB_TITLE'].str.contains('DENTIST|HOSPITALIST|THERAPIST|PSYCHIATRIST|PEDIATRICIAN|PHYSICIAN|FAMILY|NEPHROLOGIST')] = 'MEDICAL TEAM'\n",
      "C:\\Users\\User\\AppData\\Local\\Temp\\ipykernel_23760\\2314059442.py:17: SettingWithCopyWarning: \n",
      "A value is trying to be set on a copy of a slice from a DataFrame\n",
      "\n",
      "See the caveats in the documentation: https://pandas.pydata.org/pandas-docs/stable/user_guide/indexing.html#returning-a-view-versus-a-copy\n",
      "  H1B_visa['JOB_TITLE_NEW'][H1B_visa['JOB_TITLE'].str.contains('SENIOR|SR.|SR')] = 'SENIOR TEAM'\n"
     ]
    }
   ],
   "source": [
    "import sys\n",
    "H1B_visa['JOB_TITLE_NEW'] = 'others'\n",
    "H1B_visa['JOB_TITLE_NEW'][H1B_visa['JOB_TITLE'].str.contains('IOS|DEVOPS|CLOUD|FRONT END|INTERIOR|.NET|DEVOPS|SOFTWARE|COMPUTER|INFORMATION|SECURITY|SYSTEMS|AUTOMATION|SYSTEMS|FULL STACK|LEAD|JAVA|IT|TEST|GRAPHIC|SUPPORT')] = 'IT & SOFTWARE ENGINEERS'\n",
    "H1B_visa['JOB_TITLE_NEW'][H1B_visa['JOB_TITLE'].str.contains('QA|ENGAGEMENT|OPERATIONS|DELIVERY|INFRASTRUCTURE|FIRMWARE|ANDRIOD|UX|RF|PYTHON|TABLEAU|HADOOP|INFORMATICA|SQL|BI|SCRUM|VALIDATION|APPLICATIONS|UI|PROGRAMMER|DEVELOPER|SOLUTION|RPA')] = 'IT & SOFTWARE ENGINEERS'\n",
    "H1B_visa['JOB_TITLE_NEW'][H1B_visa['JOB_TITLE'].str.contains('LANDSCAPE|CAD|SITE|FIELD|QUALITY|MECHANICAL DESIGN|STRUCTURAL|DESIGNER|SIMULATION|ENGINEERING|MARINE|INDUSTRIAL|MATERIALS|MECHANICAL|MANUFACTURING|CIVIL')] = 'MECHANICAL & CIVIL ENGINEER '\n",
    "H1B_visa['JOB_TITLE_NEW'][H1B_visa['JOB_TITLE'].str.contains('ACCOUNTANT|FINANCIAL|QUANTITATIVE|RISK|BUDGET|TAX')] = 'FINANCE TEAM'\n",
    "H1B_visa['JOB_TITLE_NEW'][H1B_visa['JOB_TITLE'].str.contains('PRESIDENT|DIRECTOR|MANAGER')] = 'Manager & DIRECTORS'\n",
    "#H1B_visa['JOB_TITLE_NEW'][H1B_visa['JOB_TITLE'].str.contains('ELECTRICAL|CHEMICAL')] = 'ELECTRICAL ENGINEERS'\n",
    "H1B_visa['JOB_TITLE_NEW'][H1B_visa['JOB_TITLE'].str.contains('SERVICE|AEM|EMBEDDED|DIGITAL|NETWORK|CONTROLS|HARDWARE|FUNCTIONAL|ELECTRICAL|CHEMICAL')] = 'ELECTRONICS & ELECTRICAL ENGINEERS TEAM'\n",
    "H1B_visa['JOB_TITLE_NEW'][H1B_visa['JOB_TITLE'].str.contains('PUBLIC|LAWYERS|ATTORNEY|LAW')] = 'LAW TEAM'\n",
    "H1B_visa['JOB_TITLE_NEW'][H1B_visa['JOB_TITLE'].str.contains('SALESFORCE|MARKET|MARKETING|SUPPLY')] = 'MARKETING TEAM'\n",
    "H1B_visa['JOB_TITLE_NEW'][H1B_visa['JOB_TITLE'].str.contains('SPEECH|BIG|ORACLE|MACHINE|DATABASE|DATA|SCIENTIST|ASSOCIATES')] = 'DATABASE & SCIENTISTS'\n",
    "H1B_visa['JOB_TITLE_NEW'][H1B_visa['JOB_TITLE'].str.contains('ARCHITECT|ARCHITECTURAL')] = 'ARCHITECT'\n",
    "H1B_visa['JOB_TITLE_NEW'][H1B_visa['JOB_TITLE'].str.contains('TEACHER|PROFESSOR|POSTDOCTORAL|FELLOW|SCHOLAR|LECTURER|LABORATORY')] = 'EDUCATIONAL ORGANISATION'\n",
    "H1B_visa['JOB_TITLE_NEW'][H1B_visa['JOB_TITLE'].str.contains('BUSINESS|ADMINISTRATOR|INVESTMENT|ACCOUNT')] = 'BUSINESS TEAM'\n",
    "H1B_visa['JOB_TITLE_NEW'][H1B_visa['JOB_TITLE'].str.contains('DENTIST|HOSPITALIST|THERAPIST|PSYCHIATRIST|PEDIATRICIAN|PHYSICIAN|FAMILY|NEPHROLOGIST')] = 'MEDICAL TEAM'\n",
    "H1B_visa['JOB_TITLE_NEW'][H1B_visa['JOB_TITLE'].str.contains('SENIOR|SR.|SR')] = 'SENIOR TEAM'"
   ]
  },
  {
   "cell_type": "code",
   "execution_count": 47,
   "id": "22bd633d",
   "metadata": {
    "scrolled": true
   },
   "outputs": [
    {
     "data": {
      "text/plain": [
       "IT & SOFTWARE ENGINEERS                    146316\n",
       "SENIOR TEAM                                 61369\n",
       "others                                      53092\n",
       "Manager & DIRECTORS                         31582\n",
       "BUSINESS TEAM                               24419\n",
       "DATABASE & SCIENTISTS                       19857\n",
       "MECHANICAL & CIVIL ENGINEER                 19460\n",
       "EDUCATIONAL ORGANISATION                    14641\n",
       "ARCHITECT                                   12435\n",
       "ELECTRONICS & ELECTRICAL ENGINEERS TEAM     10615\n",
       "MEDICAL TEAM                                 7112\n",
       "MARKETING TEAM                               6211\n",
       "FINANCE TEAM                                 4944\n",
       "LAW TEAM                                     1300\n",
       "Name: JOB_TITLE_NEW, dtype: int64"
      ]
     },
     "execution_count": 47,
     "metadata": {},
     "output_type": "execute_result"
    }
   ],
   "source": [
    "H1B_visa['JOB_TITLE_NEW'].value_counts()\n"
   ]
  },
  {
   "cell_type": "code",
   "execution_count": 48,
   "id": "353db6d9",
   "metadata": {},
   "outputs": [
    {
     "name": "stdout",
     "output_type": "stream",
     "text": [
      "<class 'pandas.core.frame.DataFrame'>\n",
      "Int64Index: 413353 entries, 72 to 664610\n",
      "Data columns (total 24 columns):\n",
      " #   Column                       Non-Null Count   Dtype  \n",
      "---  ------                       --------------   -----  \n",
      " 0   CASE_STATUS                  413353 non-null  object \n",
      " 1   VISA_CLASS                   413353 non-null  object \n",
      " 2   EMPLOYER_NAME                413353 non-null  object \n",
      " 3   AGENT_REPRESENTING_EMPLOYER  413353 non-null  object \n",
      " 4   SECONDARY_ENTITY_1           413353 non-null  object \n",
      " 5   JOB_TITLE                    413353 non-null  object \n",
      " 6   SOC_TITLE                    413353 non-null  object \n",
      " 7   SOC_CODE                     413353 non-null  object \n",
      " 8   NAICS_CODE                   413353 non-null  float64\n",
      " 9   CONTINUED_EMPLOYMENT         413353 non-null  object \n",
      " 10  CHANGE_PREVIOUS_EMPLOYMENT   413353 non-null  int64  \n",
      " 11  NEW_CONCURRENT_EMPLOYMENT    413353 non-null  float64\n",
      " 12  CHANGE_EMPLOYER              413353 non-null  int64  \n",
      " 13  AMENDED_PETITION             413353 non-null  int64  \n",
      " 14  H-1B_DEPENDENT               413353 non-null  object \n",
      " 15  SUPPORT_H1B                  413353 non-null  object \n",
      " 16  WILLFUL_VIOLATOR             413353 non-null  object \n",
      " 17  WAGE_RATE_OF_PAY_FROM_1      413353 non-null  float64\n",
      " 18  WAGE_UNIT_OF_PAY_1           413353 non-null  object \n",
      " 19  TOTAL_WORKER_POSITIONS       413353 non-null  float64\n",
      " 20  PREVAILING_WAGE_1            413353 non-null  float64\n",
      " 21  EMPLOYER_BRANCH              413353 non-null  object \n",
      " 22  SOC_TITLE_NEW                413353 non-null  object \n",
      " 23  JOB_TITLE_NEW                413353 non-null  object \n",
      "dtypes: float64(5), int64(3), object(16)\n",
      "memory usage: 78.8+ MB\n"
     ]
    }
   ],
   "source": [
    "H1B_visa.info()"
   ]
  },
  {
   "cell_type": "code",
   "execution_count": 49,
   "id": "b310c783",
   "metadata": {},
   "outputs": [
    {
     "name": "stdout",
     "output_type": "stream",
     "text": [
      "72        11-2011\n",
      "73        11-2011\n",
      "75        11-2011\n",
      "79        11-2011\n",
      "84        11-2011\n",
      "           ...   \n",
      "664606    53-6051\n",
      "664607    53-6051\n",
      "664608    53-6051\n",
      "664609    53-7021\n",
      "664610    53-7021\n",
      "Name: SOC_CODE, Length: 413353, dtype: object\n"
     ]
    }
   ],
   "source": [
    "print(H1B_visa.SOC_CODE) "
   ]
  },
  {
   "cell_type": "code",
   "execution_count": 50,
   "id": "f8d6b096",
   "metadata": {},
   "outputs": [
    {
     "data": {
      "text/plain": [
       "15                       273432\n",
       "17                        38465\n",
       "13                        34631\n",
       "11                        17228\n",
       "19                        15991\n",
       "29                        11467\n",
       "25                        10888\n",
       "27                         5605\n",
       "41                         2588\n",
       "23                         1692\n",
       "21                          862\n",
       "43                          253\n",
       "10 codes lessthan 100       251\n",
       "Name: SOC_CODE_NEW, dtype: int64"
      ]
     },
     "execution_count": 50,
     "metadata": {},
     "output_type": "execute_result"
    }
   ],
   "source": [
    "H1B_visa['SOC_CODE'] = H1B_visa['SOC_CODE'].replace(['OPERATIONS RESEARCH ANALYSTS'],'15')\n",
    "H1B_visa['SOC_CODE_NEW'] = H1B_visa['SOC_CODE'].str.split(\"-\").str[0]\n",
    "H1B_visa['SOC_CODE_NEW'] = H1B_visa['SOC_CODE_NEW'].replace(['39','35','53','51','47','49','31','33','45','37'],'10 codes lessthan 100')\n",
    "H1B_visa['SOC_CODE_NEW'].value_counts()"
   ]
  },
  {
   "cell_type": "code",
   "execution_count": 51,
   "id": "1b1cc49f",
   "metadata": {},
   "outputs": [
    {
     "data": {
      "text/plain": [
       "Year         385250\n",
       "Hour          27688\n",
       "Month           290\n",
       "Bi-Weekly        85\n",
       "Week             40\n",
       "Name: WAGE_UNIT_OF_PAY_1, dtype: int64"
      ]
     },
     "execution_count": 51,
     "metadata": {},
     "output_type": "execute_result"
    }
   ],
   "source": [
    "H1B_visa['WAGE_UNIT_OF_PAY_1'].value_counts()"
   ]
  },
  {
   "cell_type": "code",
   "execution_count": 52,
   "id": "8a1aada7",
   "metadata": {},
   "outputs": [
    {
     "data": {
      "text/plain": [
       "1                             406144\n",
       "5                               3109\n",
       "2                               1872\n",
       "4                               1089\n",
       "10                               429\n",
       "3                                359\n",
       "lower values 100 frequency       351\n",
       "Name: CONTINUED_EMPLOYMENT, dtype: int64"
      ]
     },
     "execution_count": 52,
     "metadata": {},
     "output_type": "execute_result"
    }
   ],
   "source": [
    "H1B_visa['CONTINUED_EMPLOYMENT'] = H1B_visa['CONTINUED_EMPLOYMENT'].replace(['001','01'],'1')\n",
    "H1B_visa['CONTINUED_EMPLOYMENT'] = H1B_visa['CONTINUED_EMPLOYMENT'].replace(['00'],'0')\n",
    "H1B_visa['CONTINUED_EMPLOYMENT'] = H1B_visa['CONTINUED_EMPLOYMENT'].replace(['02'],'2')\n",
    "H1B_visa['CONTINUED_EMPLOYMENT'] = H1B_visa['CONTINUED_EMPLOYMENT'].replace(['B'],'1')\n",
    "H1B_visa['CONTINUED_EMPLOYMENT'] = H1B_visa['CONTINUED_EMPLOYMENT'].replace(['0',],'1')\n",
    "H1B_visa['CONTINUED_EMPLOYMENT'] = H1B_visa['CONTINUED_EMPLOYMENT'].replace(['25','20','15','6','8','12','30','50','40','18','35','13','7','99','45','17','21','11'],'lower values 100 frequency')\n",
    "H1B_visa['CONTINUED_EMPLOYMENT'].value_counts()\n"
   ]
  },
  {
   "cell_type": "code",
   "execution_count": 53,
   "id": "ff13a72a",
   "metadata": {},
   "outputs": [
    {
     "data": {
      "text/html": [
       "<div>\n",
       "<style scoped>\n",
       "    .dataframe tbody tr th:only-of-type {\n",
       "        vertical-align: middle;\n",
       "    }\n",
       "\n",
       "    .dataframe tbody tr th {\n",
       "        vertical-align: top;\n",
       "    }\n",
       "\n",
       "    .dataframe thead th {\n",
       "        text-align: right;\n",
       "    }\n",
       "</style>\n",
       "<table border=\"1\" class=\"dataframe\">\n",
       "  <thead>\n",
       "    <tr style=\"text-align: right;\">\n",
       "      <th></th>\n",
       "      <th>CASE_STATUS</th>\n",
       "      <th>VISA_CLASS</th>\n",
       "      <th>EMPLOYER_NAME</th>\n",
       "      <th>AGENT_REPRESENTING_EMPLOYER</th>\n",
       "      <th>SECONDARY_ENTITY_1</th>\n",
       "      <th>JOB_TITLE</th>\n",
       "      <th>SOC_TITLE</th>\n",
       "      <th>SOC_CODE</th>\n",
       "      <th>NAICS_CODE</th>\n",
       "      <th>CONTINUED_EMPLOYMENT</th>\n",
       "      <th>...</th>\n",
       "      <th>SUPPORT_H1B</th>\n",
       "      <th>WILLFUL_VIOLATOR</th>\n",
       "      <th>WAGE_RATE_OF_PAY_FROM_1</th>\n",
       "      <th>WAGE_UNIT_OF_PAY_1</th>\n",
       "      <th>TOTAL_WORKER_POSITIONS</th>\n",
       "      <th>PREVAILING_WAGE_1</th>\n",
       "      <th>EMPLOYER_BRANCH</th>\n",
       "      <th>SOC_TITLE_NEW</th>\n",
       "      <th>JOB_TITLE_NEW</th>\n",
       "      <th>SOC_CODE_NEW</th>\n",
       "    </tr>\n",
       "  </thead>\n",
       "  <tbody>\n",
       "    <tr>\n",
       "      <th>72</th>\n",
       "      <td>CERTIFIED</td>\n",
       "      <td>H-1B</td>\n",
       "      <td>APPLE INC.</td>\n",
       "      <td>Y</td>\n",
       "      <td>N</td>\n",
       "      <td>ACD WRITING</td>\n",
       "      <td>ADVERTISING AND PROMOTIONS MANAGERS</td>\n",
       "      <td>11-2011</td>\n",
       "      <td>334111.0</td>\n",
       "      <td>1</td>\n",
       "      <td>...</td>\n",
       "      <td>Y</td>\n",
       "      <td>N</td>\n",
       "      <td>154232.00</td>\n",
       "      <td>Year</td>\n",
       "      <td>1.0</td>\n",
       "      <td>84020.644733</td>\n",
       "      <td>TOP TECH</td>\n",
       "      <td>Manager</td>\n",
       "      <td>IT &amp; SOFTWARE ENGINEERS</td>\n",
       "      <td>11</td>\n",
       "    </tr>\n",
       "    <tr>\n",
       "      <th>73</th>\n",
       "      <td>CERTIFIED</td>\n",
       "      <td>H-1B</td>\n",
       "      <td>TAOLA, INC.</td>\n",
       "      <td>Y</td>\n",
       "      <td>N</td>\n",
       "      <td>ADVERTISING AND PROMOTIONS MANAGER</td>\n",
       "      <td>ADVERTISING AND PROMOTIONS MANAGERS</td>\n",
       "      <td>11-2011</td>\n",
       "      <td>516110.0</td>\n",
       "      <td>1</td>\n",
       "      <td>...</td>\n",
       "      <td>Y</td>\n",
       "      <td>N</td>\n",
       "      <td>47.01</td>\n",
       "      <td>Hour</td>\n",
       "      <td>1.0</td>\n",
       "      <td>47.010000</td>\n",
       "      <td>others</td>\n",
       "      <td>Manager</td>\n",
       "      <td>Manager &amp; DIRECTORS</td>\n",
       "      <td>11</td>\n",
       "    </tr>\n",
       "    <tr>\n",
       "      <th>75</th>\n",
       "      <td>CERTIFIED</td>\n",
       "      <td>H-1B</td>\n",
       "      <td>PROBOSCIS, INC.</td>\n",
       "      <td>Y</td>\n",
       "      <td>N</td>\n",
       "      <td>DIGITAL ADVERTISING MANAGER</td>\n",
       "      <td>ADVERTISING AND PROMOTIONS MANAGERS</td>\n",
       "      <td>11-2011</td>\n",
       "      <td>541512.0</td>\n",
       "      <td>1</td>\n",
       "      <td>...</td>\n",
       "      <td>Y</td>\n",
       "      <td>N</td>\n",
       "      <td>47549.00</td>\n",
       "      <td>Year</td>\n",
       "      <td>1.0</td>\n",
       "      <td>47549.000000</td>\n",
       "      <td>others</td>\n",
       "      <td>Manager</td>\n",
       "      <td>ELECTRONICS &amp; ELECTRICAL ENGINEERS TEAM</td>\n",
       "      <td>11</td>\n",
       "    </tr>\n",
       "    <tr>\n",
       "      <th>79</th>\n",
       "      <td>CERTIFIED</td>\n",
       "      <td>H-1B</td>\n",
       "      <td>FACEBOOK, INC.</td>\n",
       "      <td>Y</td>\n",
       "      <td>N</td>\n",
       "      <td>CREATIVE AGENCY PARTNER</td>\n",
       "      <td>ADVERTISING AND PROMOTIONS MANAGERS</td>\n",
       "      <td>11-2011</td>\n",
       "      <td>518112.0</td>\n",
       "      <td>1</td>\n",
       "      <td>...</td>\n",
       "      <td>Y</td>\n",
       "      <td>N</td>\n",
       "      <td>214230.00</td>\n",
       "      <td>Year</td>\n",
       "      <td>1.0</td>\n",
       "      <td>84020.644733</td>\n",
       "      <td>TOP TECH</td>\n",
       "      <td>Manager</td>\n",
       "      <td>others</td>\n",
       "      <td>11</td>\n",
       "    </tr>\n",
       "    <tr>\n",
       "      <th>84</th>\n",
       "      <td>CERTIFIED</td>\n",
       "      <td>H-1B</td>\n",
       "      <td>SWI-DE, LLC</td>\n",
       "      <td>Y</td>\n",
       "      <td>N</td>\n",
       "      <td>GLOBAL BRAND MANAGER</td>\n",
       "      <td>ADVERTISING AND PROMOTIONS MANAGERS</td>\n",
       "      <td>11-2011</td>\n",
       "      <td>31222.0</td>\n",
       "      <td>1</td>\n",
       "      <td>...</td>\n",
       "      <td>Y</td>\n",
       "      <td>N</td>\n",
       "      <td>90000.00</td>\n",
       "      <td>Year</td>\n",
       "      <td>1.0</td>\n",
       "      <td>75026.000000</td>\n",
       "      <td>others</td>\n",
       "      <td>Manager</td>\n",
       "      <td>Manager &amp; DIRECTORS</td>\n",
       "      <td>11</td>\n",
       "    </tr>\n",
       "  </tbody>\n",
       "</table>\n",
       "<p>5 rows × 25 columns</p>\n",
       "</div>"
      ],
      "text/plain": [
       "   CASE_STATUS VISA_CLASS    EMPLOYER_NAME AGENT_REPRESENTING_EMPLOYER  \\\n",
       "72   CERTIFIED       H-1B       APPLE INC.                           Y   \n",
       "73   CERTIFIED       H-1B      TAOLA, INC.                           Y   \n",
       "75   CERTIFIED       H-1B  PROBOSCIS, INC.                           Y   \n",
       "79   CERTIFIED       H-1B   FACEBOOK, INC.                           Y   \n",
       "84   CERTIFIED       H-1B      SWI-DE, LLC                           Y   \n",
       "\n",
       "   SECONDARY_ENTITY_1                           JOB_TITLE  \\\n",
       "72                  N                         ACD WRITING   \n",
       "73                  N  ADVERTISING AND PROMOTIONS MANAGER   \n",
       "75                  N         DIGITAL ADVERTISING MANAGER   \n",
       "79                  N             CREATIVE AGENCY PARTNER   \n",
       "84                  N                GLOBAL BRAND MANAGER   \n",
       "\n",
       "                              SOC_TITLE SOC_CODE  NAICS_CODE  \\\n",
       "72  ADVERTISING AND PROMOTIONS MANAGERS  11-2011    334111.0   \n",
       "73  ADVERTISING AND PROMOTIONS MANAGERS  11-2011    516110.0   \n",
       "75  ADVERTISING AND PROMOTIONS MANAGERS  11-2011    541512.0   \n",
       "79  ADVERTISING AND PROMOTIONS MANAGERS  11-2011    518112.0   \n",
       "84  ADVERTISING AND PROMOTIONS MANAGERS  11-2011     31222.0   \n",
       "\n",
       "   CONTINUED_EMPLOYMENT  ...  SUPPORT_H1B  WILLFUL_VIOLATOR  \\\n",
       "72                    1  ...            Y                 N   \n",
       "73                    1  ...            Y                 N   \n",
       "75                    1  ...            Y                 N   \n",
       "79                    1  ...            Y                 N   \n",
       "84                    1  ...            Y                 N   \n",
       "\n",
       "    WAGE_RATE_OF_PAY_FROM_1  WAGE_UNIT_OF_PAY_1 TOTAL_WORKER_POSITIONS  \\\n",
       "72                154232.00                Year                    1.0   \n",
       "73                    47.01                Hour                    1.0   \n",
       "75                 47549.00                Year                    1.0   \n",
       "79                214230.00                Year                    1.0   \n",
       "84                 90000.00                Year                    1.0   \n",
       "\n",
       "   PREVAILING_WAGE_1 EMPLOYER_BRANCH  SOC_TITLE_NEW  \\\n",
       "72      84020.644733        TOP TECH        Manager   \n",
       "73         47.010000          others        Manager   \n",
       "75      47549.000000          others        Manager   \n",
       "79      84020.644733        TOP TECH        Manager   \n",
       "84      75026.000000          others        Manager   \n",
       "\n",
       "                              JOB_TITLE_NEW  SOC_CODE_NEW  \n",
       "72                  IT & SOFTWARE ENGINEERS            11  \n",
       "73                      Manager & DIRECTORS            11  \n",
       "75  ELECTRONICS & ELECTRICAL ENGINEERS TEAM            11  \n",
       "79                                   others            11  \n",
       "84                      Manager & DIRECTORS            11  \n",
       "\n",
       "[5 rows x 25 columns]"
      ]
     },
     "execution_count": 53,
     "metadata": {},
     "output_type": "execute_result"
    }
   ],
   "source": [
    "H1B_visa.head()"
   ]
  },
  {
   "cell_type": "code",
   "execution_count": null,
   "id": "1284d5c4",
   "metadata": {},
   "outputs": [],
   "source": []
  },
  {
   "cell_type": "code",
   "execution_count": 54,
   "id": "364c5f99",
   "metadata": {},
   "outputs": [
    {
     "name": "stdout",
     "output_type": "stream",
     "text": [
      "CASE_STATUS                     object\n",
      "VISA_CLASS                      object\n",
      "EMPLOYER_NAME                   object\n",
      "AGENT_REPRESENTING_EMPLOYER     object\n",
      "SECONDARY_ENTITY_1              object\n",
      "JOB_TITLE                       object\n",
      "SOC_TITLE                       object\n",
      "SOC_CODE                        object\n",
      "NAICS_CODE                     float64\n",
      "CONTINUED_EMPLOYMENT            object\n",
      "CHANGE_PREVIOUS_EMPLOYMENT       int64\n",
      "NEW_CONCURRENT_EMPLOYMENT      float64\n",
      "CHANGE_EMPLOYER                  int64\n",
      "AMENDED_PETITION                 int64\n",
      "H-1B_DEPENDENT                  object\n",
      "SUPPORT_H1B                     object\n",
      "WILLFUL_VIOLATOR                object\n",
      "WAGE_RATE_OF_PAY_FROM_1        float64\n",
      "WAGE_UNIT_OF_PAY_1              object\n",
      "TOTAL_WORKER_POSITIONS         float64\n",
      "PREVAILING_WAGE_1              float64\n",
      "EMPLOYER_BRANCH                 object\n",
      "SOC_TITLE_NEW                   object\n",
      "JOB_TITLE_NEW                   object\n",
      "SOC_CODE_NEW                    object\n",
      "dtype: object\n"
     ]
    }
   ],
   "source": [
    "print(H1B_visa.dtypes)"
   ]
  },
  {
   "cell_type": "code",
   "execution_count": 55,
   "id": "8073f6f3",
   "metadata": {},
   "outputs": [],
   "source": [
    "H1B_visa.drop('VISA_CLASS', axis=1, inplace=True) \n",
    "H1B_visa.drop('EMPLOYER_NAME', axis=1, inplace=True) \n",
    "H1B_visa.drop('JOB_TITLE', axis=1, inplace=True) \n",
    "H1B_visa.drop('SOC_TITLE', axis=1, inplace=True) \n",
    "H1B_visa.drop('SOC_CODE', axis=1, inplace=True) \n",
    "\n"
   ]
  },
  {
   "cell_type": "code",
   "execution_count": 56,
   "id": "b82c3b00",
   "metadata": {
    "scrolled": true
   },
   "outputs": [
    {
     "name": "stdout",
     "output_type": "stream",
     "text": [
      "CASE_STATUS                     object\n",
      "AGENT_REPRESENTING_EMPLOYER     object\n",
      "SECONDARY_ENTITY_1              object\n",
      "NAICS_CODE                     float64\n",
      "CONTINUED_EMPLOYMENT            object\n",
      "CHANGE_PREVIOUS_EMPLOYMENT       int64\n",
      "NEW_CONCURRENT_EMPLOYMENT      float64\n",
      "CHANGE_EMPLOYER                  int64\n",
      "AMENDED_PETITION                 int64\n",
      "H-1B_DEPENDENT                  object\n",
      "SUPPORT_H1B                     object\n",
      "WILLFUL_VIOLATOR                object\n",
      "WAGE_RATE_OF_PAY_FROM_1        float64\n",
      "WAGE_UNIT_OF_PAY_1              object\n",
      "TOTAL_WORKER_POSITIONS         float64\n",
      "PREVAILING_WAGE_1              float64\n",
      "EMPLOYER_BRANCH                 object\n",
      "SOC_TITLE_NEW                   object\n",
      "JOB_TITLE_NEW                   object\n",
      "SOC_CODE_NEW                    object\n",
      "dtype: object\n"
     ]
    }
   ],
   "source": [
    "print(H1B_visa.dtypes)"
   ]
  },
  {
   "cell_type": "code",
   "execution_count": 57,
   "id": "a1efaa9e",
   "metadata": {},
   "outputs": [
    {
     "data": {
      "text/plain": [
       "0    409307\n",
       "1      4046\n",
       "Name: CASE_STATUS_N, dtype: int64"
      ]
     },
     "execution_count": 57,
     "metadata": {},
     "output_type": "execute_result"
    }
   ],
   "source": [
    "from sklearn import preprocessing\n",
    "le = preprocessing.LabelEncoder()\n",
    "le.fit(H1B_visa.CASE_STATUS)\n",
    "# print list(le.classes_)\n",
    "H1B_visa['CASE_STATUS_N']=le.transform(H1B_visa['CASE_STATUS'])\n",
    "H1B_visa['CASE_STATUS_N'].value_counts()"
   ]
  },
  {
   "cell_type": "code",
   "execution_count": 58,
   "id": "4ce43faf",
   "metadata": {},
   "outputs": [
    {
     "data": {
      "text/plain": [
       "1    321344\n",
       "0     92009\n",
       "Name: AGENT_REPRESENTING_EMPLOYER_N, dtype: int64"
      ]
     },
     "execution_count": 58,
     "metadata": {},
     "output_type": "execute_result"
    }
   ],
   "source": [
    "le = preprocessing.LabelEncoder()\n",
    "le.fit(H1B_visa.AGENT_REPRESENTING_EMPLOYER)\n",
    "# print list(le.classes_)\n",
    "H1B_visa['AGENT_REPRESENTING_EMPLOYER_N']=le.transform(H1B_visa['AGENT_REPRESENTING_EMPLOYER'])\n",
    "H1B_visa['AGENT_REPRESENTING_EMPLOYER_N'].value_counts()"
   ]
  },
  {
   "cell_type": "code",
   "execution_count": 59,
   "id": "6699d2b9",
   "metadata": {},
   "outputs": [
    {
     "data": {
      "text/plain": [
       "8     165456\n",
       "11    147574\n",
       "3      36804\n",
       "9      24701\n",
       "5      10054\n",
       "4       7325\n",
       "7       4776\n",
       "0       4089\n",
       "1       3542\n",
       "6       3273\n",
       "10      2967\n",
       "2       2792\n",
       "Name: EMPLOYER_BRANCH_N, dtype: int64"
      ]
     },
     "execution_count": 59,
     "metadata": {},
     "output_type": "execute_result"
    }
   ],
   "source": [
    "le = preprocessing.LabelEncoder()\n",
    "le.fit(H1B_visa.EMPLOYER_BRANCH)\n",
    "# print list(le.classes_)\n",
    "H1B_visa['EMPLOYER_BRANCH_N']=le.transform(H1B_visa['EMPLOYER_BRANCH'])\n",
    "H1B_visa['EMPLOYER_BRANCH_N'].value_counts()"
   ]
  },
  {
   "cell_type": "code",
   "execution_count": 60,
   "id": "3c7580f7",
   "metadata": {},
   "outputs": [
    {
     "data": {
      "text/plain": [
       "5     255501\n",
       "12     56269\n",
       "8      22915\n",
       "1      13335\n",
       "4      11534\n",
       "6      11191\n",
       "2      10864\n",
       "9       8388\n",
       "7       8069\n",
       "0       7555\n",
       "11      5803\n",
       "10      1709\n",
       "3        220\n",
       "Name: SOC_TITLE_NEW_N, dtype: int64"
      ]
     },
     "execution_count": 60,
     "metadata": {},
     "output_type": "execute_result"
    }
   ],
   "source": [
    "le = preprocessing.LabelEncoder()\n",
    "le.fit(H1B_visa.SOC_TITLE_NEW)\n",
    "# print list(le.classes_)\n",
    "H1B_visa['SOC_TITLE_NEW_N']=le.transform(H1B_visa['SOC_TITLE_NEW'])\n",
    "H1B_visa['SOC_TITLE_NEW_N'].value_counts()"
   ]
  },
  {
   "cell_type": "code",
   "execution_count": 61,
   "id": "21d5488c",
   "metadata": {},
   "outputs": [
    {
     "data": {
      "text/plain": [
       "6     146316\n",
       "12     61369\n",
       "13     53092\n",
       "11     31582\n",
       "1      24419\n",
       "2      19857\n",
       "9      19460\n",
       "3      14641\n",
       "0      12435\n",
       "4      10615\n",
       "10      7112\n",
       "8       6211\n",
       "5       4944\n",
       "7       1300\n",
       "Name: JOB_TITLE_NEW_N, dtype: int64"
      ]
     },
     "execution_count": 61,
     "metadata": {},
     "output_type": "execute_result"
    }
   ],
   "source": [
    "le = preprocessing.LabelEncoder()\n",
    "le.fit(H1B_visa.JOB_TITLE_NEW)\n",
    "# print list(le.classes_)\n",
    "H1B_visa['JOB_TITLE_NEW_N']=le.transform(H1B_visa['JOB_TITLE_NEW'])\n",
    "H1B_visa['JOB_TITLE_NEW_N'].value_counts()"
   ]
  },
  {
   "cell_type": "code",
   "execution_count": 62,
   "id": "d6fb7fdb",
   "metadata": {},
   "outputs": [
    {
     "data": {
      "text/plain": [
       "0    268917\n",
       "1    144436\n",
       "Name: SECONDARY_ENTITY_1_N, dtype: int64"
      ]
     },
     "execution_count": 62,
     "metadata": {},
     "output_type": "execute_result"
    }
   ],
   "source": [
    "le = preprocessing.LabelEncoder()\n",
    "le.fit(H1B_visa.SECONDARY_ENTITY_1)\n",
    "# print list(le.classes_)\n",
    "H1B_visa['SECONDARY_ENTITY_1_N']=le.transform(H1B_visa['SECONDARY_ENTITY_1'])\n",
    "H1B_visa['SECONDARY_ENTITY_1_N'].value_counts()"
   ]
  },
  {
   "cell_type": "code",
   "execution_count": 63,
   "id": "4ba4f78f",
   "metadata": {},
   "outputs": [
    {
     "data": {
      "text/plain": [
       "0    288123\n",
       "1    125230\n",
       "Name: H-1B_DEPENDENT_N, dtype: int64"
      ]
     },
     "execution_count": 63,
     "metadata": {},
     "output_type": "execute_result"
    }
   ],
   "source": [
    "le = preprocessing.LabelEncoder()\n",
    "le.fit(H1B_visa['H-1B_DEPENDENT'])\n",
    "# print list(le.classes_)\n",
    "H1B_visa['H-1B_DEPENDENT_N']=le.transform(H1B_visa['H-1B_DEPENDENT'])\n",
    "H1B_visa['H-1B_DEPENDENT_N'].value_counts()"
   ]
  },
  {
   "cell_type": "code",
   "execution_count": 64,
   "id": "4769ee7f",
   "metadata": {},
   "outputs": [
    {
     "data": {
      "text/plain": [
       "0    406144\n",
       "5      3109\n",
       "2      1872\n",
       "4      1089\n",
       "1       429\n",
       "3       359\n",
       "6       351\n",
       "Name: CONTINUED_EMPLOYMENT_N, dtype: int64"
      ]
     },
     "execution_count": 64,
     "metadata": {},
     "output_type": "execute_result"
    }
   ],
   "source": [
    "le = preprocessing.LabelEncoder()\n",
    "le.fit(H1B_visa.CONTINUED_EMPLOYMENT)\n",
    "# print list(le.classes_)\n",
    "H1B_visa['CONTINUED_EMPLOYMENT_N']=le.transform(H1B_visa['CONTINUED_EMPLOYMENT'])\n",
    "H1B_visa['CONTINUED_EMPLOYMENT_N'].value_counts()"
   ]
  },
  {
   "cell_type": "code",
   "execution_count": 65,
   "id": "74e70aab",
   "metadata": {},
   "outputs": [
    {
     "data": {
      "text/plain": [
       "1    412157\n",
       "0      1196\n",
       "Name: SUPPORT_H1B_N, dtype: int64"
      ]
     },
     "execution_count": 65,
     "metadata": {},
     "output_type": "execute_result"
    }
   ],
   "source": [
    "le = preprocessing.LabelEncoder()\n",
    "le.fit(H1B_visa.SUPPORT_H1B)\n",
    "# print list(le.classes_)\n",
    "H1B_visa['SUPPORT_H1B_N']=le.transform(H1B_visa['SUPPORT_H1B'])\n",
    "H1B_visa['SUPPORT_H1B_N'].value_counts()"
   ]
  },
  {
   "cell_type": "code",
   "execution_count": 66,
   "id": "e5c82579",
   "metadata": {},
   "outputs": [
    {
     "data": {
      "text/plain": [
       "0    413172\n",
       "1       181\n",
       "Name: WILLFUL_VIOLATOR_N, dtype: int64"
      ]
     },
     "execution_count": 66,
     "metadata": {},
     "output_type": "execute_result"
    }
   ],
   "source": [
    "le = preprocessing.LabelEncoder()\n",
    "le.fit(H1B_visa.WILLFUL_VIOLATOR)\n",
    "# print list(le.classes_)\n",
    "H1B_visa['WILLFUL_VIOLATOR_N']=le.transform(H1B_visa['WILLFUL_VIOLATOR'])\n",
    "H1B_visa['WILLFUL_VIOLATOR_N'].value_counts()"
   ]
  },
  {
   "cell_type": "code",
   "execution_count": 67,
   "id": "6571911a",
   "metadata": {},
   "outputs": [
    {
     "data": {
      "text/plain": [
       "4    385250\n",
       "1     27688\n",
       "2       290\n",
       "0        85\n",
       "3        40\n",
       "Name: WAGE_UNIT_OF_PAY_1_N, dtype: int64"
      ]
     },
     "execution_count": 67,
     "metadata": {},
     "output_type": "execute_result"
    }
   ],
   "source": [
    "le = preprocessing.LabelEncoder()\n",
    "le.fit(H1B_visa.WAGE_UNIT_OF_PAY_1)\n",
    "# print list(le.classes_)\n",
    "H1B_visa['WAGE_UNIT_OF_PAY_1_N']=le.transform(H1B_visa['WAGE_UNIT_OF_PAY_1'])\n",
    "H1B_visa['WAGE_UNIT_OF_PAY_1_N'].value_counts()"
   ]
  },
  {
   "cell_type": "code",
   "execution_count": 68,
   "id": "05ce4617",
   "metadata": {},
   "outputs": [
    {
     "data": {
      "text/plain": [
       "3     273432\n",
       "4      38465\n",
       "2      34631\n",
       "1      17228\n",
       "5      15991\n",
       "10     11467\n",
       "8      10888\n",
       "9       5605\n",
       "11      2588\n",
       "7       1692\n",
       "6        862\n",
       "12       253\n",
       "0        251\n",
       "Name: SOC_CODE_NEW_N, dtype: int64"
      ]
     },
     "execution_count": 68,
     "metadata": {},
     "output_type": "execute_result"
    }
   ],
   "source": [
    "le = preprocessing.LabelEncoder()\n",
    "le.fit(H1B_visa.SOC_CODE_NEW)\n",
    "# print list(le.classes_)\n",
    "H1B_visa['SOC_CODE_NEW_N']=le.transform(H1B_visa['SOC_CODE_NEW'])\n",
    "H1B_visa['SOC_CODE_NEW_N'].value_counts()"
   ]
  },
  {
   "cell_type": "code",
   "execution_count": 69,
   "id": "c262c8e0",
   "metadata": {},
   "outputs": [
    {
     "name": "stdout",
     "output_type": "stream",
     "text": [
      "<class 'pandas.core.frame.DataFrame'>\n",
      "Int64Index: 413353 entries, 72 to 664610\n",
      "Data columns (total 32 columns):\n",
      " #   Column                         Non-Null Count   Dtype  \n",
      "---  ------                         --------------   -----  \n",
      " 0   CASE_STATUS                    413353 non-null  object \n",
      " 1   AGENT_REPRESENTING_EMPLOYER    413353 non-null  object \n",
      " 2   SECONDARY_ENTITY_1             413353 non-null  object \n",
      " 3   NAICS_CODE                     413353 non-null  float64\n",
      " 4   CONTINUED_EMPLOYMENT           413353 non-null  object \n",
      " 5   CHANGE_PREVIOUS_EMPLOYMENT     413353 non-null  int64  \n",
      " 6   NEW_CONCURRENT_EMPLOYMENT      413353 non-null  float64\n",
      " 7   CHANGE_EMPLOYER                413353 non-null  int64  \n",
      " 8   AMENDED_PETITION               413353 non-null  int64  \n",
      " 9   H-1B_DEPENDENT                 413353 non-null  object \n",
      " 10  SUPPORT_H1B                    413353 non-null  object \n",
      " 11  WILLFUL_VIOLATOR               413353 non-null  object \n",
      " 12  WAGE_RATE_OF_PAY_FROM_1        413353 non-null  float64\n",
      " 13  WAGE_UNIT_OF_PAY_1             413353 non-null  object \n",
      " 14  TOTAL_WORKER_POSITIONS         413353 non-null  float64\n",
      " 15  PREVAILING_WAGE_1              413353 non-null  float64\n",
      " 16  EMPLOYER_BRANCH                413353 non-null  object \n",
      " 17  SOC_TITLE_NEW                  413353 non-null  object \n",
      " 18  JOB_TITLE_NEW                  413353 non-null  object \n",
      " 19  SOC_CODE_NEW                   413353 non-null  object \n",
      " 20  CASE_STATUS_N                  413353 non-null  int32  \n",
      " 21  AGENT_REPRESENTING_EMPLOYER_N  413353 non-null  int32  \n",
      " 22  EMPLOYER_BRANCH_N              413353 non-null  int32  \n",
      " 23  SOC_TITLE_NEW_N                413353 non-null  int32  \n",
      " 24  JOB_TITLE_NEW_N                413353 non-null  int32  \n",
      " 25  SECONDARY_ENTITY_1_N           413353 non-null  int32  \n",
      " 26  H-1B_DEPENDENT_N               413353 non-null  int32  \n",
      " 27  CONTINUED_EMPLOYMENT_N         413353 non-null  int32  \n",
      " 28  SUPPORT_H1B_N                  413353 non-null  int32  \n",
      " 29  WILLFUL_VIOLATOR_N             413353 non-null  int32  \n",
      " 30  WAGE_UNIT_OF_PAY_1_N           413353 non-null  int32  \n",
      " 31  SOC_CODE_NEW_N                 413353 non-null  int32  \n",
      "dtypes: float64(5), int32(12), int64(3), object(12)\n",
      "memory usage: 85.1+ MB\n"
     ]
    }
   ],
   "source": [
    "H1B_visa.info()"
   ]
  },
  {
   "cell_type": "code",
   "execution_count": 70,
   "id": "da6cac74",
   "metadata": {},
   "outputs": [],
   "source": [
    "H1B_visa.drop('CASE_STATUS', axis=1, inplace=True) \n",
    "H1B_visa.drop('AGENT_REPRESENTING_EMPLOYER', axis=1, inplace=True) \n",
    "H1B_visa.drop('EMPLOYER_BRANCH', axis=1, inplace=True) \n",
    "#H1B_visa.drop('EMPLOYER_NAME', axis=1, inplace=True)\n",
    "H1B_visa.drop('SOC_CODE_NEW', axis=1, inplace=True) \n",
    "H1B_visa.drop('JOB_TITLE_NEW', axis=1, inplace=True) \n",
    "#H1B_visa.drop('SOC_TITLE', axis=1, inplace=True) \n",
    "#H1B_visa.drop('JOB_TITLE', axis=1, inplace=True) \n",
    "H1B_visa.drop('SECONDARY_ENTITY_1', axis=1, inplace=True)\n",
    "H1B_visa.drop('CONTINUED_EMPLOYMENT', axis=1, inplace=True) \n",
    "H1B_visa.drop('H-1B_DEPENDENT', axis=1, inplace=True) \n",
    "H1B_visa.drop('SUPPORT_H1B', axis=1, inplace=True) \n",
    "H1B_visa.drop('WILLFUL_VIOLATOR', axis=1, inplace=True) \n",
    "H1B_visa.drop('WAGE_UNIT_OF_PAY_1', axis=1, inplace=True)\n",
    "#H1B_visa.drop('SOC_CODE_NEW', axis=1, inplace=True)\n",
    "\n",
    "\n",
    "\n",
    "#num_select_columns = ['output_CASE_STATUS','AGENT_REPRESENTING_EMPLOYER_NUM','EMPLOYER_BRANCH_NUM','SOC_TITLE_NEW_NUM','JOB_TITLE_NEW_NUM','SECONDARY_ENTITY_1_NUM','CONTINUED_EMPLOYMENT_NUM','H_1B_DEPENDENT_NUM','SUPPORT_H1B_NUM','WILLFUL_VIOLATOR_NUM','WAGE_UNIT_OF_PAY_1_NUM','SOC_CODE_NEW_NUM','NAICS_CODE_NEW_NUM']"
   ]
  },
  {
   "cell_type": "code",
   "execution_count": 71,
   "id": "4529a4f0",
   "metadata": {},
   "outputs": [
    {
     "name": "stdout",
     "output_type": "stream",
     "text": [
      "<class 'pandas.core.frame.DataFrame'>\n",
      "Int64Index: 413353 entries, 72 to 664610\n",
      "Data columns (total 21 columns):\n",
      " #   Column                         Non-Null Count   Dtype  \n",
      "---  ------                         --------------   -----  \n",
      " 0   NAICS_CODE                     413353 non-null  float64\n",
      " 1   CHANGE_PREVIOUS_EMPLOYMENT     413353 non-null  int64  \n",
      " 2   NEW_CONCURRENT_EMPLOYMENT      413353 non-null  float64\n",
      " 3   CHANGE_EMPLOYER                413353 non-null  int64  \n",
      " 4   AMENDED_PETITION               413353 non-null  int64  \n",
      " 5   WAGE_RATE_OF_PAY_FROM_1        413353 non-null  float64\n",
      " 6   TOTAL_WORKER_POSITIONS         413353 non-null  float64\n",
      " 7   PREVAILING_WAGE_1              413353 non-null  float64\n",
      " 8   SOC_TITLE_NEW                  413353 non-null  object \n",
      " 9   CASE_STATUS_N                  413353 non-null  int32  \n",
      " 10  AGENT_REPRESENTING_EMPLOYER_N  413353 non-null  int32  \n",
      " 11  EMPLOYER_BRANCH_N              413353 non-null  int32  \n",
      " 12  SOC_TITLE_NEW_N                413353 non-null  int32  \n",
      " 13  JOB_TITLE_NEW_N                413353 non-null  int32  \n",
      " 14  SECONDARY_ENTITY_1_N           413353 non-null  int32  \n",
      " 15  H-1B_DEPENDENT_N               413353 non-null  int32  \n",
      " 16  CONTINUED_EMPLOYMENT_N         413353 non-null  int32  \n",
      " 17  SUPPORT_H1B_N                  413353 non-null  int32  \n",
      " 18  WILLFUL_VIOLATOR_N             413353 non-null  int32  \n",
      " 19  WAGE_UNIT_OF_PAY_1_N           413353 non-null  int32  \n",
      " 20  SOC_CODE_NEW_N                 413353 non-null  int32  \n",
      "dtypes: float64(5), int32(12), int64(3), object(1)\n",
      "memory usage: 50.5+ MB\n"
     ]
    }
   ],
   "source": [
    "H1B_visa.info()"
   ]
  },
  {
   "cell_type": "code",
   "execution_count": 72,
   "id": "f343aa5b",
   "metadata": {},
   "outputs": [],
   "source": [
    "correl = H1B_visa.corr()"
   ]
  },
  {
   "cell_type": "code",
   "execution_count": 73,
   "id": "81b05f40",
   "metadata": {
    "scrolled": true
   },
   "outputs": [
    {
     "data": {
      "image/png": "[encoded data removed]",
      "text/plain": [
       "<Figure size 1296x1008 with 2 Axes>"
      ]
     },
     "metadata": {
      "needs_background": "light"
     },
     "output_type": "display_data"
    }
   ],
   "source": [
    "plt.figure(figsize=(18, 14))\n",
    "correl = H1B_visa.corr()\n",
    "sns.heatmap(correl, annot = True, cmap = plt.cm.CMRmap_r)\n",
    "plt.show()"
   ]
  },
  {
   "cell_type": "code",
   "execution_count": null,
   "id": "319aa86e",
   "metadata": {},
   "outputs": [],
   "source": []
  },
  {
   "cell_type": "code",
   "execution_count": null,
   "id": "e9a3a50c",
   "metadata": {},
   "outputs": [],
   "source": []
  }
 ],
 "metadata": {
  "kernelspec": {
   "display_name": "Python 3 (ipykernel)",
   "language": "python",
   "name": "python3"
  },
  "language_info": {
   "codemirror_mode": {
    "name": "ipython",
    "version": 3
   },
   "file_extension": ".py",
   "mimetype": "text/x-python",
   "name": "python",
   "nbconvert_exporter": "python",
   "pygments_lexer": "ipython3",
   "version": "3.9.12"
  }
 },
 "nbformat": 4,
 "nbformat_minor": 5
}
