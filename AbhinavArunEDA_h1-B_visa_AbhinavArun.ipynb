{
 "cells": [
  {
   "cell_type": "code",
   "execution_count": 1,
   "id": "05bd2127",
   "metadata": {},
   "outputs": [],
   "source": [
    "import pandas as pd\n",
    "import numpy as np\n",
    "import matplotlib.pyplot as plt \n",
    "import seaborn as sns \n"
   ]
  },
  {
   "cell_type": "code",
   "execution_count": 2,
   "id": "dd156aa2",
   "metadata": {},
   "outputs": [
    {
     "name": "stderr",
     "output_type": "stream",
     "text": [
      "C:\\ananconda\\lib\\site-packages\\IPython\\core\\interactiveshell.py:3369: DtypeWarning: Columns (4,13,14,20,22,26,27,28,29,31,32,33,34,35,36,37,38,39,40,41,42,43,45,46,47,48,57,58,59,61,64,66,67,68,69,70,71,72,73,76,78,79,80,82,85,87,88,89,90,91,92,93,94,97,98,99,100,101,103,106,108,109,110,111,112,113,114,115,121,122,124,127,129,130,131,132,133,134,135,136,142,143,145,148,150,151,152,153,154,155,156,157,160,162,163,164,166,169,171,172,173,174,175,176,177,178,184,185,187,190,192,193,194,195,196,197,198,199,205,206,208,211,213,214,215,216,217,218,219,220,223,225,226,227,229,232,234,235,236,237,238,239,240,244,246,247,248,250,253,257,258,259) have mixed types.Specify dtype option on import or set low_memory=False.\n",
      "  exec(code_obj, self.user_global_ns, self.user_ns)\n"
     ]
    }
   ],
   "source": [
    "dataset = pd.read_csv('H-1B_Disclosure_Data_FY2019.csv')"
   ]
  },
  {
   "cell_type": "code",
   "execution_count": 3,
   "id": "f1518707",
   "metadata": {},
   "outputs": [
    {
     "data": {
      "text/html": [
       "<div>\n",
       "<style scoped>\n",
       "    .dataframe tbody tr th:only-of-type {\n",
       "        vertical-align: middle;\n",
       "    }\n",
       "\n",
       "    .dataframe tbody tr th {\n",
       "        vertical-align: top;\n",
       "    }\n",
       "\n",
       "    .dataframe thead th {\n",
       "        text-align: right;\n",
       "    }\n",
       "</style>\n",
       "<table border=\"1\" class=\"dataframe\">\n",
       "  <thead>\n",
       "    <tr style=\"text-align: right;\">\n",
       "      <th></th>\n",
       "      <th>CASE_NUMBER</th>\n",
       "      <th>CASE_STATUS</th>\n",
       "      <th>CASE_SUBMITTED</th>\n",
       "      <th>DECISION_DATE</th>\n",
       "      <th>ORIGINAL_CERT_DATE</th>\n",
       "      <th>VISA_CLASS</th>\n",
       "      <th>JOB_TITLE</th>\n",
       "      <th>SOC_CODE</th>\n",
       "      <th>SOC_TITLE</th>\n",
       "      <th>FULL_TIME_POSITION</th>\n",
       "      <th>...</th>\n",
       "      <th>PW_OTHER_SOURCE_10</th>\n",
       "      <th>PW_NON-OES_YEAR_10</th>\n",
       "      <th>PW_SURVEY_PUBLISHER_10</th>\n",
       "      <th>PW_SURVEY_NAME_10</th>\n",
       "      <th>H-1B_DEPENDENT</th>\n",
       "      <th>WILLFUL_VIOLATOR</th>\n",
       "      <th>SUPPORT_H1B</th>\n",
       "      <th>STATUTORY_BASIS</th>\n",
       "      <th>MASTERS_EXEMPTION</th>\n",
       "      <th>PUBLIC_DISCLOSURE</th>\n",
       "    </tr>\n",
       "  </thead>\n",
       "  <tbody>\n",
       "    <tr>\n",
       "      <th>0</th>\n",
       "      <td>I-200-16092-327771</td>\n",
       "      <td>WITHDRAWN</td>\n",
       "      <td>2016-04-08 00:00:00</td>\n",
       "      <td>2019-04-30 00:00:00</td>\n",
       "      <td>NaN</td>\n",
       "      <td>H-1B</td>\n",
       "      <td>ASSOCIATE CREATIVE DIRECTOR</td>\n",
       "      <td>11-2011</td>\n",
       "      <td>ADVERTISING AND PROMOTIONS MANAGERS</td>\n",
       "      <td>Y</td>\n",
       "      <td>...</td>\n",
       "      <td>NaN</td>\n",
       "      <td>NaN</td>\n",
       "      <td>NaN</td>\n",
       "      <td>NaN</td>\n",
       "      <td>N</td>\n",
       "      <td>N</td>\n",
       "      <td>NaN</td>\n",
       "      <td>NaN</td>\n",
       "      <td>NaN</td>\n",
       "      <td>NaN</td>\n",
       "    </tr>\n",
       "    <tr>\n",
       "      <th>1</th>\n",
       "      <td>I-203-17188-450729</td>\n",
       "      <td>WITHDRAWN</td>\n",
       "      <td>2017-07-14 00:00:00</td>\n",
       "      <td>2019-05-13 00:00:00</td>\n",
       "      <td>NaN</td>\n",
       "      <td>E-3 Australian</td>\n",
       "      <td>ACCOUNT SUPERVISOR (MOTHER)</td>\n",
       "      <td>11-2011</td>\n",
       "      <td>ADVERTISING AND PROMOTIONS MANAGERS</td>\n",
       "      <td>Y</td>\n",
       "      <td>...</td>\n",
       "      <td>NaN</td>\n",
       "      <td>NaN</td>\n",
       "      <td>NaN</td>\n",
       "      <td>NaN</td>\n",
       "      <td>NaN</td>\n",
       "      <td>NaN</td>\n",
       "      <td>NaN</td>\n",
       "      <td>NaN</td>\n",
       "      <td>NaN</td>\n",
       "      <td>NaN</td>\n",
       "    </tr>\n",
       "    <tr>\n",
       "      <th>2</th>\n",
       "      <td>I-203-17229-572307</td>\n",
       "      <td>WITHDRAWN</td>\n",
       "      <td>2017-08-23 00:00:00</td>\n",
       "      <td>2019-04-30 00:00:00</td>\n",
       "      <td>NaN</td>\n",
       "      <td>E-3 Australian</td>\n",
       "      <td>EXECUTIVE CREATIVE DIRECTOR</td>\n",
       "      <td>11-2011</td>\n",
       "      <td>ADVERTISING AND PROMOTIONS MANAGERS</td>\n",
       "      <td>Y</td>\n",
       "      <td>...</td>\n",
       "      <td>NaN</td>\n",
       "      <td>NaN</td>\n",
       "      <td>NaN</td>\n",
       "      <td>NaN</td>\n",
       "      <td>NaN</td>\n",
       "      <td>NaN</td>\n",
       "      <td>NaN</td>\n",
       "      <td>NaN</td>\n",
       "      <td>NaN</td>\n",
       "      <td>NaN</td>\n",
       "    </tr>\n",
       "    <tr>\n",
       "      <th>3</th>\n",
       "      <td>I-203-17356-299648</td>\n",
       "      <td>WITHDRAWN</td>\n",
       "      <td>2017-12-22 00:00:00</td>\n",
       "      <td>2019-08-20 00:00:00</td>\n",
       "      <td>NaN</td>\n",
       "      <td>E-3 Australian</td>\n",
       "      <td>PROJECT MANAGEMENT LEAD</td>\n",
       "      <td>11-2011</td>\n",
       "      <td>ADVERTISING AND PROMOTIONS MANAGERS</td>\n",
       "      <td>Y</td>\n",
       "      <td>...</td>\n",
       "      <td>NaN</td>\n",
       "      <td>NaN</td>\n",
       "      <td>NaN</td>\n",
       "      <td>NaN</td>\n",
       "      <td>NaN</td>\n",
       "      <td>NaN</td>\n",
       "      <td>NaN</td>\n",
       "      <td>NaN</td>\n",
       "      <td>NaN</td>\n",
       "      <td>NaN</td>\n",
       "    </tr>\n",
       "    <tr>\n",
       "      <th>4</th>\n",
       "      <td>I-203-18008-577576</td>\n",
       "      <td>WITHDRAWN</td>\n",
       "      <td>2018-01-10 00:00:00</td>\n",
       "      <td>2019-04-15 00:00:00</td>\n",
       "      <td>NaN</td>\n",
       "      <td>E-3 Australian</td>\n",
       "      <td>CREATIVE DIRECTOR, UX</td>\n",
       "      <td>11-2011</td>\n",
       "      <td>ADVERTISING AND PROMOTIONS MANAGERS</td>\n",
       "      <td>Y</td>\n",
       "      <td>...</td>\n",
       "      <td>NaN</td>\n",
       "      <td>NaN</td>\n",
       "      <td>NaN</td>\n",
       "      <td>NaN</td>\n",
       "      <td>NaN</td>\n",
       "      <td>NaN</td>\n",
       "      <td>NaN</td>\n",
       "      <td>NaN</td>\n",
       "      <td>NaN</td>\n",
       "      <td>NaN</td>\n",
       "    </tr>\n",
       "  </tbody>\n",
       "</table>\n",
       "<p>5 rows × 260 columns</p>\n",
       "</div>"
      ],
      "text/plain": [
       "          CASE_NUMBER CASE_STATUS       CASE_SUBMITTED        DECISION_DATE  \\\n",
       "0  I-200-16092-327771   WITHDRAWN  2016-04-08 00:00:00  2019-04-30 00:00:00   \n",
       "1  I-203-17188-450729   WITHDRAWN  2017-07-14 00:00:00  2019-05-13 00:00:00   \n",
       "2  I-203-17229-572307   WITHDRAWN  2017-08-23 00:00:00  2019-04-30 00:00:00   \n",
       "3  I-203-17356-299648   WITHDRAWN  2017-12-22 00:00:00  2019-08-20 00:00:00   \n",
       "4  I-203-18008-577576   WITHDRAWN  2018-01-10 00:00:00  2019-04-15 00:00:00   \n",
       "\n",
       "  ORIGINAL_CERT_DATE      VISA_CLASS                    JOB_TITLE SOC_CODE  \\\n",
       "0                NaN            H-1B  ASSOCIATE CREATIVE DIRECTOR  11-2011   \n",
       "1                NaN  E-3 Australian  ACCOUNT SUPERVISOR (MOTHER)  11-2011   \n",
       "2                NaN  E-3 Australian  EXECUTIVE CREATIVE DIRECTOR  11-2011   \n",
       "3                NaN  E-3 Australian      PROJECT MANAGEMENT LEAD  11-2011   \n",
       "4                NaN  E-3 Australian        CREATIVE DIRECTOR, UX  11-2011   \n",
       "\n",
       "                             SOC_TITLE FULL_TIME_POSITION  ...  \\\n",
       "0  ADVERTISING AND PROMOTIONS MANAGERS                  Y  ...   \n",
       "1  ADVERTISING AND PROMOTIONS MANAGERS                  Y  ...   \n",
       "2  ADVERTISING AND PROMOTIONS MANAGERS                  Y  ...   \n",
       "3  ADVERTISING AND PROMOTIONS MANAGERS                  Y  ...   \n",
       "4  ADVERTISING AND PROMOTIONS MANAGERS                  Y  ...   \n",
       "\n",
       "  PW_OTHER_SOURCE_10 PW_NON-OES_YEAR_10  PW_SURVEY_PUBLISHER_10  \\\n",
       "0                NaN                NaN                     NaN   \n",
       "1                NaN                NaN                     NaN   \n",
       "2                NaN                NaN                     NaN   \n",
       "3                NaN                NaN                     NaN   \n",
       "4                NaN                NaN                     NaN   \n",
       "\n",
       "  PW_SURVEY_NAME_10 H-1B_DEPENDENT  WILLFUL_VIOLATOR  SUPPORT_H1B  \\\n",
       "0               NaN              N                 N          NaN   \n",
       "1               NaN            NaN               NaN          NaN   \n",
       "2               NaN            NaN               NaN          NaN   \n",
       "3               NaN            NaN               NaN          NaN   \n",
       "4               NaN            NaN               NaN          NaN   \n",
       "\n",
       "   STATUTORY_BASIS  MASTERS_EXEMPTION PUBLIC_DISCLOSURE  \n",
       "0              NaN                NaN               NaN  \n",
       "1              NaN                NaN               NaN  \n",
       "2              NaN                NaN               NaN  \n",
       "3              NaN                NaN               NaN  \n",
       "4              NaN                NaN               NaN  \n",
       "\n",
       "[5 rows x 260 columns]"
      ]
     },
     "execution_count": 3,
     "metadata": {},
     "output_type": "execute_result"
    }
   ],
   "source": [
    "dataset.head()"
   ]
  },
  {
   "cell_type": "code",
   "execution_count": 4,
   "id": "a19682ac",
   "metadata": {},
   "outputs": [
    {
     "data": {
      "text/plain": [
       "(664616, 260)"
      ]
     },
     "execution_count": 4,
     "metadata": {},
     "output_type": "execute_result"
    }
   ],
   "source": [
    "dataset.shape"
   ]
  },
  {
   "cell_type": "code",
   "execution_count": 9,
   "id": "5598ac6c",
   "metadata": {},
   "outputs": [],
   "source": [
    "dataset = dataset[['CASE_STATUS','VISA_CLASS','EMPLOYER_NAME','AGENT_REPRESENTING_EMPLOYER','SECONDARY_ENTITY_1','JOB_TITLE','SOC_TITLE','SOC_CODE', 'NAICS_CODE','CONTINUED_EMPLOYMENT', 'CHANGE_PREVIOUS_EMPLOYMENT','NEW_CONCURRENT_EMPLOYMENT', 'CHANGE_EMPLOYER','AMENDED_PETITION', 'H-1B_DEPENDENT', 'SUPPORT_H1B','WILLFUL_VIOLATOR','WAGE_RATE_OF_PAY_FROM_1', 'WAGE_UNIT_OF_PAY_1','TOTAL_WORKER_POSITIONS','PREVAILING_WAGE_1']]"
   ]
  },
  {
   "cell_type": "code",
   "execution_count": 10,
   "id": "1d40eec2",
   "metadata": {},
   "outputs": [
    {
     "data": {
      "text/plain": [
       "array(['WITHDRAWN', 'CERTIFIED-WITHDRAWN', 'CERTIFIED', 'DENIED'],\n",
       "      dtype=object)"
      ]
     },
     "execution_count": 10,
     "metadata": {},
     "output_type": "execute_result"
    }
   ],
   "source": [
    "dataset.CASE_STATUS.unique()"
   ]
  },
  {
   "cell_type": "code",
   "execution_count": 11,
   "id": "b7346d3d",
   "metadata": {},
   "outputs": [],
   "source": [
    "dataset = dataset[((dataset['CASE_STATUS'].str.upper() == 'CERTIFIED') | \\\n",
    "                               (dataset['CASE_STATUS'].str.upper() == 'DENIED')) & \\\n",
    "                              (dataset['VISA_CLASS'].str.upper() == 'H-1B')]  "
   ]
  },
  {
   "cell_type": "code",
   "execution_count": 12,
   "id": "237f187d",
   "metadata": {},
   "outputs": [
    {
     "data": {
      "text/plain": [
       "array(['CERTIFIED', 'DENIED'], dtype=object)"
      ]
     },
     "execution_count": 12,
     "metadata": {},
     "output_type": "execute_result"
    }
   ],
   "source": [
    "dataset.CASE_STATUS.unique()"
   ]
  },
  {
   "cell_type": "code",
   "execution_count": 13,
   "id": "6d221b7d",
   "metadata": {},
   "outputs": [
    {
     "data": {
      "text/plain": [
       "<AxesSubplot:>"
      ]
     },
     "execution_count": 13,
     "metadata": {},
     "output_type": "execute_result"
    },
    {
     "data": {
      "image/png": "[encoded data removed]",
      "text/plain": [
       "<Figure size 432x288 with 1 Axes>"
      ]
     },
     "metadata": {
      "needs_background": "light"
     },
     "output_type": "display_data"
    }
   ],
   "source": [
    "dataset.CASE_STATUS.value_counts().plot(kind = 'bar')"
   ]
  },
  {
   "cell_type": "code",
   "execution_count": 16,
   "id": "4b36bbd8",
   "metadata": {},
   "outputs": [
    {
     "data": {
      "text/plain": [
       "CASE_STATUS                         0\n",
       "VISA_CLASS                          0\n",
       "EMPLOYER_NAME                       4\n",
       "AGENT_REPRESENTING_EMPLOYER         5\n",
       "SECONDARY_ENTITY_1              49761\n",
       "JOB_TITLE                           0\n",
       "SOC_TITLE                           4\n",
       "SOC_CODE                            4\n",
       "NAICS_CODE                          1\n",
       "CONTINUED_EMPLOYMENT                0\n",
       "CHANGE_PREVIOUS_EMPLOYMENT          0\n",
       "NEW_CONCURRENT_EMPLOYMENT           1\n",
       "CHANGE_EMPLOYER                     0\n",
       "AMENDED_PETITION                    0\n",
       "H-1B_DEPENDENT                     20\n",
       "SUPPORT_H1B                    365278\n",
       "WILLFUL_VIOLATOR                   20\n",
       "WAGE_RATE_OF_PAY_FROM_1             4\n",
       "WAGE_UNIT_OF_PAY_1                  4\n",
       "TOTAL_WORKER_POSITIONS              1\n",
       "PREVAILING_WAGE_1                4681\n",
       "dtype: int64"
      ]
     },
     "execution_count": 16,
     "metadata": {},
     "output_type": "execute_result"
    }
   ],
   "source": [
    "dataset.isnull().sum()"
   ]
  },
  {
   "cell_type": "code",
   "execution_count": 14,
   "id": "d2bae12c",
   "metadata": {},
   "outputs": [
    {
     "data": {
      "text/html": [
       "<div>\n",
       "<style scoped>\n",
       "    .dataframe tbody tr th:only-of-type {\n",
       "        vertical-align: middle;\n",
       "    }\n",
       "\n",
       "    .dataframe tbody tr th {\n",
       "        vertical-align: top;\n",
       "    }\n",
       "\n",
       "    .dataframe thead th {\n",
       "        text-align: right;\n",
       "    }\n",
       "</style>\n",
       "<table border=\"1\" class=\"dataframe\">\n",
       "  <thead>\n",
       "    <tr style=\"text-align: right;\">\n",
       "      <th></th>\n",
       "      <th>EMPLOYER_NAME</th>\n",
       "    </tr>\n",
       "  </thead>\n",
       "  <tbody>\n",
       "    <tr>\n",
       "      <th>COGNIZANT TECHNOLOGY SOLUTIONS US CORP</th>\n",
       "      <td>28106</td>\n",
       "    </tr>\n",
       "    <tr>\n",
       "      <th>INFOSYS LIMITED</th>\n",
       "      <td>21402</td>\n",
       "    </tr>\n",
       "    <tr>\n",
       "      <th>TATA CONSULTANCY SERVICES LIMITED</th>\n",
       "      <td>11839</td>\n",
       "    </tr>\n",
       "    <tr>\n",
       "      <th>GOOGLE LLC</th>\n",
       "      <td>9093</td>\n",
       "    </tr>\n",
       "    <tr>\n",
       "      <th>ERNST &amp; YOUNG U.S. LLP</th>\n",
       "      <td>8661</td>\n",
       "    </tr>\n",
       "    <tr>\n",
       "      <th>...</th>\n",
       "      <td>...</td>\n",
       "    </tr>\n",
       "    <tr>\n",
       "      <th>PYRAMID CONSULTING GROUP, INC.</th>\n",
       "      <td>1</td>\n",
       "    </tr>\n",
       "    <tr>\n",
       "      <th>HEALTH CARE LOGISTICS INC.</th>\n",
       "      <td>1</td>\n",
       "    </tr>\n",
       "    <tr>\n",
       "      <th>INTELLISPAR LLC</th>\n",
       "      <td>1</td>\n",
       "    </tr>\n",
       "    <tr>\n",
       "      <th>ELAN RGV WIRELESS LLC</th>\n",
       "      <td>1</td>\n",
       "    </tr>\n",
       "    <tr>\n",
       "      <th>NG, INC.</th>\n",
       "      <td>1</td>\n",
       "    </tr>\n",
       "  </tbody>\n",
       "</table>\n",
       "<p>62687 rows × 1 columns</p>\n",
       "</div>"
      ],
      "text/plain": [
       "                                        EMPLOYER_NAME\n",
       "COGNIZANT TECHNOLOGY SOLUTIONS US CORP          28106\n",
       "INFOSYS LIMITED                                 21402\n",
       "TATA CONSULTANCY SERVICES LIMITED               11839\n",
       "GOOGLE LLC                                       9093\n",
       "ERNST & YOUNG U.S. LLP                           8661\n",
       "...                                               ...\n",
       "PYRAMID CONSULTING GROUP, INC.                      1\n",
       "HEALTH CARE LOGISTICS INC.                          1\n",
       "INTELLISPAR LLC                                     1\n",
       "ELAN RGV WIRELESS LLC                               1\n",
       "NG, INC.                                            1\n",
       "\n",
       "[62687 rows x 1 columns]"
      ]
     },
     "execution_count": 14,
     "metadata": {},
     "output_type": "execute_result"
    }
   ],
   "source": [
    "emp_name = dataset['EMPLOYER_NAME'].value_counts()\n",
    "emp_name.to_frame()"
   ]
  },
  {
   "cell_type": "code",
   "execution_count": 20,
   "id": "4fc5a77e",
   "metadata": {},
   "outputs": [
    {
     "data": {
      "text/plain": [
       "<AxesSubplot:xlabel='EMPLOYER_NAME'>"
      ]
     },
     "execution_count": 20,
     "metadata": {},
     "output_type": "execute_result"
    },
    {
     "data": {
      "image/png": "[encoded data removed]",
      "text/plain": [
       "<Figure size 432x288 with 1 Axes>"
      ]
     },
     "metadata": {
      "needs_background": "light"
     },
     "output_type": "display_data"
    }
   ],
   "source": [
    "dataset['EMPLOYER_NAME'].value_counts()\n",
    "sns.barplot(x = dataset['EMPLOYER_NAME'].value_counts()[:10], y = dataset['EMPLOYER_NAME'].value_counts().index[:10])"
   ]
  },
  {
   "cell_type": "code",
   "execution_count": 22,
   "id": "3c6d7ca5",
   "metadata": {},
   "outputs": [
    {
     "name": "stderr",
     "output_type": "stream",
     "text": [
      "C:\\ananconda\\lib\\site-packages\\seaborn\\_decorators.py:36: FutureWarning: Pass the following variable as a keyword arg: x. From version 0.12, the only valid positional argument will be `data`, and passing other arguments without an explicit keyword will result in an error or misinterpretation.\n",
      "  warnings.warn(\n"
     ]
    },
    {
     "data": {
      "text/plain": [
       "<AxesSubplot:xlabel='WILLFUL_VIOLATOR', ylabel='count'>"
      ]
     },
     "execution_count": 22,
     "metadata": {},
     "output_type": "execute_result"
    },
    {
     "data": {
      "image/png": "[encoded data removed]",
      "text/plain": [
       "<Figure size 432x288 with 1 Axes>"
      ]
     },
     "metadata": {
      "needs_background": "light"
     },
     "output_type": "display_data"
    }
   ],
   "source": [
    "sns.countplot(dataset.WILLFUL_VIOLATOR)"
   ]
  },
  {
   "cell_type": "code",
   "execution_count": 23,
   "id": "0217e177",
   "metadata": {},
   "outputs": [
    {
     "data": {
      "text/plain": [
       "array(['Y', 'N', nan], dtype=object)"
      ]
     },
     "execution_count": 23,
     "metadata": {},
     "output_type": "execute_result"
    }
   ],
   "source": [
    "dataset.AGENT_REPRESENTING_EMPLOYER.unique()"
   ]
  },
  {
   "cell_type": "code",
   "execution_count": 24,
   "id": "6cc49388",
   "metadata": {},
   "outputs": [
    {
     "name": "stderr",
     "output_type": "stream",
     "text": [
      "C:\\ananconda\\lib\\site-packages\\seaborn\\_decorators.py:36: FutureWarning: Pass the following variable as a keyword arg: x. From version 0.12, the only valid positional argument will be `data`, and passing other arguments without an explicit keyword will result in an error or misinterpretation.\n",
      "  warnings.warn(\n"
     ]
    },
    {
     "data": {
      "text/plain": [
       "<AxesSubplot:xlabel='AGENT_REPRESENTING_EMPLOYER', ylabel='count'>"
      ]
     },
     "execution_count": 24,
     "metadata": {},
     "output_type": "execute_result"
    },
    {
     "data": {
      "image/png": "[encoded data removed]",
      "text/plain": [
       "<Figure size 432x288 with 1 Axes>"
      ]
     },
     "metadata": {
      "needs_background": "light"
     },
     "output_type": "display_data"
    }
   ],
   "source": [
    "sns.countplot(dataset.AGENT_REPRESENTING_EMPLOYER)"
   ]
  },
  {
   "cell_type": "code",
   "execution_count": 25,
   "id": "01a5739f",
   "metadata": {},
   "outputs": [
    {
     "data": {
      "text/plain": [
       "array(['ADVERSTING AND PROMOTIONS MANAGER',\n",
       "       'ADVERTISING AND PROMOTIONS DIRECTOR', 'PROGRAM MANAGER I', ...,\n",
       "       'INSPECTOR V', 'CONTAINER MOBILE HARBOR CRANE OPERATOR',\n",
       "       'DIGITAL TOUCHPOINTS ANALYST'], dtype=object)"
      ]
     },
     "execution_count": 25,
     "metadata": {},
     "output_type": "execute_result"
    }
   ],
   "source": [
    "dataset.JOB_TITLE.unique()"
   ]
  },
  {
   "cell_type": "code",
   "execution_count": null,
   "id": "6b20694e",
   "metadata": {},
   "outputs": [],
   "source": [
    "sns.barplot(x = dataset['JOB_TITLE'].value_counts()[:10], y = dataset['JOB_TITLE'].value_counts().index[:10])"
   ]
  },
  {
   "cell_type": "code",
   "execution_count": null,
   "id": "aacad739",
   "metadata": {},
   "outputs": [],
   "source": []
  }
 ],
 "metadata": {
  "kernelspec": {
   "display_name": "Python 3 (ipykernel)",
   "language": "python",
   "name": "python3"
  },
  "language_info": {
   "codemirror_mode": {
    "name": "ipython",
    "version": 3
   },
   "file_extension": ".py",
   "mimetype": "text/x-python",
   "name": "python",
   "nbconvert_exporter": "python",
   "pygments_lexer": "ipython3",
   "version": "3.9.12"
  }
 },
 "nbformat": 4,
 "nbformat_minor": 5
}
