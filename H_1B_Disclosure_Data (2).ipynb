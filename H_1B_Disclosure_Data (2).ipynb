{
  "cells": [
    {
      "cell_type": "code",
      "execution_count": 1,
      "metadata": {
        "id": "DgD8LqlcJcRI"
      },
      "outputs": [],
      "source": [
        "import os\n",
        "import pandas as pd\n",
        "import numpy as np\n",
        "\n",
        "import matplotlib.pyplot as plt\n",
        "import seaborn as sns\n"
      ]
    },
    {
      "cell_type": "code",
      "execution_count": 2,
      "metadata": {
        "colab": {
          "base_uri": "https://localhost:8080/"
        },
        "id": "u46GkRXUX78_",
        "outputId": "93ab8c1d-00b8-411f-b3a8-8cc0f92b987c"
      },
      "outputs": [
        {
          "output_type": "stream",
          "name": "stderr",
          "text": [
            "/usr/local/lib/python3.7/dist-packages/IPython/core/interactiveshell.py:2882: DtypeWarning: Columns (28,53,54,58,73,79,88,90,94,100,103,106,108,109,110,111,112,113,114,115,121,122,124,127,129,130,131,132,133,134,135,136,142,143,145,148,150,151,152,153,154,155,156,157,160,162,164,166,169,171,172,173,174,175,176,177,178,185,187,190,192,193,194,195,196,197,198,199,206,208,211,213,214,215,216,217,218,219,220,223,225,227,229,232,234,236,237,238,239,240,244,246,248,250,253,258) have mixed types.Specify dtype option on import or set low_memory=False.\n",
            "  exec(code_obj, self.user_global_ns, self.user_ns)\n"
          ]
        }
      ],
      "source": [
        "data = pd.read_csv('/content/H-1B_Disclosure_Data_FY2019 (2).csv')"
      ]
    },
    {
      "cell_type": "code",
      "execution_count": 3,
      "metadata": {
        "id": "mDLd_tKOxIHU"
      },
      "outputs": [],
      "source": [
        "# understanding the data"
      ]
    },
    {
      "cell_type": "code",
      "execution_count": 4,
      "metadata": {
        "colab": {
          "base_uri": "https://localhost:8080/",
          "height": 577
        },
        "id": "tX2e5j0Gbcue",
        "outputId": "fcd109d9-13f9-40ba-90c8-84a01c7c12d0"
      },
      "outputs": [
        {
          "output_type": "execute_result",
          "data": {
            "text/plain": [
              "          CASE_NUMBER CASE_STATUS CASE_SUBMITTED DECISION_DATE  \\\n",
              "0  I-200-16092-327771   WITHDRAWN     08-04-2016    30-04-2019   \n",
              "1  I-203-17188-450729   WITHDRAWN     14-07-2017    13-05-2019   \n",
              "2  I-203-17229-572307   WITHDRAWN     23-08-2017    30-04-2019   \n",
              "3  I-203-17356-299648   WITHDRAWN     22-12-2017    20-08-2019   \n",
              "4  I-203-18008-577576   WITHDRAWN     10-01-2018    15-04-2019   \n",
              "\n",
              "  ORIGINAL_CERT_DATE      VISA_CLASS                    JOB_TITLE SOC_CODE  \\\n",
              "0                NaN            H-1B  ASSOCIATE CREATIVE DIRECTOR  11-2011   \n",
              "1                NaN  E-3 Australian  ACCOUNT SUPERVISOR (MOTHER)  11-2011   \n",
              "2                NaN  E-3 Australian  EXECUTIVE CREATIVE DIRECTOR  11-2011   \n",
              "3                NaN  E-3 Australian      PROJECT MANAGEMENT LEAD  11-2011   \n",
              "4                NaN  E-3 Australian        CREATIVE DIRECTOR, UX  11-2011   \n",
              "\n",
              "                             SOC_TITLE FULL_TIME_POSITION  ...  \\\n",
              "0  ADVERTISING AND PROMOTIONS MANAGERS                  Y  ...   \n",
              "1  ADVERTISING AND PROMOTIONS MANAGERS                  Y  ...   \n",
              "2  ADVERTISING AND PROMOTIONS MANAGERS                  Y  ...   \n",
              "3  ADVERTISING AND PROMOTIONS MANAGERS                  Y  ...   \n",
              "4  ADVERTISING AND PROMOTIONS MANAGERS                  Y  ...   \n",
              "\n",
              "  PW_OTHER_SOURCE_10 PW_NON-OES_YEAR_10  PW_SURVEY_PUBLISHER_10  \\\n",
              "0                NaN                NaN                     NaN   \n",
              "1                NaN                NaN                     NaN   \n",
              "2                NaN                NaN                     NaN   \n",
              "3                NaN                NaN                     NaN   \n",
              "4                NaN                NaN                     NaN   \n",
              "\n",
              "   PW_SURVEY_NAME_10  H-1B_DEPENDENT  WILLFUL_VIOLATOR  SUPPORT_H1B  \\\n",
              "0                NaN               N                 N          NaN   \n",
              "1                NaN             NaN               NaN          NaN   \n",
              "2                NaN             NaN               NaN          NaN   \n",
              "3                NaN             NaN               NaN          NaN   \n",
              "4                NaN             NaN               NaN          NaN   \n",
              "\n",
              "   STATUTORY_BASIS  MASTERS_EXEMPTION PUBLIC_DISCLOSURE  \n",
              "0              NaN                NaN               NaN  \n",
              "1              NaN                NaN               NaN  \n",
              "2              NaN                NaN               NaN  \n",
              "3              NaN                NaN               NaN  \n",
              "4              NaN                NaN               NaN  \n",
              "\n",
              "[5 rows x 260 columns]"
            ],
            "text/html": [
              "\n",
              "  <div id=\"df-2abcbcd7-8304-4a0e-a78c-c16bc0b657f5\">\n",
              "    <div class=\"colab-df-container\">\n",
              "      <div>\n",
              "<style scoped>\n",
              "    .dataframe tbody tr th:only-of-type {\n",
              "        vertical-align: middle;\n",
              "    }\n",
              "\n",
              "    .dataframe tbody tr th {\n",
              "        vertical-align: top;\n",
              "    }\n",
              "\n",
              "    .dataframe thead th {\n",
              "        text-align: right;\n",
              "    }\n",
              "</style>\n",
              "<table border=\"1\" class=\"dataframe\">\n",
              "  <thead>\n",
              "    <tr style=\"text-align: right;\">\n",
              "      <th></th>\n",
              "      <th>CASE_NUMBER</th>\n",
              "      <th>CASE_STATUS</th>\n",
              "      <th>CASE_SUBMITTED</th>\n",
              "      <th>DECISION_DATE</th>\n",
              "      <th>ORIGINAL_CERT_DATE</th>\n",
              "      <th>VISA_CLASS</th>\n",
              "      <th>JOB_TITLE</th>\n",
              "      <th>SOC_CODE</th>\n",
              "      <th>SOC_TITLE</th>\n",
              "      <th>FULL_TIME_POSITION</th>\n",
              "      <th>...</th>\n",
              "      <th>PW_OTHER_SOURCE_10</th>\n",
              "      <th>PW_NON-OES_YEAR_10</th>\n",
              "      <th>PW_SURVEY_PUBLISHER_10</th>\n",
              "      <th>PW_SURVEY_NAME_10</th>\n",
              "      <th>H-1B_DEPENDENT</th>\n",
              "      <th>WILLFUL_VIOLATOR</th>\n",
              "      <th>SUPPORT_H1B</th>\n",
              "      <th>STATUTORY_BASIS</th>\n",
              "      <th>MASTERS_EXEMPTION</th>\n",
              "      <th>PUBLIC_DISCLOSURE</th>\n",
              "    </tr>\n",
              "  </thead>\n",
              "  <tbody>\n",
              "    <tr>\n",
              "      <th>0</th>\n",
              "      <td>I-200-16092-327771</td>\n",
              "      <td>WITHDRAWN</td>\n",
              "      <td>08-04-2016</td>\n",
              "      <td>30-04-2019</td>\n",
              "      <td>NaN</td>\n",
              "      <td>H-1B</td>\n",
              "      <td>ASSOCIATE CREATIVE DIRECTOR</td>\n",
              "      <td>11-2011</td>\n",
              "      <td>ADVERTISING AND PROMOTIONS MANAGERS</td>\n",
              "      <td>Y</td>\n",
              "      <td>...</td>\n",
              "      <td>NaN</td>\n",
              "      <td>NaN</td>\n",
              "      <td>NaN</td>\n",
              "      <td>NaN</td>\n",
              "      <td>N</td>\n",
              "      <td>N</td>\n",
              "      <td>NaN</td>\n",
              "      <td>NaN</td>\n",
              "      <td>NaN</td>\n",
              "      <td>NaN</td>\n",
              "    </tr>\n",
              "    <tr>\n",
              "      <th>1</th>\n",
              "      <td>I-203-17188-450729</td>\n",
              "      <td>WITHDRAWN</td>\n",
              "      <td>14-07-2017</td>\n",
              "      <td>13-05-2019</td>\n",
              "      <td>NaN</td>\n",
              "      <td>E-3 Australian</td>\n",
              "      <td>ACCOUNT SUPERVISOR (MOTHER)</td>\n",
              "      <td>11-2011</td>\n",
              "      <td>ADVERTISING AND PROMOTIONS MANAGERS</td>\n",
              "      <td>Y</td>\n",
              "      <td>...</td>\n",
              "      <td>NaN</td>\n",
              "      <td>NaN</td>\n",
              "      <td>NaN</td>\n",
              "      <td>NaN</td>\n",
              "      <td>NaN</td>\n",
              "      <td>NaN</td>\n",
              "      <td>NaN</td>\n",
              "      <td>NaN</td>\n",
              "      <td>NaN</td>\n",
              "      <td>NaN</td>\n",
              "    </tr>\n",
              "    <tr>\n",
              "      <th>2</th>\n",
              "      <td>I-203-17229-572307</td>\n",
              "      <td>WITHDRAWN</td>\n",
              "      <td>23-08-2017</td>\n",
              "      <td>30-04-2019</td>\n",
              "      <td>NaN</td>\n",
              "      <td>E-3 Australian</td>\n",
              "      <td>EXECUTIVE CREATIVE DIRECTOR</td>\n",
              "      <td>11-2011</td>\n",
              "      <td>ADVERTISING AND PROMOTIONS MANAGERS</td>\n",
              "      <td>Y</td>\n",
              "      <td>...</td>\n",
              "      <td>NaN</td>\n",
              "      <td>NaN</td>\n",
              "      <td>NaN</td>\n",
              "      <td>NaN</td>\n",
              "      <td>NaN</td>\n",
              "      <td>NaN</td>\n",
              "      <td>NaN</td>\n",
              "      <td>NaN</td>\n",
              "      <td>NaN</td>\n",
              "      <td>NaN</td>\n",
              "    </tr>\n",
              "    <tr>\n",
              "      <th>3</th>\n",
              "      <td>I-203-17356-299648</td>\n",
              "      <td>WITHDRAWN</td>\n",
              "      <td>22-12-2017</td>\n",
              "      <td>20-08-2019</td>\n",
              "      <td>NaN</td>\n",
              "      <td>E-3 Australian</td>\n",
              "      <td>PROJECT MANAGEMENT LEAD</td>\n",
              "      <td>11-2011</td>\n",
              "      <td>ADVERTISING AND PROMOTIONS MANAGERS</td>\n",
              "      <td>Y</td>\n",
              "      <td>...</td>\n",
              "      <td>NaN</td>\n",
              "      <td>NaN</td>\n",
              "      <td>NaN</td>\n",
              "      <td>NaN</td>\n",
              "      <td>NaN</td>\n",
              "      <td>NaN</td>\n",
              "      <td>NaN</td>\n",
              "      <td>NaN</td>\n",
              "      <td>NaN</td>\n",
              "      <td>NaN</td>\n",
              "    </tr>\n",
              "    <tr>\n",
              "      <th>4</th>\n",
              "      <td>I-203-18008-577576</td>\n",
              "      <td>WITHDRAWN</td>\n",
              "      <td>10-01-2018</td>\n",
              "      <td>15-04-2019</td>\n",
              "      <td>NaN</td>\n",
              "      <td>E-3 Australian</td>\n",
              "      <td>CREATIVE DIRECTOR, UX</td>\n",
              "      <td>11-2011</td>\n",
              "      <td>ADVERTISING AND PROMOTIONS MANAGERS</td>\n",
              "      <td>Y</td>\n",
              "      <td>...</td>\n",
              "      <td>NaN</td>\n",
              "      <td>NaN</td>\n",
              "      <td>NaN</td>\n",
              "      <td>NaN</td>\n",
              "      <td>NaN</td>\n",
              "      <td>NaN</td>\n",
              "      <td>NaN</td>\n",
              "      <td>NaN</td>\n",
              "      <td>NaN</td>\n",
              "      <td>NaN</td>\n",
              "    </tr>\n",
              "  </tbody>\n",
              "</table>\n",
              "<p>5 rows × 260 columns</p>\n",
              "</div>\n",
              "      <button class=\"colab-df-convert\" onclick=\"convertToInteractive('df-2abcbcd7-8304-4a0e-a78c-c16bc0b657f5')\"\n",
              "              title=\"Convert this dataframe to an interactive table.\"\n",
              "              style=\"display:none;\">\n",
              "        \n",
              "  <svg xmlns=\"http://www.w3.org/2000/svg\" height=\"24px\"viewBox=\"0 0 24 24\"\n",
              "       width=\"24px\">\n",
              "    <path d=\"M0 0h24v24H0V0z\" fill=\"none\"/>\n",
              "    <path d=\"M18.56 5.44l.94 2.06.94-2.06 2.06-.94-2.06-.94-.94-2.06-.94 2.06-2.06.94zm-11 1L8.5 8.5l.94-2.06 2.06-.94-2.06-.94L8.5 2.5l-.94 2.06-2.06.94zm10 10l.94 2.06.94-2.06 2.06-.94-2.06-.94-.94-2.06-.94 2.06-2.06.94z\"/><path d=\"M17.41 7.96l-1.37-1.37c-.4-.4-.92-.59-1.43-.59-.52 0-1.04.2-1.43.59L10.3 9.45l-7.72 7.72c-.78.78-.78 2.05 0 2.83L4 21.41c.39.39.9.59 1.41.59.51 0 1.02-.2 1.41-.59l7.78-7.78 2.81-2.81c.8-.78.8-2.07 0-2.86zM5.41 20L4 18.59l7.72-7.72 1.47 1.35L5.41 20z\"/>\n",
              "  </svg>\n",
              "      </button>\n",
              "      \n",
              "  <style>\n",
              "    .colab-df-container {\n",
              "      display:flex;\n",
              "      flex-wrap:wrap;\n",
              "      gap: 12px;\n",
              "    }\n",
              "\n",
              "    .colab-df-convert {\n",
              "      background-color: #E8F0FE;\n",
              "      border: none;\n",
              "      border-radius: 50%;\n",
              "      cursor: pointer;\n",
              "      display: none;\n",
              "      fill: #1967D2;\n",
              "      height: 32px;\n",
              "      padding: 0 0 0 0;\n",
              "      width: 32px;\n",
              "    }\n",
              "\n",
              "    .colab-df-convert:hover {\n",
              "      background-color: #E2EBFA;\n",
              "      box-shadow: 0px 1px 2px rgba(60, 64, 67, 0.3), 0px 1px 3px 1px rgba(60, 64, 67, 0.15);\n",
              "      fill: #174EA6;\n",
              "    }\n",
              "\n",
              "    [theme=dark] .colab-df-convert {\n",
              "      background-color: #3B4455;\n",
              "      fill: #D2E3FC;\n",
              "    }\n",
              "\n",
              "    [theme=dark] .colab-df-convert:hover {\n",
              "      background-color: #434B5C;\n",
              "      box-shadow: 0px 1px 3px 1px rgba(0, 0, 0, 0.15);\n",
              "      filter: drop-shadow(0px 1px 2px rgba(0, 0, 0, 0.3));\n",
              "      fill: #FFFFFF;\n",
              "    }\n",
              "  </style>\n",
              "\n",
              "      <script>\n",
              "        const buttonEl =\n",
              "          document.querySelector('#df-2abcbcd7-8304-4a0e-a78c-c16bc0b657f5 button.colab-df-convert');\n",
              "        buttonEl.style.display =\n",
              "          google.colab.kernel.accessAllowed ? 'block' : 'none';\n",
              "\n",
              "        async function convertToInteractive(key) {\n",
              "          const element = document.querySelector('#df-2abcbcd7-8304-4a0e-a78c-c16bc0b657f5');\n",
              "          const dataTable =\n",
              "            await google.colab.kernel.invokeFunction('convertToInteractive',\n",
              "                                                     [key], {});\n",
              "          if (!dataTable) return;\n",
              "\n",
              "          const docLinkHtml = 'Like what you see? Visit the ' +\n",
              "            '<a target=\"_blank\" href=https://colab.research.google.com/notebooks/data_table.ipynb>data table notebook</a>'\n",
              "            + ' to learn more about interactive tables.';\n",
              "          element.innerHTML = '';\n",
              "          dataTable['output_type'] = 'display_data';\n",
              "          await google.colab.output.renderOutput(dataTable, element);\n",
              "          const docLink = document.createElement('div');\n",
              "          docLink.innerHTML = docLinkHtml;\n",
              "          element.appendChild(docLink);\n",
              "        }\n",
              "      </script>\n",
              "    </div>\n",
              "  </div>\n",
              "  "
            ]
          },
          "metadata": {},
          "execution_count": 4
        }
      ],
      "source": [
        "data.head()"
      ]
    },
    {
      "cell_type": "code",
      "execution_count": 5,
      "metadata": {
        "colab": {
          "base_uri": "https://localhost:8080/",
          "height": 473
        },
        "id": "cYD31WvJbgVD",
        "outputId": "3aca6975-4fa9-443d-b3dc-c2d8e733523b"
      },
      "outputs": [
        {
          "output_type": "execute_result",
          "data": {
            "text/plain": [
              "              CASE_NUMBER          CASE_STATUS    CASE_SUBMITTED  \\\n",
              "31364  I-200-19077-004715  CERTIFIED-WITHDRAWN  20-03-2019 11:36   \n",
              "31365  I-200-19078-505953            CERTIFIED  20-03-2019 12:24   \n",
              "31366  I-200-19071-168425            CERTIFIED  20-03-2019 12:26   \n",
              "31367  I-200-19079-451203            CERTIFIED  20-03-2019 12:37   \n",
              "31368  I-200-19071-548787  CERTIFIED-WITHDRAWN  20-03-2019 13:25   \n",
              "\n",
              "          DECISION_DATE ORIGINAL_CERT_DATE VISA_CLASS  \\\n",
              "31364  26-03-2019 22:02   26-03-2019 22:02       H-1B   \n",
              "31365  26-03-2019 22:02                NaN       H-1B   \n",
              "31366  26-03-2019 22:02                NaN       H-1B   \n",
              "31367  26-03-2019 22:02                NaN       H-1B   \n",
              "31368  26-03-2019 22:03   26-03-2019 22:03       H-1B   \n",
              "\n",
              "                                       JOB_TITLE SOC_CODE  \\\n",
              "31364                           BUSINESS ANALYST  13-1081   \n",
              "31365                       OPERATIONS ASSOCIATE  13-1081   \n",
              "31366                      SUPPLY CHAIN ENGINEER  13-1081   \n",
              "31367  LOGISTICS ANALYST - SUPPLY CHAIN PLANNING  13-1081   \n",
              "31368                       DISTRIBUTION ANALYST  13-1081   \n",
              "\n",
              "                 SOC_TITLE FULL_TIME_POSITION  ... PW_OTHER_SOURCE_10  \\\n",
              "31364         LOGISTICIANS                  Y  ...                NaN   \n",
              "31365         LOGISTICIANS                  Y  ...                NaN   \n",
              "31366  LOGISTICS ENGINEERS                  Y  ...                NaN   \n",
              "31367         LOGISTICIANS                  Y  ...                NaN   \n",
              "31368         LOGISTICIANS                  Y  ...                NaN   \n",
              "\n",
              "      PW_NON-OES_YEAR_10  PW_SURVEY_PUBLISHER_10  PW_SURVEY_NAME_10  \\\n",
              "31364                NaN                     NaN                NaN   \n",
              "31365                NaN                     NaN                NaN   \n",
              "31366                NaN                     NaN                NaN   \n",
              "31367                NaN                     NaN                NaN   \n",
              "31368                NaN                     NaN                NaN   \n",
              "\n",
              "       H-1B_DEPENDENT  WILLFUL_VIOLATOR  SUPPORT_H1B  STATUTORY_BASIS  \\\n",
              "31364               N                 N          NaN              NaN   \n",
              "31365               N                 N          NaN              NaN   \n",
              "31366               N                 N          NaN              NaN   \n",
              "31367               N                 N          NaN              NaN   \n",
              "31368             NaN               NaN          NaN              NaN   \n",
              "\n",
              "       MASTERS_EXEMPTION    PUBLIC_DISCLOSURE  \n",
              "31364                NaN    PLACE OF BUSINESS  \n",
              "31365                NaN    PLACE OF BUSINESS  \n",
              "31366                NaN  PLACE OF EMPLOYMENT  \n",
              "31367                NaN    PLACE OF BUSINESS  \n",
              "31368                NaN                  NaN  \n",
              "\n",
              "[5 rows x 260 columns]"
            ],
            "text/html": [
              "\n",
              "  <div id=\"df-34da4042-d19e-4164-bea7-08adb87bae15\">\n",
              "    <div class=\"colab-df-container\">\n",
              "      <div>\n",
              "<style scoped>\n",
              "    .dataframe tbody tr th:only-of-type {\n",
              "        vertical-align: middle;\n",
              "    }\n",
              "\n",
              "    .dataframe tbody tr th {\n",
              "        vertical-align: top;\n",
              "    }\n",
              "\n",
              "    .dataframe thead th {\n",
              "        text-align: right;\n",
              "    }\n",
              "</style>\n",
              "<table border=\"1\" class=\"dataframe\">\n",
              "  <thead>\n",
              "    <tr style=\"text-align: right;\">\n",
              "      <th></th>\n",
              "      <th>CASE_NUMBER</th>\n",
              "      <th>CASE_STATUS</th>\n",
              "      <th>CASE_SUBMITTED</th>\n",
              "      <th>DECISION_DATE</th>\n",
              "      <th>ORIGINAL_CERT_DATE</th>\n",
              "      <th>VISA_CLASS</th>\n",
              "      <th>JOB_TITLE</th>\n",
              "      <th>SOC_CODE</th>\n",
              "      <th>SOC_TITLE</th>\n",
              "      <th>FULL_TIME_POSITION</th>\n",
              "      <th>...</th>\n",
              "      <th>PW_OTHER_SOURCE_10</th>\n",
              "      <th>PW_NON-OES_YEAR_10</th>\n",
              "      <th>PW_SURVEY_PUBLISHER_10</th>\n",
              "      <th>PW_SURVEY_NAME_10</th>\n",
              "      <th>H-1B_DEPENDENT</th>\n",
              "      <th>WILLFUL_VIOLATOR</th>\n",
              "      <th>SUPPORT_H1B</th>\n",
              "      <th>STATUTORY_BASIS</th>\n",
              "      <th>MASTERS_EXEMPTION</th>\n",
              "      <th>PUBLIC_DISCLOSURE</th>\n",
              "    </tr>\n",
              "  </thead>\n",
              "  <tbody>\n",
              "    <tr>\n",
              "      <th>31364</th>\n",
              "      <td>I-200-19077-004715</td>\n",
              "      <td>CERTIFIED-WITHDRAWN</td>\n",
              "      <td>20-03-2019 11:36</td>\n",
              "      <td>26-03-2019 22:02</td>\n",
              "      <td>26-03-2019 22:02</td>\n",
              "      <td>H-1B</td>\n",
              "      <td>BUSINESS ANALYST</td>\n",
              "      <td>13-1081</td>\n",
              "      <td>LOGISTICIANS</td>\n",
              "      <td>Y</td>\n",
              "      <td>...</td>\n",
              "      <td>NaN</td>\n",
              "      <td>NaN</td>\n",
              "      <td>NaN</td>\n",
              "      <td>NaN</td>\n",
              "      <td>N</td>\n",
              "      <td>N</td>\n",
              "      <td>NaN</td>\n",
              "      <td>NaN</td>\n",
              "      <td>NaN</td>\n",
              "      <td>PLACE OF BUSINESS</td>\n",
              "    </tr>\n",
              "    <tr>\n",
              "      <th>31365</th>\n",
              "      <td>I-200-19078-505953</td>\n",
              "      <td>CERTIFIED</td>\n",
              "      <td>20-03-2019 12:24</td>\n",
              "      <td>26-03-2019 22:02</td>\n",
              "      <td>NaN</td>\n",
              "      <td>H-1B</td>\n",
              "      <td>OPERATIONS ASSOCIATE</td>\n",
              "      <td>13-1081</td>\n",
              "      <td>LOGISTICIANS</td>\n",
              "      <td>Y</td>\n",
              "      <td>...</td>\n",
              "      <td>NaN</td>\n",
              "      <td>NaN</td>\n",
              "      <td>NaN</td>\n",
              "      <td>NaN</td>\n",
              "      <td>N</td>\n",
              "      <td>N</td>\n",
              "      <td>NaN</td>\n",
              "      <td>NaN</td>\n",
              "      <td>NaN</td>\n",
              "      <td>PLACE OF BUSINESS</td>\n",
              "    </tr>\n",
              "    <tr>\n",
              "      <th>31366</th>\n",
              "      <td>I-200-19071-168425</td>\n",
              "      <td>CERTIFIED</td>\n",
              "      <td>20-03-2019 12:26</td>\n",
              "      <td>26-03-2019 22:02</td>\n",
              "      <td>NaN</td>\n",
              "      <td>H-1B</td>\n",
              "      <td>SUPPLY CHAIN ENGINEER</td>\n",
              "      <td>13-1081</td>\n",
              "      <td>LOGISTICS ENGINEERS</td>\n",
              "      <td>Y</td>\n",
              "      <td>...</td>\n",
              "      <td>NaN</td>\n",
              "      <td>NaN</td>\n",
              "      <td>NaN</td>\n",
              "      <td>NaN</td>\n",
              "      <td>N</td>\n",
              "      <td>N</td>\n",
              "      <td>NaN</td>\n",
              "      <td>NaN</td>\n",
              "      <td>NaN</td>\n",
              "      <td>PLACE OF EMPLOYMENT</td>\n",
              "    </tr>\n",
              "    <tr>\n",
              "      <th>31367</th>\n",
              "      <td>I-200-19079-451203</td>\n",
              "      <td>CERTIFIED</td>\n",
              "      <td>20-03-2019 12:37</td>\n",
              "      <td>26-03-2019 22:02</td>\n",
              "      <td>NaN</td>\n",
              "      <td>H-1B</td>\n",
              "      <td>LOGISTICS ANALYST - SUPPLY CHAIN PLANNING</td>\n",
              "      <td>13-1081</td>\n",
              "      <td>LOGISTICIANS</td>\n",
              "      <td>Y</td>\n",
              "      <td>...</td>\n",
              "      <td>NaN</td>\n",
              "      <td>NaN</td>\n",
              "      <td>NaN</td>\n",
              "      <td>NaN</td>\n",
              "      <td>N</td>\n",
              "      <td>N</td>\n",
              "      <td>NaN</td>\n",
              "      <td>NaN</td>\n",
              "      <td>NaN</td>\n",
              "      <td>PLACE OF BUSINESS</td>\n",
              "    </tr>\n",
              "    <tr>\n",
              "      <th>31368</th>\n",
              "      <td>I-200-19071-548787</td>\n",
              "      <td>CERTIFIED-WITHDRAWN</td>\n",
              "      <td>20-03-2019 13:25</td>\n",
              "      <td>26-03-2019 22:03</td>\n",
              "      <td>26-03-2019 22:03</td>\n",
              "      <td>H-1B</td>\n",
              "      <td>DISTRIBUTION ANALYST</td>\n",
              "      <td>13-1081</td>\n",
              "      <td>LOGISTICIANS</td>\n",
              "      <td>Y</td>\n",
              "      <td>...</td>\n",
              "      <td>NaN</td>\n",
              "      <td>NaN</td>\n",
              "      <td>NaN</td>\n",
              "      <td>NaN</td>\n",
              "      <td>NaN</td>\n",
              "      <td>NaN</td>\n",
              "      <td>NaN</td>\n",
              "      <td>NaN</td>\n",
              "      <td>NaN</td>\n",
              "      <td>NaN</td>\n",
              "    </tr>\n",
              "  </tbody>\n",
              "</table>\n",
              "<p>5 rows × 260 columns</p>\n",
              "</div>\n",
              "      <button class=\"colab-df-convert\" onclick=\"convertToInteractive('df-34da4042-d19e-4164-bea7-08adb87bae15')\"\n",
              "              title=\"Convert this dataframe to an interactive table.\"\n",
              "              style=\"display:none;\">\n",
              "        \n",
              "  <svg xmlns=\"http://www.w3.org/2000/svg\" height=\"24px\"viewBox=\"0 0 24 24\"\n",
              "       width=\"24px\">\n",
              "    <path d=\"M0 0h24v24H0V0z\" fill=\"none\"/>\n",
              "    <path d=\"M18.56 5.44l.94 2.06.94-2.06 2.06-.94-2.06-.94-.94-2.06-.94 2.06-2.06.94zm-11 1L8.5 8.5l.94-2.06 2.06-.94-2.06-.94L8.5 2.5l-.94 2.06-2.06.94zm10 10l.94 2.06.94-2.06 2.06-.94-2.06-.94-.94-2.06-.94 2.06-2.06.94z\"/><path d=\"M17.41 7.96l-1.37-1.37c-.4-.4-.92-.59-1.43-.59-.52 0-1.04.2-1.43.59L10.3 9.45l-7.72 7.72c-.78.78-.78 2.05 0 2.83L4 21.41c.39.39.9.59 1.41.59.51 0 1.02-.2 1.41-.59l7.78-7.78 2.81-2.81c.8-.78.8-2.07 0-2.86zM5.41 20L4 18.59l7.72-7.72 1.47 1.35L5.41 20z\"/>\n",
              "  </svg>\n",
              "      </button>\n",
              "      \n",
              "  <style>\n",
              "    .colab-df-container {\n",
              "      display:flex;\n",
              "      flex-wrap:wrap;\n",
              "      gap: 12px;\n",
              "    }\n",
              "\n",
              "    .colab-df-convert {\n",
              "      background-color: #E8F0FE;\n",
              "      border: none;\n",
              "      border-radius: 50%;\n",
              "      cursor: pointer;\n",
              "      display: none;\n",
              "      fill: #1967D2;\n",
              "      height: 32px;\n",
              "      padding: 0 0 0 0;\n",
              "      width: 32px;\n",
              "    }\n",
              "\n",
              "    .colab-df-convert:hover {\n",
              "      background-color: #E2EBFA;\n",
              "      box-shadow: 0px 1px 2px rgba(60, 64, 67, 0.3), 0px 1px 3px 1px rgba(60, 64, 67, 0.15);\n",
              "      fill: #174EA6;\n",
              "    }\n",
              "\n",
              "    [theme=dark] .colab-df-convert {\n",
              "      background-color: #3B4455;\n",
              "      fill: #D2E3FC;\n",
              "    }\n",
              "\n",
              "    [theme=dark] .colab-df-convert:hover {\n",
              "      background-color: #434B5C;\n",
              "      box-shadow: 0px 1px 3px 1px rgba(0, 0, 0, 0.15);\n",
              "      filter: drop-shadow(0px 1px 2px rgba(0, 0, 0, 0.3));\n",
              "      fill: #FFFFFF;\n",
              "    }\n",
              "  </style>\n",
              "\n",
              "      <script>\n",
              "        const buttonEl =\n",
              "          document.querySelector('#df-34da4042-d19e-4164-bea7-08adb87bae15 button.colab-df-convert');\n",
              "        buttonEl.style.display =\n",
              "          google.colab.kernel.accessAllowed ? 'block' : 'none';\n",
              "\n",
              "        async function convertToInteractive(key) {\n",
              "          const element = document.querySelector('#df-34da4042-d19e-4164-bea7-08adb87bae15');\n",
              "          const dataTable =\n",
              "            await google.colab.kernel.invokeFunction('convertToInteractive',\n",
              "                                                     [key], {});\n",
              "          if (!dataTable) return;\n",
              "\n",
              "          const docLinkHtml = 'Like what you see? Visit the ' +\n",
              "            '<a target=\"_blank\" href=https://colab.research.google.com/notebooks/data_table.ipynb>data table notebook</a>'\n",
              "            + ' to learn more about interactive tables.';\n",
              "          element.innerHTML = '';\n",
              "          dataTable['output_type'] = 'display_data';\n",
              "          await google.colab.output.renderOutput(dataTable, element);\n",
              "          const docLink = document.createElement('div');\n",
              "          docLink.innerHTML = docLinkHtml;\n",
              "          element.appendChild(docLink);\n",
              "        }\n",
              "      </script>\n",
              "    </div>\n",
              "  </div>\n",
              "  "
            ]
          },
          "metadata": {},
          "execution_count": 5
        }
      ],
      "source": [
        "data.tail()\n"
      ]
    },
    {
      "cell_type": "code",
      "execution_count": 6,
      "metadata": {
        "colab": {
          "base_uri": "https://localhost:8080/"
        },
        "id": "MaEZG4bd5x5H",
        "outputId": "41b8de82-10a9-46e2-aac1-b10a13d06356"
      },
      "outputs": [
        {
          "output_type": "execute_result",
          "data": {
            "text/plain": [
              "(31369, 260)"
            ]
          },
          "metadata": {},
          "execution_count": 6
        }
      ],
      "source": [
        "data.shape"
      ]
    },
    {
      "cell_type": "code",
      "execution_count": 7,
      "metadata": {
        "colab": {
          "base_uri": "https://localhost:8080/",
          "height": 411
        },
        "id": "T6DGUn8W6EEU",
        "outputId": "4814917c-08cf-4f44-e6e4-d089b06f0adf"
      },
      "outputs": [
        {
          "output_type": "execute_result",
          "data": {
            "text/plain": [
              "       TOTAL_WORKER_POSITIONS  NEW_EMPLOYMENT  CONTINUED_EMPLOYMENT  \\\n",
              "count            31368.000000    31369.000000          31369.000000   \n",
              "mean                 1.506344        0.611336              0.289904   \n",
              "std                  3.889804        2.796869              0.769410   \n",
              "min                  1.000000        0.000000              0.000000   \n",
              "25%                  1.000000        0.000000              0.000000   \n",
              "50%                  1.000000        0.000000              0.000000   \n",
              "75%                  1.000000        1.000000              0.000000   \n",
              "max                110.000000       75.000000             30.000000   \n",
              "\n",
              "       CHANGE_PREVIOUS_EMPLOYMENT  NEW_CONCURRENT_EMPLOYMENT  CHANGE_EMPLOYER  \\\n",
              "count                31369.000000               31369.000000     31369.000000   \n",
              "mean                     0.141222                   0.009564         0.254997   \n",
              "std                      0.628542                   0.180955         0.997659   \n",
              "min                      0.000000                   0.000000         0.000000   \n",
              "25%                      0.000000                   0.000000         0.000000   \n",
              "50%                      0.000000                   0.000000         0.000000   \n",
              "75%                      0.000000                   0.000000         0.000000   \n",
              "max                     20.000000                   5.000000        50.000000   \n",
              "\n",
              "       AMENDED_PETITION  EMPLOYER_PHONE_EXT     NAICS_CODE  \\\n",
              "count      31369.000000        7.380000e+02   31368.000000   \n",
              "mean           0.196245        4.465358e+04  409817.720161   \n",
              "std            0.680688        4.555434e+05  203068.768649   \n",
              "min            0.000000        0.000000e+00    1111.000000   \n",
              "25%            0.000000        0.000000e+00  325612.000000   \n",
              "50%            0.000000        2.115000e+02  517212.000000   \n",
              "75%            0.000000        2.163750e+03  541511.000000   \n",
              "max           15.000000        9.363774e+06  928120.000000   \n",
              "\n",
              "       AGENT_ATTORNEY_PHONE  ...  WORKSITE_WORKERS_10  \\\n",
              "count          2.745100e+04  ...                  2.0   \n",
              "mean           6.606372e+09  ...                  1.0   \n",
              "std            2.963472e+10  ...                  0.0   \n",
              "min            8.321441e+06  ...                  1.0   \n",
              "25%            3.108203e+09  ...                  1.0   \n",
              "50%            4.159861e+09  ...                  1.0   \n",
              "75%            7.032263e+09  ...                  1.0   \n",
              "max            9.720730e+11  ...                  1.0   \n",
              "\n",
              "       SECONDARY_ENTITY_BUSINESS_NAME_10  WORKSITE_POSTAL_CODE_10  \\\n",
              "count                                0.0                 2.000000   \n",
              "mean                                 NaN             60428.500000   \n",
              "std                                  NaN             24343.565156   \n",
              "min                                  NaN             43215.000000   \n",
              "25%                                  NaN             51821.750000   \n",
              "50%                                  NaN             60428.500000   \n",
              "75%                                  NaN             69035.250000   \n",
              "max                                  NaN             77642.000000   \n",
              "\n",
              "       WAGE_RATE_OF_PAY_FROM_10  WAGE_RATE_OF_PAY_TO_10  PREVAILING_WAGE_10  \\\n",
              "count                  2.000000                     1.0            2.000000   \n",
              "mean              146509.500000                145000.0       133862.000000   \n",
              "std                20337.098134                     NaN         2450.832104   \n",
              "min               132129.000000                145000.0       132129.000000   \n",
              "25%               139319.250000                145000.0       132995.500000   \n",
              "50%               146509.500000                145000.0       133862.000000   \n",
              "75%               153699.750000                145000.0       134728.500000   \n",
              "max               160890.000000                145000.0       135595.000000   \n",
              "\n",
              "       PW_TRACKING_NUMBER_10  PW_OES_YEAR_10  PW_NON-OES_YEAR_10  \\\n",
              "count                    0.0             1.0                 1.0   \n",
              "mean                     NaN          2018.0              2018.0   \n",
              "std                      NaN             NaN                 NaN   \n",
              "min                      NaN          2018.0              2018.0   \n",
              "25%                      NaN          2018.0              2018.0   \n",
              "50%                      NaN          2018.0              2018.0   \n",
              "75%                      NaN          2018.0              2018.0   \n",
              "max                      NaN          2018.0              2018.0   \n",
              "\n",
              "       PW_SURVEY_PUBLISHER_10  \n",
              "count                     1.0  \n",
              "mean                   2018.0  \n",
              "std                       NaN  \n",
              "min                    2018.0  \n",
              "25%                    2018.0  \n",
              "50%                    2018.0  \n",
              "75%                    2018.0  \n",
              "max                    2018.0  \n",
              "\n",
              "[8 rows x 94 columns]"
            ],
            "text/html": [
              "\n",
              "  <div id=\"df-f4f2a4ba-1176-4a3d-86ba-2d91be54b590\">\n",
              "    <div class=\"colab-df-container\">\n",
              "      <div>\n",
              "<style scoped>\n",
              "    .dataframe tbody tr th:only-of-type {\n",
              "        vertical-align: middle;\n",
              "    }\n",
              "\n",
              "    .dataframe tbody tr th {\n",
              "        vertical-align: top;\n",
              "    }\n",
              "\n",
              "    .dataframe thead th {\n",
              "        text-align: right;\n",
              "    }\n",
              "</style>\n",
              "<table border=\"1\" class=\"dataframe\">\n",
              "  <thead>\n",
              "    <tr style=\"text-align: right;\">\n",
              "      <th></th>\n",
              "      <th>TOTAL_WORKER_POSITIONS</th>\n",
              "      <th>NEW_EMPLOYMENT</th>\n",
              "      <th>CONTINUED_EMPLOYMENT</th>\n",
              "      <th>CHANGE_PREVIOUS_EMPLOYMENT</th>\n",
              "      <th>NEW_CONCURRENT_EMPLOYMENT</th>\n",
              "      <th>CHANGE_EMPLOYER</th>\n",
              "      <th>AMENDED_PETITION</th>\n",
              "      <th>EMPLOYER_PHONE_EXT</th>\n",
              "      <th>NAICS_CODE</th>\n",
              "      <th>AGENT_ATTORNEY_PHONE</th>\n",
              "      <th>...</th>\n",
              "      <th>WORKSITE_WORKERS_10</th>\n",
              "      <th>SECONDARY_ENTITY_BUSINESS_NAME_10</th>\n",
              "      <th>WORKSITE_POSTAL_CODE_10</th>\n",
              "      <th>WAGE_RATE_OF_PAY_FROM_10</th>\n",
              "      <th>WAGE_RATE_OF_PAY_TO_10</th>\n",
              "      <th>PREVAILING_WAGE_10</th>\n",
              "      <th>PW_TRACKING_NUMBER_10</th>\n",
              "      <th>PW_OES_YEAR_10</th>\n",
              "      <th>PW_NON-OES_YEAR_10</th>\n",
              "      <th>PW_SURVEY_PUBLISHER_10</th>\n",
              "    </tr>\n",
              "  </thead>\n",
              "  <tbody>\n",
              "    <tr>\n",
              "      <th>count</th>\n",
              "      <td>31368.000000</td>\n",
              "      <td>31369.000000</td>\n",
              "      <td>31369.000000</td>\n",
              "      <td>31369.000000</td>\n",
              "      <td>31369.000000</td>\n",
              "      <td>31369.000000</td>\n",
              "      <td>31369.000000</td>\n",
              "      <td>7.380000e+02</td>\n",
              "      <td>31368.000000</td>\n",
              "      <td>2.745100e+04</td>\n",
              "      <td>...</td>\n",
              "      <td>2.0</td>\n",
              "      <td>0.0</td>\n",
              "      <td>2.000000</td>\n",
              "      <td>2.000000</td>\n",
              "      <td>1.0</td>\n",
              "      <td>2.000000</td>\n",
              "      <td>0.0</td>\n",
              "      <td>1.0</td>\n",
              "      <td>1.0</td>\n",
              "      <td>1.0</td>\n",
              "    </tr>\n",
              "    <tr>\n",
              "      <th>mean</th>\n",
              "      <td>1.506344</td>\n",
              "      <td>0.611336</td>\n",
              "      <td>0.289904</td>\n",
              "      <td>0.141222</td>\n",
              "      <td>0.009564</td>\n",
              "      <td>0.254997</td>\n",
              "      <td>0.196245</td>\n",
              "      <td>4.465358e+04</td>\n",
              "      <td>409817.720161</td>\n",
              "      <td>6.606372e+09</td>\n",
              "      <td>...</td>\n",
              "      <td>1.0</td>\n",
              "      <td>NaN</td>\n",
              "      <td>60428.500000</td>\n",
              "      <td>146509.500000</td>\n",
              "      <td>145000.0</td>\n",
              "      <td>133862.000000</td>\n",
              "      <td>NaN</td>\n",
              "      <td>2018.0</td>\n",
              "      <td>2018.0</td>\n",
              "      <td>2018.0</td>\n",
              "    </tr>\n",
              "    <tr>\n",
              "      <th>std</th>\n",
              "      <td>3.889804</td>\n",
              "      <td>2.796869</td>\n",
              "      <td>0.769410</td>\n",
              "      <td>0.628542</td>\n",
              "      <td>0.180955</td>\n",
              "      <td>0.997659</td>\n",
              "      <td>0.680688</td>\n",
              "      <td>4.555434e+05</td>\n",
              "      <td>203068.768649</td>\n",
              "      <td>2.963472e+10</td>\n",
              "      <td>...</td>\n",
              "      <td>0.0</td>\n",
              "      <td>NaN</td>\n",
              "      <td>24343.565156</td>\n",
              "      <td>20337.098134</td>\n",
              "      <td>NaN</td>\n",
              "      <td>2450.832104</td>\n",
              "      <td>NaN</td>\n",
              "      <td>NaN</td>\n",
              "      <td>NaN</td>\n",
              "      <td>NaN</td>\n",
              "    </tr>\n",
              "    <tr>\n",
              "      <th>min</th>\n",
              "      <td>1.000000</td>\n",
              "      <td>0.000000</td>\n",
              "      <td>0.000000</td>\n",
              "      <td>0.000000</td>\n",
              "      <td>0.000000</td>\n",
              "      <td>0.000000</td>\n",
              "      <td>0.000000</td>\n",
              "      <td>0.000000e+00</td>\n",
              "      <td>1111.000000</td>\n",
              "      <td>8.321441e+06</td>\n",
              "      <td>...</td>\n",
              "      <td>1.0</td>\n",
              "      <td>NaN</td>\n",
              "      <td>43215.000000</td>\n",
              "      <td>132129.000000</td>\n",
              "      <td>145000.0</td>\n",
              "      <td>132129.000000</td>\n",
              "      <td>NaN</td>\n",
              "      <td>2018.0</td>\n",
              "      <td>2018.0</td>\n",
              "      <td>2018.0</td>\n",
              "    </tr>\n",
              "    <tr>\n",
              "      <th>25%</th>\n",
              "      <td>1.000000</td>\n",
              "      <td>0.000000</td>\n",
              "      <td>0.000000</td>\n",
              "      <td>0.000000</td>\n",
              "      <td>0.000000</td>\n",
              "      <td>0.000000</td>\n",
              "      <td>0.000000</td>\n",
              "      <td>0.000000e+00</td>\n",
              "      <td>325612.000000</td>\n",
              "      <td>3.108203e+09</td>\n",
              "      <td>...</td>\n",
              "      <td>1.0</td>\n",
              "      <td>NaN</td>\n",
              "      <td>51821.750000</td>\n",
              "      <td>139319.250000</td>\n",
              "      <td>145000.0</td>\n",
              "      <td>132995.500000</td>\n",
              "      <td>NaN</td>\n",
              "      <td>2018.0</td>\n",
              "      <td>2018.0</td>\n",
              "      <td>2018.0</td>\n",
              "    </tr>\n",
              "    <tr>\n",
              "      <th>50%</th>\n",
              "      <td>1.000000</td>\n",
              "      <td>0.000000</td>\n",
              "      <td>0.000000</td>\n",
              "      <td>0.000000</td>\n",
              "      <td>0.000000</td>\n",
              "      <td>0.000000</td>\n",
              "      <td>0.000000</td>\n",
              "      <td>2.115000e+02</td>\n",
              "      <td>517212.000000</td>\n",
              "      <td>4.159861e+09</td>\n",
              "      <td>...</td>\n",
              "      <td>1.0</td>\n",
              "      <td>NaN</td>\n",
              "      <td>60428.500000</td>\n",
              "      <td>146509.500000</td>\n",
              "      <td>145000.0</td>\n",
              "      <td>133862.000000</td>\n",
              "      <td>NaN</td>\n",
              "      <td>2018.0</td>\n",
              "      <td>2018.0</td>\n",
              "      <td>2018.0</td>\n",
              "    </tr>\n",
              "    <tr>\n",
              "      <th>75%</th>\n",
              "      <td>1.000000</td>\n",
              "      <td>1.000000</td>\n",
              "      <td>0.000000</td>\n",
              "      <td>0.000000</td>\n",
              "      <td>0.000000</td>\n",
              "      <td>0.000000</td>\n",
              "      <td>0.000000</td>\n",
              "      <td>2.163750e+03</td>\n",
              "      <td>541511.000000</td>\n",
              "      <td>7.032263e+09</td>\n",
              "      <td>...</td>\n",
              "      <td>1.0</td>\n",
              "      <td>NaN</td>\n",
              "      <td>69035.250000</td>\n",
              "      <td>153699.750000</td>\n",
              "      <td>145000.0</td>\n",
              "      <td>134728.500000</td>\n",
              "      <td>NaN</td>\n",
              "      <td>2018.0</td>\n",
              "      <td>2018.0</td>\n",
              "      <td>2018.0</td>\n",
              "    </tr>\n",
              "    <tr>\n",
              "      <th>max</th>\n",
              "      <td>110.000000</td>\n",
              "      <td>75.000000</td>\n",
              "      <td>30.000000</td>\n",
              "      <td>20.000000</td>\n",
              "      <td>5.000000</td>\n",
              "      <td>50.000000</td>\n",
              "      <td>15.000000</td>\n",
              "      <td>9.363774e+06</td>\n",
              "      <td>928120.000000</td>\n",
              "      <td>9.720730e+11</td>\n",
              "      <td>...</td>\n",
              "      <td>1.0</td>\n",
              "      <td>NaN</td>\n",
              "      <td>77642.000000</td>\n",
              "      <td>160890.000000</td>\n",
              "      <td>145000.0</td>\n",
              "      <td>135595.000000</td>\n",
              "      <td>NaN</td>\n",
              "      <td>2018.0</td>\n",
              "      <td>2018.0</td>\n",
              "      <td>2018.0</td>\n",
              "    </tr>\n",
              "  </tbody>\n",
              "</table>\n",
              "<p>8 rows × 94 columns</p>\n",
              "</div>\n",
              "      <button class=\"colab-df-convert\" onclick=\"convertToInteractive('df-f4f2a4ba-1176-4a3d-86ba-2d91be54b590')\"\n",
              "              title=\"Convert this dataframe to an interactive table.\"\n",
              "              style=\"display:none;\">\n",
              "        \n",
              "  <svg xmlns=\"http://www.w3.org/2000/svg\" height=\"24px\"viewBox=\"0 0 24 24\"\n",
              "       width=\"24px\">\n",
              "    <path d=\"M0 0h24v24H0V0z\" fill=\"none\"/>\n",
              "    <path d=\"M18.56 5.44l.94 2.06.94-2.06 2.06-.94-2.06-.94-.94-2.06-.94 2.06-2.06.94zm-11 1L8.5 8.5l.94-2.06 2.06-.94-2.06-.94L8.5 2.5l-.94 2.06-2.06.94zm10 10l.94 2.06.94-2.06 2.06-.94-2.06-.94-.94-2.06-.94 2.06-2.06.94z\"/><path d=\"M17.41 7.96l-1.37-1.37c-.4-.4-.92-.59-1.43-.59-.52 0-1.04.2-1.43.59L10.3 9.45l-7.72 7.72c-.78.78-.78 2.05 0 2.83L4 21.41c.39.39.9.59 1.41.59.51 0 1.02-.2 1.41-.59l7.78-7.78 2.81-2.81c.8-.78.8-2.07 0-2.86zM5.41 20L4 18.59l7.72-7.72 1.47 1.35L5.41 20z\"/>\n",
              "  </svg>\n",
              "      </button>\n",
              "      \n",
              "  <style>\n",
              "    .colab-df-container {\n",
              "      display:flex;\n",
              "      flex-wrap:wrap;\n",
              "      gap: 12px;\n",
              "    }\n",
              "\n",
              "    .colab-df-convert {\n",
              "      background-color: #E8F0FE;\n",
              "      border: none;\n",
              "      border-radius: 50%;\n",
              "      cursor: pointer;\n",
              "      display: none;\n",
              "      fill: #1967D2;\n",
              "      height: 32px;\n",
              "      padding: 0 0 0 0;\n",
              "      width: 32px;\n",
              "    }\n",
              "\n",
              "    .colab-df-convert:hover {\n",
              "      background-color: #E2EBFA;\n",
              "      box-shadow: 0px 1px 2px rgba(60, 64, 67, 0.3), 0px 1px 3px 1px rgba(60, 64, 67, 0.15);\n",
              "      fill: #174EA6;\n",
              "    }\n",
              "\n",
              "    [theme=dark] .colab-df-convert {\n",
              "      background-color: #3B4455;\n",
              "      fill: #D2E3FC;\n",
              "    }\n",
              "\n",
              "    [theme=dark] .colab-df-convert:hover {\n",
              "      background-color: #434B5C;\n",
              "      box-shadow: 0px 1px 3px 1px rgba(0, 0, 0, 0.15);\n",
              "      filter: drop-shadow(0px 1px 2px rgba(0, 0, 0, 0.3));\n",
              "      fill: #FFFFFF;\n",
              "    }\n",
              "  </style>\n",
              "\n",
              "      <script>\n",
              "        const buttonEl =\n",
              "          document.querySelector('#df-f4f2a4ba-1176-4a3d-86ba-2d91be54b590 button.colab-df-convert');\n",
              "        buttonEl.style.display =\n",
              "          google.colab.kernel.accessAllowed ? 'block' : 'none';\n",
              "\n",
              "        async function convertToInteractive(key) {\n",
              "          const element = document.querySelector('#df-f4f2a4ba-1176-4a3d-86ba-2d91be54b590');\n",
              "          const dataTable =\n",
              "            await google.colab.kernel.invokeFunction('convertToInteractive',\n",
              "                                                     [key], {});\n",
              "          if (!dataTable) return;\n",
              "\n",
              "          const docLinkHtml = 'Like what you see? Visit the ' +\n",
              "            '<a target=\"_blank\" href=https://colab.research.google.com/notebooks/data_table.ipynb>data table notebook</a>'\n",
              "            + ' to learn more about interactive tables.';\n",
              "          element.innerHTML = '';\n",
              "          dataTable['output_type'] = 'display_data';\n",
              "          await google.colab.output.renderOutput(dataTable, element);\n",
              "          const docLink = document.createElement('div');\n",
              "          docLink.innerHTML = docLinkHtml;\n",
              "          element.appendChild(docLink);\n",
              "        }\n",
              "      </script>\n",
              "    </div>\n",
              "  </div>\n",
              "  "
            ]
          },
          "metadata": {},
          "execution_count": 7
        }
      ],
      "source": [
        "data.describe()"
      ]
    },
    {
      "cell_type": "code",
      "execution_count": 8,
      "metadata": {
        "colab": {
          "base_uri": "https://localhost:8080/"
        },
        "id": "GE6_8jiw6LNn",
        "outputId": "5d87d9a0-a6c0-468a-d922-a831fd8b5fbc"
      },
      "outputs": [
        {
          "output_type": "execute_result",
          "data": {
            "text/plain": [
              "Index(['CASE_NUMBER', 'CASE_STATUS', 'CASE_SUBMITTED', 'DECISION_DATE',\n",
              "       'ORIGINAL_CERT_DATE', 'VISA_CLASS', 'JOB_TITLE', 'SOC_CODE',\n",
              "       'SOC_TITLE', 'FULL_TIME_POSITION',\n",
              "       ...\n",
              "       'PW_OTHER_SOURCE_10', 'PW_NON-OES_YEAR_10', 'PW_SURVEY_PUBLISHER_10',\n",
              "       'PW_SURVEY_NAME_10', 'H-1B_DEPENDENT', 'WILLFUL_VIOLATOR',\n",
              "       'SUPPORT_H1B', 'STATUTORY_BASIS', 'MASTERS_EXEMPTION',\n",
              "       'PUBLIC_DISCLOSURE'],\n",
              "      dtype='object', length=260)"
            ]
          },
          "metadata": {},
          "execution_count": 8
        }
      ],
      "source": [
        "data.columns"
      ]
    },
    {
      "cell_type": "code",
      "execution_count": 9,
      "metadata": {
        "colab": {
          "base_uri": "https://localhost:8080/"
        },
        "id": "7jALywcK6cSX",
        "outputId": "565e632b-723a-48d9-9285-7225847e20a7"
      },
      "outputs": [
        {
          "output_type": "execute_result",
          "data": {
            "text/plain": [
              "CASE_NUMBER           31369\n",
              "CASE_STATUS               4\n",
              "CASE_SUBMITTED        27130\n",
              "DECISION_DATE          2624\n",
              "ORIGINAL_CERT_DATE      923\n",
              "                      ...  \n",
              "WILLFUL_VIOLATOR          2\n",
              "SUPPORT_H1B               2\n",
              "STATUTORY_BASIS           3\n",
              "MASTERS_EXEMPTION         2\n",
              "PUBLIC_DISCLOSURE         3\n",
              "Length: 260, dtype: int64"
            ]
          },
          "metadata": {},
          "execution_count": 9
        }
      ],
      "source": [
        "data.nunique()"
      ]
    },
    {
      "cell_type": "code",
      "execution_count": 10,
      "metadata": {
        "colab": {
          "base_uri": "https://localhost:8080/"
        },
        "id": "huG8JXos6r3J",
        "outputId": "955e42a4-4042-4584-9d33-b29355a5372e"
      },
      "outputs": [
        {
          "output_type": "execute_result",
          "data": {
            "text/plain": [
              "array(['WITHDRAWN', 'CERTIFIED-WITHDRAWN', 'CERTIFIED', 'DENIED'],\n",
              "      dtype=object)"
            ]
          },
          "metadata": {},
          "execution_count": 10
        }
      ],
      "source": [
        "data['CASE_STATUS'].unique()"
      ]
    },
    {
      "cell_type": "code",
      "execution_count": null,
      "metadata": {
        "id": "g2iEtgxL7As6"
      },
      "outputs": [],
      "source": [
        "# cleaning data"
      ]
    },
    {
      "cell_type": "code",
      "execution_count": 11,
      "metadata": {
        "colab": {
          "base_uri": "https://localhost:8080/"
        },
        "id": "aH4wvQXf7NzV",
        "outputId": "07c71e63-3486-454d-be86-fc70767232ca"
      },
      "outputs": [
        {
          "output_type": "execute_result",
          "data": {
            "text/plain": [
              "CASE_NUMBER               0\n",
              "CASE_STATUS               0\n",
              "CASE_SUBMITTED            0\n",
              "DECISION_DATE             0\n",
              "ORIGINAL_CERT_DATE    29121\n",
              "                      ...  \n",
              "WILLFUL_VIOLATOR       3969\n",
              "SUPPORT_H1B           28560\n",
              "STATUTORY_BASIS       28950\n",
              "MASTERS_EXEMPTION     31321\n",
              "PUBLIC_DISCLOSURE      1582\n",
              "Length: 260, dtype: int64"
            ]
          },
          "metadata": {},
          "execution_count": 11
        }
      ],
      "source": [
        "data.isnull().sum()"
      ]
    },
    {
      "cell_type": "code",
      "execution_count": null,
      "metadata": {
        "id": "U8EeSj528CjQ"
      },
      "outputs": [],
      "source": [
        "# relationship analysis"
      ]
    },
    {
      "cell_type": "code",
      "execution_count": 12,
      "metadata": {
        "colab": {
          "base_uri": "https://localhost:8080/"
        },
        "id": "HlLYNHe39aNI",
        "outputId": "44c5f640-3160-46f1-f272-ba3edeb4f5d1"
      },
      "outputs": [
        {
          "output_type": "execute_result",
          "data": {
            "text/plain": [
              "count     31369\n",
              "unique        1\n",
              "top       False\n",
              "freq      31369\n",
              "Name: SOC_CODE, dtype: object"
            ]
          },
          "metadata": {},
          "execution_count": 12
        }
      ],
      "source": [
        "data.SOC_CODE.isnull().describe()"
      ]
    },
    {
      "cell_type": "code",
      "execution_count": 13,
      "metadata": {
        "colab": {
          "base_uri": "https://localhost:8080/"
        },
        "id": "VYBnW47Z-NiN",
        "outputId": "981a9aaa-29bc-4cd6-858d-c69ac993413f"
      },
      "outputs": [
        {
          "output_type": "execute_result",
          "data": {
            "text/plain": [
              "53"
            ]
          },
          "metadata": {},
          "execution_count": 13
        }
      ],
      "source": [
        "data.SOC_CODE.nunique()\n"
      ]
    },
    {
      "cell_type": "code",
      "execution_count": 14,
      "metadata": {
        "colab": {
          "base_uri": "https://localhost:8080/"
        },
        "id": "ggoWpj1h--Qt",
        "outputId": "adff9c57-8722-4e69-db8d-f47aeb35e98d"
      },
      "outputs": [
        {
          "output_type": "execute_result",
          "data": {
            "text/plain": [
              "0"
            ]
          },
          "metadata": {},
          "execution_count": 14
        }
      ],
      "source": [
        "data.CASE_STATUS.isnull().sum()"
      ]
    },
    {
      "cell_type": "code",
      "execution_count": 15,
      "metadata": {
        "id": "ifV32c-w_zB7",
        "colab": {
          "base_uri": "https://localhost:8080/"
        },
        "outputId": "812b7c6c-3f51-4195-ec53-1b19c24e08eb"
      },
      "outputs": [
        {
          "output_type": "execute_result",
          "data": {
            "text/plain": [
              "3969"
            ]
          },
          "metadata": {},
          "execution_count": 15
        }
      ],
      "source": [
        "data.WILLFUL_VIOLATOR.isnull().sum()\n"
      ]
    },
    {
      "cell_type": "code",
      "source": [
        "data.WILLFUL_VIOLATOR.unique()\n"
      ],
      "metadata": {
        "colab": {
          "base_uri": "https://localhost:8080/"
        },
        "id": "gUjkMYPHIjh0",
        "outputId": "2abb984b-b3f5-4505-c111-e5189551a43f"
      },
      "execution_count": 16,
      "outputs": [
        {
          "output_type": "execute_result",
          "data": {
            "text/plain": [
              "array(['N', nan, 'Y'], dtype=object)"
            ]
          },
          "metadata": {},
          "execution_count": 16
        }
      ]
    },
    {
      "cell_type": "code",
      "source": [
        "data.WILLFUL_VIOLATOR.value_counts()"
      ],
      "metadata": {
        "colab": {
          "base_uri": "https://localhost:8080/"
        },
        "id": "nfgBtE_gIpxy",
        "outputId": "6d839c9c-1655-4079-c35b-60c9a0bfbf26"
      },
      "execution_count": 17,
      "outputs": [
        {
          "output_type": "execute_result",
          "data": {
            "text/plain": [
              "N    27397\n",
              "Y        3\n",
              "Name: WILLFUL_VIOLATOR, dtype: int64"
            ]
          },
          "metadata": {},
          "execution_count": 17
        }
      ]
    },
    {
      "cell_type": "code",
      "source": [
        "import seaborn as sns\n",
        "sns.countplot(data.WILLFUL_VIOLATOR)"
      ],
      "metadata": {
        "colab": {
          "base_uri": "https://localhost:8080/",
          "height": 352
        },
        "id": "-p_RoLvyIw-9",
        "outputId": "5e63f27d-cd2b-4a1a-fc61-1337fc56af9b"
      },
      "execution_count": 18,
      "outputs": [
        {
          "output_type": "stream",
          "name": "stderr",
          "text": [
            "/usr/local/lib/python3.7/dist-packages/seaborn/_decorators.py:43: FutureWarning: Pass the following variable as a keyword arg: x. From version 0.12, the only valid positional argument will be `data`, and passing other arguments without an explicit keyword will result in an error or misinterpretation.\n",
            "  FutureWarning\n"
          ]
        },
        {
          "output_type": "execute_result",
          "data": {
            "text/plain": [
              "<matplotlib.axes._subplots.AxesSubplot at 0x7f0a2dd51e90>"
            ]
          },
          "metadata": {},
          "execution_count": 18
        },
        {
          "output_type": "display_data",
          "data": {
            "text/plain": [
              "<Figure size 432x288 with 1 Axes>"
            ],
            "image/png": "[encoded data removed]"
          },
          "metadata": {
            "needs_background": "light"
          }
        }
      ]
    },
    {
      "cell_type": "code",
      "source": [
        "data = data[((data['CASE_STATUS'].str.upper() == 'CERTIFIED') | \\\n",
        "                               (data['CASE_STATUS'].str.upper() == 'DENIED')) & \\\n",
        "                              (data['VISA_CLASS'].str.upper() == 'H-1B')]  \n",
        "    "
      ],
      "metadata": {
        "id": "_vA4quLRI3_5"
      },
      "execution_count": 19,
      "outputs": []
    },
    {
      "cell_type": "code",
      "source": [
        "data = data[data.EMPLOYER_COUNTRY == 'UNITED STATES OF AMERICA']\n",
        "print('There are {} records.'.format(data.shape[0]))"
      ],
      "metadata": {
        "colab": {
          "base_uri": "https://localhost:8080/"
        },
        "id": "vxEOcMukJA_x",
        "outputId": "62182b23-66e0-409b-88c8-c459dfde1b2e"
      },
      "execution_count": 20,
      "outputs": [
        {
          "output_type": "stream",
          "name": "stdout",
          "text": [
            "There are 24339 records.\n"
          ]
        }
      ]
    },
    {
      "cell_type": "code",
      "source": [
        "def jobClassifier(SOC_CODE, SOC_MAP):\n",
        "    soc_map = SOC_MAP\n",
        "    soc = str(SOC_CODE).split('-')[0]        \n",
        "    return soc_map.get(soc,'OTHER')"
      ],
      "metadata": {
        "id": "tA_8QbfYJR9r"
      },
      "execution_count": 21,
      "outputs": []
    },
    {
      "cell_type": "code",
      "source": [
        "data.CASE_STATUS.value_counts()\n",
        "plt.bar(data['CASE_STATUS'].value_counts().index, data['CASE_STATUS'].value_counts(), width= 0.5, bottom=None , align='center', data=data)\n",
        "plt.title('Case Status')\n",
        "plt.xlabel('Case status')\n",
        "plt.ylabel('frequency')\n",
        "plt.xticks(rotation='vertical')\n"
      ],
      "metadata": {
        "id": "LbMFpDaFJYL8",
        "colab": {
          "base_uri": "https://localhost:8080/",
          "height": 353
        },
        "outputId": "ff20a898-6f31-42c6-90da-ed67a4720bd1"
      },
      "execution_count": 22,
      "outputs": [
        {
          "output_type": "execute_result",
          "data": {
            "text/plain": [
              "([0, 1], <a list of 2 Text major ticklabel objects>)"
            ]
          },
          "metadata": {},
          "execution_count": 22
        },
        {
          "output_type": "display_data",
          "data": {
            "text/plain": [
              "<Figure size 432x288 with 1 Axes>"
            ],
            "image/png": "[encoded data removed]"
          },
          "metadata": {
            "needs_background": "light"
          }
        }
      ]
    },
    {
      "cell_type": "code",
      "source": [
        "data['EMPLOYER_NAME'].value_counts()\n",
        "sns.barplot(x = data['EMPLOYER_NAME'].value_counts()[:20], y = data['EMPLOYER_NAME'].value_counts().index[:20])\n"
      ],
      "metadata": {
        "colab": {
          "base_uri": "https://localhost:8080/",
          "height": 297
        },
        "id": "ruhqiDCW7SSc",
        "outputId": "6a99e9c0-18b4-4686-b1f6-c6ba1368ae8e"
      },
      "execution_count": 23,
      "outputs": [
        {
          "output_type": "execute_result",
          "data": {
            "text/plain": [
              "<matplotlib.axes._subplots.AxesSubplot at 0x7f0a29409a50>"
            ]
          },
          "metadata": {},
          "execution_count": 23
        },
        {
          "output_type": "display_data",
          "data": {
            "text/plain": [
              "<Figure size 432x288 with 1 Axes>"
            ],
            "image/png": "[encoded data removed]"
          },
          "metadata": {
            "needs_background": "light"
          }
        }
      ]
    },
    {
      "cell_type": "code",
      "source": [
        "data['AGENT_REPRESENTING_EMPLOYER'].value_counts()[:20]\n",
        "sns.barplot(x = data['AGENT_REPRESENTING_EMPLOYER'].value_counts().index[:20], y = data['AGENT_REPRESENTING_EMPLOYER'].value_counts()[:20])\n",
        "plt.title('AGENT_REPRESENTING_EMPLOYER')\n",
        "plt.xlabel('AGENT_REPRESENTING_EMPLOYER')\n",
        "plt.ylabel('frequency')\n",
        "plt.xticks(rotation='vertical')\n"
      ],
      "metadata": {
        "colab": {
          "base_uri": "https://localhost:8080/",
          "height": 311
        },
        "id": "JfG3xszu7kVp",
        "outputId": "4e44c7ec-9ce0-4db1-914a-bef6c3052476"
      },
      "execution_count": 24,
      "outputs": [
        {
          "output_type": "execute_result",
          "data": {
            "text/plain": [
              "(array([0, 1]), <a list of 2 Text major ticklabel objects>)"
            ]
          },
          "metadata": {},
          "execution_count": 24
        },
        {
          "output_type": "display_data",
          "data": {
            "text/plain": [
              "<Figure size 432x288 with 1 Axes>"
            ],
            "image/png": "[encoded data removed]"
          },
          "metadata": {
            "needs_background": "light"
          }
        }
      ]
    },
    {
      "cell_type": "code",
      "source": [
        "top_occup = data.groupby('EMPLOYER_NAME').CASE_STATUS.count().nlargest(20).index.tolist()\n",
        "top_occup_H1B_visa = data.loc[data.EMPLOYER_NAME.isin(top_occup)]\n",
        "top_occup_H1B_visa.groupby('SOC_TITLE').EMPLOYER_NAME.count().nlargest(10).plot(kind='barh',title='Top H1B occupant companies')\n"
      ],
      "metadata": {
        "colab": {
          "base_uri": "https://localhost:8080/",
          "height": 298
        },
        "id": "wr1Ou4bQ70ly",
        "outputId": "4d459a74-7a65-42a8-e812-9b540a48ce78"
      },
      "execution_count": 25,
      "outputs": [
        {
          "output_type": "execute_result",
          "data": {
            "text/plain": [
              "<matplotlib.axes._subplots.AxesSubplot at 0x7f0a29211bd0>"
            ]
          },
          "metadata": {},
          "execution_count": 25
        },
        {
          "output_type": "display_data",
          "data": {
            "text/plain": [
              "<Figure size 432x288 with 1 Axes>"
            ],
            "image/png": "[encoded data removed]"
          },
          "metadata": {
            "needs_background": "light"
          }
        }
      ]
    },
    {
      "cell_type": "code",
      "source": [
        "top_NAICS_CODE = data.groupby('EMPLOYER_NAME').CASE_STATUS.count().nlargest(20).index.tolist()\n",
        "top_NAICS_CODE_H1B_visa = data.loc[data.EMPLOYER_NAME.isin(top_NAICS_CODE)]\n",
        "top_NAICS_CODE_H1B_visa.groupby('NAICS_CODE').EMPLOYER_NAME.count().nlargest(10).plot(kind='barh',title='NAICS_CODE')"
      ],
      "metadata": {
        "colab": {
          "base_uri": "https://localhost:8080/",
          "height": 298
        },
        "id": "tonCGByV8CnL",
        "outputId": "769b911f-e048-44c2-af0a-a3087b620c25"
      },
      "execution_count": 26,
      "outputs": [
        {
          "output_type": "execute_result",
          "data": {
            "text/plain": [
              "<matplotlib.axes._subplots.AxesSubplot at 0x7f0a291b2990>"
            ]
          },
          "metadata": {},
          "execution_count": 26
        },
        {
          "output_type": "display_data",
          "data": {
            "text/plain": [
              "<Figure size 432x288 with 1 Axes>"
            ],
            "image/png": "[encoded data removed]"
          },
          "metadata": {
            "needs_background": "light"
          }
        }
      ]
    },
    {
      "cell_type": "code",
      "source": [
        "data.groupby(['TOTAL_WORKER_POSITIONS','WAGE_UNIT_OF_PAY_1']).describe()['PREVAILING_WAGE_1']\n"
      ],
      "metadata": {
        "colab": {
          "base_uri": "https://localhost:8080/",
          "height": 896
        },
        "id": "Y4lAgpGp8SFg",
        "outputId": "66702991-e5a0-41a7-edea-e5334fa50aa4"
      },
      "execution_count": 27,
      "outputs": [
        {
          "output_type": "execute_result",
          "data": {
            "text/plain": [
              "                                             count           mean  \\\n",
              "TOTAL_WORKER_POSITIONS WAGE_UNIT_OF_PAY_1                           \n",
              "1.0                    Bi-Weekly               4.0    3778.500000   \n",
              "                       Hour                 1454.0     968.468088   \n",
              "                       Month                  27.0   39250.755926   \n",
              "                       Week                    3.0    1136.006667   \n",
              "                       Year                21464.0  118811.345179   \n",
              "2.0                    Hour                   10.0   12144.672000   \n",
              "                       Year                  129.0  131516.232558   \n",
              "3.0                    Hour                    3.0      44.380000   \n",
              "                       Year                  217.0  118421.202765   \n",
              "4.0                    Year                    9.0   98966.111111   \n",
              "5.0                    Hour                    2.0      27.385000   \n",
              "                       Year                  101.0  138918.653465   \n",
              "6.0                    Year                   13.0  100644.769231   \n",
              "7.0                    Year                    1.0   68224.000000   \n",
              "10.0                   Hour                   16.0      55.465625   \n",
              "                       Year                  277.0  137210.444043   \n",
              "12.0                   Year                   13.0  167613.538462   \n",
              "15.0                   Year                   64.0  128734.890625   \n",
              "20.0                   Year                   91.0  156810.384615   \n",
              "24.0                   Year                    3.0  131367.000000   \n",
              "25.0                   Year                  119.0  142071.168067   \n",
              "30.0                   Year                   47.0  154963.276596   \n",
              "50.0                   Year                   52.0  155606.307692   \n",
              "75.0                   Year                   24.0  140003.083333   \n",
              "100.0                  Year                    1.0  145267.000000   \n",
              "110.0                  Year                    1.0  212181.000000   \n",
              "\n",
              "                                                    std        min  \\\n",
              "TOTAL_WORKER_POSITIONS WAGE_UNIT_OF_PAY_1                            \n",
              "1.0                    Bi-Weekly            1598.809036    2500.00   \n",
              "                       Hour                 9299.724436      10.42   \n",
              "                       Month               49335.549565      15.23   \n",
              "                       Week                 1083.408381      22.02   \n",
              "                       Year                45223.793529      16.11   \n",
              "2.0                    Hour                38268.950000      20.44   \n",
              "                       Year                53378.710472   40019.00   \n",
              "3.0                    Hour                    3.793191      40.00   \n",
              "                       Year                29588.328118   43285.00   \n",
              "4.0                    Year                37661.400178   44637.00   \n",
              "5.0                    Hour                    3.698168      24.77   \n",
              "                       Year                47867.707794   38501.00   \n",
              "6.0                    Year                41465.242123   51043.00   \n",
              "7.0                    Year                         NaN   68224.00   \n",
              "10.0                   Hour                   16.601736      23.84   \n",
              "                       Year                40883.809587   51043.00   \n",
              "12.0                   Year                50386.441163   57512.00   \n",
              "15.0                   Year                31960.419593   79747.00   \n",
              "20.0                   Year                39393.122388   57470.00   \n",
              "24.0                   Year                31191.398350   98342.00   \n",
              "25.0                   Year                37137.070766   56222.00   \n",
              "30.0                   Year                28974.503511   85758.00   \n",
              "50.0                   Year                39105.740691   79914.00   \n",
              "75.0                   Year                46691.732179   73632.00   \n",
              "100.0                  Year                         NaN  145267.00   \n",
              "110.0                  Year                         NaN  212181.00   \n",
              "\n",
              "                                                   25%         50%  \\\n",
              "TOTAL_WORKER_POSITIONS WAGE_UNIT_OF_PAY_1                            \n",
              "1.0                    Bi-Weekly             2557.0000    3363.000   \n",
              "                       Hour                    28.9400      36.330   \n",
              "                       Month                 4435.0000    8098.000   \n",
              "                       Week                   611.0100    1200.000   \n",
              "                       Year                 82300.7500  118102.000   \n",
              "2.0                    Hour                    31.6300      34.620   \n",
              "                       Year                 78333.0000  145662.000   \n",
              "3.0                    Hour                    43.2850      46.570   \n",
              "                       Year                104707.0000  108368.000   \n",
              "4.0                    Year                 63690.0000  117978.000   \n",
              "5.0                    Hour                    26.0775      27.385   \n",
              "                       Year                101608.0000  135554.000   \n",
              "6.0                    Year                 65187.0000   89669.000   \n",
              "7.0                    Year                 68224.0000   68224.000   \n",
              "10.0                   Hour                    47.8675      54.310   \n",
              "                       Year                105061.0000  133397.000   \n",
              "12.0                   Year                142442.0000  185511.000   \n",
              "15.0                   Year                104972.5000  130988.000   \n",
              "20.0                   Year                138840.0000  160701.000   \n",
              "24.0                   Year                116887.5000  135433.000   \n",
              "25.0                   Year                119413.0000  141900.000   \n",
              "30.0                   Year                134243.0000  156978.000   \n",
              "50.0                   Year                128086.5000  153400.000   \n",
              "75.0                   Year                103329.0000  128066.000   \n",
              "100.0                  Year                145267.0000  145267.000   \n",
              "110.0                  Year                212181.0000  212181.000   \n",
              "\n",
              "                                                   75%        max  \n",
              "TOTAL_WORKER_POSITIONS WAGE_UNIT_OF_PAY_1                          \n",
              "1.0                    Bi-Weekly             4584.5000    5888.00  \n",
              "                       Hour                    53.7600  136240.00  \n",
              "                       Month                76606.5000  139734.00  \n",
              "                       Week                  1693.0000    2186.00  \n",
              "                       Year                147389.0000  506424.00  \n",
              "2.0                    Hour                    64.2800  121060.00  \n",
              "                       Year                168189.0000  240843.00  \n",
              "3.0                    Hour                    46.5700      46.57  \n",
              "                       Year                132912.0000  237494.00  \n",
              "4.0                    Year                132221.0000  136074.00  \n",
              "5.0                    Hour                    28.6925      30.00  \n",
              "                       Year                170643.0000  257303.00  \n",
              "6.0                    Year                128481.0000  183874.00  \n",
              "7.0                    Year                 68224.0000   68224.00  \n",
              "10.0                   Hour                    65.3600      80.54  \n",
              "                       Year                167523.0000  241696.00  \n",
              "12.0                   Year                205691.0000  230006.00  \n",
              "15.0                   Year                138460.5000  230348.00  \n",
              "20.0                   Year                179851.0000  241696.00  \n",
              "24.0                   Year                147879.5000  160326.00  \n",
              "25.0                   Year                165027.0000  240843.00  \n",
              "30.0                   Year                171239.5000  236448.00  \n",
              "50.0                   Year                187164.0000  240843.00  \n",
              "75.0                   Year                169098.7500  240843.00  \n",
              "100.0                  Year                145267.0000  145267.00  \n",
              "110.0                  Year                212181.0000  212181.00  "
            ],
            "text/html": [
              "\n",
              "  <div id=\"df-2025a6a2-63f5-403f-9161-42933389c929\">\n",
              "    <div class=\"colab-df-container\">\n",
              "      <div>\n",
              "<style scoped>\n",
              "    .dataframe tbody tr th:only-of-type {\n",
              "        vertical-align: middle;\n",
              "    }\n",
              "\n",
              "    .dataframe tbody tr th {\n",
              "        vertical-align: top;\n",
              "    }\n",
              "\n",
              "    .dataframe thead th {\n",
              "        text-align: right;\n",
              "    }\n",
              "</style>\n",
              "<table border=\"1\" class=\"dataframe\">\n",
              "  <thead>\n",
              "    <tr style=\"text-align: right;\">\n",
              "      <th></th>\n",
              "      <th></th>\n",
              "      <th>count</th>\n",
              "      <th>mean</th>\n",
              "      <th>std</th>\n",
              "      <th>min</th>\n",
              "      <th>25%</th>\n",
              "      <th>50%</th>\n",
              "      <th>75%</th>\n",
              "      <th>max</th>\n",
              "    </tr>\n",
              "    <tr>\n",
              "      <th>TOTAL_WORKER_POSITIONS</th>\n",
              "      <th>WAGE_UNIT_OF_PAY_1</th>\n",
              "      <th></th>\n",
              "      <th></th>\n",
              "      <th></th>\n",
              "      <th></th>\n",
              "      <th></th>\n",
              "      <th></th>\n",
              "      <th></th>\n",
              "      <th></th>\n",
              "    </tr>\n",
              "  </thead>\n",
              "  <tbody>\n",
              "    <tr>\n",
              "      <th rowspan=\"5\" valign=\"top\">1.0</th>\n",
              "      <th>Bi-Weekly</th>\n",
              "      <td>4.0</td>\n",
              "      <td>3778.500000</td>\n",
              "      <td>1598.809036</td>\n",
              "      <td>2500.00</td>\n",
              "      <td>2557.0000</td>\n",
              "      <td>3363.000</td>\n",
              "      <td>4584.5000</td>\n",
              "      <td>5888.00</td>\n",
              "    </tr>\n",
              "    <tr>\n",
              "      <th>Hour</th>\n",
              "      <td>1454.0</td>\n",
              "      <td>968.468088</td>\n",
              "      <td>9299.724436</td>\n",
              "      <td>10.42</td>\n",
              "      <td>28.9400</td>\n",
              "      <td>36.330</td>\n",
              "      <td>53.7600</td>\n",
              "      <td>136240.00</td>\n",
              "    </tr>\n",
              "    <tr>\n",
              "      <th>Month</th>\n",
              "      <td>27.0</td>\n",
              "      <td>39250.755926</td>\n",
              "      <td>49335.549565</td>\n",
              "      <td>15.23</td>\n",
              "      <td>4435.0000</td>\n",
              "      <td>8098.000</td>\n",
              "      <td>76606.5000</td>\n",
              "      <td>139734.00</td>\n",
              "    </tr>\n",
              "    <tr>\n",
              "      <th>Week</th>\n",
              "      <td>3.0</td>\n",
              "      <td>1136.006667</td>\n",
              "      <td>1083.408381</td>\n",
              "      <td>22.02</td>\n",
              "      <td>611.0100</td>\n",
              "      <td>1200.000</td>\n",
              "      <td>1693.0000</td>\n",
              "      <td>2186.00</td>\n",
              "    </tr>\n",
              "    <tr>\n",
              "      <th>Year</th>\n",
              "      <td>21464.0</td>\n",
              "      <td>118811.345179</td>\n",
              "      <td>45223.793529</td>\n",
              "      <td>16.11</td>\n",
              "      <td>82300.7500</td>\n",
              "      <td>118102.000</td>\n",
              "      <td>147389.0000</td>\n",
              "      <td>506424.00</td>\n",
              "    </tr>\n",
              "    <tr>\n",
              "      <th rowspan=\"2\" valign=\"top\">2.0</th>\n",
              "      <th>Hour</th>\n",
              "      <td>10.0</td>\n",
              "      <td>12144.672000</td>\n",
              "      <td>38268.950000</td>\n",
              "      <td>20.44</td>\n",
              "      <td>31.6300</td>\n",
              "      <td>34.620</td>\n",
              "      <td>64.2800</td>\n",
              "      <td>121060.00</td>\n",
              "    </tr>\n",
              "    <tr>\n",
              "      <th>Year</th>\n",
              "      <td>129.0</td>\n",
              "      <td>131516.232558</td>\n",
              "      <td>53378.710472</td>\n",
              "      <td>40019.00</td>\n",
              "      <td>78333.0000</td>\n",
              "      <td>145662.000</td>\n",
              "      <td>168189.0000</td>\n",
              "      <td>240843.00</td>\n",
              "    </tr>\n",
              "    <tr>\n",
              "      <th rowspan=\"2\" valign=\"top\">3.0</th>\n",
              "      <th>Hour</th>\n",
              "      <td>3.0</td>\n",
              "      <td>44.380000</td>\n",
              "      <td>3.793191</td>\n",
              "      <td>40.00</td>\n",
              "      <td>43.2850</td>\n",
              "      <td>46.570</td>\n",
              "      <td>46.5700</td>\n",
              "      <td>46.57</td>\n",
              "    </tr>\n",
              "    <tr>\n",
              "      <th>Year</th>\n",
              "      <td>217.0</td>\n",
              "      <td>118421.202765</td>\n",
              "      <td>29588.328118</td>\n",
              "      <td>43285.00</td>\n",
              "      <td>104707.0000</td>\n",
              "      <td>108368.000</td>\n",
              "      <td>132912.0000</td>\n",
              "      <td>237494.00</td>\n",
              "    </tr>\n",
              "    <tr>\n",
              "      <th>4.0</th>\n",
              "      <th>Year</th>\n",
              "      <td>9.0</td>\n",
              "      <td>98966.111111</td>\n",
              "      <td>37661.400178</td>\n",
              "      <td>44637.00</td>\n",
              "      <td>63690.0000</td>\n",
              "      <td>117978.000</td>\n",
              "      <td>132221.0000</td>\n",
              "      <td>136074.00</td>\n",
              "    </tr>\n",
              "    <tr>\n",
              "      <th rowspan=\"2\" valign=\"top\">5.0</th>\n",
              "      <th>Hour</th>\n",
              "      <td>2.0</td>\n",
              "      <td>27.385000</td>\n",
              "      <td>3.698168</td>\n",
              "      <td>24.77</td>\n",
              "      <td>26.0775</td>\n",
              "      <td>27.385</td>\n",
              "      <td>28.6925</td>\n",
              "      <td>30.00</td>\n",
              "    </tr>\n",
              "    <tr>\n",
              "      <th>Year</th>\n",
              "      <td>101.0</td>\n",
              "      <td>138918.653465</td>\n",
              "      <td>47867.707794</td>\n",
              "      <td>38501.00</td>\n",
              "      <td>101608.0000</td>\n",
              "      <td>135554.000</td>\n",
              "      <td>170643.0000</td>\n",
              "      <td>257303.00</td>\n",
              "    </tr>\n",
              "    <tr>\n",
              "      <th>6.0</th>\n",
              "      <th>Year</th>\n",
              "      <td>13.0</td>\n",
              "      <td>100644.769231</td>\n",
              "      <td>41465.242123</td>\n",
              "      <td>51043.00</td>\n",
              "      <td>65187.0000</td>\n",
              "      <td>89669.000</td>\n",
              "      <td>128481.0000</td>\n",
              "      <td>183874.00</td>\n",
              "    </tr>\n",
              "    <tr>\n",
              "      <th>7.0</th>\n",
              "      <th>Year</th>\n",
              "      <td>1.0</td>\n",
              "      <td>68224.000000</td>\n",
              "      <td>NaN</td>\n",
              "      <td>68224.00</td>\n",
              "      <td>68224.0000</td>\n",
              "      <td>68224.000</td>\n",
              "      <td>68224.0000</td>\n",
              "      <td>68224.00</td>\n",
              "    </tr>\n",
              "    <tr>\n",
              "      <th rowspan=\"2\" valign=\"top\">10.0</th>\n",
              "      <th>Hour</th>\n",
              "      <td>16.0</td>\n",
              "      <td>55.465625</td>\n",
              "      <td>16.601736</td>\n",
              "      <td>23.84</td>\n",
              "      <td>47.8675</td>\n",
              "      <td>54.310</td>\n",
              "      <td>65.3600</td>\n",
              "      <td>80.54</td>\n",
              "    </tr>\n",
              "    <tr>\n",
              "      <th>Year</th>\n",
              "      <td>277.0</td>\n",
              "      <td>137210.444043</td>\n",
              "      <td>40883.809587</td>\n",
              "      <td>51043.00</td>\n",
              "      <td>105061.0000</td>\n",
              "      <td>133397.000</td>\n",
              "      <td>167523.0000</td>\n",
              "      <td>241696.00</td>\n",
              "    </tr>\n",
              "    <tr>\n",
              "      <th>12.0</th>\n",
              "      <th>Year</th>\n",
              "      <td>13.0</td>\n",
              "      <td>167613.538462</td>\n",
              "      <td>50386.441163</td>\n",
              "      <td>57512.00</td>\n",
              "      <td>142442.0000</td>\n",
              "      <td>185511.000</td>\n",
              "      <td>205691.0000</td>\n",
              "      <td>230006.00</td>\n",
              "    </tr>\n",
              "    <tr>\n",
              "      <th>15.0</th>\n",
              "      <th>Year</th>\n",
              "      <td>64.0</td>\n",
              "      <td>128734.890625</td>\n",
              "      <td>31960.419593</td>\n",
              "      <td>79747.00</td>\n",
              "      <td>104972.5000</td>\n",
              "      <td>130988.000</td>\n",
              "      <td>138460.5000</td>\n",
              "      <td>230348.00</td>\n",
              "    </tr>\n",
              "    <tr>\n",
              "      <th>20.0</th>\n",
              "      <th>Year</th>\n",
              "      <td>91.0</td>\n",
              "      <td>156810.384615</td>\n",
              "      <td>39393.122388</td>\n",
              "      <td>57470.00</td>\n",
              "      <td>138840.0000</td>\n",
              "      <td>160701.000</td>\n",
              "      <td>179851.0000</td>\n",
              "      <td>241696.00</td>\n",
              "    </tr>\n",
              "    <tr>\n",
              "      <th>24.0</th>\n",
              "      <th>Year</th>\n",
              "      <td>3.0</td>\n",
              "      <td>131367.000000</td>\n",
              "      <td>31191.398350</td>\n",
              "      <td>98342.00</td>\n",
              "      <td>116887.5000</td>\n",
              "      <td>135433.000</td>\n",
              "      <td>147879.5000</td>\n",
              "      <td>160326.00</td>\n",
              "    </tr>\n",
              "    <tr>\n",
              "      <th>25.0</th>\n",
              "      <th>Year</th>\n",
              "      <td>119.0</td>\n",
              "      <td>142071.168067</td>\n",
              "      <td>37137.070766</td>\n",
              "      <td>56222.00</td>\n",
              "      <td>119413.0000</td>\n",
              "      <td>141900.000</td>\n",
              "      <td>165027.0000</td>\n",
              "      <td>240843.00</td>\n",
              "    </tr>\n",
              "    <tr>\n",
              "      <th>30.0</th>\n",
              "      <th>Year</th>\n",
              "      <td>47.0</td>\n",
              "      <td>154963.276596</td>\n",
              "      <td>28974.503511</td>\n",
              "      <td>85758.00</td>\n",
              "      <td>134243.0000</td>\n",
              "      <td>156978.000</td>\n",
              "      <td>171239.5000</td>\n",
              "      <td>236448.00</td>\n",
              "    </tr>\n",
              "    <tr>\n",
              "      <th>50.0</th>\n",
              "      <th>Year</th>\n",
              "      <td>52.0</td>\n",
              "      <td>155606.307692</td>\n",
              "      <td>39105.740691</td>\n",
              "      <td>79914.00</td>\n",
              "      <td>128086.5000</td>\n",
              "      <td>153400.000</td>\n",
              "      <td>187164.0000</td>\n",
              "      <td>240843.00</td>\n",
              "    </tr>\n",
              "    <tr>\n",
              "      <th>75.0</th>\n",
              "      <th>Year</th>\n",
              "      <td>24.0</td>\n",
              "      <td>140003.083333</td>\n",
              "      <td>46691.732179</td>\n",
              "      <td>73632.00</td>\n",
              "      <td>103329.0000</td>\n",
              "      <td>128066.000</td>\n",
              "      <td>169098.7500</td>\n",
              "      <td>240843.00</td>\n",
              "    </tr>\n",
              "    <tr>\n",
              "      <th>100.0</th>\n",
              "      <th>Year</th>\n",
              "      <td>1.0</td>\n",
              "      <td>145267.000000</td>\n",
              "      <td>NaN</td>\n",
              "      <td>145267.00</td>\n",
              "      <td>145267.0000</td>\n",
              "      <td>145267.000</td>\n",
              "      <td>145267.0000</td>\n",
              "      <td>145267.00</td>\n",
              "    </tr>\n",
              "    <tr>\n",
              "      <th>110.0</th>\n",
              "      <th>Year</th>\n",
              "      <td>1.0</td>\n",
              "      <td>212181.000000</td>\n",
              "      <td>NaN</td>\n",
              "      <td>212181.00</td>\n",
              "      <td>212181.0000</td>\n",
              "      <td>212181.000</td>\n",
              "      <td>212181.0000</td>\n",
              "      <td>212181.00</td>\n",
              "    </tr>\n",
              "  </tbody>\n",
              "</table>\n",
              "</div>\n",
              "      <button class=\"colab-df-convert\" onclick=\"convertToInteractive('df-2025a6a2-63f5-403f-9161-42933389c929')\"\n",
              "              title=\"Convert this dataframe to an interactive table.\"\n",
              "              style=\"display:none;\">\n",
              "        \n",
              "  <svg xmlns=\"http://www.w3.org/2000/svg\" height=\"24px\"viewBox=\"0 0 24 24\"\n",
              "       width=\"24px\">\n",
              "    <path d=\"M0 0h24v24H0V0z\" fill=\"none\"/>\n",
              "    <path d=\"M18.56 5.44l.94 2.06.94-2.06 2.06-.94-2.06-.94-.94-2.06-.94 2.06-2.06.94zm-11 1L8.5 8.5l.94-2.06 2.06-.94-2.06-.94L8.5 2.5l-.94 2.06-2.06.94zm10 10l.94 2.06.94-2.06 2.06-.94-2.06-.94-.94-2.06-.94 2.06-2.06.94z\"/><path d=\"M17.41 7.96l-1.37-1.37c-.4-.4-.92-.59-1.43-.59-.52 0-1.04.2-1.43.59L10.3 9.45l-7.72 7.72c-.78.78-.78 2.05 0 2.83L4 21.41c.39.39.9.59 1.41.59.51 0 1.02-.2 1.41-.59l7.78-7.78 2.81-2.81c.8-.78.8-2.07 0-2.86zM5.41 20L4 18.59l7.72-7.72 1.47 1.35L5.41 20z\"/>\n",
              "  </svg>\n",
              "      </button>\n",
              "      \n",
              "  <style>\n",
              "    .colab-df-container {\n",
              "      display:flex;\n",
              "      flex-wrap:wrap;\n",
              "      gap: 12px;\n",
              "    }\n",
              "\n",
              "    .colab-df-convert {\n",
              "      background-color: #E8F0FE;\n",
              "      border: none;\n",
              "      border-radius: 50%;\n",
              "      cursor: pointer;\n",
              "      display: none;\n",
              "      fill: #1967D2;\n",
              "      height: 32px;\n",
              "      padding: 0 0 0 0;\n",
              "      width: 32px;\n",
              "    }\n",
              "\n",
              "    .colab-df-convert:hover {\n",
              "      background-color: #E2EBFA;\n",
              "      box-shadow: 0px 1px 2px rgba(60, 64, 67, 0.3), 0px 1px 3px 1px rgba(60, 64, 67, 0.15);\n",
              "      fill: #174EA6;\n",
              "    }\n",
              "\n",
              "    [theme=dark] .colab-df-convert {\n",
              "      background-color: #3B4455;\n",
              "      fill: #D2E3FC;\n",
              "    }\n",
              "\n",
              "    [theme=dark] .colab-df-convert:hover {\n",
              "      background-color: #434B5C;\n",
              "      box-shadow: 0px 1px 3px 1px rgba(0, 0, 0, 0.15);\n",
              "      filter: drop-shadow(0px 1px 2px rgba(0, 0, 0, 0.3));\n",
              "      fill: #FFFFFF;\n",
              "    }\n",
              "  </style>\n",
              "\n",
              "      <script>\n",
              "        const buttonEl =\n",
              "          document.querySelector('#df-2025a6a2-63f5-403f-9161-42933389c929 button.colab-df-convert');\n",
              "        buttonEl.style.display =\n",
              "          google.colab.kernel.accessAllowed ? 'block' : 'none';\n",
              "\n",
              "        async function convertToInteractive(key) {\n",
              "          const element = document.querySelector('#df-2025a6a2-63f5-403f-9161-42933389c929');\n",
              "          const dataTable =\n",
              "            await google.colab.kernel.invokeFunction('convertToInteractive',\n",
              "                                                     [key], {});\n",
              "          if (!dataTable) return;\n",
              "\n",
              "          const docLinkHtml = 'Like what you see? Visit the ' +\n",
              "            '<a target=\"_blank\" href=https://colab.research.google.com/notebooks/data_table.ipynb>data table notebook</a>'\n",
              "            + ' to learn more about interactive tables.';\n",
              "          element.innerHTML = '';\n",
              "          dataTable['output_type'] = 'display_data';\n",
              "          await google.colab.output.renderOutput(dataTable, element);\n",
              "          const docLink = document.createElement('div');\n",
              "          docLink.innerHTML = docLinkHtml;\n",
              "          element.appendChild(docLink);\n",
              "        }\n",
              "      </script>\n",
              "    </div>\n",
              "  </div>\n",
              "  "
            ]
          },
          "metadata": {},
          "execution_count": 27
        }
      ]
    },
    {
      "cell_type": "code",
      "source": [
        ""
      ],
      "metadata": {
        "id": "73f4Udno8b3b"
      },
      "execution_count": null,
      "outputs": []
    }
  ],
  "metadata": {
    "colab": {
      "collapsed_sections": [],
      "name": "H-1B-Disclosure_Data.ipynb",
      "provenance": []
    },
    "kernelspec": {
      "display_name": "Python 3",
      "name": "python3"
    },
    "language_info": {
      "name": "python"
    }
  },
  "nbformat": 4,
  "nbformat_minor": 0
}