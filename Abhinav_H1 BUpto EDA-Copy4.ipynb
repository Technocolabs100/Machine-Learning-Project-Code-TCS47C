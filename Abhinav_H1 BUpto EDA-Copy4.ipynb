{
 "cells": [
  {
   "cell_type": "code",
   "execution_count": 1,
   "id": "3990af95",
   "metadata": {},
   "outputs": [],
   "source": [
    "import pandas as pd\n",
    "import numpy as np\n",
    "import matplotlib.pyplot as plt \n",
    "import seaborn as sns "
   ]
  },
  {
   "cell_type": "code",
   "execution_count": 2,
   "id": "84d45959",
   "metadata": {},
   "outputs": [
    {
     "name": "stderr",
     "output_type": "stream",
     "text": [
      "C:\\ananconda\\lib\\site-packages\\IPython\\core\\interactiveshell.py:3369: DtypeWarning: Columns (4,13,14,20,22,26,27,28,29,31,32,33,34,35,36,37,38,39,40,41,42,43,45,46,47,48,57,58,59,61,64,66,67,68,69,70,71,72,73,76,78,79,80,82,85,87,88,89,90,91,92,93,94,97,98,99,100,101,103,106,108,109,110,111,112,113,114,115,121,122,124,127,129,130,131,132,133,134,135,136,142,143,145,148,150,151,152,153,154,155,156,157,160,162,163,164,166,169,171,172,173,174,175,176,177,178,184,185,187,190,192,193,194,195,196,197,198,199,205,206,208,211,213,214,215,216,217,218,219,220,223,225,226,227,229,232,234,235,236,237,238,239,240,244,246,247,248,250,253,257,258,259) have mixed types.Specify dtype option on import or set low_memory=False.\n",
      "  exec(code_obj, self.user_global_ns, self.user_ns)\n"
     ]
    }
   ],
   "source": [
    "dataset = pd.read_csv('H-1B_Disclosure_Data_FY2019.csv')"
   ]
  },
  {
   "cell_type": "code",
   "execution_count": 3,
   "id": "74822a20",
   "metadata": {},
   "outputs": [
    {
     "data": {
      "text/html": [
       "<div>\n",
       "<style scoped>\n",
       "    .dataframe tbody tr th:only-of-type {\n",
       "        vertical-align: middle;\n",
       "    }\n",
       "\n",
       "    .dataframe tbody tr th {\n",
       "        vertical-align: top;\n",
       "    }\n",
       "\n",
       "    .dataframe thead th {\n",
       "        text-align: right;\n",
       "    }\n",
       "</style>\n",
       "<table border=\"1\" class=\"dataframe\">\n",
       "  <thead>\n",
       "    <tr style=\"text-align: right;\">\n",
       "      <th></th>\n",
       "      <th>CASE_NUMBER</th>\n",
       "      <th>CASE_STATUS</th>\n",
       "      <th>CASE_SUBMITTED</th>\n",
       "      <th>DECISION_DATE</th>\n",
       "      <th>ORIGINAL_CERT_DATE</th>\n",
       "      <th>VISA_CLASS</th>\n",
       "      <th>JOB_TITLE</th>\n",
       "      <th>SOC_CODE</th>\n",
       "      <th>SOC_TITLE</th>\n",
       "      <th>FULL_TIME_POSITION</th>\n",
       "      <th>...</th>\n",
       "      <th>PW_OTHER_SOURCE_10</th>\n",
       "      <th>PW_NON-OES_YEAR_10</th>\n",
       "      <th>PW_SURVEY_PUBLISHER_10</th>\n",
       "      <th>PW_SURVEY_NAME_10</th>\n",
       "      <th>H-1B_DEPENDENT</th>\n",
       "      <th>WILLFUL_VIOLATOR</th>\n",
       "      <th>SUPPORT_H1B</th>\n",
       "      <th>STATUTORY_BASIS</th>\n",
       "      <th>MASTERS_EXEMPTION</th>\n",
       "      <th>PUBLIC_DISCLOSURE</th>\n",
       "    </tr>\n",
       "  </thead>\n",
       "  <tbody>\n",
       "    <tr>\n",
       "      <th>0</th>\n",
       "      <td>I-200-16092-327771</td>\n",
       "      <td>WITHDRAWN</td>\n",
       "      <td>2016-04-08 00:00:00</td>\n",
       "      <td>2019-04-30 00:00:00</td>\n",
       "      <td>NaN</td>\n",
       "      <td>H-1B</td>\n",
       "      <td>ASSOCIATE CREATIVE DIRECTOR</td>\n",
       "      <td>11-2011</td>\n",
       "      <td>ADVERTISING AND PROMOTIONS MANAGERS</td>\n",
       "      <td>Y</td>\n",
       "      <td>...</td>\n",
       "      <td>NaN</td>\n",
       "      <td>NaN</td>\n",
       "      <td>NaN</td>\n",
       "      <td>NaN</td>\n",
       "      <td>N</td>\n",
       "      <td>N</td>\n",
       "      <td>NaN</td>\n",
       "      <td>NaN</td>\n",
       "      <td>NaN</td>\n",
       "      <td>NaN</td>\n",
       "    </tr>\n",
       "    <tr>\n",
       "      <th>1</th>\n",
       "      <td>I-203-17188-450729</td>\n",
       "      <td>WITHDRAWN</td>\n",
       "      <td>2017-07-14 00:00:00</td>\n",
       "      <td>2019-05-13 00:00:00</td>\n",
       "      <td>NaN</td>\n",
       "      <td>E-3 Australian</td>\n",
       "      <td>ACCOUNT SUPERVISOR (MOTHER)</td>\n",
       "      <td>11-2011</td>\n",
       "      <td>ADVERTISING AND PROMOTIONS MANAGERS</td>\n",
       "      <td>Y</td>\n",
       "      <td>...</td>\n",
       "      <td>NaN</td>\n",
       "      <td>NaN</td>\n",
       "      <td>NaN</td>\n",
       "      <td>NaN</td>\n",
       "      <td>NaN</td>\n",
       "      <td>NaN</td>\n",
       "      <td>NaN</td>\n",
       "      <td>NaN</td>\n",
       "      <td>NaN</td>\n",
       "      <td>NaN</td>\n",
       "    </tr>\n",
       "    <tr>\n",
       "      <th>2</th>\n",
       "      <td>I-203-17229-572307</td>\n",
       "      <td>WITHDRAWN</td>\n",
       "      <td>2017-08-23 00:00:00</td>\n",
       "      <td>2019-04-30 00:00:00</td>\n",
       "      <td>NaN</td>\n",
       "      <td>E-3 Australian</td>\n",
       "      <td>EXECUTIVE CREATIVE DIRECTOR</td>\n",
       "      <td>11-2011</td>\n",
       "      <td>ADVERTISING AND PROMOTIONS MANAGERS</td>\n",
       "      <td>Y</td>\n",
       "      <td>...</td>\n",
       "      <td>NaN</td>\n",
       "      <td>NaN</td>\n",
       "      <td>NaN</td>\n",
       "      <td>NaN</td>\n",
       "      <td>NaN</td>\n",
       "      <td>NaN</td>\n",
       "      <td>NaN</td>\n",
       "      <td>NaN</td>\n",
       "      <td>NaN</td>\n",
       "      <td>NaN</td>\n",
       "    </tr>\n",
       "    <tr>\n",
       "      <th>3</th>\n",
       "      <td>I-203-17356-299648</td>\n",
       "      <td>WITHDRAWN</td>\n",
       "      <td>2017-12-22 00:00:00</td>\n",
       "      <td>2019-08-20 00:00:00</td>\n",
       "      <td>NaN</td>\n",
       "      <td>E-3 Australian</td>\n",
       "      <td>PROJECT MANAGEMENT LEAD</td>\n",
       "      <td>11-2011</td>\n",
       "      <td>ADVERTISING AND PROMOTIONS MANAGERS</td>\n",
       "      <td>Y</td>\n",
       "      <td>...</td>\n",
       "      <td>NaN</td>\n",
       "      <td>NaN</td>\n",
       "      <td>NaN</td>\n",
       "      <td>NaN</td>\n",
       "      <td>NaN</td>\n",
       "      <td>NaN</td>\n",
       "      <td>NaN</td>\n",
       "      <td>NaN</td>\n",
       "      <td>NaN</td>\n",
       "      <td>NaN</td>\n",
       "    </tr>\n",
       "    <tr>\n",
       "      <th>4</th>\n",
       "      <td>I-203-18008-577576</td>\n",
       "      <td>WITHDRAWN</td>\n",
       "      <td>2018-01-10 00:00:00</td>\n",
       "      <td>2019-04-15 00:00:00</td>\n",
       "      <td>NaN</td>\n",
       "      <td>E-3 Australian</td>\n",
       "      <td>CREATIVE DIRECTOR, UX</td>\n",
       "      <td>11-2011</td>\n",
       "      <td>ADVERTISING AND PROMOTIONS MANAGERS</td>\n",
       "      <td>Y</td>\n",
       "      <td>...</td>\n",
       "      <td>NaN</td>\n",
       "      <td>NaN</td>\n",
       "      <td>NaN</td>\n",
       "      <td>NaN</td>\n",
       "      <td>NaN</td>\n",
       "      <td>NaN</td>\n",
       "      <td>NaN</td>\n",
       "      <td>NaN</td>\n",
       "      <td>NaN</td>\n",
       "      <td>NaN</td>\n",
       "    </tr>\n",
       "  </tbody>\n",
       "</table>\n",
       "<p>5 rows × 260 columns</p>\n",
       "</div>"
      ],
      "text/plain": [
       "          CASE_NUMBER CASE_STATUS       CASE_SUBMITTED        DECISION_DATE  \\\n",
       "0  I-200-16092-327771   WITHDRAWN  2016-04-08 00:00:00  2019-04-30 00:00:00   \n",
       "1  I-203-17188-450729   WITHDRAWN  2017-07-14 00:00:00  2019-05-13 00:00:00   \n",
       "2  I-203-17229-572307   WITHDRAWN  2017-08-23 00:00:00  2019-04-30 00:00:00   \n",
       "3  I-203-17356-299648   WITHDRAWN  2017-12-22 00:00:00  2019-08-20 00:00:00   \n",
       "4  I-203-18008-577576   WITHDRAWN  2018-01-10 00:00:00  2019-04-15 00:00:00   \n",
       "\n",
       "  ORIGINAL_CERT_DATE      VISA_CLASS                    JOB_TITLE SOC_CODE  \\\n",
       "0                NaN            H-1B  ASSOCIATE CREATIVE DIRECTOR  11-2011   \n",
       "1                NaN  E-3 Australian  ACCOUNT SUPERVISOR (MOTHER)  11-2011   \n",
       "2                NaN  E-3 Australian  EXECUTIVE CREATIVE DIRECTOR  11-2011   \n",
       "3                NaN  E-3 Australian      PROJECT MANAGEMENT LEAD  11-2011   \n",
       "4                NaN  E-3 Australian        CREATIVE DIRECTOR, UX  11-2011   \n",
       "\n",
       "                             SOC_TITLE FULL_TIME_POSITION  ...  \\\n",
       "0  ADVERTISING AND PROMOTIONS MANAGERS                  Y  ...   \n",
       "1  ADVERTISING AND PROMOTIONS MANAGERS                  Y  ...   \n",
       "2  ADVERTISING AND PROMOTIONS MANAGERS                  Y  ...   \n",
       "3  ADVERTISING AND PROMOTIONS MANAGERS                  Y  ...   \n",
       "4  ADVERTISING AND PROMOTIONS MANAGERS                  Y  ...   \n",
       "\n",
       "  PW_OTHER_SOURCE_10 PW_NON-OES_YEAR_10  PW_SURVEY_PUBLISHER_10  \\\n",
       "0                NaN                NaN                     NaN   \n",
       "1                NaN                NaN                     NaN   \n",
       "2                NaN                NaN                     NaN   \n",
       "3                NaN                NaN                     NaN   \n",
       "4                NaN                NaN                     NaN   \n",
       "\n",
       "  PW_SURVEY_NAME_10 H-1B_DEPENDENT  WILLFUL_VIOLATOR  SUPPORT_H1B  \\\n",
       "0               NaN              N                 N          NaN   \n",
       "1               NaN            NaN               NaN          NaN   \n",
       "2               NaN            NaN               NaN          NaN   \n",
       "3               NaN            NaN               NaN          NaN   \n",
       "4               NaN            NaN               NaN          NaN   \n",
       "\n",
       "   STATUTORY_BASIS  MASTERS_EXEMPTION PUBLIC_DISCLOSURE  \n",
       "0              NaN                NaN               NaN  \n",
       "1              NaN                NaN               NaN  \n",
       "2              NaN                NaN               NaN  \n",
       "3              NaN                NaN               NaN  \n",
       "4              NaN                NaN               NaN  \n",
       "\n",
       "[5 rows x 260 columns]"
      ]
     },
     "execution_count": 3,
     "metadata": {},
     "output_type": "execute_result"
    }
   ],
   "source": [
    "dataset.head()"
   ]
  },
  {
   "cell_type": "code",
   "execution_count": 4,
   "id": "072d5f24",
   "metadata": {},
   "outputs": [
    {
     "data": {
      "text/plain": [
       "(664616, 260)"
      ]
     },
     "execution_count": 4,
     "metadata": {},
     "output_type": "execute_result"
    }
   ],
   "source": [
    "dataset.shape"
   ]
  },
  {
   "cell_type": "markdown",
   "id": "af9bc619",
   "metadata": {},
   "source": [
    "# Selecting the features which will contribute prominently to the model building\n"
   ]
  },
  {
   "cell_type": "code",
   "execution_count": 5,
   "id": "ac63c44e",
   "metadata": {},
   "outputs": [],
   "source": [
    "dataset = dataset[['CASE_STATUS','VISA_CLASS','EMPLOYER_NAME','AGENT_REPRESENTING_EMPLOYER','SECONDARY_ENTITY_1','JOB_TITLE','SOC_TITLE','SOC_CODE', 'NAICS_CODE','CONTINUED_EMPLOYMENT', 'CHANGE_PREVIOUS_EMPLOYMENT','NEW_CONCURRENT_EMPLOYMENT', 'CHANGE_EMPLOYER','AMENDED_PETITION', 'H-1B_DEPENDENT', 'SUPPORT_H1B','WILLFUL_VIOLATOR','WAGE_RATE_OF_PAY_FROM_1', 'WAGE_UNIT_OF_PAY_1','TOTAL_WORKER_POSITIONS','PREVAILING_WAGE_1']]"
   ]
  },
  {
   "cell_type": "markdown",
   "id": "c746f612",
   "metadata": {},
   "source": [
    "# selecting only those data points for which the visa type is H1 - B"
   ]
  },
  {
   "cell_type": "code",
   "execution_count": 6,
   "id": "1cdeb52c",
   "metadata": {},
   "outputs": [
    {
     "data": {
      "text/plain": [
       "array(['WITHDRAWN', 'CERTIFIED-WITHDRAWN', 'CERTIFIED', 'DENIED'],\n",
       "      dtype=object)"
      ]
     },
     "execution_count": 6,
     "metadata": {},
     "output_type": "execute_result"
    }
   ],
   "source": [
    "dataset.CASE_STATUS.unique()"
   ]
  },
  {
   "cell_type": "code",
   "execution_count": 7,
   "id": "a3d4518a",
   "metadata": {},
   "outputs": [],
   "source": [
    "dataset = dataset[((dataset['CASE_STATUS'].str.upper() == 'CERTIFIED') | \\\n",
    "                               (dataset['CASE_STATUS'].str.upper() == 'DENIED')) & \\\n",
    "                              (dataset['VISA_CLASS'].str.upper() == 'H-1B')] "
   ]
  },
  {
   "cell_type": "code",
   "execution_count": 8,
   "id": "158c95b9",
   "metadata": {},
   "outputs": [
    {
     "data": {
      "text/plain": [
       "array(['CERTIFIED', 'DENIED'], dtype=object)"
      ]
     },
     "execution_count": 8,
     "metadata": {},
     "output_type": "execute_result"
    }
   ],
   "source": [
    "dataset.CASE_STATUS.unique()"
   ]
  },
  {
   "cell_type": "markdown",
   "id": "78172936",
   "metadata": {},
   "source": [
    "# EDA"
   ]
  },
  {
   "cell_type": "code",
   "execution_count": 9,
   "id": "4fc94b42",
   "metadata": {},
   "outputs": [
    {
     "data": {
      "text/plain": [
       "<AxesSubplot:>"
      ]
     },
     "execution_count": 9,
     "metadata": {},
     "output_type": "execute_result"
    },
    {
     "data": {
      "image/png": "[encoded data removed]",
      "text/plain": [
       "<Figure size 432x288 with 1 Axes>"
      ]
     },
     "metadata": {
      "needs_background": "light"
     },
     "output_type": "display_data"
    }
   ],
   "source": [
    "dataset.CASE_STATUS.value_counts().plot(kind = 'bar')\n"
   ]
  },
  {
   "cell_type": "code",
   "execution_count": 10,
   "id": "1ae67cfd",
   "metadata": {},
   "outputs": [
    {
     "data": {
      "text/html": [
       "<div>\n",
       "<style scoped>\n",
       "    .dataframe tbody tr th:only-of-type {\n",
       "        vertical-align: middle;\n",
       "    }\n",
       "\n",
       "    .dataframe tbody tr th {\n",
       "        vertical-align: top;\n",
       "    }\n",
       "\n",
       "    .dataframe thead th {\n",
       "        text-align: right;\n",
       "    }\n",
       "</style>\n",
       "<table border=\"1\" class=\"dataframe\">\n",
       "  <thead>\n",
       "    <tr style=\"text-align: right;\">\n",
       "      <th></th>\n",
       "      <th>EMPLOYER_NAME</th>\n",
       "    </tr>\n",
       "  </thead>\n",
       "  <tbody>\n",
       "    <tr>\n",
       "      <th>COGNIZANT TECHNOLOGY SOLUTIONS US CORP</th>\n",
       "      <td>28106</td>\n",
       "    </tr>\n",
       "    <tr>\n",
       "      <th>INFOSYS LIMITED</th>\n",
       "      <td>21402</td>\n",
       "    </tr>\n",
       "    <tr>\n",
       "      <th>TATA CONSULTANCY SERVICES LIMITED</th>\n",
       "      <td>11839</td>\n",
       "    </tr>\n",
       "    <tr>\n",
       "      <th>GOOGLE LLC</th>\n",
       "      <td>9093</td>\n",
       "    </tr>\n",
       "    <tr>\n",
       "      <th>ERNST &amp; YOUNG U.S. LLP</th>\n",
       "      <td>8661</td>\n",
       "    </tr>\n",
       "    <tr>\n",
       "      <th>...</th>\n",
       "      <td>...</td>\n",
       "    </tr>\n",
       "    <tr>\n",
       "      <th>PYRAMID CONSULTING GROUP, INC.</th>\n",
       "      <td>1</td>\n",
       "    </tr>\n",
       "    <tr>\n",
       "      <th>HEALTH CARE LOGISTICS INC.</th>\n",
       "      <td>1</td>\n",
       "    </tr>\n",
       "    <tr>\n",
       "      <th>INTELLISPAR LLC</th>\n",
       "      <td>1</td>\n",
       "    </tr>\n",
       "    <tr>\n",
       "      <th>ELAN RGV WIRELESS LLC</th>\n",
       "      <td>1</td>\n",
       "    </tr>\n",
       "    <tr>\n",
       "      <th>NG, INC.</th>\n",
       "      <td>1</td>\n",
       "    </tr>\n",
       "  </tbody>\n",
       "</table>\n",
       "<p>62687 rows × 1 columns</p>\n",
       "</div>"
      ],
      "text/plain": [
       "                                        EMPLOYER_NAME\n",
       "COGNIZANT TECHNOLOGY SOLUTIONS US CORP          28106\n",
       "INFOSYS LIMITED                                 21402\n",
       "TATA CONSULTANCY SERVICES LIMITED               11839\n",
       "GOOGLE LLC                                       9093\n",
       "ERNST & YOUNG U.S. LLP                           8661\n",
       "...                                               ...\n",
       "PYRAMID CONSULTING GROUP, INC.                      1\n",
       "HEALTH CARE LOGISTICS INC.                          1\n",
       "INTELLISPAR LLC                                     1\n",
       "ELAN RGV WIRELESS LLC                               1\n",
       "NG, INC.                                            1\n",
       "\n",
       "[62687 rows x 1 columns]"
      ]
     },
     "execution_count": 10,
     "metadata": {},
     "output_type": "execute_result"
    }
   ],
   "source": [
    "emp_name = dataset['EMPLOYER_NAME'].value_counts()\n",
    "emp_name.to_frame()"
   ]
  },
  {
   "cell_type": "code",
   "execution_count": 11,
   "id": "5bd97ae9",
   "metadata": {},
   "outputs": [
    {
     "data": {
      "text/plain": [
       "<AxesSubplot:xlabel='EMPLOYER_NAME'>"
      ]
     },
     "execution_count": 11,
     "metadata": {},
     "output_type": "execute_result"
    },
    {
     "data": {
      "image/png": "[encoded data removed]",
      "text/plain": [
       "<Figure size 432x288 with 1 Axes>"
      ]
     },
     "metadata": {
      "needs_background": "light"
     },
     "output_type": "display_data"
    }
   ],
   "source": [
    "dataset['EMPLOYER_NAME'].value_counts()\n",
    "sns.barplot(x = dataset['EMPLOYER_NAME'].value_counts()[:10], y = dataset['EMPLOYER_NAME'].value_counts().index[:10])"
   ]
  },
  {
   "cell_type": "code",
   "execution_count": 12,
   "id": "9fcd7ba6",
   "metadata": {},
   "outputs": [
    {
     "name": "stderr",
     "output_type": "stream",
     "text": [
      "C:\\ananconda\\lib\\site-packages\\seaborn\\_decorators.py:36: FutureWarning: Pass the following variable as a keyword arg: x. From version 0.12, the only valid positional argument will be `data`, and passing other arguments without an explicit keyword will result in an error or misinterpretation.\n",
      "  warnings.warn(\n"
     ]
    },
    {
     "data": {
      "text/plain": [
       "<AxesSubplot:xlabel='WILLFUL_VIOLATOR', ylabel='count'>"
      ]
     },
     "execution_count": 12,
     "metadata": {},
     "output_type": "execute_result"
    },
    {
     "data": {
      "image/png": "[encoded data removed]",
      "text/plain": [
       "<Figure size 432x288 with 1 Axes>"
      ]
     },
     "metadata": {
      "needs_background": "light"
     },
     "output_type": "display_data"
    }
   ],
   "source": [
    "sns.countplot(dataset.WILLFUL_VIOLATOR)"
   ]
  },
  {
   "cell_type": "code",
   "execution_count": 13,
   "id": "a2f84698",
   "metadata": {},
   "outputs": [
    {
     "data": {
      "text/plain": [
       "array(['Y', 'N', nan], dtype=object)"
      ]
     },
     "execution_count": 13,
     "metadata": {},
     "output_type": "execute_result"
    }
   ],
   "source": [
    "dataset.AGENT_REPRESENTING_EMPLOYER.unique()"
   ]
  },
  {
   "cell_type": "code",
   "execution_count": 14,
   "id": "dc25bc76",
   "metadata": {},
   "outputs": [
    {
     "name": "stderr",
     "output_type": "stream",
     "text": [
      "C:\\ananconda\\lib\\site-packages\\seaborn\\_decorators.py:36: FutureWarning: Pass the following variable as a keyword arg: x. From version 0.12, the only valid positional argument will be `data`, and passing other arguments without an explicit keyword will result in an error or misinterpretation.\n",
      "  warnings.warn(\n"
     ]
    },
    {
     "data": {
      "text/plain": [
       "<AxesSubplot:xlabel='AGENT_REPRESENTING_EMPLOYER', ylabel='count'>"
      ]
     },
     "execution_count": 14,
     "metadata": {},
     "output_type": "execute_result"
    },
    {
     "data": {
      "image/png": "[encoded data removed]",
      "text/plain": [
       "<Figure size 432x288 with 1 Axes>"
      ]
     },
     "metadata": {
      "needs_background": "light"
     },
     "output_type": "display_data"
    }
   ],
   "source": [
    "sns.countplot(dataset.AGENT_REPRESENTING_EMPLOYER)"
   ]
  },
  {
   "cell_type": "code",
   "execution_count": 15,
   "id": "d77fa1a0",
   "metadata": {},
   "outputs": [
    {
     "data": {
      "text/plain": [
       "array(['ADVERSTING AND PROMOTIONS MANAGER',\n",
       "       'ADVERTISING AND PROMOTIONS DIRECTOR', 'PROGRAM MANAGER I', ...,\n",
       "       'INSPECTOR V', 'CONTAINER MOBILE HARBOR CRANE OPERATOR',\n",
       "       'DIGITAL TOUCHPOINTS ANALYST'], dtype=object)"
      ]
     },
     "execution_count": 15,
     "metadata": {},
     "output_type": "execute_result"
    }
   ],
   "source": [
    "dataset.JOB_TITLE.unique()"
   ]
  },
  {
   "cell_type": "code",
   "execution_count": 16,
   "id": "64538fd8",
   "metadata": {},
   "outputs": [
    {
     "data": {
      "text/html": [
       "<div>\n",
       "<style scoped>\n",
       "    .dataframe tbody tr th:only-of-type {\n",
       "        vertical-align: middle;\n",
       "    }\n",
       "\n",
       "    .dataframe tbody tr th {\n",
       "        vertical-align: top;\n",
       "    }\n",
       "\n",
       "    .dataframe thead th {\n",
       "        text-align: right;\n",
       "    }\n",
       "</style>\n",
       "<table border=\"1\" class=\"dataframe\">\n",
       "  <thead>\n",
       "    <tr style=\"text-align: right;\">\n",
       "      <th></th>\n",
       "      <th>CASE_STATUS</th>\n",
       "      <th>VISA_CLASS</th>\n",
       "      <th>EMPLOYER_NAME</th>\n",
       "      <th>AGENT_REPRESENTING_EMPLOYER</th>\n",
       "      <th>SECONDARY_ENTITY_1</th>\n",
       "      <th>JOB_TITLE</th>\n",
       "      <th>SOC_TITLE</th>\n",
       "      <th>SOC_CODE</th>\n",
       "      <th>NAICS_CODE</th>\n",
       "      <th>CONTINUED_EMPLOYMENT</th>\n",
       "      <th>...</th>\n",
       "      <th>NEW_CONCURRENT_EMPLOYMENT</th>\n",
       "      <th>CHANGE_EMPLOYER</th>\n",
       "      <th>AMENDED_PETITION</th>\n",
       "      <th>H-1B_DEPENDENT</th>\n",
       "      <th>SUPPORT_H1B</th>\n",
       "      <th>WILLFUL_VIOLATOR</th>\n",
       "      <th>WAGE_RATE_OF_PAY_FROM_1</th>\n",
       "      <th>WAGE_UNIT_OF_PAY_1</th>\n",
       "      <th>TOTAL_WORKER_POSITIONS</th>\n",
       "      <th>PREVAILING_WAGE_1</th>\n",
       "    </tr>\n",
       "  </thead>\n",
       "  <tbody>\n",
       "    <tr>\n",
       "      <th>24</th>\n",
       "      <td>CERTIFIED</td>\n",
       "      <td>H-1B</td>\n",
       "      <td>FANTUAN GROUP INC</td>\n",
       "      <td>Y</td>\n",
       "      <td>NaN</td>\n",
       "      <td>ADVERSTING AND PROMOTIONS MANAGER</td>\n",
       "      <td>ADVERTISING AND PROMOTIONS MANAGERS</td>\n",
       "      <td>11-2011</td>\n",
       "      <td>511210.0</td>\n",
       "      <td>0</td>\n",
       "      <td>...</td>\n",
       "      <td>0.0</td>\n",
       "      <td>0</td>\n",
       "      <td>0</td>\n",
       "      <td>N</td>\n",
       "      <td>NaN</td>\n",
       "      <td>N</td>\n",
       "      <td>33.0</td>\n",
       "      <td>Hour</td>\n",
       "      <td>1.0</td>\n",
       "      <td>NaN</td>\n",
       "    </tr>\n",
       "    <tr>\n",
       "      <th>26</th>\n",
       "      <td>CERTIFIED</td>\n",
       "      <td>H-1B</td>\n",
       "      <td>TPUSA-FHCS</td>\n",
       "      <td>Y</td>\n",
       "      <td>NaN</td>\n",
       "      <td>ADVERTISING AND PROMOTIONS DIRECTOR</td>\n",
       "      <td>ADVERTISING AND PROMOTIONS MANAGERS</td>\n",
       "      <td>11-2011</td>\n",
       "      <td>56142.0</td>\n",
       "      <td>0</td>\n",
       "      <td>...</td>\n",
       "      <td>0.0</td>\n",
       "      <td>1</td>\n",
       "      <td>0</td>\n",
       "      <td>N</td>\n",
       "      <td>NaN</td>\n",
       "      <td>N</td>\n",
       "      <td>99000.0</td>\n",
       "      <td>Year</td>\n",
       "      <td>1.0</td>\n",
       "      <td>NaN</td>\n",
       "    </tr>\n",
       "    <tr>\n",
       "      <th>47</th>\n",
       "      <td>CERTIFIED</td>\n",
       "      <td>H-1B</td>\n",
       "      <td>UNIVERSITY OF TEXAS AT DALLAS</td>\n",
       "      <td>N</td>\n",
       "      <td>NaN</td>\n",
       "      <td>PROGRAM MANAGER I</td>\n",
       "      <td>ADVERTISING AND PROMOTIONS MANAGERS</td>\n",
       "      <td>11-2011</td>\n",
       "      <td>611310.0</td>\n",
       "      <td>0</td>\n",
       "      <td>...</td>\n",
       "      <td>0.0</td>\n",
       "      <td>0</td>\n",
       "      <td>0</td>\n",
       "      <td>N</td>\n",
       "      <td>NaN</td>\n",
       "      <td>N</td>\n",
       "      <td>67500.0</td>\n",
       "      <td>Year</td>\n",
       "      <td>1.0</td>\n",
       "      <td>55370.0</td>\n",
       "    </tr>\n",
       "    <tr>\n",
       "      <th>52</th>\n",
       "      <td>CERTIFIED</td>\n",
       "      <td>H-1B</td>\n",
       "      <td>ZENITH MEDIA SERVICES, INC.</td>\n",
       "      <td>Y</td>\n",
       "      <td>NaN</td>\n",
       "      <td>ASSOCIATE STRATEGY DIRECTOR</td>\n",
       "      <td>ADVERTISING AND PROMOTIONS MANAGERS</td>\n",
       "      <td>11-2011</td>\n",
       "      <td>541830.0</td>\n",
       "      <td>1</td>\n",
       "      <td>...</td>\n",
       "      <td>0.0</td>\n",
       "      <td>0</td>\n",
       "      <td>0</td>\n",
       "      <td>N</td>\n",
       "      <td>NaN</td>\n",
       "      <td>N</td>\n",
       "      <td>102000.0</td>\n",
       "      <td>Year</td>\n",
       "      <td>1.0</td>\n",
       "      <td>94806.0</td>\n",
       "    </tr>\n",
       "    <tr>\n",
       "      <th>54</th>\n",
       "      <td>CERTIFIED</td>\n",
       "      <td>H-1B</td>\n",
       "      <td>APPLE INC.</td>\n",
       "      <td>Y</td>\n",
       "      <td>NaN</td>\n",
       "      <td>ADVERTISING AND PROMOTIONS MANAGER</td>\n",
       "      <td>ADVERTISING AND PROMOTIONS MANAGERS</td>\n",
       "      <td>11-2011</td>\n",
       "      <td>334111.0</td>\n",
       "      <td>0</td>\n",
       "      <td>...</td>\n",
       "      <td>0.0</td>\n",
       "      <td>0</td>\n",
       "      <td>0</td>\n",
       "      <td>N</td>\n",
       "      <td>NaN</td>\n",
       "      <td>N</td>\n",
       "      <td>97781.0</td>\n",
       "      <td>Year</td>\n",
       "      <td>50.0</td>\n",
       "      <td>97781.0</td>\n",
       "    </tr>\n",
       "  </tbody>\n",
       "</table>\n",
       "<p>5 rows × 21 columns</p>\n",
       "</div>"
      ],
      "text/plain": [
       "   CASE_STATUS VISA_CLASS                  EMPLOYER_NAME  \\\n",
       "24   CERTIFIED       H-1B              FANTUAN GROUP INC   \n",
       "26   CERTIFIED       H-1B                     TPUSA-FHCS   \n",
       "47   CERTIFIED       H-1B  UNIVERSITY OF TEXAS AT DALLAS   \n",
       "52   CERTIFIED       H-1B    ZENITH MEDIA SERVICES, INC.   \n",
       "54   CERTIFIED       H-1B                     APPLE INC.   \n",
       "\n",
       "   AGENT_REPRESENTING_EMPLOYER SECONDARY_ENTITY_1  \\\n",
       "24                           Y                NaN   \n",
       "26                           Y                NaN   \n",
       "47                           N                NaN   \n",
       "52                           Y                NaN   \n",
       "54                           Y                NaN   \n",
       "\n",
       "                              JOB_TITLE                            SOC_TITLE  \\\n",
       "24    ADVERSTING AND PROMOTIONS MANAGER  ADVERTISING AND PROMOTIONS MANAGERS   \n",
       "26  ADVERTISING AND PROMOTIONS DIRECTOR  ADVERTISING AND PROMOTIONS MANAGERS   \n",
       "47                    PROGRAM MANAGER I  ADVERTISING AND PROMOTIONS MANAGERS   \n",
       "52          ASSOCIATE STRATEGY DIRECTOR  ADVERTISING AND PROMOTIONS MANAGERS   \n",
       "54   ADVERTISING AND PROMOTIONS MANAGER  ADVERTISING AND PROMOTIONS MANAGERS   \n",
       "\n",
       "   SOC_CODE  NAICS_CODE CONTINUED_EMPLOYMENT  ...  NEW_CONCURRENT_EMPLOYMENT  \\\n",
       "24  11-2011    511210.0                    0  ...                        0.0   \n",
       "26  11-2011     56142.0                    0  ...                        0.0   \n",
       "47  11-2011    611310.0                    0  ...                        0.0   \n",
       "52  11-2011    541830.0                    1  ...                        0.0   \n",
       "54  11-2011    334111.0                    0  ...                        0.0   \n",
       "\n",
       "    CHANGE_EMPLOYER  AMENDED_PETITION  H-1B_DEPENDENT SUPPORT_H1B  \\\n",
       "24                0                 0               N         NaN   \n",
       "26                1                 0               N         NaN   \n",
       "47                0                 0               N         NaN   \n",
       "52                0                 0               N         NaN   \n",
       "54                0                 0               N         NaN   \n",
       "\n",
       "   WILLFUL_VIOLATOR WAGE_RATE_OF_PAY_FROM_1  WAGE_UNIT_OF_PAY_1  \\\n",
       "24                N                    33.0                Hour   \n",
       "26                N                 99000.0                Year   \n",
       "47                N                 67500.0                Year   \n",
       "52                N                102000.0                Year   \n",
       "54                N                 97781.0                Year   \n",
       "\n",
       "   TOTAL_WORKER_POSITIONS  PREVAILING_WAGE_1  \n",
       "24                    1.0                NaN  \n",
       "26                    1.0                NaN  \n",
       "47                    1.0            55370.0  \n",
       "52                    1.0            94806.0  \n",
       "54                   50.0            97781.0  \n",
       "\n",
       "[5 rows x 21 columns]"
      ]
     },
     "execution_count": 16,
     "metadata": {},
     "output_type": "execute_result"
    }
   ],
   "source": [
    "dataset.head()"
   ]
  },
  {
   "cell_type": "code",
   "execution_count": 17,
   "id": "d27afefe",
   "metadata": {},
   "outputs": [
    {
     "name": "stdout",
     "output_type": "stream",
     "text": [
      "<class 'pandas.core.frame.DataFrame'>\n",
      "Int64Index: 583806 entries, 24 to 664615\n",
      "Data columns (total 21 columns):\n",
      " #   Column                       Non-Null Count   Dtype  \n",
      "---  ------                       --------------   -----  \n",
      " 0   CASE_STATUS                  583806 non-null  object \n",
      " 1   VISA_CLASS                   583806 non-null  object \n",
      " 2   EMPLOYER_NAME                583802 non-null  object \n",
      " 3   AGENT_REPRESENTING_EMPLOYER  583801 non-null  object \n",
      " 4   SECONDARY_ENTITY_1           534045 non-null  object \n",
      " 5   JOB_TITLE                    583806 non-null  object \n",
      " 6   SOC_TITLE                    583802 non-null  object \n",
      " 7   SOC_CODE                     583802 non-null  object \n",
      " 8   NAICS_CODE                   583805 non-null  float64\n",
      " 9   CONTINUED_EMPLOYMENT         583806 non-null  object \n",
      " 10  CHANGE_PREVIOUS_EMPLOYMENT   583806 non-null  int64  \n",
      " 11  NEW_CONCURRENT_EMPLOYMENT    583805 non-null  float64\n",
      " 12  CHANGE_EMPLOYER              583806 non-null  int64  \n",
      " 13  AMENDED_PETITION             583806 non-null  int64  \n",
      " 14  H-1B_DEPENDENT               583786 non-null  object \n",
      " 15  SUPPORT_H1B                  218528 non-null  object \n",
      " 16  WILLFUL_VIOLATOR             583786 non-null  object \n",
      " 17  WAGE_RATE_OF_PAY_FROM_1      583802 non-null  float64\n",
      " 18  WAGE_UNIT_OF_PAY_1           583802 non-null  object \n",
      " 19  TOTAL_WORKER_POSITIONS       583805 non-null  float64\n",
      " 20  PREVAILING_WAGE_1            579125 non-null  float64\n",
      "dtypes: float64(5), int64(3), object(13)\n",
      "memory usage: 114.1+ MB\n"
     ]
    }
   ],
   "source": [
    "dataset.info()"
   ]
  },
  {
   "cell_type": "code",
   "execution_count": 18,
   "id": "ad1c3425",
   "metadata": {},
   "outputs": [
    {
     "data": {
      "text/plain": [
       "24    N\n",
       "26    N\n",
       "47    N\n",
       "52    N\n",
       "54    N\n",
       "Name: H-1B_DEPENDENT, dtype: object"
      ]
     },
     "execution_count": 18,
     "metadata": {},
     "output_type": "execute_result"
    }
   ],
   "source": [
    "dataset['H-1B_DEPENDENT'].head()"
   ]
  },
  {
   "cell_type": "code",
   "execution_count": 19,
   "id": "fd7eeb4f",
   "metadata": {},
   "outputs": [
    {
     "data": {
      "text/plain": [
       "array(['N', 'Y', nan], dtype=object)"
      ]
     },
     "execution_count": 19,
     "metadata": {},
     "output_type": "execute_result"
    }
   ],
   "source": [
    "dataset['H-1B_DEPENDENT'].unique()"
   ]
  },
  {
   "cell_type": "code",
   "execution_count": 20,
   "id": "73983c95",
   "metadata": {},
   "outputs": [
    {
     "name": "stderr",
     "output_type": "stream",
     "text": [
      "C:\\ananconda\\lib\\site-packages\\seaborn\\_decorators.py:36: FutureWarning: Pass the following variable as a keyword arg: x. From version 0.12, the only valid positional argument will be `data`, and passing other arguments without an explicit keyword will result in an error or misinterpretation.\n",
      "  warnings.warn(\n"
     ]
    },
    {
     "data": {
      "text/plain": [
       "<AxesSubplot:xlabel='H-1B_DEPENDENT', ylabel='count'>"
      ]
     },
     "execution_count": 20,
     "metadata": {},
     "output_type": "execute_result"
    },
    {
     "data": {
      "image/png": "[encoded data removed]",
      "text/plain": [
       "<Figure size 432x288 with 1 Axes>"
      ]
     },
     "metadata": {
      "needs_background": "light"
     },
     "output_type": "display_data"
    }
   ],
   "source": [
    "sns.countplot(dataset['H-1B_DEPENDENT'])"
   ]
  },
  {
   "cell_type": "code",
   "execution_count": 21,
   "id": "a47e087d",
   "metadata": {},
   "outputs": [
    {
     "data": {
      "text/html": [
       "<div>\n",
       "<style scoped>\n",
       "    .dataframe tbody tr th:only-of-type {\n",
       "        vertical-align: middle;\n",
       "    }\n",
       "\n",
       "    .dataframe tbody tr th {\n",
       "        vertical-align: top;\n",
       "    }\n",
       "\n",
       "    .dataframe thead th {\n",
       "        text-align: right;\n",
       "    }\n",
       "</style>\n",
       "<table border=\"1\" class=\"dataframe\">\n",
       "  <thead>\n",
       "    <tr style=\"text-align: right;\">\n",
       "      <th></th>\n",
       "      <th>AMENDED_PETITION</th>\n",
       "    </tr>\n",
       "  </thead>\n",
       "  <tbody>\n",
       "    <tr>\n",
       "      <th>24</th>\n",
       "      <td>0</td>\n",
       "    </tr>\n",
       "    <tr>\n",
       "      <th>26</th>\n",
       "      <td>0</td>\n",
       "    </tr>\n",
       "    <tr>\n",
       "      <th>47</th>\n",
       "      <td>0</td>\n",
       "    </tr>\n",
       "    <tr>\n",
       "      <th>52</th>\n",
       "      <td>0</td>\n",
       "    </tr>\n",
       "    <tr>\n",
       "      <th>54</th>\n",
       "      <td>0</td>\n",
       "    </tr>\n",
       "    <tr>\n",
       "      <th>...</th>\n",
       "      <td>...</td>\n",
       "    </tr>\n",
       "    <tr>\n",
       "      <th>664611</th>\n",
       "      <td>0</td>\n",
       "    </tr>\n",
       "    <tr>\n",
       "      <th>664612</th>\n",
       "      <td>0</td>\n",
       "    </tr>\n",
       "    <tr>\n",
       "      <th>664613</th>\n",
       "      <td>0</td>\n",
       "    </tr>\n",
       "    <tr>\n",
       "      <th>664614</th>\n",
       "      <td>0</td>\n",
       "    </tr>\n",
       "    <tr>\n",
       "      <th>664615</th>\n",
       "      <td>0</td>\n",
       "    </tr>\n",
       "  </tbody>\n",
       "</table>\n",
       "<p>583806 rows × 1 columns</p>\n",
       "</div>"
      ],
      "text/plain": [
       "        AMENDED_PETITION\n",
       "24                     0\n",
       "26                     0\n",
       "47                     0\n",
       "52                     0\n",
       "54                     0\n",
       "...                  ...\n",
       "664611                 0\n",
       "664612                 0\n",
       "664613                 0\n",
       "664614                 0\n",
       "664615                 0\n",
       "\n",
       "[583806 rows x 1 columns]"
      ]
     },
     "execution_count": 21,
     "metadata": {},
     "output_type": "execute_result"
    }
   ],
   "source": [
    "ammendedPetition = dataset.AMENDED_PETITION\n",
    "ammendedPetition.to_frame()"
   ]
  },
  {
   "cell_type": "code",
   "execution_count": 22,
   "id": "2e909045",
   "metadata": {},
   "outputs": [
    {
     "data": {
      "text/plain": [
       "24     0\n",
       "26     1\n",
       "47     0\n",
       "52     0\n",
       "54     0\n",
       "55     0\n",
       "56     0\n",
       "57     0\n",
       "72     0\n",
       "73     1\n",
       "75     1\n",
       "79     0\n",
       "84     0\n",
       "87     1\n",
       "88     0\n",
       "90     1\n",
       "93     1\n",
       "94     0\n",
       "96     1\n",
       "97     0\n",
       "106    0\n",
       "107    0\n",
       "111    0\n",
       "120    0\n",
       "121    0\n",
       "122    0\n",
       "128    0\n",
       "130    0\n",
       "131    0\n",
       "132    0\n",
       "Name: CHANGE_EMPLOYER, dtype: int64"
      ]
     },
     "execution_count": 22,
     "metadata": {},
     "output_type": "execute_result"
    }
   ],
   "source": [
    "dataset.CHANGE_EMPLOYER.head(30)"
   ]
  },
  {
   "cell_type": "code",
   "execution_count": 23,
   "id": "5c59b031",
   "metadata": {},
   "outputs": [
    {
     "data": {
      "text/plain": [
       "array([ 0,  1,  5,  2,  4, 10, 15,  3, 50, 30, 20,  6,  8, 25, 99,  7, 16,\n",
       "       54, 40, 12,  9, 11], dtype=int64)"
      ]
     },
     "execution_count": 23,
     "metadata": {},
     "output_type": "execute_result"
    }
   ],
   "source": [
    "dataset.CHANGE_EMPLOYER.unique()"
   ]
  },
  {
   "cell_type": "code",
   "execution_count": 24,
   "id": "c69a7dfc",
   "metadata": {},
   "outputs": [
    {
     "name": "stderr",
     "output_type": "stream",
     "text": [
      "C:\\ananconda\\lib\\site-packages\\seaborn\\_decorators.py:36: FutureWarning: Pass the following variable as a keyword arg: x. From version 0.12, the only valid positional argument will be `data`, and passing other arguments without an explicit keyword will result in an error or misinterpretation.\n",
      "  warnings.warn(\n"
     ]
    },
    {
     "data": {
      "text/plain": [
       "<AxesSubplot:xlabel='CHANGE_EMPLOYER', ylabel='count'>"
      ]
     },
     "execution_count": 24,
     "metadata": {},
     "output_type": "execute_result"
    },
    {
     "data": {
      "image/png": "[encoded data removed]",
      "text/plain": [
       "<Figure size 432x288 with 1 Axes>"
      ]
     },
     "metadata": {
      "needs_background": "light"
     },
     "output_type": "display_data"
    }
   ],
   "source": [
    "sns.countplot(dataset.CHANGE_EMPLOYER)"
   ]
  },
  {
   "cell_type": "code",
   "execution_count": 25,
   "id": "c3e54f7e",
   "metadata": {},
   "outputs": [
    {
     "data": {
      "text/plain": [
       "24     NaN\n",
       "26     NaN\n",
       "47     NaN\n",
       "52     NaN\n",
       "54     NaN\n",
       "55     NaN\n",
       "56     NaN\n",
       "57     NaN\n",
       "72       N\n",
       "73       N\n",
       "75       N\n",
       "79       N\n",
       "84       N\n",
       "87       N\n",
       "88       N\n",
       "90       N\n",
       "93       N\n",
       "94       N\n",
       "96       N\n",
       "97       N\n",
       "106      N\n",
       "107      N\n",
       "111      N\n",
       "120      N\n",
       "121      N\n",
       "122      N\n",
       "128      N\n",
       "130      N\n",
       "131      N\n",
       "132      N\n",
       "133      N\n",
       "136      N\n",
       "139      N\n",
       "140      N\n",
       "141      N\n",
       "142      N\n",
       "143      N\n",
       "144      N\n",
       "146      N\n",
       "147      N\n",
       "148      N\n",
       "149      N\n",
       "150      N\n",
       "151      N\n",
       "152      N\n",
       "153      N\n",
       "154      N\n",
       "155      N\n",
       "156      N\n",
       "157      N\n",
       "Name: SECONDARY_ENTITY_1, dtype: object"
      ]
     },
     "execution_count": 25,
     "metadata": {},
     "output_type": "execute_result"
    }
   ],
   "source": [
    "dataset['SECONDARY_ENTITY_1'].head(50)"
   ]
  },
  {
   "cell_type": "code",
   "execution_count": 26,
   "id": "d65cc159",
   "metadata": {},
   "outputs": [
    {
     "data": {
      "text/plain": [
       "array([nan, 'N', 'Y'], dtype=object)"
      ]
     },
     "execution_count": 26,
     "metadata": {},
     "output_type": "execute_result"
    }
   ],
   "source": [
    "dataset['SECONDARY_ENTITY_1'].unique()"
   ]
  },
  {
   "cell_type": "code",
   "execution_count": 27,
   "id": "31d4ac23",
   "metadata": {},
   "outputs": [
    {
     "data": {
      "text/plain": [
       "N    321406\n",
       "Y    212639\n",
       "Name: SECONDARY_ENTITY_1, dtype: int64"
      ]
     },
     "execution_count": 27,
     "metadata": {},
     "output_type": "execute_result"
    }
   ],
   "source": [
    "dataset['SECONDARY_ENTITY_1'].value_counts()"
   ]
  },
  {
   "cell_type": "code",
   "execution_count": 28,
   "id": "51581ff6",
   "metadata": {},
   "outputs": [
    {
     "name": "stderr",
     "output_type": "stream",
     "text": [
      "C:\\ananconda\\lib\\site-packages\\seaborn\\_decorators.py:36: FutureWarning: Pass the following variable as a keyword arg: x. From version 0.12, the only valid positional argument will be `data`, and passing other arguments without an explicit keyword will result in an error or misinterpretation.\n",
      "  warnings.warn(\n"
     ]
    },
    {
     "data": {
      "text/plain": [
       "<AxesSubplot:xlabel='SECONDARY_ENTITY_1', ylabel='count'>"
      ]
     },
     "execution_count": 28,
     "metadata": {},
     "output_type": "execute_result"
    },
    {
     "data": {
      "image/png": "[encoded data removed]",
      "text/plain": [
       "<Figure size 432x288 with 1 Axes>"
      ]
     },
     "metadata": {
      "needs_background": "light"
     },
     "output_type": "display_data"
    }
   ],
   "source": [
    "sns.countplot(dataset['SECONDARY_ENTITY_1'])"
   ]
  },
  {
   "cell_type": "markdown",
   "id": "8f1cd6e6",
   "metadata": {},
   "source": [
    "# Dealing with missing values"
   ]
  },
  {
   "cell_type": "code",
   "execution_count": 29,
   "id": "3635ecfc",
   "metadata": {},
   "outputs": [
    {
     "data": {
      "text/plain": [
       "CASE_STATUS                         0\n",
       "VISA_CLASS                          0\n",
       "EMPLOYER_NAME                       4\n",
       "AGENT_REPRESENTING_EMPLOYER         5\n",
       "SECONDARY_ENTITY_1              49761\n",
       "JOB_TITLE                           0\n",
       "SOC_TITLE                           4\n",
       "SOC_CODE                            4\n",
       "NAICS_CODE                          1\n",
       "CONTINUED_EMPLOYMENT                0\n",
       "CHANGE_PREVIOUS_EMPLOYMENT          0\n",
       "NEW_CONCURRENT_EMPLOYMENT           1\n",
       "CHANGE_EMPLOYER                     0\n",
       "AMENDED_PETITION                    0\n",
       "H-1B_DEPENDENT                     20\n",
       "SUPPORT_H1B                    365278\n",
       "WILLFUL_VIOLATOR                   20\n",
       "WAGE_RATE_OF_PAY_FROM_1             4\n",
       "WAGE_UNIT_OF_PAY_1                  4\n",
       "TOTAL_WORKER_POSITIONS              1\n",
       "PREVAILING_WAGE_1                4681\n",
       "dtype: int64"
      ]
     },
     "execution_count": 29,
     "metadata": {},
     "output_type": "execute_result"
    }
   ],
   "source": [
    "dataset.isnull().sum()"
   ]
  },
  {
   "cell_type": "code",
   "execution_count": 30,
   "id": "96d6474a",
   "metadata": {},
   "outputs": [
    {
     "data": {
      "text/plain": [
       "Y    216762\n",
       "N      1766\n",
       "Name: SUPPORT_H1B, dtype: int64"
      ]
     },
     "execution_count": 30,
     "metadata": {},
     "output_type": "execute_result"
    }
   ],
   "source": [
    "dataset.SUPPORT_H1B.value_counts()"
   ]
  },
  {
   "cell_type": "code",
   "execution_count": 31,
   "id": "f336f64b",
   "metadata": {},
   "outputs": [
    {
     "data": {
      "text/plain": [
       "count     218528\n",
       "unique         2\n",
       "top            Y\n",
       "freq      216762\n",
       "Name: SUPPORT_H1B, dtype: object"
      ]
     },
     "execution_count": 31,
     "metadata": {},
     "output_type": "execute_result"
    }
   ],
   "source": [
    "dataset.SUPPORT_H1B.describe()"
   ]
  },
  {
   "cell_type": "code",
   "execution_count": 32,
   "id": "229489b0",
   "metadata": {},
   "outputs": [],
   "source": [
    "dataset.SUPPORT_H1B.fillna(\"Y\",inplace = True)"
   ]
  },
  {
   "cell_type": "code",
   "execution_count": 33,
   "id": "78c708f7",
   "metadata": {},
   "outputs": [
    {
     "data": {
      "text/plain": [
       "CASE_STATUS                        0\n",
       "VISA_CLASS                         0\n",
       "EMPLOYER_NAME                      4\n",
       "AGENT_REPRESENTING_EMPLOYER        5\n",
       "SECONDARY_ENTITY_1             49761\n",
       "JOB_TITLE                          0\n",
       "SOC_TITLE                          4\n",
       "SOC_CODE                           4\n",
       "NAICS_CODE                         1\n",
       "CONTINUED_EMPLOYMENT               0\n",
       "CHANGE_PREVIOUS_EMPLOYMENT         0\n",
       "NEW_CONCURRENT_EMPLOYMENT          1\n",
       "CHANGE_EMPLOYER                    0\n",
       "AMENDED_PETITION                   0\n",
       "H-1B_DEPENDENT                    20\n",
       "SUPPORT_H1B                        0\n",
       "WILLFUL_VIOLATOR                  20\n",
       "WAGE_RATE_OF_PAY_FROM_1            4\n",
       "WAGE_UNIT_OF_PAY_1                 4\n",
       "TOTAL_WORKER_POSITIONS             1\n",
       "PREVAILING_WAGE_1               4681\n",
       "dtype: int64"
      ]
     },
     "execution_count": 33,
     "metadata": {},
     "output_type": "execute_result"
    }
   ],
   "source": [
    "dataset.isnull().sum()"
   ]
  },
  {
   "cell_type": "code",
   "execution_count": 34,
   "id": "dd651227",
   "metadata": {},
   "outputs": [
    {
     "data": {
      "text/plain": [
       "count     534045\n",
       "unique         2\n",
       "top            N\n",
       "freq      321406\n",
       "Name: SECONDARY_ENTITY_1, dtype: object"
      ]
     },
     "execution_count": 34,
     "metadata": {},
     "output_type": "execute_result"
    }
   ],
   "source": [
    "dataset['SECONDARY_ENTITY_1'].describe()"
   ]
  },
  {
   "cell_type": "code",
   "execution_count": 35,
   "id": "4830bbbc",
   "metadata": {},
   "outputs": [],
   "source": [
    "dataset['SECONDARY_ENTITY_1'].fillna(\"N\",inplace = True)"
   ]
  },
  {
   "cell_type": "code",
   "execution_count": 36,
   "id": "ef1c5794",
   "metadata": {},
   "outputs": [
    {
     "data": {
      "text/plain": [
       "CASE_STATUS                       0\n",
       "VISA_CLASS                        0\n",
       "EMPLOYER_NAME                     4\n",
       "AGENT_REPRESENTING_EMPLOYER       5\n",
       "SECONDARY_ENTITY_1                0\n",
       "JOB_TITLE                         0\n",
       "SOC_TITLE                         4\n",
       "SOC_CODE                          4\n",
       "NAICS_CODE                        1\n",
       "CONTINUED_EMPLOYMENT              0\n",
       "CHANGE_PREVIOUS_EMPLOYMENT        0\n",
       "NEW_CONCURRENT_EMPLOYMENT         1\n",
       "CHANGE_EMPLOYER                   0\n",
       "AMENDED_PETITION                  0\n",
       "H-1B_DEPENDENT                   20\n",
       "SUPPORT_H1B                       0\n",
       "WILLFUL_VIOLATOR                 20\n",
       "WAGE_RATE_OF_PAY_FROM_1           4\n",
       "WAGE_UNIT_OF_PAY_1                4\n",
       "TOTAL_WORKER_POSITIONS            1\n",
       "PREVAILING_WAGE_1              4681\n",
       "dtype: int64"
      ]
     },
     "execution_count": 36,
     "metadata": {},
     "output_type": "execute_result"
    }
   ],
   "source": [
    "dataset.isnull().sum()"
   ]
  },
  {
   "cell_type": "code",
   "execution_count": 37,
   "id": "0f1b6863",
   "metadata": {},
   "outputs": [
    {
     "data": {
      "text/plain": [
       "count     583806\n",
       "unique         2\n",
       "top            Y\n",
       "freq      582040\n",
       "Name: SUPPORT_H1B, dtype: object"
      ]
     },
     "execution_count": 37,
     "metadata": {},
     "output_type": "execute_result"
    }
   ],
   "source": [
    "dataset.SUPPORT_H1B.describe()"
   ]
  },
  {
   "cell_type": "code",
   "execution_count": 38,
   "id": "a84f381e",
   "metadata": {},
   "outputs": [
    {
     "data": {
      "text/plain": [
       "array(['Y', 'N'], dtype=object)"
      ]
     },
     "execution_count": 38,
     "metadata": {},
     "output_type": "execute_result"
    }
   ],
   "source": [
    "dataset.SUPPORT_H1B.unique()"
   ]
  },
  {
   "cell_type": "code",
   "execution_count": 39,
   "id": "d292b998",
   "metadata": {},
   "outputs": [
    {
     "name": "stderr",
     "output_type": "stream",
     "text": [
      "C:\\ananconda\\lib\\site-packages\\seaborn\\_decorators.py:36: FutureWarning: Pass the following variable as a keyword arg: x. From version 0.12, the only valid positional argument will be `data`, and passing other arguments without an explicit keyword will result in an error or misinterpretation.\n",
      "  warnings.warn(\n"
     ]
    },
    {
     "data": {
      "text/plain": [
       "<AxesSubplot:xlabel='SUPPORT_H1B', ylabel='count'>"
      ]
     },
     "execution_count": 39,
     "metadata": {},
     "output_type": "execute_result"
    },
    {
     "data": {
      "image/png": "[encoded data removed]",
      "text/plain": [
       "<Figure size 432x288 with 1 Axes>"
      ]
     },
     "metadata": {
      "needs_background": "light"
     },
     "output_type": "display_data"
    }
   ],
   "source": [
    "sns.countplot(dataset.SUPPORT_H1B)"
   ]
  },
  {
   "cell_type": "code",
   "execution_count": 40,
   "id": "4a38bb29",
   "metadata": {},
   "outputs": [],
   "source": [
    "dataset.SUPPORT_H1B.fillna(\"Y\",inplace = True)"
   ]
  },
  {
   "cell_type": "code",
   "execution_count": 41,
   "id": "02f42edb",
   "metadata": {},
   "outputs": [
    {
     "name": "stderr",
     "output_type": "stream",
     "text": [
      "C:\\ananconda\\lib\\site-packages\\seaborn\\_decorators.py:36: FutureWarning: Pass the following variable as a keyword arg: x. From version 0.12, the only valid positional argument will be `data`, and passing other arguments without an explicit keyword will result in an error or misinterpretation.\n",
      "  warnings.warn(\n"
     ]
    },
    {
     "data": {
      "text/plain": [
       "<AxesSubplot:xlabel='WAGE_RATE_OF_PAY_FROM_1'>"
      ]
     },
     "execution_count": 41,
     "metadata": {},
     "output_type": "execute_result"
    },
    {
     "data": {
      "image/png": "[encoded data removed]",
      "text/plain": [
       "<Figure size 432x288 with 1 Axes>"
      ]
     },
     "metadata": {
      "needs_background": "light"
     },
     "output_type": "display_data"
    }
   ],
   "source": [
    "sns.boxplot(dataset['WAGE_RATE_OF_PAY_FROM_1'])"
   ]
  },
  {
   "cell_type": "code",
   "execution_count": 42,
   "id": "3e5b1ca0",
   "metadata": {},
   "outputs": [
    {
     "data": {
      "text/plain": [
       "count    5.838020e+05\n",
       "mean     9.373977e+04\n",
       "std      4.568385e+04\n",
       "min      7.500000e+00\n",
       "25%      7.381900e+04\n",
       "50%      9.000000e+04\n",
       "75%      1.133810e+05\n",
       "max      1.870000e+06\n",
       "Name: WAGE_RATE_OF_PAY_FROM_1, dtype: float64"
      ]
     },
     "execution_count": 42,
     "metadata": {},
     "output_type": "execute_result"
    }
   ],
   "source": [
    "dataset['WAGE_RATE_OF_PAY_FROM_1'].describe()"
   ]
  },
  {
   "cell_type": "code",
   "execution_count": 43,
   "id": "b6974bc2",
   "metadata": {},
   "outputs": [
    {
     "data": {
      "text/plain": [
       "4"
      ]
     },
     "execution_count": 43,
     "metadata": {},
     "output_type": "execute_result"
    }
   ],
   "source": [
    "dataset['WAGE_RATE_OF_PAY_FROM_1'].isnull().sum()"
   ]
  },
  {
   "cell_type": "code",
   "execution_count": 44,
   "id": "eb0afd9e",
   "metadata": {},
   "outputs": [
    {
     "name": "stderr",
     "output_type": "stream",
     "text": [
      "C:\\ananconda\\lib\\site-packages\\seaborn\\_decorators.py:36: FutureWarning: Pass the following variable as a keyword arg: x. From version 0.12, the only valid positional argument will be `data`, and passing other arguments without an explicit keyword will result in an error or misinterpretation.\n",
      "  warnings.warn(\n"
     ]
    },
    {
     "data": {
      "text/plain": [
       "<AxesSubplot:xlabel='WAGE_UNIT_OF_PAY_1', ylabel='count'>"
      ]
     },
     "execution_count": 44,
     "metadata": {},
     "output_type": "execute_result"
    },
    {
     "data": {
      "image/png": "[encoded data removed]",
      "text/plain": [
       "<Figure size 432x288 with 1 Axes>"
      ]
     },
     "metadata": {
      "needs_background": "light"
     },
     "output_type": "display_data"
    }
   ],
   "source": [
    "#sns.boxplot(dataset['WAGE_UNIT_OF_PAY_1'])\n",
    "sns.countplot(dataset['WAGE_UNIT_OF_PAY_1'])"
   ]
  },
  {
   "cell_type": "code",
   "execution_count": 45,
   "id": "6b6f4de9",
   "metadata": {},
   "outputs": [
    {
     "data": {
      "text/plain": [
       "24        Hour\n",
       "26        Year\n",
       "47        Year\n",
       "52        Year\n",
       "54        Year\n",
       "          ... \n",
       "664611    Year\n",
       "664612    Year\n",
       "664613    Year\n",
       "664614    Year\n",
       "664615    Year\n",
       "Name: WAGE_UNIT_OF_PAY_1, Length: 583806, dtype: object"
      ]
     },
     "execution_count": 45,
     "metadata": {},
     "output_type": "execute_result"
    }
   ],
   "source": [
    "(dataset['WAGE_UNIT_OF_PAY_1'])"
   ]
  },
  {
   "cell_type": "code",
   "execution_count": 46,
   "id": "3e114283",
   "metadata": {},
   "outputs": [],
   "source": [
    "def convert(x):\n",
    "  if x=='Y':\n",
    "    return(0)\n",
    "  else:\n",
    "    return(1)"
   ]
  },
  {
   "cell_type": "code",
   "execution_count": 47,
   "id": "08bba2d3",
   "metadata": {},
   "outputs": [],
   "source": [
    "dataset['WAGE_UNIT_OF_PAY_1'] = dataset['WAGE_UNIT_OF_PAY_1'].apply(convert)"
   ]
  },
  {
   "cell_type": "code",
   "execution_count": 48,
   "id": "a6f8e549",
   "metadata": {},
   "outputs": [
    {
     "data": {
      "text/plain": [
       "24     1\n",
       "26     1\n",
       "47     1\n",
       "52     1\n",
       "54     1\n",
       "55     1\n",
       "56     1\n",
       "57     1\n",
       "72     1\n",
       "73     1\n",
       "75     1\n",
       "79     1\n",
       "84     1\n",
       "87     1\n",
       "88     1\n",
       "90     1\n",
       "93     1\n",
       "94     1\n",
       "96     1\n",
       "97     1\n",
       "106    1\n",
       "107    1\n",
       "111    1\n",
       "120    1\n",
       "121    1\n",
       "122    1\n",
       "128    1\n",
       "130    1\n",
       "131    1\n",
       "132    1\n",
       "133    1\n",
       "136    1\n",
       "139    1\n",
       "140    1\n",
       "141    1\n",
       "142    1\n",
       "143    1\n",
       "144    1\n",
       "146    1\n",
       "147    1\n",
       "148    1\n",
       "149    1\n",
       "150    1\n",
       "151    1\n",
       "152    1\n",
       "153    1\n",
       "154    1\n",
       "155    1\n",
       "156    1\n",
       "157    1\n",
       "Name: WAGE_UNIT_OF_PAY_1, dtype: int64"
      ]
     },
     "execution_count": 48,
     "metadata": {},
     "output_type": "execute_result"
    }
   ],
   "source": [
    "dataset['WAGE_UNIT_OF_PAY_1'].head(50)"
   ]
  },
  {
   "cell_type": "code",
   "execution_count": 49,
   "id": "eccba910",
   "metadata": {},
   "outputs": [
    {
     "data": {
      "text/plain": [
       "1.0      547907\n",
       "3.0        6504\n",
       "2.0        5274\n",
       "15.0       4970\n",
       "10.0       4944\n",
       "5.0        3724\n",
       "6.0        1992\n",
       "20.0       1839\n",
       "25.0       1649\n",
       "50.0       1323\n",
       "4.0        1042\n",
       "30.0       1016\n",
       "12.0        215\n",
       "24.0        204\n",
       "8.0         183\n",
       "60.0        172\n",
       "7.0         149\n",
       "100.0       144\n",
       "75.0        106\n",
       "40.0         91\n",
       "9.0          49\n",
       "45.0         32\n",
       "150.0        24\n",
       "16.0         24\n",
       "11.0         24\n",
       "14.0         23\n",
       "13.0         19\n",
       "35.0         18\n",
       "32.0         16\n",
       "34.0         15\n",
       "200.0        15\n",
       "17.0         14\n",
       "18.0         13\n",
       "36.0         11\n",
       "22.0          8\n",
       "19.0          8\n",
       "99.0          6\n",
       "175.0         6\n",
       "28.0          4\n",
       "23.0          4\n",
       "80.0          3\n",
       "594.0         2\n",
       "500.0         2\n",
       "90.0          2\n",
       "300.0         2\n",
       "70.0          2\n",
       "110.0         1\n",
       "31.0          1\n",
       "21.0          1\n",
       "26.0          1\n",
       "43.0          1\n",
       "78.0          1\n",
       "37.0          1\n",
       "54.0          1\n",
       "76.0          1\n",
       "65.0          1\n",
       "47.0          1\n",
       "Name: TOTAL_WORKER_POSITIONS, dtype: int64"
      ]
     },
     "execution_count": 49,
     "metadata": {},
     "output_type": "execute_result"
    }
   ],
   "source": [
    "dataset['TOTAL_WORKER_POSITIONS'].value_counts()"
   ]
  },
  {
   "cell_type": "code",
   "execution_count": 50,
   "id": "a9c4fe5d",
   "metadata": {},
   "outputs": [
    {
     "name": "stderr",
     "output_type": "stream",
     "text": [
      "C:\\ananconda\\lib\\site-packages\\seaborn\\_decorators.py:36: FutureWarning: Pass the following variable as a keyword arg: x. From version 0.12, the only valid positional argument will be `data`, and passing other arguments without an explicit keyword will result in an error or misinterpretation.\n",
      "  warnings.warn(\n"
     ]
    },
    {
     "data": {
      "text/plain": [
       "<AxesSubplot:xlabel='PREVAILING_WAGE_1'>"
      ]
     },
     "execution_count": 50,
     "metadata": {},
     "output_type": "execute_result"
    },
    {
     "data": {
      "image/png": "[encoded data removed]",
      "text/plain": [
       "<Figure size 432x288 with 1 Axes>"
      ]
     },
     "metadata": {
      "needs_background": "light"
     },
     "output_type": "display_data"
    }
   ],
   "source": [
    "sns.boxplot(dataset['PREVAILING_WAGE_1'])"
   ]
  },
  {
   "cell_type": "code",
   "execution_count": 51,
   "id": "8b6f86fe",
   "metadata": {},
   "outputs": [
    {
     "data": {
      "text/plain": [
       "<matplotlib.collections.PathCollection at 0x2976ded1c70>"
      ]
     },
     "execution_count": 51,
     "metadata": {},
     "output_type": "execute_result"
    },
    {
     "data": {
      "image/png": "[encoded data removed]",
      "text/plain": [
       "<Figure size 432x288 with 1 Axes>"
      ]
     },
     "metadata": {
      "needs_background": "light"
     },
     "output_type": "display_data"
    }
   ],
   "source": [
    "plt.scatter(dataset['PREVAILING_WAGE_1'], dataset['CASE_STATUS'])"
   ]
  },
  {
   "cell_type": "code",
   "execution_count": 52,
   "id": "91c62967",
   "metadata": {},
   "outputs": [
    {
     "data": {
      "text/plain": [
       "<AxesSubplot:xlabel='CASE_STATUS'>"
      ]
     },
     "execution_count": 52,
     "metadata": {},
     "output_type": "execute_result"
    },
    {
     "data": {
      "image/png": "[encoded data removed]",
      "text/plain": [
       "<Figure size 432x288 with 1 Axes>"
      ]
     },
     "metadata": {
      "needs_background": "light"
     },
     "output_type": "display_data"
    }
   ],
   "source": [
    "dataset.pivot_table('PREVAILING_WAGE_1','CASE_STATUS').plot.bar()"
   ]
  },
  {
   "cell_type": "code",
   "execution_count": 53,
   "id": "261289b6",
   "metadata": {},
   "outputs": [],
   "source": [
    "dataset['PREVAILING_WAGE_1'] = dataset['PREVAILING_WAGE_1'].clip(lower = dataset['PREVAILING_WAGE_1'].quantile(0.1), upper = dataset['PREVAILING_WAGE_1'].quantile(0.80))"
   ]
  },
  {
   "cell_type": "code",
   "execution_count": 54,
   "id": "afbb7ea7",
   "metadata": {},
   "outputs": [
    {
     "name": "stderr",
     "output_type": "stream",
     "text": [
      "C:\\ananconda\\lib\\site-packages\\seaborn\\_decorators.py:36: FutureWarning: Pass the following variable as a keyword arg: x. From version 0.12, the only valid positional argument will be `data`, and passing other arguments without an explicit keyword will result in an error or misinterpretation.\n",
      "  warnings.warn(\n"
     ]
    },
    {
     "data": {
      "text/plain": [
       "<AxesSubplot:xlabel='PREVAILING_WAGE_1'>"
      ]
     },
     "execution_count": 54,
     "metadata": {},
     "output_type": "execute_result"
    },
    {
     "data": {
      "image/png": "[encoded data removed]",
      "text/plain": [
       "<Figure size 432x288 with 1 Axes>"
      ]
     },
     "metadata": {
      "needs_background": "light"
     },
     "output_type": "display_data"
    }
   ],
   "source": [
    "sns.boxplot(dataset['PREVAILING_WAGE_1'])"
   ]
  },
  {
   "cell_type": "code",
   "execution_count": 55,
   "id": "7d1bde0e",
   "metadata": {},
   "outputs": [
    {
     "data": {
      "text/plain": [
       "579125"
      ]
     },
     "execution_count": 55,
     "metadata": {},
     "output_type": "execute_result"
    }
   ],
   "source": [
    "dataset['PREVAILING_WAGE_1'].count()"
   ]
  },
  {
   "cell_type": "code",
   "execution_count": 56,
   "id": "0600f3d1",
   "metadata": {},
   "outputs": [
    {
     "data": {
      "text/plain": [
       "False    579125\n",
       "True       4681\n",
       "Name: PREVAILING_WAGE_1, dtype: int64"
      ]
     },
     "execution_count": 56,
     "metadata": {},
     "output_type": "execute_result"
    }
   ],
   "source": [
    "dataset['PREVAILING_WAGE_1'].isnull().value_counts()"
   ]
  },
  {
   "cell_type": "code",
   "execution_count": 57,
   "id": "416ad2c3",
   "metadata": {},
   "outputs": [
    {
     "data": {
      "text/plain": [
       "count    579125.000000\n",
       "mean      83337.328527\n",
       "std       20064.877288\n",
       "min       48131.000000\n",
       "25%       69285.000000\n",
       "50%       84240.000000\n",
       "75%      102398.000000\n",
       "max      108888.000000\n",
       "Name: PREVAILING_WAGE_1, dtype: float64"
      ]
     },
     "execution_count": 57,
     "metadata": {},
     "output_type": "execute_result"
    }
   ],
   "source": [
    "dataset['PREVAILING_WAGE_1'].describe()\n"
   ]
  },
  {
   "cell_type": "code",
   "execution_count": 58,
   "id": "08124b2a",
   "metadata": {},
   "outputs": [],
   "source": [
    "dataset['PREVAILING_WAGE_1'] = dataset['PREVAILING_WAGE_1'].fillna(dataset['PREVAILING_WAGE_1'].mean())"
   ]
  },
  {
   "cell_type": "code",
   "execution_count": 59,
   "id": "bcf2f6d3",
   "metadata": {},
   "outputs": [
    {
     "data": {
      "text/plain": [
       "False    583806\n",
       "Name: PREVAILING_WAGE_1, dtype: int64"
      ]
     },
     "execution_count": 59,
     "metadata": {},
     "output_type": "execute_result"
    }
   ],
   "source": [
    "dataset['PREVAILING_WAGE_1'].isnull().value_counts()"
   ]
  },
  {
   "cell_type": "markdown",
   "id": "379038f3",
   "metadata": {},
   "source": [
    "# dropping the null values of EMPLOYER_NAME,                  AGENT_REPRESENTING_EMPLOYER, SOC_TITLE, SOC_CODE,                  NAICS_CODE "
   ]
  },
  {
   "cell_type": "code",
   "execution_count": 60,
   "id": "27b3dc97",
   "metadata": {},
   "outputs": [],
   "source": [
    "\n",
    "dataset.dropna(axis = 0, inplace =True)"
   ]
  },
  {
   "cell_type": "code",
   "execution_count": 61,
   "id": "4618f9f4",
   "metadata": {},
   "outputs": [
    {
     "data": {
      "text/plain": [
       "CASE_STATUS                    0\n",
       "VISA_CLASS                     0\n",
       "EMPLOYER_NAME                  0\n",
       "AGENT_REPRESENTING_EMPLOYER    0\n",
       "SECONDARY_ENTITY_1             0\n",
       "JOB_TITLE                      0\n",
       "SOC_TITLE                      0\n",
       "SOC_CODE                       0\n",
       "NAICS_CODE                     0\n",
       "CONTINUED_EMPLOYMENT           0\n",
       "CHANGE_PREVIOUS_EMPLOYMENT     0\n",
       "NEW_CONCURRENT_EMPLOYMENT      0\n",
       "CHANGE_EMPLOYER                0\n",
       "AMENDED_PETITION               0\n",
       "H-1B_DEPENDENT                 0\n",
       "SUPPORT_H1B                    0\n",
       "WILLFUL_VIOLATOR               0\n",
       "WAGE_RATE_OF_PAY_FROM_1        0\n",
       "WAGE_UNIT_OF_PAY_1             0\n",
       "TOTAL_WORKER_POSITIONS         0\n",
       "PREVAILING_WAGE_1              0\n",
       "dtype: int64"
      ]
     },
     "execution_count": 61,
     "metadata": {},
     "output_type": "execute_result"
    }
   ],
   "source": [
    "dataset.isnull().sum()"
   ]
  },
  {
   "cell_type": "markdown",
   "id": "229ccc4f",
   "metadata": {},
   "source": [
    "# transforming the Y and N into 0 and 1"
   ]
  },
  {
   "cell_type": "code",
   "execution_count": 62,
   "id": "ab6667c1",
   "metadata": {},
   "outputs": [],
   "source": [
    "def transformation(x):\n",
    "  if x=='Y':\n",
    "    return(0)\n",
    "  else:\n",
    "    return(1)"
   ]
  },
  {
   "cell_type": "code",
   "execution_count": 63,
   "id": "4dee9cf6",
   "metadata": {},
   "outputs": [],
   "source": [
    "dataset['SUPPORT_H1B'] = dataset['SUPPORT_H1B'].apply(transformation)"
   ]
  },
  {
   "cell_type": "code",
   "execution_count": 64,
   "id": "2476ce1b",
   "metadata": {},
   "outputs": [
    {
     "data": {
      "text/plain": [
       "0    582002\n",
       "1      1766\n",
       "Name: SUPPORT_H1B, dtype: int64"
      ]
     },
     "execution_count": 64,
     "metadata": {},
     "output_type": "execute_result"
    }
   ],
   "source": [
    "dataset.SUPPORT_H1B.value_counts()"
   ]
  },
  {
   "cell_type": "code",
   "execution_count": 65,
   "id": "2e965fef",
   "metadata": {},
   "outputs": [],
   "source": [
    "dataset['SECONDARY_ENTITY_1'] = dataset['SECONDARY_ENTITY_1'].apply(transformation)"
   ]
  },
  {
   "cell_type": "code",
   "execution_count": 66,
   "id": "da8d3e72",
   "metadata": {},
   "outputs": [
    {
     "data": {
      "text/plain": [
       "1    371152\n",
       "0    212616\n",
       "Name: SECONDARY_ENTITY_1, dtype: int64"
      ]
     },
     "execution_count": 66,
     "metadata": {},
     "output_type": "execute_result"
    }
   ],
   "source": [
    "dataset['SECONDARY_ENTITY_1'].value_counts()"
   ]
  },
  {
   "cell_type": "code",
   "execution_count": 67,
   "id": "4568ade4",
   "metadata": {},
   "outputs": [],
   "source": [
    "dataset['H-1B_DEPENDENT'] = dataset['H-1B_DEPENDENT'].apply(transformation)"
   ]
  },
  {
   "cell_type": "code",
   "execution_count": 68,
   "id": "f5dd27a9",
   "metadata": {},
   "outputs": [
    {
     "data": {
      "text/plain": [
       "array([1, 0], dtype=int64)"
      ]
     },
     "execution_count": 68,
     "metadata": {},
     "output_type": "execute_result"
    }
   ],
   "source": [
    "dataset['H-1B_DEPENDENT'].unique()"
   ]
  },
  {
   "cell_type": "code",
   "execution_count": 69,
   "id": "fdaef108",
   "metadata": {},
   "outputs": [],
   "source": [
    "dataset['WILLFUL_VIOLATOR'] = dataset['WILLFUL_VIOLATOR'].apply(transformation)"
   ]
  },
  {
   "cell_type": "code",
   "execution_count": 70,
   "id": "9c9fac49",
   "metadata": {},
   "outputs": [
    {
     "data": {
      "text/plain": [
       "array([1, 0], dtype=int64)"
      ]
     },
     "execution_count": 70,
     "metadata": {},
     "output_type": "execute_result"
    }
   ],
   "source": [
    "dataset['WILLFUL_VIOLATOR'].unique()"
   ]
  },
  {
   "cell_type": "code",
   "execution_count": 71,
   "id": "2a2e9687",
   "metadata": {},
   "outputs": [
    {
     "data": {
      "text/plain": [
       "1    583563\n",
       "0       205\n",
       "Name: WILLFUL_VIOLATOR, dtype: int64"
      ]
     },
     "execution_count": 71,
     "metadata": {},
     "output_type": "execute_result"
    }
   ],
   "source": [
    "dataset['WILLFUL_VIOLATOR'].value_counts()"
   ]
  },
  {
   "cell_type": "code",
   "execution_count": 72,
   "id": "f6defed1",
   "metadata": {},
   "outputs": [
    {
     "data": {
      "text/plain": [
       "array(['Y', 'N'], dtype=object)"
      ]
     },
     "execution_count": 72,
     "metadata": {},
     "output_type": "execute_result"
    }
   ],
   "source": [
    "dataset['AGENT_REPRESENTING_EMPLOYER'].unique()"
   ]
  },
  {
   "cell_type": "code",
   "execution_count": 73,
   "id": "bc673b23",
   "metadata": {},
   "outputs": [],
   "source": [
    "dataset['AGENT_REPRESENTING_EMPLOYER'] = dataset['AGENT_REPRESENTING_EMPLOYER'].apply(transformation)"
   ]
  },
  {
   "cell_type": "code",
   "execution_count": 74,
   "id": "2bae16bc",
   "metadata": {},
   "outputs": [
    {
     "data": {
      "text/plain": [
       "0    410465\n",
       "1    173303\n",
       "Name: AGENT_REPRESENTING_EMPLOYER, dtype: int64"
      ]
     },
     "execution_count": 74,
     "metadata": {},
     "output_type": "execute_result"
    }
   ],
   "source": [
    "dataset['AGENT_REPRESENTING_EMPLOYER'].value_counts()"
   ]
  },
  {
   "cell_type": "markdown",
   "id": "ef4a0744",
   "metadata": {},
   "source": [
    "# checking with the JOB_TITLE,\tSOC_TITLE,\tSOC_CODE,\tNAICS_CODE features"
   ]
  },
  {
   "cell_type": "code",
   "execution_count": 75,
   "id": "47b1e96c",
   "metadata": {},
   "outputs": [
    {
     "data": {
      "text/plain": [
       "<AxesSubplot:xlabel='JOB_TITLE'>"
      ]
     },
     "execution_count": 75,
     "metadata": {},
     "output_type": "execute_result"
    },
    {
     "data": {
      "image/png": "[encoded data removed]",
      "text/plain": [
       "<Figure size 432x288 with 1 Axes>"
      ]
     },
     "metadata": {
      "needs_background": "light"
     },
     "output_type": "display_data"
    }
   ],
   "source": [
    "dataset['JOB_TITLE'].value_counts()\n",
    "sns.barplot(x = dataset['JOB_TITLE'].value_counts()[:10], y = dataset['JOB_TITLE'].value_counts().index[:10])"
   ]
  },
  {
   "cell_type": "code",
   "execution_count": 76,
   "id": "a5446828",
   "metadata": {},
   "outputs": [
    {
     "data": {
      "text/plain": [
       "100816"
      ]
     },
     "execution_count": 76,
     "metadata": {},
     "output_type": "execute_result"
    }
   ],
   "source": [
    "dataset['JOB_TITLE'].nunique()"
   ]
  },
  {
   "cell_type": "code",
   "execution_count": 77,
   "id": "31da110f",
   "metadata": {},
   "outputs": [
    {
     "data": {
      "text/plain": [
       "<AxesSubplot:xlabel='SOC_TITLE'>"
      ]
     },
     "execution_count": 77,
     "metadata": {},
     "output_type": "execute_result"
    },
    {
     "data": {
      "image/png": "[encoded data removed]",
      "text/plain": [
       "<Figure size 432x288 with 1 Axes>"
      ]
     },
     "metadata": {
      "needs_background": "light"
     },
     "output_type": "display_data"
    }
   ],
   "source": [
    "dataset['SOC_TITLE'].value_counts()\n",
    "sns.barplot(x = dataset['SOC_TITLE'].value_counts()[:10], y = dataset['SOC_TITLE'].value_counts().index[:10])"
   ]
  },
  {
   "cell_type": "code",
   "execution_count": 78,
   "id": "ff2a6561",
   "metadata": {},
   "outputs": [
    {
     "data": {
      "text/plain": [
       "<AxesSubplot:xlabel='SOC_CODE'>"
      ]
     },
     "execution_count": 78,
     "metadata": {},
     "output_type": "execute_result"
    },
    {
     "data": {
      "image/png": "[encoded data removed]",
      "text/plain": [
       "<Figure size 432x288 with 1 Axes>"
      ]
     },
     "metadata": {
      "needs_background": "light"
     },
     "output_type": "display_data"
    }
   ],
   "source": [
    "dataset['SOC_CODE'].value_counts()\n",
    "sns.barplot(x = dataset['SOC_CODE'].value_counts()[:10], y = dataset['SOC_CODE'].value_counts().index[:10])"
   ]
  },
  {
   "cell_type": "code",
   "execution_count": 79,
   "id": "0b6281d3",
   "metadata": {},
   "outputs": [
    {
     "data": {
      "text/plain": [
       "541511.0    189010\n",
       "541512.0     60686\n",
       "611310.0     20939\n",
       "5416.0       18460\n",
       "54151.0      14299\n",
       "             ...  \n",
       "453991.0         1\n",
       "33791.0          1\n",
       "56299.0          1\n",
       "44521.0          1\n",
       "445230.0         1\n",
       "Name: NAICS_CODE, Length: 1936, dtype: int64"
      ]
     },
     "execution_count": 79,
     "metadata": {},
     "output_type": "execute_result"
    }
   ],
   "source": [
    "dataset['NAICS_CODE'].value_counts()\n"
   ]
  },
  {
   "cell_type": "code",
   "execution_count": 80,
   "id": "f1d3105a",
   "metadata": {},
   "outputs": [
    {
     "data": {
      "text/plain": [
       "1936"
      ]
     },
     "execution_count": 80,
     "metadata": {},
     "output_type": "execute_result"
    }
   ],
   "source": [
    "dataset['NAICS_CODE'].nunique()"
   ]
  },
  {
   "cell_type": "code",
   "execution_count": 81,
   "id": "1704abe1",
   "metadata": {},
   "outputs": [
    {
     "data": {
      "text/plain": [
       "502"
      ]
     },
     "execution_count": 81,
     "metadata": {},
     "output_type": "execute_result"
    }
   ],
   "source": [
    "dataset['SOC_CODE'].nunique()"
   ]
  },
  {
   "cell_type": "code",
   "execution_count": 84,
   "id": "808cb99b",
   "metadata": {},
   "outputs": [
    {
     "data": {
      "text/html": [
       "<div>\n",
       "<style scoped>\n",
       "    .dataframe tbody tr th:only-of-type {\n",
       "        vertical-align: middle;\n",
       "    }\n",
       "\n",
       "    .dataframe tbody tr th {\n",
       "        vertical-align: top;\n",
       "    }\n",
       "\n",
       "    .dataframe thead th {\n",
       "        text-align: right;\n",
       "    }\n",
       "</style>\n",
       "<table border=\"1\" class=\"dataframe\">\n",
       "  <thead>\n",
       "    <tr style=\"text-align: right;\">\n",
       "      <th></th>\n",
       "      <th>CASE_STATUS</th>\n",
       "      <th>VISA_CLASS</th>\n",
       "      <th>EMPLOYER_NAME</th>\n",
       "      <th>AGENT_REPRESENTING_EMPLOYER</th>\n",
       "      <th>SECONDARY_ENTITY_1</th>\n",
       "      <th>JOB_TITLE</th>\n",
       "      <th>SOC_TITLE</th>\n",
       "      <th>SOC_CODE</th>\n",
       "      <th>NAICS_CODE</th>\n",
       "      <th>CONTINUED_EMPLOYMENT</th>\n",
       "      <th>...</th>\n",
       "      <th>NEW_CONCURRENT_EMPLOYMENT</th>\n",
       "      <th>CHANGE_EMPLOYER</th>\n",
       "      <th>AMENDED_PETITION</th>\n",
       "      <th>H-1B_DEPENDENT</th>\n",
       "      <th>SUPPORT_H1B</th>\n",
       "      <th>WILLFUL_VIOLATOR</th>\n",
       "      <th>WAGE_RATE_OF_PAY_FROM_1</th>\n",
       "      <th>WAGE_UNIT_OF_PAY_1</th>\n",
       "      <th>TOTAL_WORKER_POSITIONS</th>\n",
       "      <th>PREVAILING_WAGE_1</th>\n",
       "    </tr>\n",
       "  </thead>\n",
       "  <tbody>\n",
       "    <tr>\n",
       "      <th>24</th>\n",
       "      <td>CERTIFIED</td>\n",
       "      <td>H-1B</td>\n",
       "      <td>FANTUAN GROUP INC</td>\n",
       "      <td>0</td>\n",
       "      <td>1</td>\n",
       "      <td>ADVERSTING AND PROMOTIONS MANAGER</td>\n",
       "      <td>ADVERTISING AND PROMOTIONS MANAGERS</td>\n",
       "      <td>11-2011</td>\n",
       "      <td>511210.0</td>\n",
       "      <td>0</td>\n",
       "      <td>...</td>\n",
       "      <td>0.0</td>\n",
       "      <td>0</td>\n",
       "      <td>0</td>\n",
       "      <td>1</td>\n",
       "      <td>0</td>\n",
       "      <td>1</td>\n",
       "      <td>33.0</td>\n",
       "      <td>1</td>\n",
       "      <td>1.0</td>\n",
       "      <td>83337.328527</td>\n",
       "    </tr>\n",
       "  </tbody>\n",
       "</table>\n",
       "<p>1 rows × 21 columns</p>\n",
       "</div>"
      ],
      "text/plain": [
       "   CASE_STATUS VISA_CLASS      EMPLOYER_NAME  AGENT_REPRESENTING_EMPLOYER  \\\n",
       "24   CERTIFIED       H-1B  FANTUAN GROUP INC                            0   \n",
       "\n",
       "    SECONDARY_ENTITY_1                          JOB_TITLE  \\\n",
       "24                   1  ADVERSTING AND PROMOTIONS MANAGER   \n",
       "\n",
       "                              SOC_TITLE SOC_CODE  NAICS_CODE  \\\n",
       "24  ADVERTISING AND PROMOTIONS MANAGERS  11-2011    511210.0   \n",
       "\n",
       "   CONTINUED_EMPLOYMENT  ...  NEW_CONCURRENT_EMPLOYMENT  CHANGE_EMPLOYER  \\\n",
       "24                    0  ...                        0.0                0   \n",
       "\n",
       "    AMENDED_PETITION  H-1B_DEPENDENT  SUPPORT_H1B  WILLFUL_VIOLATOR  \\\n",
       "24                 0               1            0                 1   \n",
       "\n",
       "    WAGE_RATE_OF_PAY_FROM_1  WAGE_UNIT_OF_PAY_1  TOTAL_WORKER_POSITIONS  \\\n",
       "24                     33.0                   1                     1.0   \n",
       "\n",
       "    PREVAILING_WAGE_1  \n",
       "24       83337.328527  \n",
       "\n",
       "[1 rows x 21 columns]"
      ]
     },
     "execution_count": 84,
     "metadata": {},
     "output_type": "execute_result"
    }
   ],
   "source": [
    "#dataset['JOB_TITLE'] = dataset['JOB_TITLE'].str.replace(\"%\" , \"\").astype(float)\n",
    "#dataset.loc[dataset['JOB_TITLE']=='ADVERSTING AND PROMOTIONS MANAGER']"
   ]
  },
  {
   "cell_type": "code",
   "execution_count": 93,
   "id": "390492f7",
   "metadata": {},
   "outputs": [],
   "source": [
    "CrosstabResult=pd.crosstab(index=dataset['JOB_TITLE'],columns=dataset['CASE_STATUS'])"
   ]
  },
  {
   "cell_type": "code",
   "execution_count": 94,
   "id": "f0a59d95",
   "metadata": {},
   "outputs": [
    {
     "data": {
      "text/html": [
       "<div>\n",
       "<style scoped>\n",
       "    .dataframe tbody tr th:only-of-type {\n",
       "        vertical-align: middle;\n",
       "    }\n",
       "\n",
       "    .dataframe tbody tr th {\n",
       "        vertical-align: top;\n",
       "    }\n",
       "\n",
       "    .dataframe thead th {\n",
       "        text-align: right;\n",
       "    }\n",
       "</style>\n",
       "<table border=\"1\" class=\"dataframe\">\n",
       "  <thead>\n",
       "    <tr style=\"text-align: right;\">\n",
       "      <th>CASE_STATUS</th>\n",
       "      <th>CERTIFIED</th>\n",
       "      <th>DENIED</th>\n",
       "    </tr>\n",
       "    <tr>\n",
       "      <th>JOB_TITLE</th>\n",
       "      <th></th>\n",
       "      <th></th>\n",
       "    </tr>\n",
       "  </thead>\n",
       "  <tbody>\n",
       "    <tr>\n",
       "      <th>&amp;NBSP;IT SPECIALIST</th>\n",
       "      <td>2</td>\n",
       "      <td>0</td>\n",
       "    </tr>\n",
       "    <tr>\n",
       "      <th>&amp;NBSP;SVC INFO DEVELOPER</th>\n",
       "      <td>1</td>\n",
       "      <td>0</td>\n",
       "    </tr>\n",
       "    <tr>\n",
       "      <th>&amp;NBSP;VALIDATION ENGINEER</th>\n",
       "      <td>1</td>\n",
       "      <td>0</td>\n",
       "    </tr>\n",
       "    <tr>\n",
       "      <th>(ANALYST</th>\n",
       "      <td>1</td>\n",
       "      <td>0</td>\n",
       "    </tr>\n",
       "    <tr>\n",
       "      <th>(INFORMATION TECHNOLOGY) BUSINESS MANAGER</th>\n",
       "      <td>1</td>\n",
       "      <td>0</td>\n",
       "    </tr>\n",
       "    <tr>\n",
       "      <th>...</th>\n",
       "      <td>...</td>\n",
       "      <td>...</td>\n",
       "    </tr>\n",
       "    <tr>\n",
       "      <th>YOUTH TRAINING DIRECTOR</th>\n",
       "      <td>1</td>\n",
       "      <td>0</td>\n",
       "    </tr>\n",
       "    <tr>\n",
       "      <th>ZIP ANALYST</th>\n",
       "      <td>1</td>\n",
       "      <td>0</td>\n",
       "    </tr>\n",
       "    <tr>\n",
       "      <th>ZOLTNERS PROFESSOR OF EXCELLENCE</th>\n",
       "      <td>1</td>\n",
       "      <td>0</td>\n",
       "    </tr>\n",
       "    <tr>\n",
       "      <th>ZONE ENGINEER</th>\n",
       "      <td>1</td>\n",
       "      <td>0</td>\n",
       "    </tr>\n",
       "    <tr>\n",
       "      <th>ZSCALER PROXY ENGINEER</th>\n",
       "      <td>1</td>\n",
       "      <td>0</td>\n",
       "    </tr>\n",
       "  </tbody>\n",
       "</table>\n",
       "<p>100816 rows × 2 columns</p>\n",
       "</div>"
      ],
      "text/plain": [
       "CASE_STATUS                                CERTIFIED  DENIED\n",
       "JOB_TITLE                                                   \n",
       "&NBSP;IT SPECIALIST                                2       0\n",
       "&NBSP;SVC INFO DEVELOPER                           1       0\n",
       "&NBSP;VALIDATION ENGINEER                          1       0\n",
       "(ANALYST                                           1       0\n",
       "(INFORMATION TECHNOLOGY) BUSINESS MANAGER          1       0\n",
       "...                                              ...     ...\n",
       "YOUTH TRAINING DIRECTOR                            1       0\n",
       "ZIP ANALYST                                        1       0\n",
       "ZOLTNERS PROFESSOR OF EXCELLENCE                   1       0\n",
       "ZONE ENGINEER                                      1       0\n",
       "ZSCALER PROXY ENGINEER                             1       0\n",
       "\n",
       "[100816 rows x 2 columns]"
      ]
     },
     "execution_count": 94,
     "metadata": {},
     "output_type": "execute_result"
    }
   ],
   "source": [
    "CrosstabResult"
   ]
  },
  {
   "cell_type": "code",
   "execution_count": 95,
   "id": "4d0a523a",
   "metadata": {},
   "outputs": [],
   "source": [
    "from scipy.stats import chi2_contingency"
   ]
  },
  {
   "cell_type": "code",
   "execution_count": 96,
   "id": "8feed41f",
   "metadata": {},
   "outputs": [],
   "source": [
    "ChiSqResult = chi2_contingency(CrosstabResult)"
   ]
  },
  {
   "cell_type": "code",
   "execution_count": 97,
   "id": "bb683d75",
   "metadata": {},
   "outputs": [
    {
     "name": "stdout",
     "output_type": "stream",
     "text": [
      "The P-Value of the ChiSq Test is: 3.729405338998956e-160\n"
     ]
    }
   ],
   "source": [
    "print('The P-Value of the ChiSq Test is:', ChiSqResult[1])"
   ]
  },
  {
   "cell_type": "markdown",
   "id": "f0ad792e",
   "metadata": {},
   "source": [
    "# using label encoding to convert string data points of a variable into numeric data "
   ]
  },
  {
   "cell_type": "code",
   "execution_count": 131,
   "id": "0508b7a2",
   "metadata": {},
   "outputs": [
    {
     "data": {
      "text/plain": [
       "array([0, 0, 0, ..., 1, 0, 0])"
      ]
     },
     "execution_count": 131,
     "metadata": {},
     "output_type": "execute_result"
    }
   ],
   "source": [
    "from sklearn.preprocessing import LabelEncoder\n",
    "le = LabelEncoder()\n",
    "label = le.fit_transform(dataset['CASE_STATUS'])\n",
    "label"
   ]
  },
  {
   "cell_type": "code",
   "execution_count": 132,
   "id": "5f88c14a",
   "metadata": {},
   "outputs": [
    {
     "data": {
      "text/plain": [
       "24     0\n",
       "26     0\n",
       "47     0\n",
       "52     0\n",
       "54     0\n",
       "55     0\n",
       "56     0\n",
       "57     0\n",
       "72     0\n",
       "73     0\n",
       "75     0\n",
       "79     0\n",
       "84     0\n",
       "87     0\n",
       "88     0\n",
       "90     1\n",
       "93     0\n",
       "94     0\n",
       "96     0\n",
       "97     0\n",
       "106    0\n",
       "107    0\n",
       "111    0\n",
       "120    0\n",
       "121    0\n",
       "122    0\n",
       "128    0\n",
       "130    0\n",
       "131    0\n",
       "132    0\n",
       "Name: CASE_STATUS, dtype: int32"
      ]
     },
     "execution_count": 132,
     "metadata": {},
     "output_type": "execute_result"
    }
   ],
   "source": [
    "dataset.drop(\"CASE_STATUS\", axis=1, inplace=True)\n",
    "dataset[\"CASE_STATUS\"] = label\n",
    "dataset[\"CASE_STATUS\"].head(30)"
   ]
  },
  {
   "cell_type": "code",
   "execution_count": 133,
   "id": "1e06cef2",
   "metadata": {},
   "outputs": [
    {
     "data": {
      "text/plain": [
       "24    19823\n",
       "26    56412\n",
       "47    58145\n",
       "52    62363\n",
       "54     4178\n",
       "55     4178\n",
       "56     4178\n",
       "57    22470\n",
       "72     4178\n",
       "73    53579\n",
       "75    43808\n",
       "79    19659\n",
       "84    52993\n",
       "87    14095\n",
       "88    27250\n",
       "90    36395\n",
       "93    36395\n",
       "94    30854\n",
       "96    48720\n",
       "97    47293\n",
       "Name: EMPLOYER_NAME, dtype: int32"
      ]
     },
     "execution_count": 133,
     "metadata": {},
     "output_type": "execute_result"
    }
   ],
   "source": [
    "label1 = le.fit_transform(dataset['EMPLOYER_NAME']) \n",
    "dataset.drop(\"EMPLOYER_NAME\", axis=1, inplace=True)\n",
    "dataset[\"EMPLOYER_NAME\"] = label1\n",
    "dataset[\"EMPLOYER_NAME\"].head(20)"
   ]
  },
  {
   "cell_type": "code",
   "execution_count": 137,
   "id": "bad41ced",
   "metadata": {},
   "outputs": [
    {
     "data": {
      "text/html": [
       "<div>\n",
       "<style scoped>\n",
       "    .dataframe tbody tr th:only-of-type {\n",
       "        vertical-align: middle;\n",
       "    }\n",
       "\n",
       "    .dataframe tbody tr th {\n",
       "        vertical-align: top;\n",
       "    }\n",
       "\n",
       "    .dataframe thead th {\n",
       "        text-align: right;\n",
       "    }\n",
       "</style>\n",
       "<table border=\"1\" class=\"dataframe\">\n",
       "  <thead>\n",
       "    <tr style=\"text-align: right;\">\n",
       "      <th></th>\n",
       "      <th>VISA_CLASS</th>\n",
       "      <th>AGENT_REPRESENTING_EMPLOYER</th>\n",
       "      <th>SECONDARY_ENTITY_1</th>\n",
       "      <th>JOB_TITLE</th>\n",
       "      <th>SOC_TITLE</th>\n",
       "      <th>SOC_CODE</th>\n",
       "      <th>NAICS_CODE</th>\n",
       "      <th>CONTINUED_EMPLOYMENT</th>\n",
       "      <th>CHANGE_PREVIOUS_EMPLOYMENT</th>\n",
       "      <th>NEW_CONCURRENT_EMPLOYMENT</th>\n",
       "      <th>...</th>\n",
       "      <th>AMENDED_PETITION</th>\n",
       "      <th>H-1B_DEPENDENT</th>\n",
       "      <th>SUPPORT_H1B</th>\n",
       "      <th>WILLFUL_VIOLATOR</th>\n",
       "      <th>WAGE_RATE_OF_PAY_FROM_1</th>\n",
       "      <th>WAGE_UNIT_OF_PAY_1</th>\n",
       "      <th>TOTAL_WORKER_POSITIONS</th>\n",
       "      <th>PREVAILING_WAGE_1</th>\n",
       "      <th>CASE_STATUS</th>\n",
       "      <th>EMPLOYER_NAME</th>\n",
       "    </tr>\n",
       "  </thead>\n",
       "  <tbody>\n",
       "    <tr>\n",
       "      <th>24</th>\n",
       "      <td>H-1B</td>\n",
       "      <td>Y</td>\n",
       "      <td>1</td>\n",
       "      <td>ADVERSTING AND PROMOTIONS MANAGER</td>\n",
       "      <td>ADVERTISING AND PROMOTIONS MANAGERS</td>\n",
       "      <td>11-2011</td>\n",
       "      <td>511210.0</td>\n",
       "      <td>0</td>\n",
       "      <td>0</td>\n",
       "      <td>0.0</td>\n",
       "      <td>...</td>\n",
       "      <td>0</td>\n",
       "      <td>1</td>\n",
       "      <td>0</td>\n",
       "      <td>N</td>\n",
       "      <td>33.0</td>\n",
       "      <td>Hour</td>\n",
       "      <td>1.0</td>\n",
       "      <td>83337.328527</td>\n",
       "      <td>0</td>\n",
       "      <td>19823</td>\n",
       "    </tr>\n",
       "    <tr>\n",
       "      <th>26</th>\n",
       "      <td>H-1B</td>\n",
       "      <td>Y</td>\n",
       "      <td>1</td>\n",
       "      <td>ADVERTISING AND PROMOTIONS DIRECTOR</td>\n",
       "      <td>ADVERTISING AND PROMOTIONS MANAGERS</td>\n",
       "      <td>11-2011</td>\n",
       "      <td>56142.0</td>\n",
       "      <td>0</td>\n",
       "      <td>0</td>\n",
       "      <td>0.0</td>\n",
       "      <td>...</td>\n",
       "      <td>0</td>\n",
       "      <td>1</td>\n",
       "      <td>0</td>\n",
       "      <td>N</td>\n",
       "      <td>99000.0</td>\n",
       "      <td>Year</td>\n",
       "      <td>1.0</td>\n",
       "      <td>83337.328527</td>\n",
       "      <td>0</td>\n",
       "      <td>56412</td>\n",
       "    </tr>\n",
       "    <tr>\n",
       "      <th>47</th>\n",
       "      <td>H-1B</td>\n",
       "      <td>N</td>\n",
       "      <td>1</td>\n",
       "      <td>PROGRAM MANAGER I</td>\n",
       "      <td>ADVERTISING AND PROMOTIONS MANAGERS</td>\n",
       "      <td>11-2011</td>\n",
       "      <td>611310.0</td>\n",
       "      <td>0</td>\n",
       "      <td>0</td>\n",
       "      <td>0.0</td>\n",
       "      <td>...</td>\n",
       "      <td>0</td>\n",
       "      <td>1</td>\n",
       "      <td>0</td>\n",
       "      <td>N</td>\n",
       "      <td>67500.0</td>\n",
       "      <td>Year</td>\n",
       "      <td>1.0</td>\n",
       "      <td>55370.000000</td>\n",
       "      <td>0</td>\n",
       "      <td>58145</td>\n",
       "    </tr>\n",
       "    <tr>\n",
       "      <th>52</th>\n",
       "      <td>H-1B</td>\n",
       "      <td>Y</td>\n",
       "      <td>1</td>\n",
       "      <td>ASSOCIATE STRATEGY DIRECTOR</td>\n",
       "      <td>ADVERTISING AND PROMOTIONS MANAGERS</td>\n",
       "      <td>11-2011</td>\n",
       "      <td>541830.0</td>\n",
       "      <td>1</td>\n",
       "      <td>0</td>\n",
       "      <td>0.0</td>\n",
       "      <td>...</td>\n",
       "      <td>0</td>\n",
       "      <td>1</td>\n",
       "      <td>0</td>\n",
       "      <td>N</td>\n",
       "      <td>102000.0</td>\n",
       "      <td>Year</td>\n",
       "      <td>1.0</td>\n",
       "      <td>94806.000000</td>\n",
       "      <td>0</td>\n",
       "      <td>62363</td>\n",
       "    </tr>\n",
       "    <tr>\n",
       "      <th>54</th>\n",
       "      <td>H-1B</td>\n",
       "      <td>Y</td>\n",
       "      <td>1</td>\n",
       "      <td>ADVERTISING AND PROMOTIONS MANAGER</td>\n",
       "      <td>ADVERTISING AND PROMOTIONS MANAGERS</td>\n",
       "      <td>11-2011</td>\n",
       "      <td>334111.0</td>\n",
       "      <td>0</td>\n",
       "      <td>0</td>\n",
       "      <td>0.0</td>\n",
       "      <td>...</td>\n",
       "      <td>0</td>\n",
       "      <td>1</td>\n",
       "      <td>0</td>\n",
       "      <td>N</td>\n",
       "      <td>97781.0</td>\n",
       "      <td>Year</td>\n",
       "      <td>50.0</td>\n",
       "      <td>97781.000000</td>\n",
       "      <td>0</td>\n",
       "      <td>4178</td>\n",
       "    </tr>\n",
       "  </tbody>\n",
       "</table>\n",
       "<p>5 rows × 21 columns</p>\n",
       "</div>"
      ],
      "text/plain": [
       "   VISA_CLASS AGENT_REPRESENTING_EMPLOYER  SECONDARY_ENTITY_1  \\\n",
       "24       H-1B                           Y                   1   \n",
       "26       H-1B                           Y                   1   \n",
       "47       H-1B                           N                   1   \n",
       "52       H-1B                           Y                   1   \n",
       "54       H-1B                           Y                   1   \n",
       "\n",
       "                              JOB_TITLE                            SOC_TITLE  \\\n",
       "24    ADVERSTING AND PROMOTIONS MANAGER  ADVERTISING AND PROMOTIONS MANAGERS   \n",
       "26  ADVERTISING AND PROMOTIONS DIRECTOR  ADVERTISING AND PROMOTIONS MANAGERS   \n",
       "47                    PROGRAM MANAGER I  ADVERTISING AND PROMOTIONS MANAGERS   \n",
       "52          ASSOCIATE STRATEGY DIRECTOR  ADVERTISING AND PROMOTIONS MANAGERS   \n",
       "54   ADVERTISING AND PROMOTIONS MANAGER  ADVERTISING AND PROMOTIONS MANAGERS   \n",
       "\n",
       "   SOC_CODE  NAICS_CODE CONTINUED_EMPLOYMENT  CHANGE_PREVIOUS_EMPLOYMENT  \\\n",
       "24  11-2011    511210.0                    0                           0   \n",
       "26  11-2011     56142.0                    0                           0   \n",
       "47  11-2011    611310.0                    0                           0   \n",
       "52  11-2011    541830.0                    1                           0   \n",
       "54  11-2011    334111.0                    0                           0   \n",
       "\n",
       "    NEW_CONCURRENT_EMPLOYMENT  ...  AMENDED_PETITION  H-1B_DEPENDENT  \\\n",
       "24                        0.0  ...                 0               1   \n",
       "26                        0.0  ...                 0               1   \n",
       "47                        0.0  ...                 0               1   \n",
       "52                        0.0  ...                 0               1   \n",
       "54                        0.0  ...                 0               1   \n",
       "\n",
       "    SUPPORT_H1B  WILLFUL_VIOLATOR WAGE_RATE_OF_PAY_FROM_1  WAGE_UNIT_OF_PAY_1  \\\n",
       "24            0                 N                    33.0                Hour   \n",
       "26            0                 N                 99000.0                Year   \n",
       "47            0                 N                 67500.0                Year   \n",
       "52            0                 N                102000.0                Year   \n",
       "54            0                 N                 97781.0                Year   \n",
       "\n",
       "   TOTAL_WORKER_POSITIONS  PREVAILING_WAGE_1  CASE_STATUS  EMPLOYER_NAME  \n",
       "24                    1.0       83337.328527            0          19823  \n",
       "26                    1.0       83337.328527            0          56412  \n",
       "47                    1.0       55370.000000            0          58145  \n",
       "52                    1.0       94806.000000            0          62363  \n",
       "54                   50.0       97781.000000            0           4178  \n",
       "\n",
       "[5 rows x 21 columns]"
      ]
     },
     "execution_count": 137,
     "metadata": {},
     "output_type": "execute_result"
    }
   ],
   "source": [
    "dataset.head()\n",
    "    "
   ]
  },
  {
   "cell_type": "code",
   "execution_count": null,
   "id": "e0429250",
   "metadata": {},
   "outputs": [],
   "source": []
  },
  {
   "cell_type": "code",
   "execution_count": 134,
   "id": "a8dadbf6",
   "metadata": {},
   "outputs": [
    {
     "data": {
      "text/html": [
       "<div>\n",
       "<style scoped>\n",
       "    .dataframe tbody tr th:only-of-type {\n",
       "        vertical-align: middle;\n",
       "    }\n",
       "\n",
       "    .dataframe tbody tr th {\n",
       "        vertical-align: top;\n",
       "    }\n",
       "\n",
       "    .dataframe thead th {\n",
       "        text-align: right;\n",
       "    }\n",
       "</style>\n",
       "<table border=\"1\" class=\"dataframe\">\n",
       "  <thead>\n",
       "    <tr style=\"text-align: right;\">\n",
       "      <th></th>\n",
       "      <th>SECONDARY_ENTITY_1</th>\n",
       "      <th>NAICS_CODE</th>\n",
       "      <th>CHANGE_PREVIOUS_EMPLOYMENT</th>\n",
       "      <th>NEW_CONCURRENT_EMPLOYMENT</th>\n",
       "      <th>CHANGE_EMPLOYER</th>\n",
       "      <th>AMENDED_PETITION</th>\n",
       "      <th>H-1B_DEPENDENT</th>\n",
       "      <th>SUPPORT_H1B</th>\n",
       "      <th>WAGE_RATE_OF_PAY_FROM_1</th>\n",
       "      <th>TOTAL_WORKER_POSITIONS</th>\n",
       "      <th>PREVAILING_WAGE_1</th>\n",
       "      <th>CASE_STATUS</th>\n",
       "      <th>EMPLOYER_NAME</th>\n",
       "    </tr>\n",
       "  </thead>\n",
       "  <tbody>\n",
       "    <tr>\n",
       "      <th>SECONDARY_ENTITY_1</th>\n",
       "      <td>1.000000</td>\n",
       "      <td>-0.113163</td>\n",
       "      <td>0.029693</td>\n",
       "      <td>-0.000858</td>\n",
       "      <td>0.077182</td>\n",
       "      <td>0.002661</td>\n",
       "      <td>0.595411</td>\n",
       "      <td>-0.028443</td>\n",
       "      <td>0.195372</td>\n",
       "      <td>0.056214</td>\n",
       "      <td>0.086495</td>\n",
       "      <td>0.041544</td>\n",
       "      <td>-0.010720</td>\n",
       "    </tr>\n",
       "    <tr>\n",
       "      <th>NAICS_CODE</th>\n",
       "      <td>-0.113163</td>\n",
       "      <td>1.000000</td>\n",
       "      <td>-0.031092</td>\n",
       "      <td>-0.039867</td>\n",
       "      <td>-0.099807</td>\n",
       "      <td>-0.120598</td>\n",
       "      <td>-0.203151</td>\n",
       "      <td>0.021160</td>\n",
       "      <td>-0.011359</td>\n",
       "      <td>-0.107975</td>\n",
       "      <td>-0.050524</td>\n",
       "      <td>-0.018541</td>\n",
       "      <td>0.131916</td>\n",
       "    </tr>\n",
       "    <tr>\n",
       "      <th>CHANGE_PREVIOUS_EMPLOYMENT</th>\n",
       "      <td>0.029693</td>\n",
       "      <td>-0.031092</td>\n",
       "      <td>1.000000</td>\n",
       "      <td>0.302500</td>\n",
       "      <td>0.412826</td>\n",
       "      <td>0.519097</td>\n",
       "      <td>-0.020126</td>\n",
       "      <td>-0.004440</td>\n",
       "      <td>0.016783</td>\n",
       "      <td>0.503079</td>\n",
       "      <td>0.041264</td>\n",
       "      <td>0.009475</td>\n",
       "      <td>0.012903</td>\n",
       "    </tr>\n",
       "    <tr>\n",
       "      <th>NEW_CONCURRENT_EMPLOYMENT</th>\n",
       "      <td>-0.000858</td>\n",
       "      <td>-0.039867</td>\n",
       "      <td>0.302500</td>\n",
       "      <td>1.000000</td>\n",
       "      <td>0.236781</td>\n",
       "      <td>0.296903</td>\n",
       "      <td>0.017904</td>\n",
       "      <td>-0.002464</td>\n",
       "      <td>-0.042428</td>\n",
       "      <td>0.376653</td>\n",
       "      <td>-0.028657</td>\n",
       "      <td>0.003067</td>\n",
       "      <td>0.002109</td>\n",
       "    </tr>\n",
       "    <tr>\n",
       "      <th>CHANGE_EMPLOYER</th>\n",
       "      <td>0.077182</td>\n",
       "      <td>-0.099807</td>\n",
       "      <td>0.412826</td>\n",
       "      <td>0.236781</td>\n",
       "      <td>1.000000</td>\n",
       "      <td>0.524294</td>\n",
       "      <td>0.064370</td>\n",
       "      <td>-0.007976</td>\n",
       "      <td>0.072402</td>\n",
       "      <td>0.571665</td>\n",
       "      <td>0.101755</td>\n",
       "      <td>-0.002060</td>\n",
       "      <td>-0.027640</td>\n",
       "    </tr>\n",
       "    <tr>\n",
       "      <th>AMENDED_PETITION</th>\n",
       "      <td>0.002661</td>\n",
       "      <td>-0.120598</td>\n",
       "      <td>0.519097</td>\n",
       "      <td>0.296903</td>\n",
       "      <td>0.524294</td>\n",
       "      <td>1.000000</td>\n",
       "      <td>-0.010339</td>\n",
       "      <td>0.002116</td>\n",
       "      <td>0.020818</td>\n",
       "      <td>0.599845</td>\n",
       "      <td>0.056898</td>\n",
       "      <td>-0.002530</td>\n",
       "      <td>-0.021796</td>\n",
       "    </tr>\n",
       "    <tr>\n",
       "      <th>H-1B_DEPENDENT</th>\n",
       "      <td>0.595411</td>\n",
       "      <td>-0.203151</td>\n",
       "      <td>-0.020126</td>\n",
       "      <td>0.017904</td>\n",
       "      <td>0.064370</td>\n",
       "      <td>-0.010339</td>\n",
       "      <td>1.000000</td>\n",
       "      <td>-0.068507</td>\n",
       "      <td>0.159061</td>\n",
       "      <td>0.039438</td>\n",
       "      <td>0.040725</td>\n",
       "      <td>0.042183</td>\n",
       "      <td>-0.017642</td>\n",
       "    </tr>\n",
       "    <tr>\n",
       "      <th>SUPPORT_H1B</th>\n",
       "      <td>-0.028443</td>\n",
       "      <td>0.021160</td>\n",
       "      <td>-0.004440</td>\n",
       "      <td>-0.002464</td>\n",
       "      <td>-0.007976</td>\n",
       "      <td>0.002116</td>\n",
       "      <td>-0.068507</td>\n",
       "      <td>1.000000</td>\n",
       "      <td>-0.036557</td>\n",
       "      <td>0.000098</td>\n",
       "      <td>-0.024515</td>\n",
       "      <td>0.001494</td>\n",
       "      <td>0.009985</td>\n",
       "    </tr>\n",
       "    <tr>\n",
       "      <th>WAGE_RATE_OF_PAY_FROM_1</th>\n",
       "      <td>0.195372</td>\n",
       "      <td>-0.011359</td>\n",
       "      <td>0.016783</td>\n",
       "      <td>-0.042428</td>\n",
       "      <td>0.072402</td>\n",
       "      <td>0.020818</td>\n",
       "      <td>0.159061</td>\n",
       "      <td>-0.036557</td>\n",
       "      <td>1.000000</td>\n",
       "      <td>0.011258</td>\n",
       "      <td>0.754716</td>\n",
       "      <td>-0.022170</td>\n",
       "      <td>-0.028326</td>\n",
       "    </tr>\n",
       "    <tr>\n",
       "      <th>TOTAL_WORKER_POSITIONS</th>\n",
       "      <td>0.056214</td>\n",
       "      <td>-0.107975</td>\n",
       "      <td>0.503079</td>\n",
       "      <td>0.376653</td>\n",
       "      <td>0.571665</td>\n",
       "      <td>0.599845</td>\n",
       "      <td>0.039438</td>\n",
       "      <td>0.000098</td>\n",
       "      <td>0.011258</td>\n",
       "      <td>1.000000</td>\n",
       "      <td>0.044390</td>\n",
       "      <td>0.004550</td>\n",
       "      <td>-0.023566</td>\n",
       "    </tr>\n",
       "    <tr>\n",
       "      <th>PREVAILING_WAGE_1</th>\n",
       "      <td>0.086495</td>\n",
       "      <td>-0.050524</td>\n",
       "      <td>0.041264</td>\n",
       "      <td>-0.028657</td>\n",
       "      <td>0.101755</td>\n",
       "      <td>0.056898</td>\n",
       "      <td>0.040725</td>\n",
       "      <td>-0.024515</td>\n",
       "      <td>0.754716</td>\n",
       "      <td>0.044390</td>\n",
       "      <td>1.000000</td>\n",
       "      <td>-0.032578</td>\n",
       "      <td>-0.068205</td>\n",
       "    </tr>\n",
       "    <tr>\n",
       "      <th>CASE_STATUS</th>\n",
       "      <td>0.041544</td>\n",
       "      <td>-0.018541</td>\n",
       "      <td>0.009475</td>\n",
       "      <td>0.003067</td>\n",
       "      <td>-0.002060</td>\n",
       "      <td>-0.002530</td>\n",
       "      <td>0.042183</td>\n",
       "      <td>0.001494</td>\n",
       "      <td>-0.022170</td>\n",
       "      <td>0.004550</td>\n",
       "      <td>-0.032578</td>\n",
       "      <td>1.000000</td>\n",
       "      <td>0.006288</td>\n",
       "    </tr>\n",
       "    <tr>\n",
       "      <th>EMPLOYER_NAME</th>\n",
       "      <td>-0.010720</td>\n",
       "      <td>0.131916</td>\n",
       "      <td>0.012903</td>\n",
       "      <td>0.002109</td>\n",
       "      <td>-0.027640</td>\n",
       "      <td>-0.021796</td>\n",
       "      <td>-0.017642</td>\n",
       "      <td>0.009985</td>\n",
       "      <td>-0.028326</td>\n",
       "      <td>-0.023566</td>\n",
       "      <td>-0.068205</td>\n",
       "      <td>0.006288</td>\n",
       "      <td>1.000000</td>\n",
       "    </tr>\n",
       "  </tbody>\n",
       "</table>\n",
       "</div>"
      ],
      "text/plain": [
       "                            SECONDARY_ENTITY_1  NAICS_CODE  \\\n",
       "SECONDARY_ENTITY_1                    1.000000   -0.113163   \n",
       "NAICS_CODE                           -0.113163    1.000000   \n",
       "CHANGE_PREVIOUS_EMPLOYMENT            0.029693   -0.031092   \n",
       "NEW_CONCURRENT_EMPLOYMENT            -0.000858   -0.039867   \n",
       "CHANGE_EMPLOYER                       0.077182   -0.099807   \n",
       "AMENDED_PETITION                      0.002661   -0.120598   \n",
       "H-1B_DEPENDENT                        0.595411   -0.203151   \n",
       "SUPPORT_H1B                          -0.028443    0.021160   \n",
       "WAGE_RATE_OF_PAY_FROM_1               0.195372   -0.011359   \n",
       "TOTAL_WORKER_POSITIONS                0.056214   -0.107975   \n",
       "PREVAILING_WAGE_1                     0.086495   -0.050524   \n",
       "CASE_STATUS                           0.041544   -0.018541   \n",
       "EMPLOYER_NAME                        -0.010720    0.131916   \n",
       "\n",
       "                            CHANGE_PREVIOUS_EMPLOYMENT  \\\n",
       "SECONDARY_ENTITY_1                            0.029693   \n",
       "NAICS_CODE                                   -0.031092   \n",
       "CHANGE_PREVIOUS_EMPLOYMENT                    1.000000   \n",
       "NEW_CONCURRENT_EMPLOYMENT                     0.302500   \n",
       "CHANGE_EMPLOYER                               0.412826   \n",
       "AMENDED_PETITION                              0.519097   \n",
       "H-1B_DEPENDENT                               -0.020126   \n",
       "SUPPORT_H1B                                  -0.004440   \n",
       "WAGE_RATE_OF_PAY_FROM_1                       0.016783   \n",
       "TOTAL_WORKER_POSITIONS                        0.503079   \n",
       "PREVAILING_WAGE_1                             0.041264   \n",
       "CASE_STATUS                                   0.009475   \n",
       "EMPLOYER_NAME                                 0.012903   \n",
       "\n",
       "                            NEW_CONCURRENT_EMPLOYMENT  CHANGE_EMPLOYER  \\\n",
       "SECONDARY_ENTITY_1                          -0.000858         0.077182   \n",
       "NAICS_CODE                                  -0.039867        -0.099807   \n",
       "CHANGE_PREVIOUS_EMPLOYMENT                   0.302500         0.412826   \n",
       "NEW_CONCURRENT_EMPLOYMENT                    1.000000         0.236781   \n",
       "CHANGE_EMPLOYER                              0.236781         1.000000   \n",
       "AMENDED_PETITION                             0.296903         0.524294   \n",
       "H-1B_DEPENDENT                               0.017904         0.064370   \n",
       "SUPPORT_H1B                                 -0.002464        -0.007976   \n",
       "WAGE_RATE_OF_PAY_FROM_1                     -0.042428         0.072402   \n",
       "TOTAL_WORKER_POSITIONS                       0.376653         0.571665   \n",
       "PREVAILING_WAGE_1                           -0.028657         0.101755   \n",
       "CASE_STATUS                                  0.003067        -0.002060   \n",
       "EMPLOYER_NAME                                0.002109        -0.027640   \n",
       "\n",
       "                            AMENDED_PETITION  H-1B_DEPENDENT  SUPPORT_H1B  \\\n",
       "SECONDARY_ENTITY_1                  0.002661        0.595411    -0.028443   \n",
       "NAICS_CODE                         -0.120598       -0.203151     0.021160   \n",
       "CHANGE_PREVIOUS_EMPLOYMENT          0.519097       -0.020126    -0.004440   \n",
       "NEW_CONCURRENT_EMPLOYMENT           0.296903        0.017904    -0.002464   \n",
       "CHANGE_EMPLOYER                     0.524294        0.064370    -0.007976   \n",
       "AMENDED_PETITION                    1.000000       -0.010339     0.002116   \n",
       "H-1B_DEPENDENT                     -0.010339        1.000000    -0.068507   \n",
       "SUPPORT_H1B                         0.002116       -0.068507     1.000000   \n",
       "WAGE_RATE_OF_PAY_FROM_1             0.020818        0.159061    -0.036557   \n",
       "TOTAL_WORKER_POSITIONS              0.599845        0.039438     0.000098   \n",
       "PREVAILING_WAGE_1                   0.056898        0.040725    -0.024515   \n",
       "CASE_STATUS                        -0.002530        0.042183     0.001494   \n",
       "EMPLOYER_NAME                      -0.021796       -0.017642     0.009985   \n",
       "\n",
       "                            WAGE_RATE_OF_PAY_FROM_1  TOTAL_WORKER_POSITIONS  \\\n",
       "SECONDARY_ENTITY_1                         0.195372                0.056214   \n",
       "NAICS_CODE                                -0.011359               -0.107975   \n",
       "CHANGE_PREVIOUS_EMPLOYMENT                 0.016783                0.503079   \n",
       "NEW_CONCURRENT_EMPLOYMENT                 -0.042428                0.376653   \n",
       "CHANGE_EMPLOYER                            0.072402                0.571665   \n",
       "AMENDED_PETITION                           0.020818                0.599845   \n",
       "H-1B_DEPENDENT                             0.159061                0.039438   \n",
       "SUPPORT_H1B                               -0.036557                0.000098   \n",
       "WAGE_RATE_OF_PAY_FROM_1                    1.000000                0.011258   \n",
       "TOTAL_WORKER_POSITIONS                     0.011258                1.000000   \n",
       "PREVAILING_WAGE_1                          0.754716                0.044390   \n",
       "CASE_STATUS                               -0.022170                0.004550   \n",
       "EMPLOYER_NAME                             -0.028326               -0.023566   \n",
       "\n",
       "                            PREVAILING_WAGE_1  CASE_STATUS  EMPLOYER_NAME  \n",
       "SECONDARY_ENTITY_1                   0.086495     0.041544      -0.010720  \n",
       "NAICS_CODE                          -0.050524    -0.018541       0.131916  \n",
       "CHANGE_PREVIOUS_EMPLOYMENT           0.041264     0.009475       0.012903  \n",
       "NEW_CONCURRENT_EMPLOYMENT           -0.028657     0.003067       0.002109  \n",
       "CHANGE_EMPLOYER                      0.101755    -0.002060      -0.027640  \n",
       "AMENDED_PETITION                     0.056898    -0.002530      -0.021796  \n",
       "H-1B_DEPENDENT                       0.040725     0.042183      -0.017642  \n",
       "SUPPORT_H1B                         -0.024515     0.001494       0.009985  \n",
       "WAGE_RATE_OF_PAY_FROM_1              0.754716    -0.022170      -0.028326  \n",
       "TOTAL_WORKER_POSITIONS               0.044390     0.004550      -0.023566  \n",
       "PREVAILING_WAGE_1                    1.000000    -0.032578      -0.068205  \n",
       "CASE_STATUS                         -0.032578     1.000000       0.006288  \n",
       "EMPLOYER_NAME                       -0.068205     0.006288       1.000000  "
      ]
     },
     "execution_count": 134,
     "metadata": {},
     "output_type": "execute_result"
    }
   ],
   "source": [
    "dataset.corr()"
   ]
  },
  {
   "cell_type": "code",
   "execution_count": 136,
   "id": "ca24c666",
   "metadata": {},
   "outputs": [
    {
     "data": {
      "text/plain": [
       "<AxesSubplot:>"
      ]
     },
     "execution_count": 136,
     "metadata": {},
     "output_type": "execute_result"
    },
    {
     "data": {
      "image/png": "[encoded data removed]",
      "text/plain": [
       "<Figure size 432x288 with 2 Axes>"
      ]
     },
     "metadata": {
      "needs_background": "light"
     },
     "output_type": "display_data"
    }
   ],
   "source": [
    "sns.heatmap(dataset.corr())"
   ]
  },
  {
   "cell_type": "code",
   "execution_count": null,
   "id": "95ea9dcf",
   "metadata": {},
   "outputs": [],
   "source": []
  }
 ],
 "metadata": {
  "kernelspec": {
   "display_name": "Python 3 (ipykernel)",
   "language": "python",
   "name": "python3"
  },
  "language_info": {
   "codemirror_mode": {
    "name": "ipython",
    "version": 3
   },
   "file_extension": ".py",
   "mimetype": "text/x-python",
   "name": "python",
   "nbconvert_exporter": "python",
   "pygments_lexer": "ipython3",
   "version": "3.9.12"
  }
 },
 "nbformat": 4,
 "nbformat_minor": 5
}
